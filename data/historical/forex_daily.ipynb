{
  "cells": [
    {
      "cell_type": "markdown",
      "metadata": {
        "pycharm": {
          "name": "#%% md\n"
        }
      },
      "source": "\n# Fetching Forex Rates\n\nFetching historical daily rates for **AUDUSD** (Austarlian Dollar / US Dollar).\n\nUsing [AlphaVantage Service](https://alphavantage.co) and [alpha_vantage package](https://github.com/RomelTorres/alpha_vantage/).\n\n## Prepare API Keys\n\nFirstly, [get an API Key from AlphaVantage](https://www.alphavantage.co/support/#api-key). \nSecondly, [Set \u0026 Get API Keys from environment variable](https://stackoverflow.com/a/5971326/3381997). \n"
    },
    {
      "cell_type": "code",
      "execution_count": 1,
      "outputs": [
        {
          "name": "stdout",
          "text": [
            "Please set the environment variable ALPHAVANTAGE_API_KEY\n"
          ],
          "output_type": "stream"
        },
        {
          "traceback": [
            "An exception has occurred, use %tb to see the full traceback.\n",
            "\u001b[0;31mSystemExit\u001b[0m\u001b[0;31m:\u001b[0m 1\n"
          ],
          "ename": "SystemExit",
          "evalue": "1",
          "output_type": "error"
        },
        {
          "name": "stderr",
          "text": [
            "/Library/Frameworks/Python.framework/Versions/3.7/lib/python3.7/site-packages/IPython/core/interactiveshell.py:3304: UserWarning: To exit: use \u0027exit\u0027, \u0027quit\u0027, or Ctrl-D.\n  warn(\"To exit: use \u0027exit\u0027, \u0027quit\u0027, or Ctrl-D.\", stacklevel\u003d1)\n"
          ],
          "output_type": "stream"
        }
      ],
      "source": "import os, sys\n\napi_key \u003d \"6Z16V2GZLU7N0RKG\"\ntry:  \n   api_key \u003d os.environ[\"ALPHAVANTAGE_API_KEY\"]\n   print(\"Found AlphaVantage API Key\")\nexcept KeyError: \n   print(\"Please set the environment variable ALPHAVANTAGE_API_KEY\")\n   sys.exit(1)",
      "metadata": {
        "pycharm": {
          "metadata": false,
          "name": "#%%\n",
          "is_executing": false
        }
      }
    },
    {
      "cell_type": "markdown",
      "source": "\n## Getting Data via REST API\n\nFor more info, please visit [AlphaVantage Docs](https://www.alphavantage.co/documentation/).\n\n### Getting Data\n",
      "metadata": {
        "pycharm": {
          "metadata": false,
          "name": "#%% md\n"
        }
      }
    },
    {
      "cell_type": "code",
      "execution_count": 3,
      "outputs": [],
      "source": "\nimport pandas as pd\nimport requests, io\n\nbase_url \u003d \u0027https://www.alphavantage.co\u0027\napi_function \u003d \u0027FX_DAILY\u0027\nfrom_symbol \u003d \u0027USD\u0027 # AUDUSD\nto_symbol \u003d \u0027CAD\u0027 # AUDUSD\ndata_type \u003d \u0027csv\u0027\noutput_size \u003d \u0027full\u0027\nsymbol \u003d \u0027AUDUSD\u0027\n\n# Building api_url\napi_url \u003d \u0027{}/query?function\u003d{}\u0026from_symbol\u003d{}\u0026to_symbol\u003d{}\u0026outputsize\u003d{}\u0026apikey\u003d{}\u0026datatype\u003d{}\u0027.format(base_url,\n                                                                                                        api_function,\n                                                                                                        from_symbol,\n                                                                                                        to_symbol,\n                                                                                                        api_key,\n                                                                                                        output_size,\n                                                                                                        data_type)\n\n# Getting Data\nraw_data \u003d requests.get(api_url)\nAUDUSD_csv \u003d raw_data.content\nAUDUSD_df \u003d pd.read_csv(io.StringIO(AUDUSD_csv.decode(\u0027utf-8\u0027)))",
      "metadata": {
        "pycharm": {
          "metadata": false,
          "name": "#%%\n",
          "is_executing": false
        }
      }
    },
    {
      "cell_type": "markdown",
      "source": "\n### Processing Data\n",
      "metadata": {
        "pycharm": {
          "metadata": false,
          "name": "#%% md\n"
        }
      }
    },
    {
      "cell_type": "code",
      "execution_count": 4,
      "outputs": [],
      "source": "\nAUDUSD_df[\u0027pre_close\u0027] \u003d AUDUSD_df.close.shift(-1)\nAUDUSD_df[\u0027p_change\u0027] \u003d (AUDUSD_df.close / AUDUSD_df.pre_close - 1) # Raw percentage change\nAUDUSD_df[\u0027pip_change\u0027] \u003d (AUDUSD_df.close / AUDUSD_df.pre_close - 1) * 10000 # Pip Change (Percentage of a Point)\n",
      "metadata": {
        "pycharm": {
          "metadata": false,
          "name": "#%%\n",
          "is_executing": false
        }
      }
    },
    {
      "cell_type": "markdown",
      "source": "\n### Sorting Data\n",
      "metadata": {
        "pycharm": {
          "metadata": false,
          "name": "#%% md\n"
        }
      }
    },
    {
      "cell_type": "code",
      "execution_count": 5,
      "outputs": [
        {
          "data": {
            "text/plain": "       timestamp    open    high     low   close  pre_close  p_change  \\\n4998  2001-08-03  1.5364  1.5371  1.5292  1.5292     1.5292  0.000000   \n4997  2001-08-06  1.5298  1.5304  1.5251  1.5251     1.5292 -0.002681   \n4996  2001-08-07  1.5252  1.5356  1.5230  1.5354     1.5251  0.006754   \n4995  2001-08-08  1.5351  1.5358  1.5302  1.5343     1.5354 -0.000716   \n4994  2001-08-09  1.5342  1.5406  1.5322  1.5395     1.5343  0.003389   \n\n      pip_change  \n4998    0.000000  \n4997  -26.811405  \n4996   67.536555  \n4995   -7.164257  \n4994   33.891677  ",
            "text/html": "\u003cdiv\u003e\n\u003cstyle scoped\u003e\n    .dataframe tbody tr th:only-of-type {\n        vertical-align: middle;\n    }\n\n    .dataframe tbody tr th {\n        vertical-align: top;\n    }\n\n    .dataframe thead th {\n        text-align: right;\n    }\n\u003c/style\u003e\n\u003ctable border\u003d\"1\" class\u003d\"dataframe\"\u003e\n  \u003cthead\u003e\n    \u003ctr style\u003d\"text-align: right;\"\u003e\n      \u003cth\u003e\u003c/th\u003e\n      \u003cth\u003etimestamp\u003c/th\u003e\n      \u003cth\u003eopen\u003c/th\u003e\n      \u003cth\u003ehigh\u003c/th\u003e\n      \u003cth\u003elow\u003c/th\u003e\n      \u003cth\u003eclose\u003c/th\u003e\n      \u003cth\u003epre_close\u003c/th\u003e\n      \u003cth\u003ep_change\u003c/th\u003e\n      \u003cth\u003epip_change\u003c/th\u003e\n    \u003c/tr\u003e\n  \u003c/thead\u003e\n  \u003ctbody\u003e\n    \u003ctr\u003e\n      \u003cth\u003e4998\u003c/th\u003e\n      \u003ctd\u003e2001-08-03\u003c/td\u003e\n      \u003ctd\u003e1.5364\u003c/td\u003e\n      \u003ctd\u003e1.5371\u003c/td\u003e\n      \u003ctd\u003e1.5292\u003c/td\u003e\n      \u003ctd\u003e1.5292\u003c/td\u003e\n      \u003ctd\u003e1.5292\u003c/td\u003e\n      \u003ctd\u003e0.000000\u003c/td\u003e\n      \u003ctd\u003e0.000000\u003c/td\u003e\n    \u003c/tr\u003e\n    \u003ctr\u003e\n      \u003cth\u003e4997\u003c/th\u003e\n      \u003ctd\u003e2001-08-06\u003c/td\u003e\n      \u003ctd\u003e1.5298\u003c/td\u003e\n      \u003ctd\u003e1.5304\u003c/td\u003e\n      \u003ctd\u003e1.5251\u003c/td\u003e\n      \u003ctd\u003e1.5251\u003c/td\u003e\n      \u003ctd\u003e1.5292\u003c/td\u003e\n      \u003ctd\u003e-0.002681\u003c/td\u003e\n      \u003ctd\u003e-26.811405\u003c/td\u003e\n    \u003c/tr\u003e\n    \u003ctr\u003e\n      \u003cth\u003e4996\u003c/th\u003e\n      \u003ctd\u003e2001-08-07\u003c/td\u003e\n      \u003ctd\u003e1.5252\u003c/td\u003e\n      \u003ctd\u003e1.5356\u003c/td\u003e\n      \u003ctd\u003e1.5230\u003c/td\u003e\n      \u003ctd\u003e1.5354\u003c/td\u003e\n      \u003ctd\u003e1.5251\u003c/td\u003e\n      \u003ctd\u003e0.006754\u003c/td\u003e\n      \u003ctd\u003e67.536555\u003c/td\u003e\n    \u003c/tr\u003e\n    \u003ctr\u003e\n      \u003cth\u003e4995\u003c/th\u003e\n      \u003ctd\u003e2001-08-08\u003c/td\u003e\n      \u003ctd\u003e1.5351\u003c/td\u003e\n      \u003ctd\u003e1.5358\u003c/td\u003e\n      \u003ctd\u003e1.5302\u003c/td\u003e\n      \u003ctd\u003e1.5343\u003c/td\u003e\n      \u003ctd\u003e1.5354\u003c/td\u003e\n      \u003ctd\u003e-0.000716\u003c/td\u003e\n      \u003ctd\u003e-7.164257\u003c/td\u003e\n    \u003c/tr\u003e\n    \u003ctr\u003e\n      \u003cth\u003e4994\u003c/th\u003e\n      \u003ctd\u003e2001-08-09\u003c/td\u003e\n      \u003ctd\u003e1.5342\u003c/td\u003e\n      \u003ctd\u003e1.5406\u003c/td\u003e\n      \u003ctd\u003e1.5322\u003c/td\u003e\n      \u003ctd\u003e1.5395\u003c/td\u003e\n      \u003ctd\u003e1.5343\u003c/td\u003e\n      \u003ctd\u003e0.003389\u003c/td\u003e\n      \u003ctd\u003e33.891677\u003c/td\u003e\n    \u003c/tr\u003e\n  \u003c/tbody\u003e\n\u003c/table\u003e\n\u003c/div\u003e"
          },
          "metadata": {},
          "output_type": "execute_result",
          "execution_count": 5
        }
      ],
      "source": "\n# Sorting Data by dates\nAUDUSD_df \u003d AUDUSD_df.sort_values(\u0027timestamp\u0027, ascending\u003dTrue) \nAUDUSD_df \u003d AUDUSD_df.iloc[1:]\n\n# Save \u0026 Print\nAUDUSD_df.to_csv(\u0027../gen/{}{}_Daily_df.csv\u0027.format(from_symbol, to_symbol))\nAUDUSD_df.head()\n",
      "metadata": {
        "pycharm": {
          "metadata": false,
          "name": "#%%\n",
          "is_executing": false
        }
      }
    },
    {
      "cell_type": "markdown",
      "source": "\n## Getting Data via `alpha_vantage` package\n\nGetting data via REST API can get messy sometime. Instead, We can use `alpha_vantage` package to get this done easily.\n\nVisit [`alpha_vantage` Docs](https://github.com/RomelTorres/alpha_vantage/). \n",
      "metadata": {
        "pycharm": {
          "metadata": false,
          "name": "#%% md\n"
        }
      }
    },
    {
      "cell_type": "code",
      "execution_count": 10,
      "outputs": [
        {
          "name": "stdout",
          "text": [
            "meta_data: {\u00271. Information\u0027: \u0027Forex Daily Prices (open, high, low, close)\u0027, \u00272. From Symbol\u0027: \u0027EUR\u0027, \u00273. To Symbol\u0027: \u0027USD\u0027, \u00274. Output Size\u0027: \u0027Full size\u0027, \u00275. Last Refreshed\u0027: \u00272019-06-18 17:40:00\u0027, \u00276. Time Zone\u0027: \u0027GMT+8\u0027}\n"
          ],
          "output_type": "stream"
        },
        {
          "data": {
            "text/plain": "            1. open  2. high  3. low  4. close\ndate                                          \n2001-04-10   0.8980   0.8994  0.8864    0.8876\n2001-04-11   0.8879   0.8914  0.8805    0.8866\n2001-04-12   0.8868   0.8942  0.8833    0.8917\n2001-04-13   0.8918   0.8935  0.8878    0.8886\n2001-04-16   0.8891   0.8903  0.8828    0.8858",
            "text/html": "\u003cdiv\u003e\n\u003cstyle scoped\u003e\n    .dataframe tbody tr th:only-of-type {\n        vertical-align: middle;\n    }\n\n    .dataframe tbody tr th {\n        vertical-align: top;\n    }\n\n    .dataframe thead th {\n        text-align: right;\n    }\n\u003c/style\u003e\n\u003ctable border\u003d\"1\" class\u003d\"dataframe\"\u003e\n  \u003cthead\u003e\n    \u003ctr style\u003d\"text-align: right;\"\u003e\n      \u003cth\u003e\u003c/th\u003e\n      \u003cth\u003e1. open\u003c/th\u003e\n      \u003cth\u003e2. high\u003c/th\u003e\n      \u003cth\u003e3. low\u003c/th\u003e\n      \u003cth\u003e4. close\u003c/th\u003e\n    \u003c/tr\u003e\n    \u003ctr\u003e\n      \u003cth\u003edate\u003c/th\u003e\n      \u003cth\u003e\u003c/th\u003e\n      \u003cth\u003e\u003c/th\u003e\n      \u003cth\u003e\u003c/th\u003e\n      \u003cth\u003e\u003c/th\u003e\n    \u003c/tr\u003e\n  \u003c/thead\u003e\n  \u003ctbody\u003e\n    \u003ctr\u003e\n      \u003cth\u003e2001-04-10\u003c/th\u003e\n      \u003ctd\u003e0.8980\u003c/td\u003e\n      \u003ctd\u003e0.8994\u003c/td\u003e\n      \u003ctd\u003e0.8864\u003c/td\u003e\n      \u003ctd\u003e0.8876\u003c/td\u003e\n    \u003c/tr\u003e\n    \u003ctr\u003e\n      \u003cth\u003e2001-04-11\u003c/th\u003e\n      \u003ctd\u003e0.8879\u003c/td\u003e\n      \u003ctd\u003e0.8914\u003c/td\u003e\n      \u003ctd\u003e0.8805\u003c/td\u003e\n      \u003ctd\u003e0.8866\u003c/td\u003e\n    \u003c/tr\u003e\n    \u003ctr\u003e\n      \u003cth\u003e2001-04-12\u003c/th\u003e\n      \u003ctd\u003e0.8868\u003c/td\u003e\n      \u003ctd\u003e0.8942\u003c/td\u003e\n      \u003ctd\u003e0.8833\u003c/td\u003e\n      \u003ctd\u003e0.8917\u003c/td\u003e\n    \u003c/tr\u003e\n    \u003ctr\u003e\n      \u003cth\u003e2001-04-13\u003c/th\u003e\n      \u003ctd\u003e0.8918\u003c/td\u003e\n      \u003ctd\u003e0.8935\u003c/td\u003e\n      \u003ctd\u003e0.8878\u003c/td\u003e\n      \u003ctd\u003e0.8886\u003c/td\u003e\n    \u003c/tr\u003e\n    \u003ctr\u003e\n      \u003cth\u003e2001-04-16\u003c/th\u003e\n      \u003ctd\u003e0.8891\u003c/td\u003e\n      \u003ctd\u003e0.8903\u003c/td\u003e\n      \u003ctd\u003e0.8828\u003c/td\u003e\n      \u003ctd\u003e0.8858\u003c/td\u003e\n    \u003c/tr\u003e\n  \u003c/tbody\u003e\n\u003c/table\u003e\n\u003c/div\u003e"
          },
          "metadata": {},
          "output_type": "execute_result",
          "execution_count": 10
        }
      ],
      "source": "\nfrom alpha_vantage.foreignexchange import ForeignExchange\nimport matplotlib.pyplot as plt\n\nfx \u003d ForeignExchange(key\u003dapi_key, \n                     output_format\u003d\u0027pandas\u0027,\n                     indexing_type\u003d\u0027date\u0027)\ndata_df, meta_data \u003d fx.get_currency_exchange_daily(from_symbol\u003dfrom_symbol,\n                                                      to_symbol\u003dto_symbol,\n                                                      outputsize\u003doutput_size)\ndata_df \u003d data_df.sort_values(\u0027date\u0027, ascending\u003dTrue)\n\n# Save \u0026 Print\nprint(\"meta_data: {}\".format(meta_data))\ndata_df.head()\n",
      "metadata": {
        "pycharm": {
          "metadata": false,
          "name": "#%%\n",
          "is_executing": false
        }
      }
    },
    {
      "cell_type": "markdown",
      "source": "\n## Plotting Data\n\nPlotting close data.\n",
      "metadata": {
        "pycharm": {
          "metadata": false,
          "name": "#%% md\n"
        }
      }
    },
    {
      "cell_type": "code",
      "execution_count": null,
      "outputs": [],
      "source": "\ndata_df[\u00274. close\u0027].plot()\nplt.title(\u0027The Forex rate for the AUDUSD (Daily)\u0027)\nplt.show()\n",
      "metadata": {
        "pycharm": {
          "metadata": false,
          "name": "#%%\n",
          "is_executing": true
        }
      }
    },
    {
      "cell_type": "code",
      "execution_count": 10,
      "outputs": [
        {
          "name": "stdout",
          "text": [
            "Daily pip Change for AUDUSD since 2001-05-11\n"
          ],
          "output_type": "stream"
        },
        {
          "data": {
            "text/plain": "count    4999.000000\nmean        0.000085\nstd         0.007776\nmin        -0.082655\n25%        -0.003668\n50%         0.000255\n75%         0.004112\nmax         0.083761\nName: p_change, dtype: float64"
          },
          "metadata": {},
          "output_type": "execute_result",
          "execution_count": 10
        },
        {
          "data": {
            "text/plain": "\u003cFigure size 432x288 with 1 Axes\u003e",
            "image/png": "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\u003d\n"
          },
          "metadata": {
            "needs_background": "light"
          },
          "output_type": "display_data"
        }
      ],
      "source": "import seaborn as sns\n\nsns.distplot(AUDUSD_df.pip_change,\n             axlabel\u003d\"PDF of Daily pip change in close price\",\n             bins\u003d100)\nprint(\"Daily pip Change for AUDUSD since 2001-05-11\")\nAUDUSD_df.p_change.describe()",
      "metadata": {
        "pycharm": {
          "metadata": false,
          "name": "#%% Use Seaborn to Visualize Data\n",
          "is_executing": false
        }
      }
    },
    {
      "cell_type": "code",
      "execution_count": null,
      "outputs": [],
      "source": "\n",
      "metadata": {
        "pycharm": {
          "metadata": false,
          "name": "#%%\n"
        }
      }
    }
  ],
  "metadata": {
    "kernelspec": {
      "display_name": "Python 3",
      "language": "python",
      "name": "python3"
    },
    "language_info": {
      "codemirror_mode": {
        "name": "ipython",
        "version": 3
      },
      "file_extension": ".py",
      "mimetype": "text/x-python",
      "name": "python",
      "nbconvert_exporter": "python",
      "pygments_lexer": "ipython3",
      "version": "3.7.3"
    }
  },
  "nbformat": 4,
  "nbformat_minor": 2
}