{
  "cells": [
    {
      "cell_type": "code",
      "execution_count": 17,
      "metadata": {
        "pycharm": {}
      },
      "outputs": [],
      "source": "\n# Fetching Forex Rates\n\nFetching historical daily rates for **AUDUSD** (Austarlian Dollar / US Dollar).\n\nUsing [AlphaVantage Service](https://alphavantage.co) and [alpha_vantage package](https://github.com/RomelTorres/alpha_vantage/).\n\n## Prepare API Keys\n\nFirstly, [get an API Key from AlphaVantage](https://www.alphavantage.co/support/#api-key). \nSecondly, [Set \u0026 Get API Keys from environment variable](https://stackoverflow.com/a/5971326/3381997). \n"
    },
    {
      "cell_type": "code",
      "execution_count": 12,
      "outputs": [
        {
          "name": "stdout",
          "text": [
            "Found AlphaVantage API Key\n"
          ],
          "output_type": "stream"
        }
      ],
      "source": "import os, sys\n\napi_key \u003d \"demo\"\ntry:  \n   api_key \u003d os.environ[\"ALPHAVANTAGE_API_KEY\"]\n   print(\"Found AlphaVantage API Key\")\nexcept KeyError: \n   print(\"Please set the environment variable ALPHAVANTAGE_API_KEY\")\n   sys.exit(1)",
      "metadata": {
        "pycharm": {
          "metadata": false,
          "name": "#%%\n",
          "is_executing": false
        }
      }
    },
    {
      "cell_type": "markdown",
      "source": "\n## Getting Data via REST API\n\nFor more info, please visit [AlphaVantage Docs](https://www.alphavantage.co/documentation/).\n\n### Getting Data\n",
      "metadata": {
        "pycharm": {
          "metadata": false,
          "name": "#%% md\n"
        }
      }
    },
    {
      "cell_type": "code",
      "execution_count": 43,
      "outputs": [],
      "source": "\nimport pandas as pd\nimport requests, io\n\nbase_url \u003d \u0027https://www.alphavantage.co\u0027\napi_function \u003d \u0027FX_DAILY\u0027\nfrom_symbol \u003d \u0027AUD\u0027 # AUDUSD\nto_symbol \u003d \u0027USD\u0027 # AUDUSD\ndata_type \u003d \u0027csv\u0027\noutput_size \u003d \u0027full\u0027\nsymbol \u003d \u0027AUDUSD\u0027\n\n# Building api_url\napi_url \u003d \u0027{}/query?function\u003d{}\u0026from_symbol\u003d{}\u0026to_symbol\u003d{}\u0026outputsize\u003d{}\u0026apikey\u003d{}\u0026datatype\u003d{}\u0027.format(base_url,\n                                                                                                        api_function,\n                                                                                                        from_symbol,\n                                                                                                        to_symbol,\n                                                                                                        api_key,\n                                                                                                        output_size,\n                                                                                                        data_type)\n\n# Getting Data\nraw_data \u003d requests.get(api_url)\nAUDUSD_csv \u003d raw_data.content\nAUDUSD_df \u003d pd.read_csv(io.StringIO(AUDUSD_csv.decode(\u0027utf-8\u0027)))",
      "metadata": {
        "pycharm": {
          "metadata": false,
          "name": "#%%\n",
          "is_executing": false
        }
      }
    },
    {
      "cell_type": "markdown",
      "source": "\n### Processing Data\n",
      "metadata": {
        "pycharm": {
          "metadata": false,
          "name": "#%% md\n"
        }
      }
    },
    {
      "cell_type": "code",
      "execution_count": 50,
      "outputs": [],
      "source": "\nAUDUSD_df[\u0027pre_close\u0027] \u003d AUDUSD_df.close.shift(1)\nAUDUSD_df[\u0027p_change\u0027] \u003d AUDUSD_df.close / AUDUSD_df.pre_close - 1\nAUDUSD_df \u003d AUDUSD_df.iloc[1:]\n",
      "metadata": {
        "pycharm": {
          "metadata": false,
          "name": "#%%\n",
          "is_executing": false
        }
      }
    },
    {
      "cell_type": "markdown",
      "source": "\n### Sorting Data\n",
      "metadata": {
        "pycharm": {
          "metadata": false,
          "name": "#%% md\n"
        }
      }
    },
    {
      "cell_type": "code",
      "execution_count": 51,
      "outputs": [
        {
          "data": {
            "text/plain": "       timestamp    open    high     low   close  pre_close  p_change\n4999  2001-05-10  0.5233  0.5267  0.5217  0.5237     0.5233  0.000764\n4998  2001-05-11  0.5237  0.5252  0.5184  0.5216     0.5237 -0.004010\n4997  2001-05-14  0.5213  0.5224  0.5154  0.5193     0.5216 -0.004410\n4996  2001-05-15  0.5193  0.5212  0.5150  0.5206     0.5193  0.002503\n4995  2001-05-16  0.5209  0.5240  0.5182  0.5233     0.5206  0.005186",
            "text/html": "\u003cdiv\u003e\n\u003cstyle scoped\u003e\n    .dataframe tbody tr th:only-of-type {\n        vertical-align: middle;\n    }\n\n    .dataframe tbody tr th {\n        vertical-align: top;\n    }\n\n    .dataframe thead th {\n        text-align: right;\n    }\n\u003c/style\u003e\n\u003ctable border\u003d\"1\" class\u003d\"dataframe\"\u003e\n  \u003cthead\u003e\n    \u003ctr style\u003d\"text-align: right;\"\u003e\n      \u003cth\u003e\u003c/th\u003e\n      \u003cth\u003etimestamp\u003c/th\u003e\n      \u003cth\u003eopen\u003c/th\u003e\n      \u003cth\u003ehigh\u003c/th\u003e\n      \u003cth\u003elow\u003c/th\u003e\n      \u003cth\u003eclose\u003c/th\u003e\n      \u003cth\u003epre_close\u003c/th\u003e\n      \u003cth\u003ep_change\u003c/th\u003e\n    \u003c/tr\u003e\n  \u003c/thead\u003e\n  \u003ctbody\u003e\n    \u003ctr\u003e\n      \u003cth\u003e4999\u003c/th\u003e\n      \u003ctd\u003e2001-05-10\u003c/td\u003e\n      \u003ctd\u003e0.5233\u003c/td\u003e\n      \u003ctd\u003e0.5267\u003c/td\u003e\n      \u003ctd\u003e0.5217\u003c/td\u003e\n      \u003ctd\u003e0.5237\u003c/td\u003e\n      \u003ctd\u003e0.5233\u003c/td\u003e\n      \u003ctd\u003e0.000764\u003c/td\u003e\n    \u003c/tr\u003e\n    \u003ctr\u003e\n      \u003cth\u003e4998\u003c/th\u003e\n      \u003ctd\u003e2001-05-11\u003c/td\u003e\n      \u003ctd\u003e0.5237\u003c/td\u003e\n      \u003ctd\u003e0.5252\u003c/td\u003e\n      \u003ctd\u003e0.5184\u003c/td\u003e\n      \u003ctd\u003e0.5216\u003c/td\u003e\n      \u003ctd\u003e0.5237\u003c/td\u003e\n      \u003ctd\u003e-0.004010\u003c/td\u003e\n    \u003c/tr\u003e\n    \u003ctr\u003e\n      \u003cth\u003e4997\u003c/th\u003e\n      \u003ctd\u003e2001-05-14\u003c/td\u003e\n      \u003ctd\u003e0.5213\u003c/td\u003e\n      \u003ctd\u003e0.5224\u003c/td\u003e\n      \u003ctd\u003e0.5154\u003c/td\u003e\n      \u003ctd\u003e0.5193\u003c/td\u003e\n      \u003ctd\u003e0.5216\u003c/td\u003e\n      \u003ctd\u003e-0.004410\u003c/td\u003e\n    \u003c/tr\u003e\n    \u003ctr\u003e\n      \u003cth\u003e4996\u003c/th\u003e\n      \u003ctd\u003e2001-05-15\u003c/td\u003e\n      \u003ctd\u003e0.5193\u003c/td\u003e\n      \u003ctd\u003e0.5212\u003c/td\u003e\n      \u003ctd\u003e0.5150\u003c/td\u003e\n      \u003ctd\u003e0.5206\u003c/td\u003e\n      \u003ctd\u003e0.5193\u003c/td\u003e\n      \u003ctd\u003e0.002503\u003c/td\u003e\n    \u003c/tr\u003e\n    \u003ctr\u003e\n      \u003cth\u003e4995\u003c/th\u003e\n      \u003ctd\u003e2001-05-16\u003c/td\u003e\n      \u003ctd\u003e0.5209\u003c/td\u003e\n      \u003ctd\u003e0.5240\u003c/td\u003e\n      \u003ctd\u003e0.5182\u003c/td\u003e\n      \u003ctd\u003e0.5233\u003c/td\u003e\n      \u003ctd\u003e0.5206\u003c/td\u003e\n      \u003ctd\u003e0.005186\u003c/td\u003e\n    \u003c/tr\u003e\n  \u003c/tbody\u003e\n\u003c/table\u003e\n\u003c/div\u003e"
          },
          "metadata": {},
          "output_type": "execute_result",
          "execution_count": 51
        }
      ],
      "source": "\n# Sorting Data by dates\nAUDUSD_df \u003d AUDUSD_df.sort_values(\u0027timestamp\u0027, ascending\u003dTrue)\n\n# Save \u0026 Print\nAUDUSD_df.to_csv(\u0027../gen/AUDUSD_Daily_df.csv\u0027)\nAUDUSD_df.head()\n",
      "metadata": {
        "pycharm": {
          "metadata": false,
          "name": "#%%\n",
          "is_executing": false
        }
      }
    },
    {
      "cell_type": "markdown",
      "source": "\n## Getting Data via `alpha_vantage` package\n\nGetting data via REST API can get messy sometime. Instead, We can use `alpha_vantage` package to get this done easily.\n\nVisit [`alpha_vantage` Docs](https://github.com/RomelTorres/alpha_vantage/). \n",
      "metadata": {
        "pycharm": {
          "metadata": false,
          "name": "#%% md\n"
        }
      }
    },
    {
      "cell_type": "code",
      "execution_count": 33,
      "outputs": [
        {
          "name": "stdout",
          "text": [
            "meta_data: {\u00271. Information\u0027: \u0027Forex Daily Prices (open, high, low, close)\u0027, \u00272. From Symbol\u0027: \u0027AUD\u0027, \u00273. To Symbol\u0027: \u0027USD\u0027, \u00274. Output Size\u0027: \u0027Full size\u0027, \u00275. Last Refreshed\u0027: \u00272019-06-15 05:00:00\u0027, \u00276. Time Zone\u0027: \u0027GMT+8\u0027}\n"
          ],
          "output_type": "stream"
        },
        {
          "data": {
            "text/plain": "            1. open  2. high  3. low  4. close\ndate                                          \n2001-05-09   0.5152   0.5241  0.5144    0.5233\n2001-05-10   0.5233   0.5267  0.5217    0.5237\n2001-05-11   0.5237   0.5252  0.5184    0.5216\n2001-05-14   0.5213   0.5224  0.5154    0.5193\n2001-05-15   0.5193   0.5212  0.5150    0.5206",
            "text/html": "\u003cdiv\u003e\n\u003cstyle scoped\u003e\n    .dataframe tbody tr th:only-of-type {\n        vertical-align: middle;\n    }\n\n    .dataframe tbody tr th {\n        vertical-align: top;\n    }\n\n    .dataframe thead th {\n        text-align: right;\n    }\n\u003c/style\u003e\n\u003ctable border\u003d\"1\" class\u003d\"dataframe\"\u003e\n  \u003cthead\u003e\n    \u003ctr style\u003d\"text-align: right;\"\u003e\n      \u003cth\u003e\u003c/th\u003e\n      \u003cth\u003e1. open\u003c/th\u003e\n      \u003cth\u003e2. high\u003c/th\u003e\n      \u003cth\u003e3. low\u003c/th\u003e\n      \u003cth\u003e4. close\u003c/th\u003e\n    \u003c/tr\u003e\n    \u003ctr\u003e\n      \u003cth\u003edate\u003c/th\u003e\n      \u003cth\u003e\u003c/th\u003e\n      \u003cth\u003e\u003c/th\u003e\n      \u003cth\u003e\u003c/th\u003e\n      \u003cth\u003e\u003c/th\u003e\n    \u003c/tr\u003e\n  \u003c/thead\u003e\n  \u003ctbody\u003e\n    \u003ctr\u003e\n      \u003cth\u003e2001-05-09\u003c/th\u003e\n      \u003ctd\u003e0.5152\u003c/td\u003e\n      \u003ctd\u003e0.5241\u003c/td\u003e\n      \u003ctd\u003e0.5144\u003c/td\u003e\n      \u003ctd\u003e0.5233\u003c/td\u003e\n    \u003c/tr\u003e\n    \u003ctr\u003e\n      \u003cth\u003e2001-05-10\u003c/th\u003e\n      \u003ctd\u003e0.5233\u003c/td\u003e\n      \u003ctd\u003e0.5267\u003c/td\u003e\n      \u003ctd\u003e0.5217\u003c/td\u003e\n      \u003ctd\u003e0.5237\u003c/td\u003e\n    \u003c/tr\u003e\n    \u003ctr\u003e\n      \u003cth\u003e2001-05-11\u003c/th\u003e\n      \u003ctd\u003e0.5237\u003c/td\u003e\n      \u003ctd\u003e0.5252\u003c/td\u003e\n      \u003ctd\u003e0.5184\u003c/td\u003e\n      \u003ctd\u003e0.5216\u003c/td\u003e\n    \u003c/tr\u003e\n    \u003ctr\u003e\n      \u003cth\u003e2001-05-14\u003c/th\u003e\n      \u003ctd\u003e0.5213\u003c/td\u003e\n      \u003ctd\u003e0.5224\u003c/td\u003e\n      \u003ctd\u003e0.5154\u003c/td\u003e\n      \u003ctd\u003e0.5193\u003c/td\u003e\n    \u003c/tr\u003e\n    \u003ctr\u003e\n      \u003cth\u003e2001-05-15\u003c/th\u003e\n      \u003ctd\u003e0.5193\u003c/td\u003e\n      \u003ctd\u003e0.5212\u003c/td\u003e\n      \u003ctd\u003e0.5150\u003c/td\u003e\n      \u003ctd\u003e0.5206\u003c/td\u003e\n    \u003c/tr\u003e\n  \u003c/tbody\u003e\n\u003c/table\u003e\n\u003c/div\u003e"
          },
          "metadata": {},
          "output_type": "execute_result",
          "execution_count": 33
        }
      ],
      "source": "\nfrom alpha_vantage.foreignexchange import ForeignExchange\nimport matplotlib.pyplot as plt\n\nfx \u003d ForeignExchange(key\u003dapi_key, \n                     output_format\u003d\u0027pandas\u0027,\n                     indexing_type\u003d\u0027date\u0027)\ndata_df, meta_data \u003d fx.get_currency_exchange_daily(from_symbol\u003dfrom_symbol,\n                                                      to_symbol\u003dto_symbol,\n                                                      outputsize\u003doutput_size)\ndata_df \u003d data_df.sort_values(\u0027date\u0027, ascending\u003dTrue)\n\n# Save \u0026 Print\nprint(\"meta_data: {}\".format(meta_data))\ndata_df.head()\n",
      "metadata": {
        "pycharm": {
          "metadata": false,
          "name": "#%%\n",
          "is_executing": false
        }
      }
    },
    {
      "cell_type": "markdown",
      "source": "\n## Plotting Data\n\nPlotting close data.\n",
      "metadata": {
        "pycharm": {
          "metadata": false,
          "name": "#%% md\n"
        }
      }
    },
    {
      "cell_type": "code",
      "execution_count": 38,
      "outputs": [
        {
          "data": {
            "text/plain": "\u003cFigure size 432x288 with 1 Axes\u003e",
            "image/png": "iVBORw0KGgoAAAANSUhEUgAAAZcAAAEWCAYAAACqitpwAAAABHNCSVQICAgIfAhkiAAAAAlwSFlzAAALEgAACxIB0t1+/AAAADh0RVh0U29mdHdhcmUAbWF0cGxvdGxpYiB2ZXJzaW9uMy4xLjAsIGh0dHA6Ly9tYXRwbG90bGliLm9yZy+17YcXAAAgAElEQVR4nO2dd5gV1dnAf+92WDqsdFiqqIhSBEERLCQIllgD9sRo1NgS/RQ7sRJLiiX2kkTFJGoUBbEgNkQRREA60nuHhWX7+f6Ymbtz753b7+69u7y/5+Fh5syZM+eenZl3znmbGGNQFEVRlGSSkeoOKIqiKPUPFS6KoihK0lHhoiiKoiQdFS6KoihK0lHhoiiKoiQdFS6KoihK0lHhkmJEZLyIvJrqftQnRKS1iHwhIkUi8lgNXeMVEbm/Jtqub4hIgYgsEZEGSWxzn4h0tbej+lvY98ViEclNVj+U0KhwqWHsh8D5VyUiB1z7Fyb5Wq+ISFnANX+ZzGvUBiLymYj8JoEmrgS2A02MMTcloT+XichXibYTxXVeEZEKEWnrUX5/QFmhiBgRybL3V9v3VpGI7BaRr0XkKhHJcJ0TNK4iMlxE1rv2zxSRH0Rkr4hsF5FPRaSLfWy8iJTb1ygSkWUi8mRgfz0YB7xijDng6keJ3cZeEZkjIuNieekbYxoZY1ZGW98+ZwswHev+UGoYFS41jP0QNDLGNALWAqe7yl6rgUs+7L6mMebfsTYgIpk10C+n7ayaattFZ2CRicNDuJb653XdfOAcYA9wUZzNnG6MaYz1+ycAtwIvxtCH7sA/gZuApkAX4Cmg0lXt3/Y1WgBnAW2AOaEEjC0wLgUCZ+fX2u20ta83BpgiIhJtf+PkNeC3NXwNBRUu6UKOiPzT/pJbKCIDnAMi0k5E3hKRbSKySkSuj+cCInKY/cW4277GGa5jr4jI0yIyRUT2AyeKSK6IPCoia0Vki4g84yxriMitIvKt66v5arvNPI/rDheR9fY5m4GXRaS5iLxv/6Zd9nYHu/4DwFDgSXvm9aRd3ktEPhaRnSKyVETOD/E7X8F6md1in3+K/Vv+KiIb7X9/db6SvfoXOG7AM8Bgu73drsPNRWSy/Xf7VkS6uc6Lqr8uzgF2A/fa/Y8bY8weY8wk4JfApSLSO8pTjwZWGWOmGYsiY8xbxpi1HtcoN8YstK+xDUtAeDEI2G2MWe910Biz3xjzGXAGMBgYDSAiA0Vkpn2/brJnSDnOefasrXtgeyLyo4ic7trPtmdgfe2ib4GuItI58nAoiaDCJT04A3gDaAZMApwXagbwHjAPaA+cDNwoIj+PpXERybbb+Qg4BLgOeE1EDnVVuwB4AGgMfIX15dsT64XT3b7+3XbdR4BS4E4R6QE8CFxkjCkJ0YU2WF+6nbGWJDKwXuKdgU7AAec3G2PuAL7E+rJtZIy51v6q/xh43e7/GODvInJ44IWMMZdhfZ06M7hPgDuAY+3fchQwELgzTP/c7S0GrgJm2u01cx0eA/wRaA6ssMePWPrr4lJgItZ90EtE+oepGxXGmFnAeixhHQ3f29f+i4icKCKNorhGJfBumGscCSyNop21wGxXO5XA74FWWELnZOCaiL/Amnm5Z36jgE3GmLn2dSqw/lZHRdGWkgAqXNKDr4wxU+wH9V9U3/jHAAXGmHuNMWX2GvPzWC+rUNxsf+3tFpHtdtmxQCNggt3Op8D7wFjXee8aY2YYY6qwBMeVwO+NMTuNMUVYAmQMgF3nEuB6LGH4sPPwhqAKuMcYU2qMOWCM2WF/ERfbbT8ADAtz/mnAamPMy8aYCvtabwHnhTnHzYXAvcaYrcaYbVgC4eJQ/YuyTYD/GWNm2S+s17CEV8z9FZFOwInA67ZeYBrW+CaDjViCMyL2/TUc60PiP8B2e1YbSciEu0YzoCi6rla3Y4yZY4z5xh6/1cCzhL9HHF4FRolIE3v/Yqxnyk2R3S+lBlHhkh5sdm0XA3n2klNnoJ1LWOwGbgdah2nrUWNMM/tfK7usHbDOFgoOa7BeIg7rXNsFQEOstXTnulPtcgDsB346UIi1Lh+Obe5ZjYg0FJFnRWSNiOwFvgCaSWhdT2dgUMA4XIg144iGdli/12GNXebZvxgI/Ls5L+FY+3sxsNgY84O9/xpwgT3jBKgAsgPOycYSilWEpz2wM0I75c6O/UI/3xhTgDWLOAFr5hftNQLZhTUbjgZfOyLS014u3WzfIw9izWLCYozZCMwAzhGRZsCpWOPppjHWEqRSg6REealEzTqsNfAeCbazEegoIhkuAdMJWOaq41Z+b8daqjrCGLPBq0ERGY21XDENa5ksnJI0ULF+E3AoMMgYs1lEjgbmAhKi/jrgc2PMiDDXCMdGrBf+Qnu/k10Wqn+BxGoYEGt/LwE62TofsJ7LllhLOu9iGYIcEXBOF4I/GPwQkWOwXtiOpdtarI+BwHbW4IEx5jsReRsIqbOxl25PBz4JUWU+1vJWWESkI9Af+JNd9DTWPTHWGFMkIjcC50Zqx+YfwG+wxnGm+x62P9q6Yy01KzWIzlzSm1lAka1sbiAimSLS235pxMK3WF/Wt9gKzuFYL4Q3vCrbL6zngb+IyCEAItLe0fWISCvgBawH+FLgdBEZFUN/GmMJr90i0gK4J+D4FqCra/99oKeIXGz3P1tEjrGV7dEwEUs/VGD3/W6CrZfCsQXo4FYoRyDq/orIYKAblh7oaPtfbyx9jbM09hYwWkR+Zt8D7bB0Rp5/PxFpIiKn2cdfNcYssA/9G/iVrSwXEemJ9eJ/wz7veBG5wvU374WlD/zG4xpZ9u+ZiDUj+3OIsZiFNStt73XQnsUOwxKis4Ap9qHGwF5gn92Pq0O078U7QD/gBiwdjJuBWEuWngJVSR4qXNIYWwdzGrYVD9aM4gUsM9FY2inDEian2m38HbjEGLMkzGm3Yik+v7GXJT7Bmm0APIelo5lijNkBXA68ICIto+zSX4EGdl++wVpyc/M34FyxLMket/UyP8PS+WzEWo76ExCtX8T9WMri+cACLMV1LA6Qn2LNeja79FghibG/l2KN5QJjzGbnH9YYnCYiLWyrrLHAQ1jLRjOxPhj+GNDWeyJShDVzugPrhf8rV78+xPI5eRnL5HkK1lf+c3aV3VjCZIGI7MP6u/wPeNh1jV/ax/Zg6dt2AP3t5SivsSgDXiHYvPpJu69bsO6Ht4CRrpnYzVhGJkVYHzpRm9TberO3sGZlbwccvhDL+k+pYSQOVwBFUZSoEZECLAvAvjEaTCRyzbuBnsaYi1xlhwCf2/2IR8emxIAKF0VR6hX2Uutc4GJjzBep7s/Bii6LKYpSbxCRK7CWBT9QwZJadOaiKIqiJB2duSiKoihJJ+38XFq1amUKCwtT3Q1FUZQ6xZw5c7bbzq9pQdoJl8LCQmbPnp3qbiiKotQpRCStfHd0WUxRFEVJOipcFEVRlKSjwkVRFEVJOipcFEVRlKSjwkVRFEVJOipcFEVRlKQTt3ARkZdEZKuI/BjieC+xcmCXisjN8XdRURRFqWskMnN5BRgZ5vhOrDS4jyZwDUWpc1RWGf793VrKKyMliVSU+kvcwsUOChcqtSl2vvLvcKVQVZSDgSkLNnHrWwt47KNlkSsrSj0lLXQuInKliMwWkdnbtm1LdXcUJSZmrdrJxS9+S4U9U8nOtB6rFVv3pbJbipJS0kK4GGOeM8YMMMYMKChIm9A4ihIVN74xly+Xb2fTHiv/VGaGAKARx5WDmbQQLopSlxGxhEmVLUyc/zNsIaMoByMqXBQlQSqrjN//FZW2cFHZohzExB0VWUQmAsOBViKyHrgHyAYwxjwjIm2A2UAToEpEbgQON8bsTbjXipJGVNozlaWbi+ha0IjvVlt2Lhmi0kU5eIlbuBhjxkY4vhnoEG/7ilJXcBT5V7/2PasnjPbpXDo0bxD2vPfmbWTj7gMc1bEZx3ZtWeP9VJTaJO3yuShKXaOsotqfpbisghe/WhXVeddNnOvbXj1hdNL7pSipRHUuipIg+8sqfds/+8sXvu1wPpS79pfVZJcUJeWocFGUJLJ+1wHf9hvfrWXA/Z9QVWX4dMkWZq2q9jkuqaj0Ol1R6g26LKYoNURxWSXFZZWUVVbx61es1N3O8teBMhUuSv1GZy6KUsPs9FgCW7V9fwp6oii1hwoXRalhHv1waVDZ1a9+77e/cfeBoDqKUpdR4aIoNcyeA8GxW8ur/LX95z79tee5W/aW+EydAxk/aSHXuyzOFCWdUJ2LoiTAtMVbItYp9tCvXHlCV579fKVvf6Mdl8zNV8u3c9GL3zKwSwsWb9rL5/93Ii3ycwAoHDfZV+/iwZ05prAFxhjKKqvIzcqM56coSlLRmYuiJMDl/5gdsc6B8mDhsmRTEQB52aEfwaVbrDqzVu2kqKSCWat2ADBnzS6/eve9vwiAd37YwKF3TmVrUbCgUpTaRoWLotQwJR7C5fNlVmqJ+39xZMjz1u8q9iwPTELmRAR4fNoKANbt9D5PUWoTFS6KkgQuOrYTb109xPPY0B6tQp7njj5mzVCq9TMvz1jtV/fdHzYCMOa5b/zKF6zfw+JNe30WaKIxzZQ0QIWLoiSBYwpb0L9zcxrnBqsxmzXMCSrr16kZx3dv5Rd/7PxnZ3LVq3NCXuODHzdz29vzg8orqgxLNlfHg9U0Mko6oMJFURLg7L7tARh9ZFsAvrn9ZBaM/5lfneKyiqDz9pdWkp+byaCAgJU/rN0NePvGAEyctc6z3K2H0SRlSjqgwkVREuDtuRsAyLJTG+fnZtE4L9uvzpa9pb7tqT9u4v35G1m6pYh8j1mOE6Z/r4f5cjhe/Watbzvc7EdRagsVLopSw7w5Z71vOz83i2tft3xTsjOCH7+iUmuWU1EVJuqli0sHdw4q276vLEjpryi1jQoXRalFxKXC//dsa4nrL788KqjegbLwwmHaTcP44IahtMjP9Ty+YZd6/CupRYWLoiTI4BgSfV304re+7SuGdgGgWYNqhf/wQwsAOP3Jr0K2sez+U+lW0IjD2jbxKx/YpYVv21muU5RUocJFUWLAvdy02faqjzcI5Qk9LUFS0Lh69lEVhS4+J6v6sW3aoFpv4xfS38O3RlFqExUuihIl63cV0+OOD/ivvZzlxAw7rntoPxYv02SH5raJcu/2Tblz9GHkZGawZkdsgurCY/11Lhfb+307NoupHUVJNipcFCVKlm/dB8CkeRtZv6vYFzRyxOGHhDxncLfQS2a92zf1bf9maFfKKqtYs6OYf3y92lf+4Fn+Hvy3j+rlt5+dmcH1J3UH4O7TDucSW8FfqebISorRwJWKEoGJs9bSvGEOufZy1Lx1uzn+T9N9x3OzQweKdEKzREPHFg1Yt/MA90xa6Cvr26kZE684lr0l5Xy4cDMXDAq2DrvxlJ50O6QRp/Vp5wvdX1Ku1mJKalHhoigRuO3tBQC8dNkAAPaW+DtF5mYFLwC8dfVgZq3axcKNe6K+zvCehzB5wSY/B8pGuVk+xf3Pj2jjeV5GhnDm0ZYzZ64dCFN1Lkqq0WUxRYmSsgrvpaYmAU6TAP07t+Dq4d18M5cmeZG/47IzMyirqJ5xdG7ZkI4tGsbUxzx7FqXCRUk1cQsXEXlJRLaKyI8hjouIPC4iK0Rkvoj0i7+bipJ69pcGh3GB8GHzHeGSEzC7uWBQp6C6O/aXss91jTU7Yo9unJelwkVJDxKZubwCjAxz/FSgh/3vSuDpBK6lKCknlCVXdmYY4WKHc8kK8MY/tXfwEpcT9TgRsjOFDFGdi5J64hYuxpgvgJ1hqpwJ/NNYfAM0E5G28V5PUVKBOwjkG995B43MCiNcsjLF739fuUfolwfO6u23/+h5wZ77kRAR8rIzdeaipJya1Lm0B9xP43q7LAgRuVJEZovI7G3bttVglxQlNspcTpNbi0o962RnhrYI8y2LBQig0orgl3/rxnl+++f083xcIpKXnUmJR/uKUpukhULfGPOcMWaAMWZAQUFBqrujKD7+NXNNxDpeASgdfMtiAQJo4+7gVMSNXUr/0/q0jTvpV15Whi6LKSmnJoXLBqCja7+DXaYodYb7Jy+OWCfbwxTZYaMdImbvAX9jAC8jAHeo/vfnb4q2i0HospiSDtSkcJkEXGJbjR0L7DHGxP/EKEotEy7p1oDOzX3bWWEcJT9etAWAzXv9ZyruIJMOjaMwV46GXBUuShqQiCnyRGAmcKiIrBeRy0XkKhG5yq4yBVgJrACeB65JuLeKUosUl4V+QT98bh/fdjhrMS++uvVEOjQP9l9pkBPa0z8WGmTrspiSeuL+VDLGjI1w3AC/i7d9RUk1ezyyQd4x6jCuOKGrX1ksIV4g2OfFoUXD6tD7j4/tG1ObbtbuLGb7Pu80yYpSW6SFQl85eNm6t4TCcZP5+qftqe5KEHtLgoVLnw5NPWrGRm6m9wwlwyWkGuXGP4txBMu6nbE7YSpKslDhoqSUz5ZapucXPP9thJq1z57iYOEyKIbEYKHIDePR75ARp6WYm6EPT49cSVFqCBUuSkrJS5KeoSaIZLEVzr/F4b4zjwgqC/R58aImA+Z/tnSrKvyVGkeFi5JS8tNYuPzrm/A+LtNvHs5/fjs4bB0n26SbjDA6mpb5lt6lWYPgYJjRcuMpPUIeW7B+D5e9/B0PTYlsYq0oiaAh95WUUmpHAe7QvEGKexKauXeNoO99HweVd2je0NPqy407NMybVw3mi2XhI1DMGHcSM1fuoG+n5mHrhaPHIY192xWVVX592GDne3H8bxSlplDhoqSEpZuL+Plfv/DtJ0PHkGzybJPe5vk5kSuHwL10NqCwBQMKg/1b/K+ZyYmHhs5sGQ0VVdVmyJ8t3cYph7f27TtRl3cXqzWZUrOocFFSgluwpCtHtGvqmQgsFsKFhqkperZ2zVyq/LU35XastPJKTYOs1CwqXJS0IFZfkdpgzppd9GpjvahvGtGTjXsOxNxGuNAwNYWTuRKgMkC4ODlp2jdL32VIpX6gwkVJC9JPtFgs2VwEwHUnh1aShyNcaJjaINBXx3EMnbxgE08aE3dwTEWJhFqLKbXC+l3FPmXy7NXBaYDSzTQ2XFyxWMjNymBYzwJeuGRAUtqLlXJXyoCPFm7m9W/X+vaXbdkX8XxjDC98uZJNcczalIMbFS5KrXD8n6Zz3IRP2bK3hHOfmel3bOQRbSipSK9YWKVJ6o+I8I9fD/RTqtcmbt3Klf+aw4791Yr8aCZV63Ye4P7Ji7nq1e9rontKPUaFi1KrXPrSrKCyds0acCBMkMhUUGoHfrzrtMNT3JPEyAnj6PnVCu+QOyXllb4Zzww7LM+8dbt5Zcaq5HdQqbeocFFqFUeH4aZRXhYHyiuTthSVDPaVWYpvr7wrdQFnGS43K7ST6h/fW+RZ3uuuqfS44wOMMdz29gJf+fgQ9RXFi7r55Cj1CucFnqylKDf/nLmaDxZ4h3GprDIhdT2PfbgUgCWbgoVhXaB3eyvAZmWMArvCpaPpctuUoOOn/Plznvx0eWKdUw4KVLgoKadBtvV1XRNK/bvfXcjVr3nrC4b+6VN63TXV85gToqVTi/Ae+OmKY9od6OcC/onOAtlfGv5vsGLrPh79aFlinVMOClS4KEnl2c9/otvtwV+8Xjx5QV/m3jXCJ1wOJFm4uJfZNu4+wJHjP+Rll97ACYGytSg4FIrj33L+gI5Bx+oCjgl0pT0Tcf/Glo1CRxwoKg2OBK0o8aDCRUkqD32whMoqw6xVwebGbr685URO69OO5vk55DnCJYlK/Z37y/yWdaYs2ERRSYWnnuHpz34KKnOW6PJy6uYj4sy8xr+3iMJxkykqqfAdu+f04EjNDlv2BgvaqTcOTX4HlXpP3XxylLTnje/Whj3e0bXclOdbFkuezmVpgOHAR3Yue4c5a6qF38szVgedf6CskgyJLjx+OhLovPnaN9V/j3bNGnBu/w60a5oXdN45T88MKmveMIe3rh7i26+rY6LULnqXKDXC6u37fdtuRz6AXwYsNTm545O5LGYCMqK4Z1JVVcbzJeqmpLySvOzMOuvBHhhOZ/lWS9iOsP1tcrMyKKsMLczduqaW+Tn079ycb247maE9WnFY28Yhz1MUBw3/otQIbV2xq7YWlfodaxPwxZxnx99KpkK/OIxiOpwQK6+s4vFpy1nlEo51kcDZxZfLLX+VSwcXApaJcqnHTPHsvu15e+4GvrjlRCbN20i3gnxfyP42TfNokJ3JtoC/p6J4ocJFqRHc+VnW7PB/UTvxrRx8M5ck6lz2l1WEPLZia+iwJx8t3MITn65IWj9SRaiEZOV2OP7c7AyKSiuYv343fTo08x3fW1LhM2Y446h2QefnZmfWiMm4Uv/QZTGlRhBXKMqygJdRoLOkzxS5InnCxclbEkirRjl8tGhzyPN27q/fX+W77PAvu4stAX/GkzN8x0rKK/lk8RaWbgnt25OblRH091QUL3TmoiSVrAyhospwSONcX9lP28IvMdWEtdj+EMJFRGjWoNoU99iuLfyu67x06ysnH2bpXLwyYr5km2mH87s8UF7Jht0HMBpRWYlAQjMXERkpIktFZIWIjPM43llEponIfBH5TEQ6JHI9Jb2pqjK+jJJVrjfUfe/7m/+6842A21osecLlwSlLPMsrqwxz1+3y7TfMyfJzNHRvj+7TNmn9SQXHdW8ZVOYkP3P/tv98t46S8koenro0YpuT51vRDhZt2pukXir1lbiFi4hkAk8BpwKHA2NFJDDK36PAP40xfYB7gYfivZ6S/jw1fYXPAsmRLRUeFkm/PMbfWswJ/5JMU+RQ7NxfxpQF1ctiSzcXsXDjXqpsoeJYVQG0bhxsqluXePHSY4LKsm3l/G9P6Ooru+Wt+SEjFYQijcLAKWlKIjOXgcAKY8xKY0wZ8AZwZkCdw4FP7e3pHseVesRjH1eHBXFmLn/9JDgOVeByivPCK69KnnA5ol317GjUkW0867z7u+N8OWa277N0LW7BU9fdOfKyM/nfNUP8yhwT5Rb5ob30Hz63T8hjfxjRE6g2wlCUUCTy+LQH1rn219tlbuYBZ9vbZwGNRSRori4iV4rIbBGZvW1b8FqwUvdYs7MYYwxPTq+2vLrn9MN58Kwjg+pm+kKVJO9zuJ3LFPqUw7xzqRzVsdpKyivA4/Nf1v0Q825LMDciQteCfM9jg7q0CNne92utJcV35m5IvHNKvaamv81uBoaJyFxgGLABCFpYN8Y8Z4wZYIwZUFBQUMNdUmqD179d65eoCiwfiwsGdQqq63iTl3sEWYyXisoqerdvwooHTvX5aYRjzY7ipF07nQh0pnSzMoShReeW3kIH4GhbIDfOU1sgJTyJCJcNgHvxvINd5sMYs9EYc7Yxpi9wh122O4FrKmlKpYdg2H2gOuvhTSN6hvS9EBHLyiyMx3islFcacjIzyMrMoDwK01mv/h+MnO7h2+LmNNsQoE3TBmHrKUoiwuU7oIeIdBGRHGAMMMldQURaiYhzjduAlxK4npLGeFl63esKEjmgMPRSC0BWpniGh4+X8soq34zlzTnrg68XIOgCQ9QATDg7eAmvLnLXaYdzTr8OQdZvww/1XyX4/Sk9eXzM0WHbapBjzVge+yiyZZlycBO3cDHGVADXAh8Ci4H/GGMWisi9InKGXW04sFRElgGtgQcS7K+SRlRVGf793VpKKyop9vBReX9+dZKu/NzwCuCsjAwqkqhz+XbVTp+SPtA6DeDb208G4Ky+lpqwotKwu7jMr07jvOyk9SeVXH58Fx47/yieuqCfX3mgB3775g0i+q44psxrdhRTOG4yK7eFjnagHNwkpHMxxkwxxvQ0xnQzxjxgl91tjJlkb79pjOlh1/mNMaZ+uz8fZLw9dwO3vrWAF75cFdJp0aFhTvg1+gyBlduT86IqKrEcIR2dgltx79CykeXkecVQyyS3oqqKZz5f6Venc8u6mSgsWs7q254F43/m24/GOq5Vo1y//Xvf19THijd13NhSSSVOzLCyiipfuJWLj+3sWTfSzGVvSQWfLd3G2iQo1gNX1zLtr/H2zYL1BNmZ1Rkbt9q5TNo0yeO/Vw32pQqur4iI3+xs3ro9MbfRraBRMruk1CNUuChxs9OOU9WyUY5v5jKyt7dPSX5udNZF2/YFJ6uKlcAwMo5l09n9Ai3l8ell/jt7PW/b5rVtmuZxTAQdUX1k9prwCd68ePGrVb7lR0Vxo8JFiRtHuORmZfiiEIcSIg2zo3O6S0a8qmMfmua33zw/h7l3jeD3p/QMquso9j93xdqKNMuqr/xtTN+4zlu3s36acSuJocJFiZsdtnApqzTst/On5Odkcnbf0DOESNRUlsPm+TmeptBZmcFljXPrhyI/VuJd4lIjbsULFS5K3Dgzl7KKKt+yWH5uFn/+5dFcNaxbXG16mQTXJFkZwY/AXacHhsir37x+xSDPWV0oxg70d4S9fuLcZHdJqQeocFHixskN8vi05T6Ffr5tFda1VWgvby/uPfMIILTXeDxcMzyygMv2mLl4Kf7rM0O6teKGU3pEXf+hs49k5YOjfPvrdx2oiW4pdRyN4aDExZ4D5b5lsT0Hyn3ZCXPtCMd7S6rzorQMEyTRoXlDq85N/53HOf3jz8zg9rS/ZWSvoOOrJ4z2S1YW7XKd4k+oaAuK4qDCRYmLn//lC7/9UttD34lw7Cj2x59+OJcd1yVie1VJiuFebBsW3DHqsJB13EYDgZ76Suyc0FPjASrB6GebEhedWvg7GO4rrSRDqgMlnte/A//89UAuHVIYVXsdmlvtNYjSqiwUB2whF21IeBUu8fN/Pz8UgJIkZhBV6g8qXJS4OO0o/zhV+0rL/ZaYsjIzOKFnQdSmxf07NwdgzMDgUC2x4Pi4RCukwkUNVsLzuxO7c2rvNuwMCJujKKDCRYmDqirD3e8uBODmn1lWRvtLK8lO8EXdMj+HsigiGIfDiXHWMMqZi+aBT4w2TfPYvCdxx1el/qHCRYmZl79e7ds+xE4FvHZnMfsTXB7JyhRe+3YtM3/aEdf5f/54Gec8/TWgmRJrizZN8thXWuGzFlQUBxUuSszc5wpW6CjuF2yIPS5VII7Pydjnv+JpanIAACAASURBVInr/MenLffNXBLV3SjR4cQm21eiwkXxR63FlKgpHDc5qMzLwz1ektlWbpzCpUuM/jkHO06oHCf8j6I46MxFiQrjYSp80bGdPJ0Q4yWZlltO3pFYmX7z8KT14WDASaVQXKoWY4o/KlyUqAhcU2/dJJf7zuztGT4lXpLZVrY6R9YK+bZu69xnvk5xT5R0Q59AJSp2F5f77XcraISI+C1lFTTODTwtJpK5LBbPjKpji4Mr7EsyKLSXEUsTtPJT6h8qXJSoeP5L/yyNznKIe7axrSixvB6BSb5iITDdbtMGsUc2bnSQRkNOhHauOGxVVSYol45y8KIKfSUqOrf0V3R/sngL4D/baNs0L6FrLN60N+Zz1uzYT3Zmhp+vxYDOzWnWMHI8s0DUnzIxut4+BYCVD47S2GOKzlyU6LgvRK70bNfM5ckL+tVWd3wMe+Qzhkz4lHW7qhNW/WFE9OHj3WSoQ2VcXDLYP7V1kfq8KKhwUWLk7WuGAPD8JQMAcL+P2zVLbOaSCLe+tQCwlsOGdG8VVxv6tR0f/5y5xm9/T4B+Tjk4UeGixETfjs1YPWE0Iw5vDfh/7bdunDrh4uDkhYkHFS3x0byhv66quDx45lJZZRg/aSEbd9f/3C+LNu5V3RMqXJQoqHBlhwyMxeW2Hk6HL//T+rSL+Zxb7bwvLaLIO6ME8/Y1x/nte71Yf1i3i1e+Xs3v//1DbXUrJVRVGUY9/iVj4owyUZ9ISLiIyEgRWSoiK0RknMfxTiIyXUTmish8ERnl1Y6S3rzzw8aQx9JNTxFPlOOrhnXlntMP57HzjqqBHtV/urTKp1WjasHspD1wk5tl+cMU1YMwMe/+sIE1O7wzpu6zIxXMW7e7NruUlsQtXEQkE3gKOBU4HBgrIoHJx+8E/mOM6QuMAf4e7/WU1OHlnV99rBY7UkOICL86rgvNdeYSNzPGneRT7JeWB/u8zFixHYBFcVgEphPbikq54Y0fGPbIZ5R4CNEZy7enoFfpSSIzl4HACmPMSmNMGfAGcGZAHQM0sbebAqE/gesJXjdcPOwpLqeoJD0Uo45Py9QbhwYdK69U5znFmplcMKgTEDxz2V1cxkMfLElFt5LGU9NXUDhuMmt3Vlslzl8fHKz1ha9W1Wa30ppEhEt7YJ1rf71d5mY8cJGIrAemANd5NSQiV4rIbBGZvW3btgS6lFp+3LCHXndN5cOFmxNqp7LKcNS9H9H33o+T1LPY+c/sdT7HRCcoYX5OsFuUk7P+iHZNgo4pBxdOJOpAnUtlIt6xacIjHy4F8KV0AO/f1aG5RnlwqGmF/ljgFWNMB2AU8C8RCbqmMeY5Y8wAY8yAgoK6m4/7+7W7APhyeWwCsqiknB37qr3bH5i8GICKKsP89bW/dltZZbjlzfmc9NjnzPxpB7e8OR+ARrnBwsWZucQbKNLNb47v4tsOtxSnpCeOcFm40X/pq7KO/y1D3YtPTl8eVOaOaXfb2/NrrE91gUTeCBsAd07aDnaZm8uB/wAYY2YCeUB8Tgh1ACeLYqxBE0974iv63/+Jb/+lGdVT6x9qWTG4flcxox//0rfvzq3SMDc4jH2e/ULpWtAo4Ws75s0AZbrcVufIs4NYvjRjFaUVlZRWVDJ9yVaq6vifsiLEzKtTi4ZBgmerKwTSxFnrAk85qEgk/Mt3QA8R6YIlVMYAFwTUWQucDLwiIodhCZe6u+4VgXn2GmxejLlE1uwoDnmsVaPEgkHGyvF/mh7yWI6H0OzdvilPX9iP4YcekvC13abMJeVVPgujUOjsJr1o6LrvD71zqm/74XP6pKI7SSOUXnHirHVMnLWO1RNGA5YZ8hfL/F9vheMmM+v2kzmkSep9wGqbuGcuxpgK4FrgQ2AxllXYQhG5V0TOsKvdBFwhIvOAicBlph6/EZyHq1OLhklrsyqNhitUvvlTj2yblLTC7QOCIEbim5U7E76mkjyyMjPoWpBP55b+9//yrUV++3XtFVAWEPF5zp2neNabvnSrZ/nrs9YmvU91gYQWyo0xU4wxPY0x3YwxD9hldxtjJtnbi4wxxxljjjLGHG2M+SgZnU5Xttt6k1isvIpdGfxOfPQzXvvWP5TGiq37KBw3mTlrdlFSXpk0a7R0pF2zBvz+FCsuWDTr9Jv31n9v77qGEDwT/3GDvw7m5Rmr+W514h8GJeWVPDx1SVCuoWTz9U87/PazAmbwjrB8ecZqz/OPaNfUzxH5YEE99JNE4bjJTFtifbk8OCV6s8sd+8p826u27+eO//0IwFEdmgLw108speE5T39Nr7um0uuuqcGNJJHBXVvWaPuRaNXY8jWJZubySoiHWUkdP20Ldi6cudJ6OV89vBsA976/iPOemZnwtd6bt5G/f/YTT0wLVqwnE+ej8bjuLXn/uuNp2iCbXm0a+447+sFV263ffrnLMAVgwgeL6X7HByzaWLd9fGJFhUsSSMTUMlTIlHDJlw6UVfLU9BW8/u3aqL8AV27bR5fbJrNkc+gb/LKXZ/leBJcNKYyq3WSzz/bgLvFwxAtkkC0IzziqHQ+edSRf/N+JNdo3JTECl4sTXR5zXupvzw20I/Jm3c5i3v0hdN2iknJP/Uq7ptZy7S0/70Xv9tZHnzt5nmN63aVVPn07NeO8AR38zncE7k8BOYfqOypckoB7aStWdrpmLm7CJbvqd9/HPPLhUm7/3wLOe2ZmVI6MI//2JcbAO3P9/VgXbdzLvHW7Mcbw2dJqZeT4M/wDQOZl186t4qxbL9gQ7KAWSGtbSfrHM47ggkGd6NQyebouJT7m3jUi5LHWTfyNUyYv2JTQtbLsDzOvJHWvfbuGp6av8O2Pe2s+Qx+ezg1v/BAk1J79/CeGPDSNI8d/xI0esc8cIZbregY+/sMJPtP8L22v/G1FpbRomEOvNk1YPWF0UCqCNIuUVOOocEkCXjf3yL9+waR5kQMS7A8hmBqGUZAHekBPX+KtSHTjKCWdiVJJeSXXvv49ox7/kjOfmkGxy/HNiSw88YpjfU5hFw7yf1BqisuGWEsK0RhF/GmqtfyYW0uCT4lM8/wcJl5xLA+c1TvomDtrJcBT03+K+zoVlVW+NAte3PG/H3nkw6W8PGMVheMm88Z31WbBbjP3ZVuKeOiDJWy0k81Nnu8v8Coqq7jmte8BfyfixnnZ/NH+ALtu4lxKyitZuqXIz5n47tP8o2EVl1ZSVlEVlDW1vqJPZRLw8kVZsrmI6yfOjXhuqNDcPVo39iz3IprFBcfJ8e+fWQ/0Tf+dx/uuB2lXcfUMqmW+9YU5uFtLvrr1JBbfO5I7Rh0WdX8SIdvObBmNlZwjMN2plpXUM7hbS7oEZC4FaJjt7/kQT+ZRhz++55+8LpSOLrAe+C85X/XqnKDjbofmnfurn4v8ACdit0/Lta9bz3qm614MVPwXl1Uw8m9fcNJjn/tdo76iT2USKGgcvy/KxBBmin8Y0dMXCv647uGV7I4RQDgCc50HfqG515ADve0b5GTWWjh9J8pyLKvx2ZkH2XpDHaChRzSHQ5okx2erqKScf33jb1XpODq+N28jheMmhz3fHVhz1/7gZekNrpwzT7qW1gJXEy48tpNv20n7fU5//whYn940zLe9v6ySlbb+ZavHakd9Q4VLEkgkMdBHi7YElQ3o3Jy87Ex+e0JXZt52EjNW7PA4s5rt+0qD9C7frNzhZxLtWLIAzF6zizYBTl3Ow9G6SS4n9ExhCB5bTkSaubi/VEP53yipI1C/AsHOxe2axudYWFEZfG9UVFWxac8BrotitaC0wnpeN+4+wC6PrJk3/Weez3TYnWUz8KOrSV42U673D+baobn/cm7XgkasesjKNPL29+t95c9/sTJiP+s6KlySQHGSs845OUkyMoS2TaMLhNfjjg9YsH4PfcZ/yO///QNjnvvGt1YcSE5Whs/qxcExef7PbweTk4Q4YfHim7lEmLpoeJj0pm3TBrx/3fGc3MuK3PDUBf0AWD1hNKsnjOaoDk3pHsPSr5vZa3YFlZVXGMY+F12Crjn2+f+dvd7z+PKt+zj1b1+yN8BfzesjJhojEuc8t5n2YW3rf6BXFS5JwD1DiPXF3KdD06AvojEDO/rtO46FkTj9ya/YW1LB/2zTzC9D5JaYtniLb6YSSGePtfLaxFl9i2SmqsIl/endvikvXnYMqyeMZnSftn7HGuVlsT9O50fHkMNNeVUVq8OEUbL6Y73QP1hgRS3/yyfLQtZdvnUft/y3OvDk8gdO9aznFcw1GpzZU31GhUsS2Gv7Znz0+xM4NkYnxPnr9/j0IaOPbMvqCaM5q6+/nfwNp/SIu29OznL3evETn1avI58fYJOfagRHoR++XmBIDqVuUVpe5ZtBxIqX8r64NPhl7b635941glcvHwTA1IWbufb16ln9sxf394ybN9VOnfHE2L5hg9GGEjzh2O2xHFffUOGSBPaWlJOblUHP1o2570x//5BwX+BOkLtV2/ez7P5TeWJs35B13/3dcX5t3zTCms14JfByM2TCpyzbUhRy6e6PZ1SbjHYtSO2sBWKYuahwqdM4Hz3xJJtb6dIfjjnGmuXf/Oa8oHp/cgXMbNIg2y/+ndtS8udHtOG9647n4XP7cN1J3YPaOf2odmH7k52ZwbSbhvH1uJNC1vntsK5++1MWbOKP7y30dGOoL6hwSZDt+0p59vOVPvPGhgEJtcI5irmtUnKyMsJaZB3VsRnDelZHHr72pO4su/9UerVpwqAuLcL2MZRJ9HvXHu/3wK30CN1R6/gU+uGrOcLlz+dr3vu6iONX0uOOD/zMfWPh+7tG+HSHgWbNjXOzEBGuGtaNs/u2JzNDgmYn2ZniszQ8tE1jzh/QkZt+dqhf6odo6VbQKMiPx80lgwsBaN7Qco7euKeEl2es5pgHPvGlgK5vqHBJkDsDzIADb+DN9kPkhRMF+P5fBDuceeHoc7IyBBHx7V88OLyD4+a9Vh8CrXOOtOOXvXX1EAB6HJJ4TpZEqTZFjk7nkkrjAyV+Tu3dxrfd776P4/L7aJGfUx3jy3W7XDCoEwv++HMAxp3aiz//8mggWCGfn5vFqb39dUFAjVhLtm/WgEnXHsesO4IjKl/4wrdJv146oE9mgkwNSGmcneV/A2eGmY1U2FmUok0R3Dzf+uq5NCDuV4v8nLDnOeu7fTs39zzev3NzVk8Yzcd/GOZ5vDaJ2lrMnrl4rZUr6c+dAd7rQyZ8CljLoVv2hv4gA+jcsiHHd7dyDjoz7yKXcUD7MDMIN7uLy8n3SIDXr1OzqM6PlT4dmoXU3QRGOzfGMGXBpjq9/KtPZpIJvHm8PIQdfv3KbAAa50VncZKblcmC8T8L8pZ3lOBuXv7VMcHXO66QoT2shzJeK5eaRqL0c3GWIXXmUjcJFADO33P8pIUMenAay7cUYYzhsY+WBkXAyMoQmtrLS14J5WJJue2li3R8wBrnZfHetcdH3Va0uGdtDoHRzp/9YiXXvPY9Ez6IPsJ6uqFPZoI4zmKPnWet/Wd5zFScKf9Jj33mM6N0K6wb54UOUhlI47zsIN1MYatgW/uh3Vtxw8n+VmaHtmnii3dU0zkw4qVaoR+6zobdBzjn6a8BFS51Ga9J/T9sp8Vxby9ga1EpT3y6gnsmLWTOmuro32WVVb4Za2B0htFHtuWCQZ0IRZdW+X6z3Xd/CI7/17JRLs9c1I+vbj3Jt3ScTP58vrVM9+BZR/oJWec9sXN/mU+ofLWi7ibu1SczQcoqqrj42M6c098yexQR/nfNEL+wD1XGMp9cuW0/T9uxvRzzZUh8FuHlaJmVmREkXHKzMuhu61WinS3VPpFji01z+ejE8pWqpBct8kOHg5mzZpcv6di8dbs55+mZvnQR5RXGJ1TcflldC/J56sJ+QUY1bqbfPJxnL+nv2w8VIHVk77ZhI5MnQoOcTFZPGM0FgzrhDovX//5P+H7tLr53mWg7kb/nrNnJVyH81tKVdH3D1AnW7NjPruLyoJhDfTv56zaqjOG9+dVfSMMeme6XlCtcBORo6depGW2bNfCLGZaRIRzZvqkvfL1jCPD2NUPo2Dw9w9P7Zi6usle/WUOrRrmMtJcTVm+vdpbLyUx87JTU8Nwl/Tn771/79gOzNZ7/rH9CsZLyKqqqDLsPlHnqLqK1dnSHProvSmOa2sI9HgDNG1r61HOetsZi9YTRtd6neFHhkgDDHvkMsNKb3hYmanBZRRU3vFGdJ2LNjmK/VLDJiI319jXHAdCpxRL2Hqh20HK+8C4+trPvOv06eSv204FqhX61eLnzHcsiz3mwyiqr18kDDSiUukO/TpYhyTOf/8SED5ZQVBJ+qbasooor/zWHkvIqfnTl+2ndJJcte6O3NnMLl5YRjGFqmnEjD+N3r3uHaQKYNG8jPVtXW3HuOVBeYzOqZKNrCkngl8d09Cx39DHhfF2evbh/yGPxcOvIXjxw1pG+/e/XWsrQ9s2js6BJNT6FfhgjmT4dqq15wnlOK3UDR0/Z976Pw9Z79vOffGGL5q2vFi6B1pORaNaw+uUcGEyztgkMi+PFox9Vh6k56o8fMX/9bmav3hlWKKUD+mQmgVAKxLtPszzqJ3ywJMh2/pDGuWSI5R1cGySSO6M2iSbk/ltzqgMOqily3efbVdGl6p7mSorXsUX1x9LVw7qRnSk8eUHoCBdu3CsF3dPAt+vxEJE5Qt3b78zdyLnPzGTy/E1++sd0Q5fFkkCoCKdZLksWJ9SLQ0l5pU9ZV5N0bZXPyu37Y455lmrCKfTdLyO1Fqv7VEYKx+BBQaNqYwARYfkDo2I6f/L1x9MkBivNmsQrwsZNI3pyYq9DOO2Jr4KOvTRjlW97cwSfoFSiT2acROPcFO6rurisslZubickRbjQFOlEtE6UDrosVveJpFT3Mnj525joZimhOKJdUzpGkUq7NgjMcAmwbOu+qAx9EsklVdMk9GSKyEgRWSoiK0RknMfxv4jID/a/ZSISnA+4jjL4oWkR62SFyZBYUWVqRTHn9CHQEiddEZ+fi/H7PxS1lCBTqUECwxK5A6i+f93xQZEjLhtSmDaCIRk0ys3iy1tO9Cv7esV2T6ETSKhMtulA3MJFRDKBp4BTgcOBsSLiF9PBGPN7Y8zRxpijgSeAtxPpbDqxww62Fy7IXaSv6rU7w+efSAZO1NjDowwxk2qcmcvVdqKzwGWB6Uu3+u2na6QBJXoCrSUHFlYvE3Vs3jDIl+me0/1Dx9QHOrZoyDMXVRv3vHvtcX6+aK/9ZhC/Oq7Qtz/S1tX+lA7BZkOQyJM5EFhhjFkJICJvAGcCoeKdjAXuSeB6aUm4iMSRhEttrJeO7N22TtnGu2ciu4vLWLjR3xAh0JchS5fF6h079pdxy8hDeXjqUhrnZVEcEHervqa1Htm7TchnVQTuOf0IFqzfw+odxTxzcX8Kx00G8P2fbiTyZLYH1rn219tlQYhIZ6AL8GmI41eKyGwRmb1tW90KdxAu10O4oJWKN+73xrEeS4/uAH9OCl2lfjHisNZcM7w7qyeMJiNDaJhic+FUMtD+eHXiB7559RC+u+NkAF66bEDK+hUNtfXZNwZ40xjjqX0yxjxnjBlgjBlQUJD8cNfJxtEDDO3RKqzFV6bHF9bM26oTChVGkX/7YMP9VVpSHqwn8oVYB168LDg4p1K3mXbTMM4P8Btzx9JzmyAfFNgqR/d3qvOMnNSrdVq/QxIRLhsA913QwS7zYgwwMYFrpRWOx7jbHNKLbocEZ3Z0xwG7PYxX/8FKpLleRj1dElEsuhWE9zt5Ymy/WupJeuCY5IdaCly9o+b1tvGSiHD5DughIl1EJAdLgEwKrCQivYDmwMzAY3WV1761LDS2RUhw1CDEdP7hc630q4ExyJTIofbjSYurpD/PXzLA91x44Swxd6wjkSaShfM01MVvqriFizGmArgW+BBYDPzHGLNQRO4VkTNcVccAb5hINqV1kEgZJAO/Nm7+mZX3/vwBHVk9YTQFjcPPfA5G9hwIH1+qIg6HOyX9GXF4a84f4B1GCeA4OzmYE8jxYOGe0w/nqA5N6d3OO/T/i5cO4ISeBVwzvFst9ywyCdlxGmOmAFMCyu4O2B+fyDVSzfZ9pQx6cBr//PVAjuveys/vwh3uOxR3jDqMlo1ymL9+D1cNS78bIP3QmYsSzDMX9WNbUWlQLqP6Tp8OzXg3TMKykw9rzcmHWe4Qt9ZWp6JEnQQisGxLEZVVhkc/Wspx3Vvx39nrI5/k4ooTugJwdr8ONdG9eke4+W3POz7w2fo/l+SAn0p60zAni84t9XVVl1AngQhUVFpvuyp7OWZvSXm46kqScVsHlVVW8eo3VqbCI9onP0OgoijJQ4VLBC55aRZQ7ayXayvpbx3ZK2V9qs8EhsRZt/OA336lPbXJPsiWRxSlrqHCJQxVLuWxk3TrQJmlcL7o2NB5upX46dIqvB7LyfOinvmKkt7oExqGb1btqN5euZMVW/fx4JQlAGHzdCvxEym0hzNzCRcUVFGU1KPCJQwXPP+t3/4pf/7ct62hXWqGSKPq5P7IztBbV1HSGX1CQ1BXQtTXN6JxFsvKkKBIuYqipBf6hIbgb9OWp7oLByXRRLxt3STvoPN3UJS6hgqXELQKEzfsvP7qs1KbnBQQ/bg2kqwpipIYKlxCsCZMQLhwkZCV5DO0Ryu//fW70jdYn6IoFipcQvDSjFWAFVCvQ0CwvH2l4eNfKcnFHUkaYG+Jjr+ipDsqXCLQp0NTpt54gl/Zok17Q9RWagJNZawodQ8VLhHIzcqgUW4WKx8c5SvTl13N0r6Z/0zluO4tU9QTRVHiRYVLCBrmZNKqUS7N7BDfGRlCu6aWrqVTi/TN/lYfuGxIod9+fc2Zrij1GRUuYfjF0e389t/53XF0P6QRlx/fJUU9OjgwrrD7TfJ0lqgodREVLh6UVVRRXFYZZPJ6SJM8PvnDMDrqzKVG8Qq7H2gxpihKeqPCxYM9B6yw+s0aqj9FqnHkzAuXDuCtq4cA8MTYvqnrkKIoUaFrDh44wqWJOuulBK98YblZmfTv3JzVE0bXen8URYkdnbl48PVP2wH1BE8V7mUxVeUrSt1EhYsHd7+7ENCw+qnCrdAPk/VYUZQ0Rt+eLgrHTfbTs+jMRVEUJT505hLA7uJy3/ahbRqnsCcHL7ospih1H5252Ljzt3Q/pBGFLdXcOB24/uQeqe6CoihxkNDMRURGishSEVkhIuNC1DlfRBaJyEIReT2R69Uk783f6NtesXWfBkdMIcaeulwzvBu/Gdo1xb1RFCUe4p65iEgm8BQwAlgPfCcik4wxi1x1egC3AccZY3aJyCHeraWe0nL/zJPLthSlqCfKxccWMn/9HhUsilKHSWTmMhBYYYxZaYwpA94AzgyocwXwlDFmF4AxZmsC16tRsjL9h+LBs45MUU+Upg2zee6SAbTIz0l1VxRFiZNEhEt7YJ1rf71d5qYn0FNEZojINyIy0qshEblSRGaLyOxt27Yl0KX4+XHDHr99DU6pKIoSPzVtLZYF9ACGA2OB50WkWWAlY8xzxpgBxpgBBQUFNdylYP41czWvfL3at9+qUS692zet9X4oiqLUFxIRLhuAjq79DnaZm/XAJGNMuTFmFbAMS9ikDTv2lXKX7TTpcIIGSVQURUmIRITLd0APEekiIjnAGGBSQJ13sGYtiEgrrGWylQlcM+nsKi4LKtNZi6IoSmLEbS1mjKkQkWuBD4FM4CVjzEIRuReYbYyZZB/7mYgsAiqB/zPG7EhGx5PFfe8v9m3/89cDyc/Nol+noJU7RVEUJQYScqI0xkwBpgSU3e3aNsAf7H9piZPkcHDXlgzt0UqzHiqKoiSBeh3+ZfX2/ZRVVIWtk5VhDcGrvxmkgkVRFCVJ1Fvhcsub8xj+6GeMf29h2HqfLN4CQGaGChZFUZRkUW+Fy39mrwdg1qqdKe6JoijKwUe9DFzpXgqz4oSV0yQvOHz+jn2ldC3Ip3lD9QRXFEVJJvVSuGzZW+K3P3XBZs4/ptol5+nPfuJPU5f49nu1qbcTOEVRlJRQL9+qgUEnSyoq/fbdggVgyWYNUqkoipJM6qVwufwfs/32S8orQ9RUFEVRaoJ6uSwWyINTlnDm0e1p2iCbvQfK/Y49d3F/hh+atpkAFEVR6iT1Urgc2roxS7cU8f51x3PaE18BMOjBaQAc6Qrt8v51x2uoF0VRlBqgXi6LlVZUMrpPW0/BscAOrf/MRf1UsCiKotQQ9U64lJRXsnpHMW2b5AHQKNd7cjayd9va7JaiKMpBRb0TLn3GfwRAy0a5ALRukhtUJyer3v1sRVGUtKJevWX3l1ZQVmk5UHYtyAfgp237g+rNuv3kWu2XoijKwUbaK/Tnrt1Fi/wcOrfMj1j3p237fNuHtm4cdPyj359AT49yRVEUJbmk/czlrL9/zbBHPotYr7isgjOenOHbL2xlCaPD2jbxlalgURRFqR3STriUVVRRXFZBZZXxK/9y+baw5/1x0iLf9gc3DPVtv3DpgOR2UFEURYlI2gmXpVuKOPzuD7nznR/9yhdv2hv2vH/PXufbds9WGmRnAtC0QXDgSkVRFKVmSDvh4jBx1loqKqujGzd2RTU2xmCM4ap/zeGDBZv40fZdAbhwUCe/dpo3zOayIYVMvOLYmu+0oiiKAqS5Qn/j7uroxre9vYCxAzvxt0+W85dPlvnKpy7czINnHenbf8C1DSAijD/jiJrvrKIoiuIjbWcuACc8Mj2ozC1YHG7/3wIAOjRvUON9UhRFUSKT1sIlkMJxk8Mef/+642upJ4qiKEo46pRwiUQzzSipKIqSFqSdcMn1CM1y4yk9/Pb7dmoWVGfswI5BZYqiKEpqSEi4iMhIEVkqIitEZJzH8ctEZJuI/GD/+02kNts1C9ab5GZl+u2fcVS7oDp3jj48pr4riqIoNUfc1mIikgk8BYwAVq9RkwAAC25JREFU1gPficgkY8yigKr/NsZcG227jXKzWPTgKLrePgWASwd3JjtT/Or069Sc1k1yadO0ASceWsDgri3JDxH9WFEURal9EnkjDwRWGGNWAojIG8CZQKBwiZmMDOGHu0ewq7icLq3y+cfXq/2OH9m+Kd/efkqil1EURVFqiESWxdoD61z76+2yQM4Rkfki8qaIeCpGRORKEZktIrO3bbPCvDRrmEMXOz5YlmvmsuqhUWRkiFcziqIoSppQ0wr994BCY0wf4GPgH16VjDHPGWMGGGMGFBQUBB3PyazupogKFkVRlHQnEeGyAXDPRDrYZT6MMTuMMaX27gtA/3guVFpRFbmSoiiKkjYkIly+A3qISBcRyQHGAJPcFUTEnUv4DGBxPBdyz1wURVGU9Cduhb4xpkJErgU+BDKBl4wxC0XkXmC2MWYScL2InAFUADuBy+K5Vm62JVyGHxq8ZKYoiqKkH2KMiVyrFhkwYICZPXu2X1l5ZRWPfrSUq4d1Uy98RVEUD0RkjjEmbRJY1QnnkOzMDG479bBUd0NRFEWJElVmKIqiKElHhYuiKIqSdFS4KIqiKElHhYuiKIqSdFS4KIqiKElHhYuiKIqSdFS4KIqiKElHhYuiKIqSdNLOQ19EioClqe5HmtAK2J7qTqQJOhbV6FhUo2NRzaHGmMap7oRDOnroL02nEAapRERm61hY6FhUo2NRjY5FNSIyO3Kt2kOXxRRFUZSko8JFURRFSTrpKFyeS3UH0ggdi2p0LKrRsahGx6KatBqLtFPoK4qiKHWfdJy5KIqiKHUcFS6KoihK8jHGhP0HdASmA4uAhcANdnkL4GNguf1/c7tcgMeBFcB8oJ+rranAbuD9CNe81G53OXCpq/wzLB+YH+x/h4Q4vz+wwO7D41Qv/x0FzLSPvQc0ifT7a3AsKl2/Y1IcYzEVmGf34xkgM8T5I+0xWwGMc5WfBHwP/Aj8A8hK4Vj8ye7Hj8Av4xiLB4B1wL4IfQ51X/zb9bdYDfxQw2PRy74PS4GbI7UT4povAVuBHwPKz7PPrQIGhDk/VN/+zzUWP9r3aYvaHgv7WDPgTWAJsBgYHMs97jr+eLh7I93vC/vYDfbfYyFwY5hrhnreBes5WWaP5fUhzr/WPtcArVzlw4E9rvG4O+Lvj2KA2mK/CIDGducOBx52Og+MA/5kb48CPrB/zLHAt662TgZOJ4xwsQd+pf1/c3vbGfzPCPPAuNqYZV9b7L6capd/Bwyzt38N3BfjzZLMsQj7IoxiLJq4bpq3gDEe52cCPwFdgRwsYXQ41ox1HdDTrncvcHkqxgIYjfWAZQH59t8oSOhHGItj7f5EEi6e90VAnceI4sFJcCwOAY7BethvjtROiGueAPQjWLgcBhxKhGclVN8C6pwOfJqKsbCP/QP4jb2dAzSL9h53HR8A/CvcvVEH7oveWIKlIdZz8gnQPZaxAH4F/BPIcK4Vos99gUIsYRooXMJOCoLaiqWyfZF3gRFY0rGtaxCX2tvPAmNd9X31oukkMBZ41rXvay/SA+PqyxKv9rAkr/NV0hFYFOvvT9ZYhLvZoxkLV1k21iws6IsfGAx86Nq/zf5XAPzkKh8KTEnFWGB9Kd/lKn8ROD/OsQj3Agl5X7jKBEvo9qjJsXDVG0/AC9WrnTDHCwkQLq5jYZ+VSH2zy18HrkjFWABNgVXO8xqmfc973N7OxJo5hPzwqAv3BdZs9EXX/l3ALTGOxSw8BFKYvq4mQeESk85FRAqxJNu3QGtjzCb70Gagtb3d3v5DOKy3y6Il0vkvi8gPInKXiEiI89eHOH8hcKa9fR6WgImLJIxFnojMFpFvROQXIS4TdixE5EOspZEirOWDaM/fDmSJiOPZfC6pG4t5wEgRaSgirYATQ/QlGfdVqPvCYSiwxRizPIZ2/YhyLGJtpyYI2zcRaYi1xPJWvBdIcCy6ANuwnve5IvKCiOR71At3X1yLteS8Kegs//PT/b74ERgqIi3tv8soYn9GugG/tN85H4hIjzh+xmARmWeff0SkylELFxFphHWj3WiM2es+ZizRZmLuauxcaIw5EuuPPRS4OMbzfw1cIyJzsKapZfF0Iklj0dlYYSsuAP4qIt1i7Ycx5udYXz65WDqUaM8zwBjgLyIyC0s4VcZ6fUh8LIwxHwFTgK+BiVhrznH1JQmMtfsQF8l6RsK1UxOE6NvpwAxjzM542kzCWGRhLfs9bYzpC+zHWkKK9vrtsD4gn4il3yFI6X1hjFmMpZf8CEvX+gOxPyO5QIn9znkeS2cXC99jvbOOwhrTdyKdEJVwEZFsrMF5zRjztl28RUTa2sfbYn1BA2zAX6p2sMtCtT3Inon8ICJnhDvfGOP8X4Q1ZR8oIpmu8++163YIcf4SY8zPjDH9sW6Wn6L5/TUxFq7fshJrCaNvLGPhYIwpwZpunykiHV3nXxXh+jONMUONMQOBL7DWg1M1Fg8YY442xozAWoJYFs9YBPQt6vvCrp8FnI2lxI2ZGMcipnY8/q7x9M+Z8U+Jsm9jiPOFmqSxWA+sN8Y4M7c3gX4x3ON9ge7AChFZDTQUkRV19b4wxrxojOlvjDkB2IX1jET9vGONp3P9/wF97Ot/aJ//QoTr7zXG7LO3pwDZ9kpD2JMirb0JliLorwHlj+CvlHrY3h6Nv+J2VsB5w4ms0F+FpbRtbm+3wPqSaWXXyca62a4K0Uaggm6UXX6I/X+G/Zt+HcsaYrLGwv5dufZ2KyyrkSDFbZixaET1mm0W1o1/rcf5WViK7y5UK/iOCBiLXGAacFKKxiITaGlv98FaAgiyXAs1FgF1YlXoj3IdGwl8HssYxDsWruPj8V9b92wnzHULiV/nErJvWPqOnUB+qsbCLvsSK9Kvc/yRWO7xaO+NdL8v7DLnee2EZT3nZdwQ7nmfgP2+w3oHfxeh76vx17m0oVpfPRBY6+yHbCOKAToea9o2n2oztFFAS6yX0nIs64UWrgF9CmtWsMB9g9s3yzbgAJYk/XmIa/4ayxxuBfAruywfmGP3YyHwN0Kb3w7Aekn9BDzpGpQbsL7Ql9mDHXZwamosgCH2/jz7/5CWWiHGojWWVdV8+3c+QQhTYrt/y+w+3BFwgy/GUi6GNG2shbHIwzLVXAR8Axwdy1jY5Q/b91OV/f/4WO4L+9grhPhYqYGxaGP3cy+Waf56oEmodkJccyKwCSi3z7/cLj/L3i8FtuBS8Aac79k3+9hlwBupHAv72NHAbLutd7CtA6O9xwPqhBMuaX1f2Me+xHpG5gEnh7lmqOe9GTAZ69mbCRwV4vzr7etWABuBF+zya7Heu/OwntMhkX6/hn9RFEVRko566CuKoihJR4WLoiiKknRUuCiKoihJR4WLoiiKknRUuCiKoihJR4WLogQgIuNF5OYwx38hIofXZp8Upa6hwkVRYucXWNFtFUUJgfq5KAogIndg5YvZihX8bw5WFO0rsbydV2DFsjsaeN8+tgc4x27iKaxo08VYkYSX1Gb/FSXdUOGiHPSISH8sT+xBWCE0vsdKwPayMWaHXed+rMi4T4jIK1ghjN60j03D8uJeLiKDgIeMMVEHElWU+khWqjugKGnAUOB/xphiABGZZJf3toVKM6x4bh8GnmhHvB0C/NeVASK3xnusKGmOChdFCc0rwC+MMfNE5DKsgH+BZAC7jTFH12K/FCXtUYW+olgpB34hIg1EpDFWLhOwcv5sssOmX+iqX2Qfw1j5OVaJyHkAYnFU7XVdUdITFS7KQY8x5nustAXzsEKuf2cfugsrc+AMrDDnDm8A/2dnSOyGJXguF5F5+Gc7VZSDFlXoK4qiKElHZy6KoihK0lHhoiiKoiQdFS6KoihK0lHhoiiKoiQdFS6KoihK0lHhoiiKoiQdFS6KoihK0vl/loLgFTRsRScAAAAASUVORK5CYII\u003d\n"
          },
          "metadata": {
            "needs_background": "light"
          },
          "output_type": "display_data"
        }
      ],
      "source": "\ndata_df[\u00274. close\u0027].plot()\nplt.title(\u0027The Forex rate for the AUDUSD (Daily)\u0027)\nplt.show()\n",
      "metadata": {
        "pycharm": {
          "metadata": false,
          "name": "#%%\n",
          "is_executing": false
        }
      }
    },
    {
      "cell_type": "code",
      "execution_count": null,
      "outputs": [],
      "source": "",
      "metadata": {
        "pycharm": {
          "metadata": false,
          "name": "#%%"
        }
      }
    }
  ],
  "metadata": {
    "kernelspec": {
      "display_name": "Python 3",
      "language": "python",
      "name": "python3"
    },
    "language_info": {
      "codemirror_mode": {
        "name": "ipython",
        "version": 3
      },
      "file_extension": ".py",
      "mimetype": "text/x-python",
      "name": "python",
      "nbconvert_exporter": "python",
      "pygments_lexer": "ipython3",
      "version": "3.7.3"
    }
  },
  "nbformat": 4,
  "nbformat_minor": 2
}