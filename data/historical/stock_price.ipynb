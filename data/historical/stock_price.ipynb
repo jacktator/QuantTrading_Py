{
  "cells": [
    {
      "cell_type": "markdown",
      "source": "\n# Fetching Single Stock\n\nFetching historical data for **AXP** (American Express).\n",
      "metadata": {
        "pycharm": {
          "metadata": false,
          "name": "#%% md\n"
        }
      }
    },
    {
      "cell_type": "code",
      "execution_count": 3,
      "outputs": [
        {
          "data": {
            "text/plain": "            close   high    low  p_change   open  pre_close   volume  \\\n2018-12-24  89.50  91.55  89.50    -2.004  90.74      91.33  3190855   \n2018-12-26  93.84  93.89  89.05     4.849  89.85      89.50  5383666   \n2018-12-27  93.84  93.89  89.05     0.000  89.85      93.84  5383666   \n2018-12-28  93.84  93.89  89.05     0.000  89.85      93.84  5383666   \n2018-12-31  93.84  93.89  89.05     0.000  89.85      93.84  5383666   \n\n                date  date_week   atr21   atr14  key  \n2018-12-24  20181224          0  4.4431  4.8634  387  \n2018-12-26  20181226          2  4.4792  4.8603  388  \n2018-12-27  20181227          3  4.5120  4.8576  389  \n2018-12-28  20181228          4  4.5418  4.8552  390  \n2018-12-31  20181231          0  4.5689  4.8532  391  ",
            "text/html": "\u003cdiv\u003e\n\u003cstyle scoped\u003e\n    .dataframe tbody tr th:only-of-type {\n        vertical-align: middle;\n    }\n\n    .dataframe tbody tr th {\n        vertical-align: top;\n    }\n\n    .dataframe thead th {\n        text-align: right;\n    }\n\u003c/style\u003e\n\u003ctable border\u003d\"1\" class\u003d\"dataframe\"\u003e\n  \u003cthead\u003e\n    \u003ctr style\u003d\"text-align: right;\"\u003e\n      \u003cth\u003e\u003c/th\u003e\n      \u003cth\u003eclose\u003c/th\u003e\n      \u003cth\u003ehigh\u003c/th\u003e\n      \u003cth\u003elow\u003c/th\u003e\n      \u003cth\u003ep_change\u003c/th\u003e\n      \u003cth\u003eopen\u003c/th\u003e\n      \u003cth\u003epre_close\u003c/th\u003e\n      \u003cth\u003evolume\u003c/th\u003e\n      \u003cth\u003edate\u003c/th\u003e\n      \u003cth\u003edate_week\u003c/th\u003e\n      \u003cth\u003eatr21\u003c/th\u003e\n      \u003cth\u003eatr14\u003c/th\u003e\n      \u003cth\u003ekey\u003c/th\u003e\n    \u003c/tr\u003e\n  \u003c/thead\u003e\n  \u003ctbody\u003e\n    \u003ctr\u003e\n      \u003cth\u003e2018-12-24\u003c/th\u003e\n      \u003ctd\u003e89.50\u003c/td\u003e\n      \u003ctd\u003e91.55\u003c/td\u003e\n      \u003ctd\u003e89.50\u003c/td\u003e\n      \u003ctd\u003e-2.004\u003c/td\u003e\n      \u003ctd\u003e90.74\u003c/td\u003e\n      \u003ctd\u003e91.33\u003c/td\u003e\n      \u003ctd\u003e3190855\u003c/td\u003e\n      \u003ctd\u003e20181224\u003c/td\u003e\n      \u003ctd\u003e0\u003c/td\u003e\n      \u003ctd\u003e4.4431\u003c/td\u003e\n      \u003ctd\u003e4.8634\u003c/td\u003e\n      \u003ctd\u003e387\u003c/td\u003e\n    \u003c/tr\u003e\n    \u003ctr\u003e\n      \u003cth\u003e2018-12-26\u003c/th\u003e\n      \u003ctd\u003e93.84\u003c/td\u003e\n      \u003ctd\u003e93.89\u003c/td\u003e\n      \u003ctd\u003e89.05\u003c/td\u003e\n      \u003ctd\u003e4.849\u003c/td\u003e\n      \u003ctd\u003e89.85\u003c/td\u003e\n      \u003ctd\u003e89.50\u003c/td\u003e\n      \u003ctd\u003e5383666\u003c/td\u003e\n      \u003ctd\u003e20181226\u003c/td\u003e\n      \u003ctd\u003e2\u003c/td\u003e\n      \u003ctd\u003e4.4792\u003c/td\u003e\n      \u003ctd\u003e4.8603\u003c/td\u003e\n      \u003ctd\u003e388\u003c/td\u003e\n    \u003c/tr\u003e\n    \u003ctr\u003e\n      \u003cth\u003e2018-12-27\u003c/th\u003e\n      \u003ctd\u003e93.84\u003c/td\u003e\n      \u003ctd\u003e93.89\u003c/td\u003e\n      \u003ctd\u003e89.05\u003c/td\u003e\n      \u003ctd\u003e0.000\u003c/td\u003e\n      \u003ctd\u003e89.85\u003c/td\u003e\n      \u003ctd\u003e93.84\u003c/td\u003e\n      \u003ctd\u003e5383666\u003c/td\u003e\n      \u003ctd\u003e20181227\u003c/td\u003e\n      \u003ctd\u003e3\u003c/td\u003e\n      \u003ctd\u003e4.5120\u003c/td\u003e\n      \u003ctd\u003e4.8576\u003c/td\u003e\n      \u003ctd\u003e389\u003c/td\u003e\n    \u003c/tr\u003e\n    \u003ctr\u003e\n      \u003cth\u003e2018-12-28\u003c/th\u003e\n      \u003ctd\u003e93.84\u003c/td\u003e\n      \u003ctd\u003e93.89\u003c/td\u003e\n      \u003ctd\u003e89.05\u003c/td\u003e\n      \u003ctd\u003e0.000\u003c/td\u003e\n      \u003ctd\u003e89.85\u003c/td\u003e\n      \u003ctd\u003e93.84\u003c/td\u003e\n      \u003ctd\u003e5383666\u003c/td\u003e\n      \u003ctd\u003e20181228\u003c/td\u003e\n      \u003ctd\u003e4\u003c/td\u003e\n      \u003ctd\u003e4.5418\u003c/td\u003e\n      \u003ctd\u003e4.8552\u003c/td\u003e\n      \u003ctd\u003e390\u003c/td\u003e\n    \u003c/tr\u003e\n    \u003ctr\u003e\n      \u003cth\u003e2018-12-31\u003c/th\u003e\n      \u003ctd\u003e93.84\u003c/td\u003e\n      \u003ctd\u003e93.89\u003c/td\u003e\n      \u003ctd\u003e89.05\u003c/td\u003e\n      \u003ctd\u003e0.000\u003c/td\u003e\n      \u003ctd\u003e89.85\u003c/td\u003e\n      \u003ctd\u003e93.84\u003c/td\u003e\n      \u003ctd\u003e5383666\u003c/td\u003e\n      \u003ctd\u003e20181231\u003c/td\u003e\n      \u003ctd\u003e0\u003c/td\u003e\n      \u003ctd\u003e4.5689\u003c/td\u003e\n      \u003ctd\u003e4.8532\u003c/td\u003e\n      \u003ctd\u003e391\u003c/td\u003e\n    \u003c/tr\u003e\n  \u003c/tbody\u003e\n\u003c/table\u003e\n\u003c/div\u003e"
          },
          "metadata": {},
          "output_type": "execute_result",
          "execution_count": 3
        }
      ],
      "source": "\nfrom abupy import ABuSymbolPd\n\nsymbol \u003d \u0027usAXP\u0027\n\ndownloaded_df \u003d ABuSymbolPd.make_kl_df(symbol, n_folds\u003d2)\n\ndownloaded_df.tail()\n",
      "metadata": {
        "pycharm": {
          "metadata": false,
          "name": "#%% \n",
          "is_executing": false
        }
      }
    },
    {
      "cell_type": "markdown",
      "source": "\n# Saving Data\n\nSaving data as a local `.csv` file.  \n",
      "metadata": {
        "pycharm": {
          "metadata": false
        }
      }
    },
    {
      "cell_type": "code",
      "source": "\ndownloaded_df.to_csv(\u0027../gen/{}_df.csv\u0027.format(symbol), \n                    columns\u003ddownloaded_df.columns,\n                    index\u003dTrue)\n",
      "metadata": {
        "pycharm": {
          "metadata": false,
          "name": "#%%\n",
          "is_executing": false
        }
      },
      "execution_count": 4,
      "outputs": []
    },
    {
      "cell_type": "markdown",
      "source": "\n# Reading Data\n\nReading data from local `.csv` file. \n",
      "metadata": {
        "pycharm": {
          "metadata": false
        }
      }
    },
    {
      "cell_type": "code",
      "execution_count": 15,
      "outputs": [
        {
          "data": {
            "text/plain": "            close   high    low  p_change   open  pre_close   volume  \\\n2018-12-24  89.50  91.55  89.50    -2.004  90.74      91.33  3190855   \n2018-12-26  93.84  93.89  89.05     4.849  89.85      89.50  5383666   \n2018-12-27  93.84  93.89  89.05     0.000  89.85      93.84  5383666   \n2018-12-28  93.84  93.89  89.05     0.000  89.85      93.84  5383666   \n2018-12-31  93.84  93.89  89.05     0.000  89.85      93.84  5383666   \n\n                date  date_week  key   atr21   atr14  \n2018-12-24  20181224          0  387  4.4431  4.8634  \n2018-12-26  20181226          2  388  4.4792  4.8603  \n2018-12-27  20181227          3  389  4.5120  4.8576  \n2018-12-28  20181228          4  390  4.5418  4.8552  \n2018-12-31  20181231          0  391  4.5689  4.8532  ",
            "text/html": "\u003cdiv\u003e\n\u003cstyle scoped\u003e\n    .dataframe tbody tr th:only-of-type {\n        vertical-align: middle;\n    }\n\n    .dataframe tbody tr th {\n        vertical-align: top;\n    }\n\n    .dataframe thead th {\n        text-align: right;\n    }\n\u003c/style\u003e\n\u003ctable border\u003d\"1\" class\u003d\"dataframe\"\u003e\n  \u003cthead\u003e\n    \u003ctr style\u003d\"text-align: right;\"\u003e\n      \u003cth\u003e\u003c/th\u003e\n      \u003cth\u003eclose\u003c/th\u003e\n      \u003cth\u003ehigh\u003c/th\u003e\n      \u003cth\u003elow\u003c/th\u003e\n      \u003cth\u003ep_change\u003c/th\u003e\n      \u003cth\u003eopen\u003c/th\u003e\n      \u003cth\u003epre_close\u003c/th\u003e\n      \u003cth\u003evolume\u003c/th\u003e\n      \u003cth\u003edate\u003c/th\u003e\n      \u003cth\u003edate_week\u003c/th\u003e\n      \u003cth\u003ekey\u003c/th\u003e\n      \u003cth\u003eatr21\u003c/th\u003e\n      \u003cth\u003eatr14\u003c/th\u003e\n    \u003c/tr\u003e\n  \u003c/thead\u003e\n  \u003ctbody\u003e\n    \u003ctr\u003e\n      \u003cth\u003e2018-12-24\u003c/th\u003e\n      \u003ctd\u003e89.50\u003c/td\u003e\n      \u003ctd\u003e91.55\u003c/td\u003e\n      \u003ctd\u003e89.50\u003c/td\u003e\n      \u003ctd\u003e-2.004\u003c/td\u003e\n      \u003ctd\u003e90.74\u003c/td\u003e\n      \u003ctd\u003e91.33\u003c/td\u003e\n      \u003ctd\u003e3190855\u003c/td\u003e\n      \u003ctd\u003e20181224\u003c/td\u003e\n      \u003ctd\u003e0\u003c/td\u003e\n      \u003ctd\u003e387\u003c/td\u003e\n      \u003ctd\u003e4.4431\u003c/td\u003e\n      \u003ctd\u003e4.8634\u003c/td\u003e\n    \u003c/tr\u003e\n    \u003ctr\u003e\n      \u003cth\u003e2018-12-26\u003c/th\u003e\n      \u003ctd\u003e93.84\u003c/td\u003e\n      \u003ctd\u003e93.89\u003c/td\u003e\n      \u003ctd\u003e89.05\u003c/td\u003e\n      \u003ctd\u003e4.849\u003c/td\u003e\n      \u003ctd\u003e89.85\u003c/td\u003e\n      \u003ctd\u003e89.50\u003c/td\u003e\n      \u003ctd\u003e5383666\u003c/td\u003e\n      \u003ctd\u003e20181226\u003c/td\u003e\n      \u003ctd\u003e2\u003c/td\u003e\n      \u003ctd\u003e388\u003c/td\u003e\n      \u003ctd\u003e4.4792\u003c/td\u003e\n      \u003ctd\u003e4.8603\u003c/td\u003e\n    \u003c/tr\u003e\n    \u003ctr\u003e\n      \u003cth\u003e2018-12-27\u003c/th\u003e\n      \u003ctd\u003e93.84\u003c/td\u003e\n      \u003ctd\u003e93.89\u003c/td\u003e\n      \u003ctd\u003e89.05\u003c/td\u003e\n      \u003ctd\u003e0.000\u003c/td\u003e\n      \u003ctd\u003e89.85\u003c/td\u003e\n      \u003ctd\u003e93.84\u003c/td\u003e\n      \u003ctd\u003e5383666\u003c/td\u003e\n      \u003ctd\u003e20181227\u003c/td\u003e\n      \u003ctd\u003e3\u003c/td\u003e\n      \u003ctd\u003e389\u003c/td\u003e\n      \u003ctd\u003e4.5120\u003c/td\u003e\n      \u003ctd\u003e4.8576\u003c/td\u003e\n    \u003c/tr\u003e\n    \u003ctr\u003e\n      \u003cth\u003e2018-12-28\u003c/th\u003e\n      \u003ctd\u003e93.84\u003c/td\u003e\n      \u003ctd\u003e93.89\u003c/td\u003e\n      \u003ctd\u003e89.05\u003c/td\u003e\n      \u003ctd\u003e0.000\u003c/td\u003e\n      \u003ctd\u003e89.85\u003c/td\u003e\n      \u003ctd\u003e93.84\u003c/td\u003e\n      \u003ctd\u003e5383666\u003c/td\u003e\n      \u003ctd\u003e20181228\u003c/td\u003e\n      \u003ctd\u003e4\u003c/td\u003e\n      \u003ctd\u003e390\u003c/td\u003e\n      \u003ctd\u003e4.5418\u003c/td\u003e\n      \u003ctd\u003e4.8552\u003c/td\u003e\n    \u003c/tr\u003e\n    \u003ctr\u003e\n      \u003cth\u003e2018-12-31\u003c/th\u003e\n      \u003ctd\u003e93.84\u003c/td\u003e\n      \u003ctd\u003e93.89\u003c/td\u003e\n      \u003ctd\u003e89.05\u003c/td\u003e\n      \u003ctd\u003e0.000\u003c/td\u003e\n      \u003ctd\u003e89.85\u003c/td\u003e\n      \u003ctd\u003e93.84\u003c/td\u003e\n      \u003ctd\u003e5383666\u003c/td\u003e\n      \u003ctd\u003e20181231\u003c/td\u003e\n      \u003ctd\u003e0\u003c/td\u003e\n      \u003ctd\u003e391\u003c/td\u003e\n      \u003ctd\u003e4.5689\u003c/td\u003e\n      \u003ctd\u003e4.8532\u003c/td\u003e\n    \u003c/tr\u003e\n  \u003c/tbody\u003e\n\u003c/table\u003e\n\u003c/div\u003e"
          },
          "metadata": {},
          "output_type": "execute_result",
          "execution_count": 15
        }
      ],
      "source": "\nimport pandas as pd\n\nlocal_df \u003d pd.read_csv(\u0027../gen/{}_df.csv\u0027.format(symbol),\n                           parse_dates\u003dTrue,\n                           index_col\u003d0)\n\nlocal_df.tail()\n",
      "metadata": {
        "pycharm": {
          "metadata": false,
          "name": "#%%\n",
          "is_executing": false
        }
      }
    },
    {
      "cell_type": "markdown",
      "source": "\n# DataFrame Info\n",
      "metadata": {
        "pycharm": {
          "metadata": false
        }
      }
    },
    {
      "cell_type": "code",
      "execution_count": 16,
      "outputs": [
        {
          "name": "stdout",
          "text": [
            "\u003cclass \u0027pandas.core.frame.DataFrame\u0027\u003e\nDatetimeIndex: 392 entries, 2017-06-12 to 2018-12-31\nData columns (total 12 columns):\nclose        392 non-null float64\nhigh         392 non-null float64\nlow          392 non-null float64\np_change     392 non-null float64\nopen         392 non-null float64\npre_close    392 non-null float64\nvolume       392 non-null int64\ndate         392 non-null int64\ndate_week    392 non-null int64\nkey          392 non-null int64\natr21        392 non-null float64\natr14        392 non-null float64\ndtypes: float64(8), int64(4)\nmemory usage: 39.8 KB\n"
          ],
          "output_type": "stream"
        }
      ],
      "source": "\nlocal_df.info()\n",
      "metadata": {
        "pycharm": {
          "metadata": false,
          "name": "#%%\n",
          "is_executing": false
        }
      }
    },
    {
      "cell_type": "markdown",
      "source": "\n# DataFrame Description\n",
      "metadata": {
        "pycharm": {
          "metadata": false
        }
      }
    },
    {
      "cell_type": "code",
      "execution_count": 17,
      "outputs": [
        {
          "data": {
            "text/plain": "          close      high       low  p_change      open  pre_close  \\\ncount  392.0000  392.0000  392.0000  392.0000  392.0000   392.0000   \nmean    96.9137   97.6636   96.1113    0.0472   96.8908    96.8799   \nstd      7.5567    7.6693    7.4432    1.2814    7.5910     7.6018   \nmin     80.1700   80.7300   79.6200   -5.6300   80.1100    80.1700   \n25%     91.9475   93.2175   91.0375   -0.4730   91.7900    91.9075   \n50%     98.3100   99.0400   97.4600    0.0715   98.3900    98.3100   \n75%    101.5800  102.4350  100.8525    0.7170  101.6675   101.5800   \nmax    112.8900  113.1800  110.7600    4.8490  111.8600   112.8900   \n\n           volume        date  date_week       key     atr21     atr14  \ncount  3.9200e+02  3.9200e+02   392.0000  392.0000  392.0000  392.0000  \nmean   3.2720e+06  2.0177e+07     2.0255  195.5000    1.9464    1.9730  \nstd    1.6991e+06  4.6890e+03     1.4104  113.3049    0.7754    0.8445  \nmin    1.2923e+04  2.0171e+07     0.0000    0.0000    0.7224    0.7211  \n25%    2.4239e+06  2.0171e+07     1.0000   97.7500    1.3304    1.3398  \n50%    3.1399e+06  2.0180e+07     2.0000  195.5000    1.7465    1.7522  \n75%    4.0207e+06  2.0181e+07     3.0000  293.2500    2.5267    2.4755  \nmax    1.2306e+07  2.0181e+07     4.0000  391.0000    4.5689    4.8634  ",
            "text/html": "\u003cdiv\u003e\n\u003cstyle scoped\u003e\n    .dataframe tbody tr th:only-of-type {\n        vertical-align: middle;\n    }\n\n    .dataframe tbody tr th {\n        vertical-align: top;\n    }\n\n    .dataframe thead th {\n        text-align: right;\n    }\n\u003c/style\u003e\n\u003ctable border\u003d\"1\" class\u003d\"dataframe\"\u003e\n  \u003cthead\u003e\n    \u003ctr style\u003d\"text-align: right;\"\u003e\n      \u003cth\u003e\u003c/th\u003e\n      \u003cth\u003eclose\u003c/th\u003e\n      \u003cth\u003ehigh\u003c/th\u003e\n      \u003cth\u003elow\u003c/th\u003e\n      \u003cth\u003ep_change\u003c/th\u003e\n      \u003cth\u003eopen\u003c/th\u003e\n      \u003cth\u003epre_close\u003c/th\u003e\n      \u003cth\u003evolume\u003c/th\u003e\n      \u003cth\u003edate\u003c/th\u003e\n      \u003cth\u003edate_week\u003c/th\u003e\n      \u003cth\u003ekey\u003c/th\u003e\n      \u003cth\u003eatr21\u003c/th\u003e\n      \u003cth\u003eatr14\u003c/th\u003e\n    \u003c/tr\u003e\n  \u003c/thead\u003e\n  \u003ctbody\u003e\n    \u003ctr\u003e\n      \u003cth\u003ecount\u003c/th\u003e\n      \u003ctd\u003e392.0000\u003c/td\u003e\n      \u003ctd\u003e392.0000\u003c/td\u003e\n      \u003ctd\u003e392.0000\u003c/td\u003e\n      \u003ctd\u003e392.0000\u003c/td\u003e\n      \u003ctd\u003e392.0000\u003c/td\u003e\n      \u003ctd\u003e392.0000\u003c/td\u003e\n      \u003ctd\u003e3.9200e+02\u003c/td\u003e\n      \u003ctd\u003e3.9200e+02\u003c/td\u003e\n      \u003ctd\u003e392.0000\u003c/td\u003e\n      \u003ctd\u003e392.0000\u003c/td\u003e\n      \u003ctd\u003e392.0000\u003c/td\u003e\n      \u003ctd\u003e392.0000\u003c/td\u003e\n    \u003c/tr\u003e\n    \u003ctr\u003e\n      \u003cth\u003emean\u003c/th\u003e\n      \u003ctd\u003e96.9137\u003c/td\u003e\n      \u003ctd\u003e97.6636\u003c/td\u003e\n      \u003ctd\u003e96.1113\u003c/td\u003e\n      \u003ctd\u003e0.0472\u003c/td\u003e\n      \u003ctd\u003e96.8908\u003c/td\u003e\n      \u003ctd\u003e96.8799\u003c/td\u003e\n      \u003ctd\u003e3.2720e+06\u003c/td\u003e\n      \u003ctd\u003e2.0177e+07\u003c/td\u003e\n      \u003ctd\u003e2.0255\u003c/td\u003e\n      \u003ctd\u003e195.5000\u003c/td\u003e\n      \u003ctd\u003e1.9464\u003c/td\u003e\n      \u003ctd\u003e1.9730\u003c/td\u003e\n    \u003c/tr\u003e\n    \u003ctr\u003e\n      \u003cth\u003estd\u003c/th\u003e\n      \u003ctd\u003e7.5567\u003c/td\u003e\n      \u003ctd\u003e7.6693\u003c/td\u003e\n      \u003ctd\u003e7.4432\u003c/td\u003e\n      \u003ctd\u003e1.2814\u003c/td\u003e\n      \u003ctd\u003e7.5910\u003c/td\u003e\n      \u003ctd\u003e7.6018\u003c/td\u003e\n      \u003ctd\u003e1.6991e+06\u003c/td\u003e\n      \u003ctd\u003e4.6890e+03\u003c/td\u003e\n      \u003ctd\u003e1.4104\u003c/td\u003e\n      \u003ctd\u003e113.3049\u003c/td\u003e\n      \u003ctd\u003e0.7754\u003c/td\u003e\n      \u003ctd\u003e0.8445\u003c/td\u003e\n    \u003c/tr\u003e\n    \u003ctr\u003e\n      \u003cth\u003emin\u003c/th\u003e\n      \u003ctd\u003e80.1700\u003c/td\u003e\n      \u003ctd\u003e80.7300\u003c/td\u003e\n      \u003ctd\u003e79.6200\u003c/td\u003e\n      \u003ctd\u003e-5.6300\u003c/td\u003e\n      \u003ctd\u003e80.1100\u003c/td\u003e\n      \u003ctd\u003e80.1700\u003c/td\u003e\n      \u003ctd\u003e1.2923e+04\u003c/td\u003e\n      \u003ctd\u003e2.0171e+07\u003c/td\u003e\n      \u003ctd\u003e0.0000\u003c/td\u003e\n      \u003ctd\u003e0.0000\u003c/td\u003e\n      \u003ctd\u003e0.7224\u003c/td\u003e\n      \u003ctd\u003e0.7211\u003c/td\u003e\n    \u003c/tr\u003e\n    \u003ctr\u003e\n      \u003cth\u003e25%\u003c/th\u003e\n      \u003ctd\u003e91.9475\u003c/td\u003e\n      \u003ctd\u003e93.2175\u003c/td\u003e\n      \u003ctd\u003e91.0375\u003c/td\u003e\n      \u003ctd\u003e-0.4730\u003c/td\u003e\n      \u003ctd\u003e91.7900\u003c/td\u003e\n      \u003ctd\u003e91.9075\u003c/td\u003e\n      \u003ctd\u003e2.4239e+06\u003c/td\u003e\n      \u003ctd\u003e2.0171e+07\u003c/td\u003e\n      \u003ctd\u003e1.0000\u003c/td\u003e\n      \u003ctd\u003e97.7500\u003c/td\u003e\n      \u003ctd\u003e1.3304\u003c/td\u003e\n      \u003ctd\u003e1.3398\u003c/td\u003e\n    \u003c/tr\u003e\n    \u003ctr\u003e\n      \u003cth\u003e50%\u003c/th\u003e\n      \u003ctd\u003e98.3100\u003c/td\u003e\n      \u003ctd\u003e99.0400\u003c/td\u003e\n      \u003ctd\u003e97.4600\u003c/td\u003e\n      \u003ctd\u003e0.0715\u003c/td\u003e\n      \u003ctd\u003e98.3900\u003c/td\u003e\n      \u003ctd\u003e98.3100\u003c/td\u003e\n      \u003ctd\u003e3.1399e+06\u003c/td\u003e\n      \u003ctd\u003e2.0180e+07\u003c/td\u003e\n      \u003ctd\u003e2.0000\u003c/td\u003e\n      \u003ctd\u003e195.5000\u003c/td\u003e\n      \u003ctd\u003e1.7465\u003c/td\u003e\n      \u003ctd\u003e1.7522\u003c/td\u003e\n    \u003c/tr\u003e\n    \u003ctr\u003e\n      \u003cth\u003e75%\u003c/th\u003e\n      \u003ctd\u003e101.5800\u003c/td\u003e\n      \u003ctd\u003e102.4350\u003c/td\u003e\n      \u003ctd\u003e100.8525\u003c/td\u003e\n      \u003ctd\u003e0.7170\u003c/td\u003e\n      \u003ctd\u003e101.6675\u003c/td\u003e\n      \u003ctd\u003e101.5800\u003c/td\u003e\n      \u003ctd\u003e4.0207e+06\u003c/td\u003e\n      \u003ctd\u003e2.0181e+07\u003c/td\u003e\n      \u003ctd\u003e3.0000\u003c/td\u003e\n      \u003ctd\u003e293.2500\u003c/td\u003e\n      \u003ctd\u003e2.5267\u003c/td\u003e\n      \u003ctd\u003e2.4755\u003c/td\u003e\n    \u003c/tr\u003e\n    \u003ctr\u003e\n      \u003cth\u003emax\u003c/th\u003e\n      \u003ctd\u003e112.8900\u003c/td\u003e\n      \u003ctd\u003e113.1800\u003c/td\u003e\n      \u003ctd\u003e110.7600\u003c/td\u003e\n      \u003ctd\u003e4.8490\u003c/td\u003e\n      \u003ctd\u003e111.8600\u003c/td\u003e\n      \u003ctd\u003e112.8900\u003c/td\u003e\n      \u003ctd\u003e1.2306e+07\u003c/td\u003e\n      \u003ctd\u003e2.0181e+07\u003c/td\u003e\n      \u003ctd\u003e4.0000\u003c/td\u003e\n      \u003ctd\u003e391.0000\u003c/td\u003e\n      \u003ctd\u003e4.5689\u003c/td\u003e\n      \u003ctd\u003e4.8634\u003c/td\u003e\n    \u003c/tr\u003e\n  \u003c/tbody\u003e\n\u003c/table\u003e\n\u003c/div\u003e"
          },
          "metadata": {},
          "output_type": "execute_result",
          "execution_count": 17
        }
      ],
      "source": "\nlocal_df.describe()\n",
      "metadata": {
        "pycharm": {
          "metadata": false,
          "name": "#%%\n",
          "is_executing": false
        }
      }
    },
    {
      "cell_type": "markdown",
      "source": "\n# Visualization\n",
      "metadata": {
        "pycharm": {
          "metadata": false
        }
      }
    },
    {
      "cell_type": "code",
      "execution_count": null,
      "outputs": [],
      "source": "\nlocal_df[[\u0027close\u0027, \u0027volume\u0027]].plot(subplots\u003dTrue, style\u003d[\u0027r\u0027, \u0027g\u0027])\n",
      "metadata": {
        "pycharm": {
          "metadata": false,
          "name": "#%%\n"
        }
      }
    }
  ],
  "metadata": {
    "language_info": {
      "codemirror_mode": {
        "name": "ipython",
        "version": 2
      },
      "file_extension": ".py",
      "mimetype": "text/x-python",
      "name": "python",
      "nbconvert_exporter": "python",
      "pygments_lexer": "ipython2",
      "version": "2.7.6"
    },
    "kernelspec": {
      "name": "python3",
      "language": "python",
      "display_name": "Python 3"
    },
    "stem_cell": {
      "cell_type": "raw",
      "source": "",
      "metadata": {
        "pycharm": {
          "metadata": false
        }
      }
    }
  },
  "nbformat": 4,
  "nbformat_minor": 0
}