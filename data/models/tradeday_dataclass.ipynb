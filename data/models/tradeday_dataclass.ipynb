{
  "cells": [
    {
      "cell_type": "code",
      "execution_count": 8,
      "metadata": {
        "collapsed": true,
        "pycharm": {
          "name": "#%% This file defines a DataClass for TradeDay\n",
          "is_executing": false
        }
      },
      "outputs": [],
      "source": "from dataclasses import dataclass\nfrom datetime import date\n\n@dataclass\nclass Prices: \n    \"\"\"\n    DataClass for storing prices\n    \"\"\"\n    open: float\n    high: float\n    low: float\n    close: float\n\n@dataclass\nclass TradeDay:\n    \"\"\"\n    DataClass for storing a TradeDay\n    \"\"\"\n    symbol: str\n    date: date\n    prices: Prices\n    change \u003d lambda self : round(\n            (self.prices.close - self.prices.open) / self.prices.open, \n            4)\n"
    }
  ],
  "metadata": {
    "language_info": {
      "codemirror_mode": {
        "name": "ipython",
        "version": 2
      },
      "file_extension": ".py",
      "mimetype": "text/x-python",
      "name": "python",
      "nbconvert_exporter": "python",
      "pygments_lexer": "ipython2",
      "version": "2.7.6"
    },
    "kernelspec": {
      "name": "python3",
      "language": "python",
      "display_name": "Python 3"
    }
  },
  "nbformat": 4,
  "nbformat_minor": 0
}