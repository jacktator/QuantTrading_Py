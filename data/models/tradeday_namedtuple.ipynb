{
  "cells": [
    {
      "cell_type": "code",
      "execution_count": 21,
      "outputs": [],
      "source": "from typing import NamedTuple\nfrom datetime import date\n\n\"\"\"\nNamedTuple for storing prices\n\"\"\"\nclass Prices(NamedTuple(\"Prices\", \n                         [(\u0027open\u0027, float), \n                          (\u0027high\u0027, float), \n                          (\u0027low\u0027, float), \n                          (\u0027close\u0027, float)])):\n    pass\n\"\"\"\nNamedTuple for storing a TradeDay\n\"\"\"\nclass TradeDay(NamedTuple(\"TradeDay\", \n                          ((\"symbol\", str), \n                           (\"date\", date), \n                           (\"prices\", Prices)))):\n    @property\n    def change(self):\n        return round(\n            (self.prices.close - self.prices.open) / self.prices.open, \n            4)\n",
      "metadata": {
        "pycharm": {
          "metadata": false,
          "name": "#%% This file defines a NamedTuple for TradeDay\n",
          "is_executing": false
        }
      }
    }
  ],
  "metadata": {
    "language_info": {
      "codemirror_mode": {
        "name": "ipython",
        "version": 2
      },
      "file_extension": ".py",
      "mimetype": "text/x-python",
      "name": "python",
      "nbconvert_exporter": "python",
      "pygments_lexer": "ipython2",
      "version": "2.7.6"
    },
    "kernelspec": {
      "name": "python3",
      "language": "python",
      "display_name": "Python 3"
    },
    "stem_cell": {
      "cell_type": "raw",
      "source": "",
      "metadata": {
        "pycharm": {
          "metadata": false
        }
      }
    }
  },
  "nbformat": 4,
  "nbformat_minor": 0
}