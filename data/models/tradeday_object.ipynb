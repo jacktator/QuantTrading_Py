{
  "cells": [
    {
      "cell_type": "code",
      "execution_count": 15,
      "metadata": {
        "collapsed": true,
        "pycharm": {
          "name": "#%% This file defines a Object for TradeDay\n",
          "is_executing": false
        }
      },
      "outputs": [],
      "source": "from datetime import date\n\nclass Prices(object):\n    \n    def __init__(self,\n                 the_open: float,  \n                 the_high: float, \n                 the_low: float,\n                 the_close: float):\n        \n        # Data Validation, Commented out for performance testing purpose\n        # self.__validate_data(the_open, the_high, the_low, the_close)\n        \n        # Processing Data\n        # Silence is told\n        \n        # Storing Data\n        self.open \u003d the_open\n        self.high \u003d the_high\n        self.low \u003d the_low\n        self.close \u003d the_close\n        \n    # noinspection PyMethodMayBeStatic\n    def __validate_data(self, \n                 the_open: float,  \n                 the_high: float, \n                 the_low: float,\n                 the_close: float):\n        \"\"\"\n        Validates all inputs\n        :type the_open: float\n        :type the_high: float\n        :type the_low: float\n        :type the_close: float\n        :param the_open: The opening price. This needs to be a float. \n        :param the_high: The highest price. This needs to be a float.\n        :param the_low: The lowest price. This needs to be a float.\n        :param the_close: The closing price. This needs to be a float.\n        \"\"\"\n        if (not isinstance(the_open, float) and not isinstance(the_open, int)) or \\\n         (not isinstance(the_high, float) and not isinstance(the_high, int)) or \\\n         (not isinstance(the_low, float) and not isinstance(the_low, int)) or \\\n         (not isinstance(the_close, float) and not isinstance(the_close, int)):\n            raise Exception(\"\u0027open\u0027, \u0027close\u0027, \u0027high\u0027, \u0027low\u0027 must be a float. \")\n\n        if the_low \u003e the_high:\n            raise Exception(\"\u0027low\u0027 must be lower or equal to \u0027high\u0027. \")\n        \n    def __str__(self):\n        return str(\"Prices(open: {}, high: {}, low: {}, close: {})\".format(\n            self.open, \n            self.high, \n            self.low, \n            self.close))\n    \n    __repr__ \u003d __str__\n\n    def __hash__(self) -\u003e int:\n        return hash((self.open, self.high, self.low, self.close))\n\n\nclass TradeDay(object):\n    \n    def __init__(self, \n                 the_symbol: str,\n                 the_date: date,\n                 the_prices: Prices):\n        \"\"\"\n        Initialize a TradeDay object\n        :type the_symbol: str\n        :type the_date: date\n        :type the_prices: Prices\n        :param the_symbol: The asset symbol\n        :param the_date: The date\n        :param the_prices: The Prices object.\n        \"\"\"\n        \n        # Data Validation, Commented out for performance testing purpose\n        # self.__validate_data(the_symbol, the_date, the_prices)\n        \n        # Processing Data\n        \"\"\"\n        The following function was commented out in favor of lambda \n        \"\"\"\n        # the_change \u003d round(\n        #             (the_close - the_open) / the_open, \n        #             4)\n            \n        # Storing Data\n        self.symbol \u003d the_symbol\n        self.date \u003d the_date\n        self.prices \u003d the_prices\n        self.change \u003d lambda : round(\n            (self.prices.close - self.prices.open) / self.prices.open, \n            4)\n        \n    # noinspection PyMethodMayBeStatic\n    def __validate_data(self, \n                        the_symbol: str,\n                        the_date: date,\n                        the_prices: Prices):\n        \"\"\"\n        Validates all inputs\n        :type the_symbol: str\n        :type the_date: date\n        :param the_symbol: The asset symbol\n        :param the_date: The date\n        \"\"\"\n        if not isinstance(the_symbol, str):\n            raise Exception(\"\u0027symbol\u0027 must be a str\")\n        if not isinstance(the_date, date):\n            raise Exception(\"\u0027date\u0027 must be a date\")\n        if not isinstance(the_prices, Prices):\n            raise Exception(\"\u0027date\u0027 must be a date\")\n        \n    def __str__(self):\n        return str(\"TradeDay(symbol: {}, date: {}, prices: {}, change: {})\".format(\n            self.symbol, \n            self.date, \n            self.prices, \n            self.change))\n    \n    __repr__ \u003d __str__\n\n    def __hash__(self) -\u003e int:\n        return hash((self.symbol, self.date, self.prices, self.change))\n  "
    }
  ],
  "metadata": {
    "language_info": {
      "codemirror_mode": {
        "name": "ipython",
        "version": 2
      },
      "file_extension": ".py",
      "mimetype": "text/x-python",
      "name": "python",
      "nbconvert_exporter": "python",
      "pygments_lexer": "ipython2",
      "version": "2.7.6"
    },
    "kernelspec": {
      "name": "python3",
      "language": "python",
      "display_name": "Python 3"
    }
  },
  "nbformat": 4,
  "nbformat_minor": 0
}