{
  "cells": [
    {
      "cell_type": "markdown",
      "metadata": {
        "pycharm": {
          "metadata": false
        }
      },
      "source": "# Import Data\n\nFor this purpose, this strategy will attemp to trade 3 instruments\n\n1. AUDUSD H4 - Liquid, Low Volatility\n1. AUDUSD D1 - Liquid, Low Volatility\n1. EURUSD H4 - Liquid, Mid Volatility\n1. EURUSD D1 - Liquid, Mid Volatility\n1. GBPUSD H4 - Liquid, Extreme Volatility\n1. GBPUSD D1 - Liquid, High Volatility\n1. Wirdcard D1 - Illiquid, High Volatility\n\n## AUDUSD D1\n"
    },
    {
      "cell_type": "code",
      "execution_count": 1,
      "metadata": {
        "pycharm": {
          "is_executing": false,
          "metadata": false,
          "name": "#%%\n"
        }
      },
      "outputs": [
        {
          "name": "stdout",
          "text": [
            "importing Jupyter notebook from strategy_sv.ipynb\n",
            "Plotting 288 results for trade days\n",
            "SHORT 2018-07-19 - 2018-07-20\nLONG 2018-07-20 - 2018-07-23\nSHORT 2018-07-23 - 2018-07-25\nLONG 2018-07-25 - 2018-07-26\nSHORT 2018-07-26 - 2018-07-29\nLONG 2018-07-29 - 2018-08-01\nSHORT 2018-08-01 - 2018-08-05\nLONG 2018-08-05 - 2018-08-06\nSHORT 2018-08-06 - 2018-08-07\nLONG 2018-08-07 - 2018-08-09\nSHORT 2018-08-09 - 2018-08-16\nLONG 2018-08-16 - 2018-08-23\nSHORT 2018-08-23 - 2018-08-26\nLONG 2018-08-26 - 2018-08-29\nSHORT 2018-08-29 - 2018-09-03\nLONG 2018-09-03 - 2018-09-04\nSHORT 2018-09-04 - 2018-09-06\nLONG 2018-09-06 - 2018-09-07\nSHORT 2018-09-07 - 2018-09-10\nLONG 2018-09-10 - 2018-09-14\nSHORT 2018-09-14 - 2018-09-17\nLONG 2018-09-17 - 2018-09-23\nSHORT 2018-09-23 - 2018-09-26\nLONG 2018-09-26 - 2018-09-27\nSHORT 2018-09-27 - 2018-09-30\nLONG 2018-09-30 - 2018-10-02\nSHORT 2018-10-02 - 2018-10-08\nLONG 2018-10-08 - 2018-10-10\nSHORT 2018-10-10 - 2018-10-11\nLONG 2018-10-11 - 2018-10-14\nSHORT 2018-10-14 - 2018-10-15\nLONG 2018-10-15 - 2018-10-17\nSHORT 2018-10-17 - 2018-10-19\nLONG 2018-10-19 - 2018-10-22\nSHORT 2018-10-22 - 2018-10-25\nCLOSE 2018-10-26\nLONG 2018-10-26 - 2018-10-29\nSHORT 2018-10-29 - 2018-10-30\nCLOSE 2018-10-31\nLONG 2018-10-31 - 2018-11-04\nSHORT 2018-11-04 - 2018-11-05\nLONG 2018-11-05 - 2018-11-09\nSHORT 2018-11-09 - 2018-11-13\nLONG 2018-11-13 - 2018-11-19\nSHORT 2018-11-19 - 2018-11-22\nLONG 2018-11-22 - 2018-11-23\nSHORT 2018-11-23 - 2018-11-28\nLONG 2018-11-28 - 2018-11-30\nCLOSE 2018-12-02\nLONG 2018-12-02 - 2018-12-04\nSHORT 2018-12-04 - 2018-12-11\nLONG 2018-12-11 - 2018-12-14\nSHORT 2018-12-14 - 2018-12-18\nLONG 2018-12-18 - 2018-12-19\nSHORT 2018-12-19 - 2018-12-24\nLONG 2018-12-24 - 2018-12-25\nCLOSE 2018-12-26\nLONG 2018-12-26 - 2018-12-27\nSHORT 2018-12-27 - 2018-12-30\nLONG 2018-12-30 - 2019-01-01\nCLOSE 2019-01-02\nSHORT 2019-01-02 - 2019-01-04\nLONG 2019-01-04 - 2019-01-14\nSHORT 2019-01-14 - 2019-01-25\nLONG 2019-01-25 - 2019-01-28\nSHORT 2019-01-28 - 2019-01-30\n",
            "LONG 2019-01-30 - 2019-02-03\nSHORT 2019-02-03 - 2019-02-12\nLONG 2019-02-12 - 2019-02-18\nSHORT 2019-02-18 - 2019-02-19\nLONG 2019-02-19 - 2019-02-21\nSHORT 2019-02-21 - 2019-02-24\nLONG 2019-02-24 - 2019-02-27\nSHORT 2019-02-27 - 2019-03-03\nCLOSE 2019-03-04\nLONG 2019-03-04 - 2019-03-05\nSHORT 2019-03-05 - 2019-03-08\nLONG 2019-03-08 - 2019-03-14\nSHORT 2019-03-14 - 2019-03-17\nLONG 2019-03-17 - 2019-03-22\nSHORT 2019-03-22 - 2019-03-25\nLONG 2019-03-25 - 2019-03-27\nSHORT 2019-03-27 - 2019-03-29\nLONG 2019-03-29 - 2019-04-02\nSHORT 2019-04-02 - 2019-04-03\nLONG 2019-04-03 - 2019-04-05\nSHORT 2019-04-05 - 2019-04-08\nLONG 2019-04-08 - 2019-04-11\nCLOSE 2019-04-14\nLONG 2019-04-14 - 2019-04-15\nCLOSE 2019-04-16\nSHORT 2019-04-16 - 2019-04-17\nLONG 2019-04-17 - 2019-04-18\nSHORT 2019-04-18 - 2019-04-21\nCLOSE 2019-04-22\nSHORT 2019-04-22 - 2019-04-26\nLONG 2019-04-26 - 2019-04-30\nCLOSE 2019-05-01\nSHORT 2019-05-01 - 2019-05-03\nLONG 2019-05-03 - 2019-05-05\nSHORT 2019-05-05 - 2019-05-07\nLONG 2019-05-07 - 2019-05-09\nSHORT 2019-05-09 - 2019-05-10\nLONG 2019-05-10 - 2019-05-13\nSHORT 2019-05-13 - 2019-05-19\nCLOSE 2019-05-20\nLONG 2019-05-20 - 2019-05-21\nSHORT 2019-05-21 - 2019-05-23\nLONG 2019-05-23 - 2019-05-27\nSHORT 2019-05-27 - 2019-05-29\nCLOSE 2019-05-30\nSHORT 2019-05-30 - 2019-05-31\nLONG 2019-05-31 - 2019-06-05\nSHORT 2019-06-05 - 2019-06-07\nLONG 2019-06-07 - 2019-06-09\n",
            "In the latest 288 trading days, StrategySV resulted $70276.56, or 281.11%\n"
          ],
          "output_type": "stream"
        },
        {
          "name": "stderr",
          "text": [
            "/Library/Frameworks/Python.framework/Versions/3.7/lib/python3.7/site-packages/pandas/plotting/_converter.py:129: FutureWarning: Using an implicitly registered datetime converter for a matplotlib plotting method. The converter was registered by pandas on import. Future versions of pandas will require you to explicitly register matplotlib converters.\n\nTo register the converters:\n\t\u003e\u003e\u003e from pandas.plotting import register_matplotlib_converters\n\t\u003e\u003e\u003e register_matplotlib_converters()\n  warnings.warn(msg, FutureWarning)\n"
          ],
          "output_type": "stream"
        },
        {
          "data": {
            "text/plain": "      timestamp    open    high     low   close  pre_close  p_change  \\\n287  2018-07-19  0.7397  0.7442  0.7320  0.7356     0.7397 -0.005543   \n286  2018-07-20  0.7356  0.7431  0.7315  0.7422     0.7356  0.008972   \n285  2018-07-22  0.7417  0.7432  0.7410  0.7431     0.7422  0.001213   \n284  2018-07-23  0.7431  0.7438  0.7369  0.7382     0.7431 -0.006594   \n283  2018-07-24  0.7382  0.7434  0.7357  0.7423     0.7382  0.005554   \n\n     pip_change      profit    slope  velocity position  \n287  -55.427876  538.278762 -0.00410  0.005350    SHORT  \n286   89.722675  881.226754  0.00125  0.003925     LONG  \n285   12.126112  105.261116  0.00375 -0.001625     LONG  \n284  -65.939981  643.399812 -0.00200 -0.002075    SHORT  \n283   55.540504 -571.405039 -0.00040  0.002675    SHORT  ",
            "text/html": "\u003cdiv\u003e\n\u003cstyle scoped\u003e\n    .dataframe tbody tr th:only-of-type {\n        vertical-align: middle;\n    }\n\n    .dataframe tbody tr th {\n        vertical-align: top;\n    }\n\n    .dataframe thead th {\n        text-align: right;\n    }\n\u003c/style\u003e\n\u003ctable border\u003d\"1\" class\u003d\"dataframe\"\u003e\n  \u003cthead\u003e\n    \u003ctr style\u003d\"text-align: right;\"\u003e\n      \u003cth\u003e\u003c/th\u003e\n      \u003cth\u003etimestamp\u003c/th\u003e\n      \u003cth\u003eopen\u003c/th\u003e\n      \u003cth\u003ehigh\u003c/th\u003e\n      \u003cth\u003elow\u003c/th\u003e\n      \u003cth\u003eclose\u003c/th\u003e\n      \u003cth\u003epre_close\u003c/th\u003e\n      \u003cth\u003ep_change\u003c/th\u003e\n      \u003cth\u003epip_change\u003c/th\u003e\n      \u003cth\u003eprofit\u003c/th\u003e\n      \u003cth\u003eslope\u003c/th\u003e\n      \u003cth\u003evelocity\u003c/th\u003e\n      \u003cth\u003eposition\u003c/th\u003e\n    \u003c/tr\u003e\n  \u003c/thead\u003e\n  \u003ctbody\u003e\n    \u003ctr\u003e\n      \u003cth\u003e287\u003c/th\u003e\n      \u003ctd\u003e2018-07-19\u003c/td\u003e\n      \u003ctd\u003e0.7397\u003c/td\u003e\n      \u003ctd\u003e0.7442\u003c/td\u003e\n      \u003ctd\u003e0.7320\u003c/td\u003e\n      \u003ctd\u003e0.7356\u003c/td\u003e\n      \u003ctd\u003e0.7397\u003c/td\u003e\n      \u003ctd\u003e-0.005543\u003c/td\u003e\n      \u003ctd\u003e-55.427876\u003c/td\u003e\n      \u003ctd\u003e538.278762\u003c/td\u003e\n      \u003ctd\u003e-0.00410\u003c/td\u003e\n      \u003ctd\u003e0.005350\u003c/td\u003e\n      \u003ctd\u003eSHORT\u003c/td\u003e\n    \u003c/tr\u003e\n    \u003ctr\u003e\n      \u003cth\u003e286\u003c/th\u003e\n      \u003ctd\u003e2018-07-20\u003c/td\u003e\n      \u003ctd\u003e0.7356\u003c/td\u003e\n      \u003ctd\u003e0.7431\u003c/td\u003e\n      \u003ctd\u003e0.7315\u003c/td\u003e\n      \u003ctd\u003e0.7422\u003c/td\u003e\n      \u003ctd\u003e0.7356\u003c/td\u003e\n      \u003ctd\u003e0.008972\u003c/td\u003e\n      \u003ctd\u003e89.722675\u003c/td\u003e\n      \u003ctd\u003e881.226754\u003c/td\u003e\n      \u003ctd\u003e0.00125\u003c/td\u003e\n      \u003ctd\u003e0.003925\u003c/td\u003e\n      \u003ctd\u003eLONG\u003c/td\u003e\n    \u003c/tr\u003e\n    \u003ctr\u003e\n      \u003cth\u003e285\u003c/th\u003e\n      \u003ctd\u003e2018-07-22\u003c/td\u003e\n      \u003ctd\u003e0.7417\u003c/td\u003e\n      \u003ctd\u003e0.7432\u003c/td\u003e\n      \u003ctd\u003e0.7410\u003c/td\u003e\n      \u003ctd\u003e0.7431\u003c/td\u003e\n      \u003ctd\u003e0.7422\u003c/td\u003e\n      \u003ctd\u003e0.001213\u003c/td\u003e\n      \u003ctd\u003e12.126112\u003c/td\u003e\n      \u003ctd\u003e105.261116\u003c/td\u003e\n      \u003ctd\u003e0.00375\u003c/td\u003e\n      \u003ctd\u003e-0.001625\u003c/td\u003e\n      \u003ctd\u003eLONG\u003c/td\u003e\n    \u003c/tr\u003e\n    \u003ctr\u003e\n      \u003cth\u003e284\u003c/th\u003e\n      \u003ctd\u003e2018-07-23\u003c/td\u003e\n      \u003ctd\u003e0.7431\u003c/td\u003e\n      \u003ctd\u003e0.7438\u003c/td\u003e\n      \u003ctd\u003e0.7369\u003c/td\u003e\n      \u003ctd\u003e0.7382\u003c/td\u003e\n      \u003ctd\u003e0.7431\u003c/td\u003e\n      \u003ctd\u003e-0.006594\u003c/td\u003e\n      \u003ctd\u003e-65.939981\u003c/td\u003e\n      \u003ctd\u003e643.399812\u003c/td\u003e\n      \u003ctd\u003e-0.00200\u003c/td\u003e\n      \u003ctd\u003e-0.002075\u003c/td\u003e\n      \u003ctd\u003eSHORT\u003c/td\u003e\n    \u003c/tr\u003e\n    \u003ctr\u003e\n      \u003cth\u003e283\u003c/th\u003e\n      \u003ctd\u003e2018-07-24\u003c/td\u003e\n      \u003ctd\u003e0.7382\u003c/td\u003e\n      \u003ctd\u003e0.7434\u003c/td\u003e\n      \u003ctd\u003e0.7357\u003c/td\u003e\n      \u003ctd\u003e0.7423\u003c/td\u003e\n      \u003ctd\u003e0.7382\u003c/td\u003e\n      \u003ctd\u003e0.005554\u003c/td\u003e\n      \u003ctd\u003e55.540504\u003c/td\u003e\n      \u003ctd\u003e-571.405039\u003c/td\u003e\n      \u003ctd\u003e-0.00040\u003c/td\u003e\n      \u003ctd\u003e0.002675\u003c/td\u003e\n      \u003ctd\u003eSHORT\u003c/td\u003e\n    \u003c/tr\u003e\n  \u003c/tbody\u003e\n\u003c/table\u003e\n\u003c/div\u003e"
          },
          "metadata": {},
          "output_type": "execute_result",
          "execution_count": 1
        }
      ],
      "source": "\nimport pandas as pd\nimport matplotlib.pyplot as plt\nimport import_ipynb\nfrom strategy_sv import TradeStrategySV\n\nforex_symbol \u003d \"AUDUSD\"\n\nforex_df \u003d pd.read_csv(\u0027../../data/gen/{}_Daily_df.csv\u0027.format(forex_symbol),\n                       parse_dates\u003dTrue,\n                       index_col\u003d0)\n# Strip whitespace from column names\nforex_df.columns \u003d forex_df.columns.str.strip()\n\n# Trading Parameters\nlots \u003d 1 \nleverage \u003d 400 # 400 Leverage\nmargin \u003d 0.1 # 10% Margin Interest\npip_cost \u003d 0.8 # Transaction Cost 0.8 pip\nstop_loss \u003d 2.0 # Stop Loss at 2.0 of standard deviation (so 5%)\none_trade_week \u003d 6 # 6 Trade days a week for Forex\none_trade_month \u003d one_trade_week * 4\ntwo_trade_month \u003d one_trade_month * 2\nthree_trade_month \u003d one_trade_month * 3\nhalf_trade_year \u003d three_trade_month * 2\none_trade_year \u003d half_trade_year * 2\n\nbuy_slope_threshold \u003d 0.00011578947368419412 \nbuy_velocity_threshold \u003d -0.01695000000000002\nclose_slope_threshold \u003d 0.017273684210526295\nclose_velocity_threshold \u003d 0.018381578947368395\nsell_slope_threshold \u003d -0.00011578947368419412\nsell_velocity_threshold \u003d 0.01695000000000002 \n\n# Initialize Strategy\nstrategy \u003d TradeStrategySV(leverage\u003dleverage,\n                           margin\u003dmargin,\n                           pip_cost\u003dpip_cost,\n                           buy_slope_threshold\u003dbuy_slope_threshold, \n                           buy_velocity_threshold\u003dbuy_velocity_threshold, \n                           close_slope_threshold\u003dclose_slope_threshold, \n                           close_velocity_threshold\u003dclose_velocity_threshold, \n                           sell_slope_threshold\u003dsell_slope_threshold, \n                           sell_velocity_threshold\u003dsell_velocity_threshold, \n                           should_log\u003dTrue)\n# backtest_df \u003d forex_df[:one_trade_year]\nforex_df \u003d strategy.trade(data_df\u003dforex_df, \n                          symbol\u003dforex_symbol,\n                          lots\u003dlots,\n                          stop_loss\u003dstop_loss,)\ntest_df \u003d forex_df[-one_trade_year:]\ntest_df \u003d strategy.trade(data_df\u003dtest_df, \n                         symbol\u003dforex_symbol,\n                         lots\u003dlots,\n                         stop_loss\u003dstop_loss,)\n\nfig, axs \u003d plt.subplots(figsize \u003d (int(len(test_df.index)/5),12))\n\nfig.suptitle(\u0027Algo-Trading Results\u0027, fontsize\u003d18, fontweight\u003d\u0027bold\u0027)\nstrategy.plot_trade(axs\u003daxs)\n\nfig.savefig(\u0027../gen/StrategySV_{}_Daily.png\u0027.format(forex_symbol), dpi\u003d150, bbox_inches\u003d\"tight\")\n\nprint(\"In the latest {} trading days, StrategySV resulted ${}, or {}%\".format(len(test_df.index), round(strategy.trade_profit, 2), round(strategy.trade_profit/(lots * 100000 / leverage), 2)))\n\n# Print\ntest_df.head()\n"
    },
    {
      "cell_type": "code",
      "metadata": {
        "pycharm": {
          "metadata": false,
          "name": "#%% "
        }
      },
      "source": "",
      "execution_count": null,
      "outputs": []
    }
  ],
  "metadata": {
    "kernelspec": {
      "display_name": "Python 3",
      "language": "python",
      "name": "python3"
    },
    "language_info": {
      "codemirror_mode": {
        "name": "ipython",
        "version": 3
      },
      "file_extension": ".py",
      "mimetype": "text/x-python",
      "name": "python",
      "nbconvert_exporter": "python",
      "pygments_lexer": "ipython3",
      "version": "3.7.3"
    },
    "stem_cell": {
      "cell_type": "raw",
      "metadata": {
        "pycharm": {
          "metadata": false
        }
      },
      "source": ""
    }
  },
  "nbformat": 4,
  "nbformat_minor": 1
}