{
  "cells": [
    {
      "cell_type": "code",
      "execution_count": 77,
      "outputs": [],
      "source": "# %%file strategy_1.py\nfrom collections import OrderedDict\n\nimport import_ipynb\nfrom strategy_base import TradeStrategyBase\n\nimport pandas as pd\nimport numpy as np\n\nclass TradeStrategy1(TradeStrategyBase):\n    \"\"\"\n    Trade Strategy 1: Following the trend.\n    When price rises or falls above an absolute threshold x percent (p_change_threshold), default to 2%. \n    Buy and hold for a number of days (s_keep_stock_threshold), default to  20. \n    \"\"\"\n    _p_change_threshold \u003d 0.02\n    _keep_stock_threshold \u003d 20\n    _trade_profit_array \u003d []\n    \n    def __init__(self, p_change_threshold:float \u003d 0.02, s_keep_stock_threshold:int \u003d 20):\n        \"\"\"\n        Initialize Strategy with given parameters\n        :type p_change_threshold: float\n        :type s_keep_stock_threshold: int \n        :param p_change_threshold: Absolute threshold for a stock to rise or fall through in a day. E.g. 2% \u003d 0.02 \n        :param s_keep_stock_threshold: Number of days to hold a stock. E.g. 20 days \u003d 20\n        \"\"\"\n        self._p_change_threshold \u003d p_change_threshold\n        self._keep_stock_threshold \u003d s_keep_stock_threshold\n        \n        self._held_period_days \u003d 0\n        \n    def trade(self, date:pd.Timestamp, tradeday: pd.Series):\n        \"\"\"\n        Perform Analysis, Decide on Trade, and Execute Trade\n        :type date: pd.Timestamp\n        :type tradeday: pd.Series\n        :param date: The pandas DataFrame date\n        :param tradeday: The pandas DateFrame Series representing a trade day\n        :return: \n        \"\"\"\n        \n        \"\"\"\n        First, Buying\n        \"\"\"\n        if self._evaluate_buying(date\u003ddate,\n                                 tradeday\u003dtradeday):\n            self._execute_buying(date\u003ddate,\n                                 tradeday\u003dtradeday)\n        \n        \"\"\"\n        Secondly, Selling\n        \"\"\"\n        if self._evaluate_selling(date\u003ddate,\n                                  tradeday\u003dtradeday):\n            self._execute_selling(date\u003ddate,\n                                  tradeday\u003dtradeday)\n            \n        \"\"\"\n        Lastly, Increment holding date count\n        \"\"\"\n        if self._held_period_days !\u003d 0:\n            # Is currently holding, attach p_change as profit\n            self._trade_profit_array.append(tradeday.p_change)\n            # Increment date\n            self._held_period_days +\u003d 1\n        \n        \n    def _evaluate_buying(self, date:pd.Timestamp, tradeday: pd.Series):\n        \"\"\"\n        Evaluate whether or not BUY should be executed\n        :type date: pd.Timestamp\n        :type tradeday: pd.Series\n        :param date: The pandas DataFrame date\n        :param tradeday: The pandas DateFrame Series representing a trade day\n        \"\"\"\n        trade_day: pd.Series \u003d tradeday.copy() # Create a copy() in case we need to change it.\n        if self._held_period_days \u003d\u003d 0 and \\\n                np.abs(trade_day.p_change) \u003e self._p_change_threshold:\n            # When there is no holding, and rise or fall in price had reached the above pre_defined _p_change_threshold\n            return True\n        else:\n            return False\n        \n    def _execute_buying(self, date:pd.Timestamp, tradeday: pd.Series):\n        \"\"\"\n        How BUY should be executed\n        :type date: pd.Timestamp\n        :type tradeday: pd.Series\n        :param date: The pandas DataFrame date\n        :param tradeday: The pandas DateFrame Series representing a trade day\n        \"\"\"\n        print(\"Bought on {} at ${}\".format(date, tradeday.close))\n        self._held_period_days +\u003d 1 # Start holding date count\n\n    def _evaluate_selling(self, date:pd.Timestamp, tradeday: pd.Series):\n        \"\"\"\n        Evaluate whether or not SELL should be executed\n        :type date: pd.Timestamp\n        :type tradeday: pd.Series\n        :param date: The pandas DataFrame date\n        :param tradeday: The pandas DateFrame Series representing a trade day\n        \"\"\"\n        if self._held_period_days \u003e\u003d self._keep_stock_threshold:\n            # When holding period exceeds s_keep_stock_threshold, sell stocks\n            return True\n        else:\n            return False\n            \n    def _execute_selling(self, date:pd.Timestamp, tradeday: pd.Series):\n        \"\"\"\n        How SELL should be executed\n        :type date: pd.Timestamp\n        :type tradeday: pd.Series\n        :param date: The pandas DataFrame date\n        :param tradeday: The pandas DateFrame Series representing a trade day\n        \"\"\"\n        print(\"Sold on {} at ${}. So far made {}%\".format(date, tradeday.close, round(self.trade_profit, 4)))\n        self._held_period_days \u003d 0  # Reset holding count \n        \n    @property\n    def trade_profit(self):\n        return np.sum(self._trade_profit_array)\n    \n    @property\n    def p_change_threshold(self):\n        return self._p_change_threshold\n    \n    @property\n    def keep_stock_threshold(self):\n        return self._keep_stock_threshold",
      "metadata": {
        "pycharm": {
          "metadata": false,
          "name": "#%% Trade Strategy 1: Follow the upward trend.\n",
          "is_executing": false
        }
      }
    },
    {
      "cell_type": "code",
      "execution_count": 78,
      "outputs": [
        {
          "name": "stdout",
          "text": [
            "Bought on 2017-06-05 00:00:00 at $78.97\nSold on 2017-06-30 00:00:00 at $84.24. So far made 6.375%\nBought on 2017-07-03 00:00:00 at $85.1\nSold on 2017-07-31 00:00:00 at $85.23. So far made 7.088%\nBought on 2017-08-02 00:00:00 at $85.07\nSold on 2017-08-29 00:00:00 at $85.42. So far made 7.338%\nBought on 2017-08-30 00:00:00 at $85.69\nSold on 2017-09-27 00:00:00 at $89.5. So far made 11.192%\nBought on 2017-09-28 00:00:00 at $90.14\nSold on 2017-10-25 00:00:00 at $93.53. So far made 15.99%\nBought on 2017-10-26 00:00:00 at $95.69\nSold on 2017-11-22 00:00:00 at $93.82. So far made 16.98%\nBought on 2017-11-24 00:00:00 at $93.48\nSold on 2017-12-21 00:00:00 at $98.5. So far made 21.936%\nBought on 2017-12-22 00:00:00 at $98.74\nSold on 2018-01-23 00:00:00 at $97.98. So far made 21.497%\nBought on 2018-01-24 00:00:00 at $99.3\nSold on 2018-02-21 00:00:00 at $97.5. So far made 21.233%\nBought on 2018-02-22 00:00:00 at $97.35\nSold on 2018-03-21 00:00:00 at $95.31. So far made 18.836%\nBought on 2018-03-22 00:00:00 at $91.41\nSold on 2018-04-19 00:00:00 at $102.37. So far made 22.269%\nBought on 2018-04-20 00:00:00 at $100.81\nSold on 2018-05-17 00:00:00 at $101.22. So far made 20.583%\nBought on 2018-05-18 00:00:00 at $100.99\nSold on 2018-06-15 00:00:00 at $98.52. So far made 19.13%\nBought on 2018-06-18 00:00:00 at $98.47\nSold on 2018-07-16 00:00:00 at $100.69. So far made 21.186%\nBought on 2018-07-17 00:00:00 at $101.15\nSold on 2018-08-13 00:00:00 at $101.81. So far made 22.215%\nBought on 2018-08-14 00:00:00 at $102.18\nSold on 2018-09-11 00:00:00 at $108.31. So far made 27.512%\nBought on 2018-09-12 00:00:00 at $107.88\nSold on 2018-10-09 00:00:00 at $106.66. So far made 26.338%\nBought on 2018-10-10 00:00:00 at $103.57\nSold on 2018-11-06 00:00:00 at $105.21. So far made 23.82%\nBought on 2018-11-07 00:00:00 at $107.29\nSold on 2018-12-06 00:00:00 at $108.25. So far made 26.402%\nBought on 2018-12-07 00:00:00 at $106.68\nStrategy Yielded: 12.57%\n"
          ],
          "output_type": "stream"
        }
      ],
      "source": "amex_df \u003d pd.read_csv(\u0027../../data/amex_df.csv\u0027,\n                           parse_dates\u003dTrue,\n                           index_col\u003d0)\nstrategy \u003d TradeStrategy1()\nfor date, tradeday in amex_df.iterrows():\n    strategy.trade(date\u003ddate,\n                   tradeday\u003dtradeday)\nprint(\"Strategy Yielded: {}%\".format(strategy.trade_profit))",
      "metadata": {
        "pycharm": {
          "metadata": false,
          "name": "#%% Testing Strategy\n",
          "is_executing": false
        }
      }
    },
    {
      "cell_type": "code",
      "execution_count": 59,
      "outputs": [],
      "source": "",
      "metadata": {
        "pycharm": {
          "metadata": false,
          "name": "#%%\n",
          "is_executing": false
        }
      }
    }
  ],
  "metadata": {
    "language_info": {
      "codemirror_mode": {
        "name": "ipython",
        "version": 2
      },
      "file_extension": ".py",
      "mimetype": "text/x-python",
      "name": "python",
      "nbconvert_exporter": "python",
      "pygments_lexer": "ipython2",
      "version": "2.7.6"
    },
    "kernelspec": {
      "name": "python3",
      "language": "python",
      "display_name": "Python 3"
    },
    "stem_cell": {
      "cell_type": "raw",
      "source": "",
      "metadata": {
        "pycharm": {
          "metadata": false
        }
      }
    }
  },
  "nbformat": 4,
  "nbformat_minor": 0
}