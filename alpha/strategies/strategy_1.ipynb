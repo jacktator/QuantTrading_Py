{
  "cells": [
    {
      "cell_type": "code",
      "execution_count": 1,
      "outputs": [
        {
          "name": "stdout",
          "text": [
            "importing Jupyter notebook from strategy_base.ipynb\n"
          ],
          "output_type": "stream"
        }
      ],
      "source": "# %%file strategy_1.py\n\nimport import_ipynb\nfrom strategy_base import TradeStrategyBase\n\nimport pandas as pd\nimport numpy as np\n\nclass TradeStrategy1(TradeStrategyBase):\n    \"\"\"\n    Trade Strategy 1: Following the trend.\n    When price rises or falls above an absolute threshold x percent (p_change_threshold), default to 2%. \n    Buy and hold for a number of days (s_keep_stock_threshold), default to  20. \n    \"\"\"\n    _p_change_threshold \u003d 0.02\n    _keep_stock_threshold \u003d 20\n    _profit_array \u003d np.array(0)\n    \n    def __init__(self, p_change_threshold:float \u003d 0.02, s_keep_stock_threshold:int \u003d 20, should_log:bool \u003d False, should_plot:bool \u003d False):\n        \"\"\"\n        Initialize Strategy with given parameters\n        :type p_change_threshold: float\n        :type s_keep_stock_threshold: int \n        :type should_log: bool\n        :type should_plot: bool\n        :param p_change_threshold: Absolute threshold for a stock to rise or fall through in a day. E.g. 2% \u003d 0.02 \n        :param s_keep_stock_threshold: Number of days to hold a stock. E.g. 20 days \u003d 20\n        :param should_log Whether or not log the strategy\n        :param should_plot Whether or not plot the strategy\n        \"\"\"\n        self._p_change_threshold \u003d p_change_threshold\n        self._keep_stock_threshold \u003d s_keep_stock_threshold\n        self._should_log \u003d should_log\n        self._should_plot \u003d should_plot\n        \n        self._profit_array \u003d np.array(0)\n        self._held_period_days \u003d 0\n        \n    def trade(self, date:pd.Timestamp, tradeday: pd.Series):\n        \"\"\"\n        Perform Analysis, Decide on Trade, and Execute Trade\n        :type date: pd.Timestamp\n        :type tradeday: pd.Series\n        :param date: The pandas DataFrame date\n        :param tradeday: The pandas DateFrame Series representing a trade day\n        :return: \n        \"\"\"\n        \n        \"\"\"\n        First, Buying\n        \"\"\"\n        if self._evaluate_buying(date\u003ddate,\n                                 tradeday\u003dtradeday):\n            self._execute_buying(date\u003ddate,\n                                 tradeday\u003dtradeday)\n        \n        \"\"\"\n        Secondly, Selling\n        \"\"\"\n        if self._evaluate_selling(date\u003ddate,\n                                  tradeday\u003dtradeday):\n            self._execute_selling(date\u003ddate,\n                                  tradeday\u003dtradeday)\n            \n        \"\"\"\n        Lastly, Increment holding date count\n        \"\"\"\n        if self._held_period_days !\u003d 0:\n            # Is currently holding, attach p_change as profit\n            self._held_tradedays.append(tradeday)\n            self._profit_array \u003d np.append(self._profit_array, tradeday.p_change)\n            # Increment date\n            self._held_period_days +\u003d 1\n        \n        \n    def _evaluate_buying(self, date:pd.Timestamp, tradeday: pd.Series):\n        \"\"\"\n        Evaluate whether or not BUY should be executed\n        :type date: pd.Timestamp\n        :type tradeday: pd.Series\n        :param date: The pandas DataFrame date\n        :param tradeday: The pandas DateFrame Series representing a trade day\n        \"\"\"\n        trade_day: pd.Series \u003d tradeday.copy() # Create a copy() in case we need to change it.\n        if self._held_period_days \u003d\u003d 0 and \\\n                np.abs(trade_day.p_change) \u003e self._p_change_threshold:\n            # When there is no holding, and rise or fall in price had reached the above pre_defined _p_change_threshold\n            return True\n        else:\n            return False\n        \n    def _execute_buying(self, date:pd.Timestamp, tradeday: pd.Series):\n        \"\"\"\n        How BUY should be executed\n        :type date: pd.Timestamp\n        :type tradeday: pd.Series\n        :param date: The pandas DataFrame date\n        :param tradeday: The pandas DateFrame Series representing a trade day\n        \"\"\"\n        if self._should_log:\n            print(\"Bought on {} at ${}.\".format(date, tradeday.close))\n        self._held_tradedays \u003d [tradeday]\n        self._held_period_days +\u003d 1 # Start holding date count\n\n    def _evaluate_selling(self, date:pd.Timestamp, tradeday: pd.Series):\n        \"\"\"\n        Evaluate whether or not SELL should be executed\n        :type date: pd.Timestamp\n        :type tradeday: pd.Series\n        :param date: The pandas DataFrame date\n        :param tradeday: The pandas DateFrame Series representing a trade day\n        \"\"\"\n        if self._held_period_days \u003e\u003d self._keep_stock_threshold:\n            # When holding period exceeds s_keep_stock_threshold, sell stocks\n            return True\n        else:\n            return False\n            \n    def _execute_selling(self, date:pd.Timestamp, tradeday: pd.Series):\n        \"\"\"\n        How SELL should be executed\n        :type date: pd.Timestamp\n        :type tradeday: pd.Series\n        :param date: The pandas DataFrame date\n        :param tradeday: The pandas DateFrame Series representing a trade day\n        \"\"\"\n        if self._should_log:\n            print(\"Sold on {} at ${}.\".format(date, tradeday.close))\n        self._held_period_days \u003d 0  # Reset holding count \n        \n    @property\n    def trade_profit(self):\n        profit_array \u003d self._profit_array/100 + 1\n        profit_rate \u003d np.product(profit_array)-1\n        return profit_rate\n    \n    @property\n    def p_change_threshold(self):\n        return self._p_change_threshold\n    \n    @property\n    def keep_stock_threshold(self):\n        return self._keep_stock_threshold",
      "metadata": {
        "pycharm": {
          "metadata": false,
          "name": "#%% Trade Strategy 1: Follow the upward trend.\n",
          "is_executing": false
        }
      }
    },
    {
      "cell_type": "code",
      "execution_count": 30,
      "outputs": [],
      "source": "",
      "metadata": {
        "pycharm": {
          "metadata": false,
          "name": "#%%",
          "is_executing": false
        }
      }
    }
  ],
  "metadata": {
    "language_info": {
      "codemirror_mode": {
        "name": "ipython",
        "version": 2
      },
      "file_extension": ".py",
      "mimetype": "text/x-python",
      "name": "python",
      "nbconvert_exporter": "python",
      "pygments_lexer": "ipython2",
      "version": "2.7.6"
    },
    "kernelspec": {
      "name": "python3",
      "language": "python",
      "display_name": "Python 3"
    },
    "stem_cell": {
      "cell_type": "raw",
      "source": "",
      "metadata": {
        "pycharm": {
          "metadata": false
        }
      }
    }
  },
  "nbformat": 4,
  "nbformat_minor": 0
}