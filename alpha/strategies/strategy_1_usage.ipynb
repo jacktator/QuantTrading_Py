{
  "cells": [
    {
      "cell_type": "markdown",
      "source": "# Import Data\n\nImporting Amex price data.",
      "metadata": {
        "pycharm": {
          "metadata": false,
          "name": "#%% md\n",
          "is_executing": false
        }
      }
    },
    {
      "cell_type": "code",
      "execution_count": 1,
      "outputs": [
        {
          "data": {
            "text/plain": "            close   high                low                 \\\n                                                             \n2017-06-12   80.17               80.73               79.95   \n2017-06-13   80.59               80.74               80.07   \n2017-06-14   80.84               80.92               79.62   \n2017-06-15   80.70               81.24               80.23   \n2017-06-16   81.45               81.48               80.77   \n\n            p_change               open    pre_close  volume    date      \\\n                                                                           \n2017-06-12                 -0.174   80.35      80.31   3352279  20170612   \n2017-06-13                  0.524   80.20      80.17   3174361  20170613   \n2017-06-14                  0.310   80.11      80.59   4013089  20170614   \n2017-06-15                 -0.173   80.38      80.84   2773369  20170615   \n2017-06-16                  0.929   80.86      80.70   5914676  20170616   \n\n            date_week  key  atr21                  atr14  \n                                                          \n2017-06-12          0    0            0.780000  0.780000  \n2017-06-13          1    1            0.722381  0.721071  \n2017-06-14          2    2            0.933535  0.942224  \n2017-06-15          3    3            0.955464  0.962959  \n2017-06-16          4    4            0.896598  0.896962  ",
            "text/html": "\u003cdiv\u003e\n\u003cstyle scoped\u003e\n    .dataframe tbody tr th:only-of-type {\n        vertical-align: middle;\n    }\n\n    .dataframe tbody tr th {\n        vertical-align: top;\n    }\n\n    .dataframe thead th {\n        text-align: right;\n    }\n\u003c/style\u003e\n\u003ctable border\u003d\"1\" class\u003d\"dataframe\"\u003e\n  \u003cthead\u003e\n    \u003ctr style\u003d\"text-align: right;\"\u003e\n      \u003cth\u003e\u003c/th\u003e\n      \u003cth\u003eclose\u003c/th\u003e\n      \u003cth\u003ehigh\u003c/th\u003e\n      \u003cth\u003elow\u003c/th\u003e\n      \u003cth\u003ep_change\u003c/th\u003e\n      \u003cth\u003eopen\u003c/th\u003e\n      \u003cth\u003epre_close\u003c/th\u003e\n      \u003cth\u003evolume\u003c/th\u003e\n      \u003cth\u003edate\u003c/th\u003e\n      \u003cth\u003edate_week\u003c/th\u003e\n      \u003cth\u003ekey\u003c/th\u003e\n      \u003cth\u003eatr21\u003c/th\u003e\n      \u003cth\u003eatr14\u003c/th\u003e\n    \u003c/tr\u003e\n    \u003ctr\u003e\n      \u003cth\u003e\u003c/th\u003e\n      \u003cth\u003e\u003c/th\u003e\n      \u003cth\u003e\u003c/th\u003e\n      \u003cth\u003e\u003c/th\u003e\n      \u003cth\u003e\u003c/th\u003e\n      \u003cth\u003e\u003c/th\u003e\n      \u003cth\u003e\u003c/th\u003e\n      \u003cth\u003e\u003c/th\u003e\n      \u003cth\u003e\u003c/th\u003e\n      \u003cth\u003e\u003c/th\u003e\n      \u003cth\u003e\u003c/th\u003e\n      \u003cth\u003e\u003c/th\u003e\n      \u003cth\u003e\u003c/th\u003e\n    \u003c/tr\u003e\n  \u003c/thead\u003e\n  \u003ctbody\u003e\n    \u003ctr\u003e\n      \u003cth\u003e2017-06-12\u003c/th\u003e\n      \u003ctd\u003e80.17\u003c/td\u003e\n      \u003ctd\u003e80.73\u003c/td\u003e\n      \u003ctd\u003e79.95\u003c/td\u003e\n      \u003ctd\u003e-0.174\u003c/td\u003e\n      \u003ctd\u003e80.35\u003c/td\u003e\n      \u003ctd\u003e80.31\u003c/td\u003e\n      \u003ctd\u003e3352279\u003c/td\u003e\n      \u003ctd\u003e20170612\u003c/td\u003e\n      \u003ctd\u003e0\u003c/td\u003e\n      \u003ctd\u003e0\u003c/td\u003e\n      \u003ctd\u003e0.780000\u003c/td\u003e\n      \u003ctd\u003e0.780000\u003c/td\u003e\n    \u003c/tr\u003e\n    \u003ctr\u003e\n      \u003cth\u003e2017-06-13\u003c/th\u003e\n      \u003ctd\u003e80.59\u003c/td\u003e\n      \u003ctd\u003e80.74\u003c/td\u003e\n      \u003ctd\u003e80.07\u003c/td\u003e\n      \u003ctd\u003e0.524\u003c/td\u003e\n      \u003ctd\u003e80.20\u003c/td\u003e\n      \u003ctd\u003e80.17\u003c/td\u003e\n      \u003ctd\u003e3174361\u003c/td\u003e\n      \u003ctd\u003e20170613\u003c/td\u003e\n      \u003ctd\u003e1\u003c/td\u003e\n      \u003ctd\u003e1\u003c/td\u003e\n      \u003ctd\u003e0.722381\u003c/td\u003e\n      \u003ctd\u003e0.721071\u003c/td\u003e\n    \u003c/tr\u003e\n    \u003ctr\u003e\n      \u003cth\u003e2017-06-14\u003c/th\u003e\n      \u003ctd\u003e80.84\u003c/td\u003e\n      \u003ctd\u003e80.92\u003c/td\u003e\n      \u003ctd\u003e79.62\u003c/td\u003e\n      \u003ctd\u003e0.310\u003c/td\u003e\n      \u003ctd\u003e80.11\u003c/td\u003e\n      \u003ctd\u003e80.59\u003c/td\u003e\n      \u003ctd\u003e4013089\u003c/td\u003e\n      \u003ctd\u003e20170614\u003c/td\u003e\n      \u003ctd\u003e2\u003c/td\u003e\n      \u003ctd\u003e2\u003c/td\u003e\n      \u003ctd\u003e0.933535\u003c/td\u003e\n      \u003ctd\u003e0.942224\u003c/td\u003e\n    \u003c/tr\u003e\n    \u003ctr\u003e\n      \u003cth\u003e2017-06-15\u003c/th\u003e\n      \u003ctd\u003e80.70\u003c/td\u003e\n      \u003ctd\u003e81.24\u003c/td\u003e\n      \u003ctd\u003e80.23\u003c/td\u003e\n      \u003ctd\u003e-0.173\u003c/td\u003e\n      \u003ctd\u003e80.38\u003c/td\u003e\n      \u003ctd\u003e80.84\u003c/td\u003e\n      \u003ctd\u003e2773369\u003c/td\u003e\n      \u003ctd\u003e20170615\u003c/td\u003e\n      \u003ctd\u003e3\u003c/td\u003e\n      \u003ctd\u003e3\u003c/td\u003e\n      \u003ctd\u003e0.955464\u003c/td\u003e\n      \u003ctd\u003e0.962959\u003c/td\u003e\n    \u003c/tr\u003e\n    \u003ctr\u003e\n      \u003cth\u003e2017-06-16\u003c/th\u003e\n      \u003ctd\u003e81.45\u003c/td\u003e\n      \u003ctd\u003e81.48\u003c/td\u003e\n      \u003ctd\u003e80.77\u003c/td\u003e\n      \u003ctd\u003e0.929\u003c/td\u003e\n      \u003ctd\u003e80.86\u003c/td\u003e\n      \u003ctd\u003e80.70\u003c/td\u003e\n      \u003ctd\u003e5914676\u003c/td\u003e\n      \u003ctd\u003e20170616\u003c/td\u003e\n      \u003ctd\u003e4\u003c/td\u003e\n      \u003ctd\u003e4\u003c/td\u003e\n      \u003ctd\u003e0.896598\u003c/td\u003e\n      \u003ctd\u003e0.896962\u003c/td\u003e\n    \u003c/tr\u003e\n  \u003c/tbody\u003e\n\u003c/table\u003e\n\u003c/div\u003e"
          },
          "metadata": {},
          "output_type": "execute_result",
          "execution_count": 1
        }
      ],
      "source": "import numpy as np\nimport pandas as pd\n\namex_df \u003d pd.read_csv(\u0027../../data/gen/usAXP_df.csv\u0027,\n                           parse_dates\u003dTrue,\n                           index_col\u003d0)\n# Strip whitespace from column names\namex_df.columns \u003d amex_df.columns.str.strip()\n# Print \namex_df.head()",
      "metadata": {
        "pycharm": {
          "metadata": false,
          "name": "#%%\n",
          "is_executing": false
        }
      }
    },
    {
      "cell_type": "markdown",
      "source": "## Plotting Data\n\nPlot the close price and the price change probability distribution",
      "metadata": {
        "pycharm": {
          "metadata": false
        }
      }
    },
    {
      "cell_type": "code",
      "execution_count": 2,
      "outputs": [
        {
          "traceback": [
            "\u001b[0;31m---------------------------------------------------------------------------\u001b[0m",
            "\u001b[0;31mKeyError\u001b[0m                                  Traceback (most recent call last)",
            "\u001b[0;32m/Library/Frameworks/Python.framework/Versions/3.7/lib/python3.7/site-packages/pandas/core/indexes/base.py\u001b[0m in \u001b[0;36mget_loc\u001b[0;34m(self, key, method, tolerance)\u001b[0m\n\u001b[1;32m   2656\u001b[0m             \u001b[0;32mtry\u001b[0m\u001b[0;34m:\u001b[0m\u001b[0;34m\u001b[0m\u001b[0;34m\u001b[0m\u001b[0m\n\u001b[0;32m-\u003e 2657\u001b[0;31m                 \u001b[0;32mreturn\u001b[0m \u001b[0mself\u001b[0m\u001b[0;34m.\u001b[0m\u001b[0m_engine\u001b[0m\u001b[0;34m.\u001b[0m\u001b[0mget_loc\u001b[0m\u001b[0;34m(\u001b[0m\u001b[0mkey\u001b[0m\u001b[0;34m)\u001b[0m\u001b[0;34m\u001b[0m\u001b[0;34m\u001b[0m\u001b[0m\n\u001b[0m\u001b[1;32m   2658\u001b[0m             \u001b[0;32mexcept\u001b[0m \u001b[0mKeyError\u001b[0m\u001b[0;34m:\u001b[0m\u001b[0;34m\u001b[0m\u001b[0;34m\u001b[0m\u001b[0m\n",
            "\u001b[0;32mpandas/_libs/index.pyx\u001b[0m in \u001b[0;36mpandas._libs.index.IndexEngine.get_loc\u001b[0;34m()\u001b[0m\n",
            "\u001b[0;32mpandas/_libs/index.pyx\u001b[0m in \u001b[0;36mpandas._libs.index.IndexEngine.get_loc\u001b[0;34m()\u001b[0m\n",
            "\u001b[0;32mpandas/_libs/hashtable_class_helper.pxi\u001b[0m in \u001b[0;36mpandas._libs.hashtable.PyObjectHashTable.get_item\u001b[0;34m()\u001b[0m\n",
            "\u001b[0;32mpandas/_libs/hashtable_class_helper.pxi\u001b[0m in \u001b[0;36mpandas._libs.hashtable.PyObjectHashTable.get_item\u001b[0;34m()\u001b[0m\n",
            "\u001b[0;31mKeyError\u001b[0m: \u0027p_change\u0027",
            "\nDuring handling of the above exception, another exception occurred:\n",
            "\u001b[0;31mKeyError\u001b[0m                                  Traceback (most recent call last)",
            "\u001b[0;32m\u003cipython-input-2-c315d2a4a211\u003e\u001b[0m in \u001b[0;36m\u003cmodule\u003e\u001b[0;34m\u001b[0m\n\u001b[1;32m      1\u001b[0m \u001b[0;32mimport\u001b[0m \u001b[0mseaborn\u001b[0m \u001b[0;32mas\u001b[0m \u001b[0msns\u001b[0m\u001b[0;34m\u001b[0m\u001b[0;34m\u001b[0m\u001b[0m\n\u001b[1;32m      2\u001b[0m \u001b[0;34m\u001b[0m\u001b[0m\n\u001b[0;32m----\u003e 3\u001b[0;31m sns.distplot(amex_df[\u0027p_change\u0027],\n\u001b[0m\u001b[1;32m      4\u001b[0m              \u001b[0mbins\u001b[0m\u001b[0;34m\u003d\u001b[0m\u001b[0;36m100\u001b[0m\u001b[0;34m,\u001b[0m\u001b[0;34m\u001b[0m\u001b[0;34m\u001b[0m\u001b[0m\n\u001b[1;32m      5\u001b[0m              label\u003d\"AXP Daily Price Change\")\n",
            "\u001b[0;32m/Library/Frameworks/Python.framework/Versions/3.7/lib/python3.7/site-packages/pandas/core/frame.py\u001b[0m in \u001b[0;36m__getitem__\u001b[0;34m(self, key)\u001b[0m\n\u001b[1;32m   2925\u001b[0m             \u001b[0;32mif\u001b[0m \u001b[0mself\u001b[0m\u001b[0;34m.\u001b[0m\u001b[0mcolumns\u001b[0m\u001b[0;34m.\u001b[0m\u001b[0mnlevels\u001b[0m \u001b[0;34m\u003e\u001b[0m \u001b[0;36m1\u001b[0m\u001b[0;34m:\u001b[0m\u001b[0;34m\u001b[0m\u001b[0;34m\u001b[0m\u001b[0m\n\u001b[1;32m   2926\u001b[0m                 \u001b[0;32mreturn\u001b[0m \u001b[0mself\u001b[0m\u001b[0;34m.\u001b[0m\u001b[0m_getitem_multilevel\u001b[0m\u001b[0;34m(\u001b[0m\u001b[0mkey\u001b[0m\u001b[0;34m)\u001b[0m\u001b[0;34m\u001b[0m\u001b[0;34m\u001b[0m\u001b[0m\n\u001b[0;32m-\u003e 2927\u001b[0;31m             \u001b[0mindexer\u001b[0m \u001b[0;34m\u003d\u001b[0m \u001b[0mself\u001b[0m\u001b[0;34m.\u001b[0m\u001b[0mcolumns\u001b[0m\u001b[0;34m.\u001b[0m\u001b[0mget_loc\u001b[0m\u001b[0;34m(\u001b[0m\u001b[0mkey\u001b[0m\u001b[0;34m)\u001b[0m\u001b[0;34m\u001b[0m\u001b[0;34m\u001b[0m\u001b[0m\n\u001b[0m\u001b[1;32m   2928\u001b[0m             \u001b[0;32mif\u001b[0m \u001b[0mis_integer\u001b[0m\u001b[0;34m(\u001b[0m\u001b[0mindexer\u001b[0m\u001b[0;34m)\u001b[0m\u001b[0;34m:\u001b[0m\u001b[0;34m\u001b[0m\u001b[0;34m\u001b[0m\u001b[0m\n\u001b[1;32m   2929\u001b[0m                 \u001b[0mindexer\u001b[0m \u001b[0;34m\u003d\u001b[0m \u001b[0;34m[\u001b[0m\u001b[0mindexer\u001b[0m\u001b[0;34m]\u001b[0m\u001b[0;34m\u001b[0m\u001b[0;34m\u001b[0m\u001b[0m\n",
            "\u001b[0;32m/Library/Frameworks/Python.framework/Versions/3.7/lib/python3.7/site-packages/pandas/core/indexes/base.py\u001b[0m in \u001b[0;36mget_loc\u001b[0;34m(self, key, method, tolerance)\u001b[0m\n\u001b[1;32m   2657\u001b[0m                 \u001b[0;32mreturn\u001b[0m \u001b[0mself\u001b[0m\u001b[0;34m.\u001b[0m\u001b[0m_engine\u001b[0m\u001b[0;34m.\u001b[0m\u001b[0mget_loc\u001b[0m\u001b[0;34m(\u001b[0m\u001b[0mkey\u001b[0m\u001b[0;34m)\u001b[0m\u001b[0;34m\u001b[0m\u001b[0;34m\u001b[0m\u001b[0m\n\u001b[1;32m   2658\u001b[0m             \u001b[0;32mexcept\u001b[0m \u001b[0mKeyError\u001b[0m\u001b[0;34m:\u001b[0m\u001b[0;34m\u001b[0m\u001b[0;34m\u001b[0m\u001b[0m\n\u001b[0;32m-\u003e 2659\u001b[0;31m                 \u001b[0;32mreturn\u001b[0m \u001b[0mself\u001b[0m\u001b[0;34m.\u001b[0m\u001b[0m_engine\u001b[0m\u001b[0;34m.\u001b[0m\u001b[0mget_loc\u001b[0m\u001b[0;34m(\u001b[0m\u001b[0mself\u001b[0m\u001b[0;34m.\u001b[0m\u001b[0m_maybe_cast_indexer\u001b[0m\u001b[0;34m(\u001b[0m\u001b[0mkey\u001b[0m\u001b[0;34m)\u001b[0m\u001b[0;34m)\u001b[0m\u001b[0;34m\u001b[0m\u001b[0;34m\u001b[0m\u001b[0m\n\u001b[0m\u001b[1;32m   2660\u001b[0m         \u001b[0mindexer\u001b[0m \u001b[0;34m\u003d\u001b[0m \u001b[0mself\u001b[0m\u001b[0;34m.\u001b[0m\u001b[0mget_indexer\u001b[0m\u001b[0;34m(\u001b[0m\u001b[0;34m[\u001b[0m\u001b[0mkey\u001b[0m\u001b[0;34m]\u001b[0m\u001b[0;34m,\u001b[0m \u001b[0mmethod\u001b[0m\u001b[0;34m\u003d\u001b[0m\u001b[0mmethod\u001b[0m\u001b[0;34m,\u001b[0m \u001b[0mtolerance\u001b[0m\u001b[0;34m\u003d\u001b[0m\u001b[0mtolerance\u001b[0m\u001b[0;34m)\u001b[0m\u001b[0;34m\u001b[0m\u001b[0;34m\u001b[0m\u001b[0m\n\u001b[1;32m   2661\u001b[0m         \u001b[0;32mif\u001b[0m \u001b[0mindexer\u001b[0m\u001b[0;34m.\u001b[0m\u001b[0mndim\u001b[0m \u001b[0;34m\u003e\u001b[0m \u001b[0;36m1\u001b[0m \u001b[0;32mor\u001b[0m \u001b[0mindexer\u001b[0m\u001b[0;34m.\u001b[0m\u001b[0msize\u001b[0m \u001b[0;34m\u003e\u001b[0m \u001b[0;36m1\u001b[0m\u001b[0;34m:\u001b[0m\u001b[0;34m\u001b[0m\u001b[0;34m\u001b[0m\u001b[0m\n",
            "\u001b[0;32mpandas/_libs/index.pyx\u001b[0m in \u001b[0;36mpandas._libs.index.IndexEngine.get_loc\u001b[0;34m()\u001b[0m\n",
            "\u001b[0;32mpandas/_libs/index.pyx\u001b[0m in \u001b[0;36mpandas._libs.index.IndexEngine.get_loc\u001b[0;34m()\u001b[0m\n",
            "\u001b[0;32mpandas/_libs/hashtable_class_helper.pxi\u001b[0m in \u001b[0;36mpandas._libs.hashtable.PyObjectHashTable.get_item\u001b[0;34m()\u001b[0m\n",
            "\u001b[0;32mpandas/_libs/hashtable_class_helper.pxi\u001b[0m in \u001b[0;36mpandas._libs.hashtable.PyObjectHashTable.get_item\u001b[0;34m()\u001b[0m\n",
            "\u001b[0;31mKeyError\u001b[0m: \u0027p_change\u0027"
          ],
          "ename": "KeyError",
          "evalue": "\u0027p_change\u0027",
          "output_type": "error"
        }
      ],
      "source": "import seaborn as sns\n\nsns.distplot(amex_df[\u0027p_change\u0027],\n             bins\u003d100,\n             label\u003d\"AXP Daily Price Change\")\n",
      "metadata": {
        "pycharm": {
          "metadata": false,
          "name": "#%%\n",
          "is_executing": false
        }
      }
    },
    {
      "cell_type": "markdown",
      "source": "# Initialize Strategy \n\nLet\u0027s create a strategy which will buy the stock when there\u0027s more than 3% change in the daily rise of the stock price.\n\nWe will then hold this for 5 days. ",
      "metadata": {
        "pycharm": {
          "metadata": false,
          "name": "#%% md\n",
          "is_executing": false
        }
      }
    },
    {
      "cell_type": "code",
      "execution_count": 8,
      "outputs": [],
      "source": "import import_ipynb\nfrom strategy_1 import TradeStrategy1\n\np_change \u003d 3 # Buy stock when there\u0027s 3% or more rise in price change\nkeep_stock \u003d 5 # Then keep stock for 5 days\nstrategy \u003d TradeStrategy1(p_change_threshold\u003dp_change, \n                          hold_stock_threshold\u003dkeep_stock,\n                          should_log\u003dTrue, \n                          should_plot\u003dFalse)",
      "metadata": {
        "pycharm": {
          "metadata": false,
          "name": "#%% \n",
          "is_executing": false
        }
      }
    },
    {
      "cell_type": "markdown",
      "source": "# Testing Strategy \n\nWe will iterate through all trade days, and let strategy decide whether or not it should buy/sell.\n\nFinally, we will print the strategy of the result.",
      "metadata": {
        "pycharm": {
          "metadata": false,
          "name": "#%% md\n",
          "is_executing": false
        }
      }
    },
    {
      "cell_type": "code",
      "execution_count": 9,
      "outputs": [
        {
          "name": "stdout",
          "text": [
            "Bought on 2018-02-02 00:00:00 at $96.68.\nSold on 2018-02-08 00:00:00 at $88.34.\nBought on 2018-02-09 00:00:00 at $91.72.\nSold on 2018-02-15 00:00:00 at $96.56.\nBought on 2018-03-13 00:00:00 at $95.37.\nSold on 2018-03-19 00:00:00 at $94.05.\nBought on 2018-03-22 00:00:00 at $91.41.\nSold on 2018-03-28 00:00:00 at $92.21.\nBought on 2018-04-18 00:00:00 at $98.28.\nSold on 2018-04-24 00:00:00 at $100.44.\nBought on 2018-05-29 00:00:00 at $97.72.\nSold on 2018-06-04 00:00:00 at $99.45.\nBought on 2018-10-19 00:00:00 at $106.73.\nSold on 2018-10-25 00:00:00 at $103.56.\nBought on 2018-11-26 00:00:00 at $109.68.\nSold on 2018-11-30 00:00:00 at $112.27.\nBought on 2018-12-04 00:00:00 at $107.64.\nSold on 2018-12-11 00:00:00 at $105.4.\nBought on 2018-12-17 00:00:00 at $101.18.\nSold on 2018-12-21 00:00:00 at $91.33.\nBought on 2018-12-26 00:00:00 at $93.84.\nStrategy1 Yielded: 4.85% with p_change: 3, keep_stock: 5.\n"
          ],
          "output_type": "stream"
        }
      ],
      "source": "for date, trade_day in amex_df.iterrows():\n    strategy.trade(date\u003ddate,\n                   tradeday\u003dtrade_day)\nprint(\"Strategy1 Yielded: {}% with p_change: {}, keep_stock: {}.\".format(round(strategy.trade_profit*100, 2), p_change, keep_stock))",
      "metadata": {
        "pycharm": {
          "metadata": false,
          "name": "#%% \n",
          "is_executing": false
        }
      }
    },
    {
      "cell_type": "code",
      "execution_count": null,
      "outputs": [],
      "source": "\n",
      "metadata": {
        "pycharm": {
          "metadata": false,
          "name": "#%%\n"
        }
      }
    }
  ],
  "metadata": {
    "language_info": {
      "codemirror_mode": {
        "name": "ipython",
        "version": 2
      },
      "file_extension": ".py",
      "mimetype": "text/x-python",
      "name": "python",
      "nbconvert_exporter": "python",
      "pygments_lexer": "ipython2",
      "version": "2.7.6"
    },
    "kernelspec": {
      "name": "python3",
      "language": "python",
      "display_name": "Python 3"
    },
    "stem_cell": {
      "cell_type": "raw",
      "source": "",
      "metadata": {
        "pycharm": {
          "metadata": false
        }
      }
    }
  },
  "nbformat": 4,
  "nbformat_minor": 0
}