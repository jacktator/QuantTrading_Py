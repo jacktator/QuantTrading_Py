{
  "cells": [
    {
      "cell_type": "markdown",
      "source": "# Import Data\n\nImporting Amex price data.",
      "metadata": {
        "pycharm": {
          "metadata": false,
          "name": "#%% md\n",
          "is_executing": false
        }
      }
    },
    {
      "cell_type": "code",
      "execution_count": 2,
      "outputs": [
        {
          "data": {
            "text/plain": "            close   high    low  p_change   open  pre_close   volume  \\\n2017-06-05  78.97  79.20  78.61     0.612  78.75      78.49  2738234   \n2017-06-06  78.85  78.93  78.29    -0.152  78.46      78.97  2877993   \n2017-06-07  79.81  80.09  78.79     1.218  78.91      78.85  4284079   \n2017-06-08  79.95  80.20  79.67     0.175  79.71      79.81  4079817   \n2017-06-09  80.31  80.73  79.73     0.450  80.39      79.95  3848413   \n\n                date  date_week  key     atr21     atr14  \n2017-06-05  20170605          0    0  0.710000  0.710000  \n2017-06-06  20170606          1    1  0.673333  0.672500  \n2017-06-07  20170607          2    2  0.902417  0.912207  \n2017-06-08  20170608          3    3  1.030780  1.046140  \n2017-06-09  20170609          4    4  1.023398  1.034102  ",
            "text/html": "\u003cdiv\u003e\n\u003cstyle scoped\u003e\n    .dataframe tbody tr th:only-of-type {\n        vertical-align: middle;\n    }\n\n    .dataframe tbody tr th {\n        vertical-align: top;\n    }\n\n    .dataframe thead th {\n        text-align: right;\n    }\n\u003c/style\u003e\n\u003ctable border\u003d\"1\" class\u003d\"dataframe\"\u003e\n  \u003cthead\u003e\n    \u003ctr style\u003d\"text-align: right;\"\u003e\n      \u003cth\u003e\u003c/th\u003e\n      \u003cth\u003eclose\u003c/th\u003e\n      \u003cth\u003ehigh\u003c/th\u003e\n      \u003cth\u003elow\u003c/th\u003e\n      \u003cth\u003ep_change\u003c/th\u003e\n      \u003cth\u003eopen\u003c/th\u003e\n      \u003cth\u003epre_close\u003c/th\u003e\n      \u003cth\u003evolume\u003c/th\u003e\n      \u003cth\u003edate\u003c/th\u003e\n      \u003cth\u003edate_week\u003c/th\u003e\n      \u003cth\u003ekey\u003c/th\u003e\n      \u003cth\u003eatr21\u003c/th\u003e\n      \u003cth\u003eatr14\u003c/th\u003e\n    \u003c/tr\u003e\n  \u003c/thead\u003e\n  \u003ctbody\u003e\n    \u003ctr\u003e\n      \u003cth\u003e2017-06-05\u003c/th\u003e\n      \u003ctd\u003e78.97\u003c/td\u003e\n      \u003ctd\u003e79.20\u003c/td\u003e\n      \u003ctd\u003e78.61\u003c/td\u003e\n      \u003ctd\u003e0.612\u003c/td\u003e\n      \u003ctd\u003e78.75\u003c/td\u003e\n      \u003ctd\u003e78.49\u003c/td\u003e\n      \u003ctd\u003e2738234\u003c/td\u003e\n      \u003ctd\u003e20170605\u003c/td\u003e\n      \u003ctd\u003e0\u003c/td\u003e\n      \u003ctd\u003e0\u003c/td\u003e\n      \u003ctd\u003e0.710000\u003c/td\u003e\n      \u003ctd\u003e0.710000\u003c/td\u003e\n    \u003c/tr\u003e\n    \u003ctr\u003e\n      \u003cth\u003e2017-06-06\u003c/th\u003e\n      \u003ctd\u003e78.85\u003c/td\u003e\n      \u003ctd\u003e78.93\u003c/td\u003e\n      \u003ctd\u003e78.29\u003c/td\u003e\n      \u003ctd\u003e-0.152\u003c/td\u003e\n      \u003ctd\u003e78.46\u003c/td\u003e\n      \u003ctd\u003e78.97\u003c/td\u003e\n      \u003ctd\u003e2877993\u003c/td\u003e\n      \u003ctd\u003e20170606\u003c/td\u003e\n      \u003ctd\u003e1\u003c/td\u003e\n      \u003ctd\u003e1\u003c/td\u003e\n      \u003ctd\u003e0.673333\u003c/td\u003e\n      \u003ctd\u003e0.672500\u003c/td\u003e\n    \u003c/tr\u003e\n    \u003ctr\u003e\n      \u003cth\u003e2017-06-07\u003c/th\u003e\n      \u003ctd\u003e79.81\u003c/td\u003e\n      \u003ctd\u003e80.09\u003c/td\u003e\n      \u003ctd\u003e78.79\u003c/td\u003e\n      \u003ctd\u003e1.218\u003c/td\u003e\n      \u003ctd\u003e78.91\u003c/td\u003e\n      \u003ctd\u003e78.85\u003c/td\u003e\n      \u003ctd\u003e4284079\u003c/td\u003e\n      \u003ctd\u003e20170607\u003c/td\u003e\n      \u003ctd\u003e2\u003c/td\u003e\n      \u003ctd\u003e2\u003c/td\u003e\n      \u003ctd\u003e0.902417\u003c/td\u003e\n      \u003ctd\u003e0.912207\u003c/td\u003e\n    \u003c/tr\u003e\n    \u003ctr\u003e\n      \u003cth\u003e2017-06-08\u003c/th\u003e\n      \u003ctd\u003e79.95\u003c/td\u003e\n      \u003ctd\u003e80.20\u003c/td\u003e\n      \u003ctd\u003e79.67\u003c/td\u003e\n      \u003ctd\u003e0.175\u003c/td\u003e\n      \u003ctd\u003e79.71\u003c/td\u003e\n      \u003ctd\u003e79.81\u003c/td\u003e\n      \u003ctd\u003e4079817\u003c/td\u003e\n      \u003ctd\u003e20170608\u003c/td\u003e\n      \u003ctd\u003e3\u003c/td\u003e\n      \u003ctd\u003e3\u003c/td\u003e\n      \u003ctd\u003e1.030780\u003c/td\u003e\n      \u003ctd\u003e1.046140\u003c/td\u003e\n    \u003c/tr\u003e\n    \u003ctr\u003e\n      \u003cth\u003e2017-06-09\u003c/th\u003e\n      \u003ctd\u003e80.31\u003c/td\u003e\n      \u003ctd\u003e80.73\u003c/td\u003e\n      \u003ctd\u003e79.73\u003c/td\u003e\n      \u003ctd\u003e0.450\u003c/td\u003e\n      \u003ctd\u003e80.39\u003c/td\u003e\n      \u003ctd\u003e79.95\u003c/td\u003e\n      \u003ctd\u003e3848413\u003c/td\u003e\n      \u003ctd\u003e20170609\u003c/td\u003e\n      \u003ctd\u003e4\u003c/td\u003e\n      \u003ctd\u003e4\u003c/td\u003e\n      \u003ctd\u003e1.023398\u003c/td\u003e\n      \u003ctd\u003e1.034102\u003c/td\u003e\n    \u003c/tr\u003e\n  \u003c/tbody\u003e\n\u003c/table\u003e\n\u003c/div\u003e"
          },
          "metadata": {},
          "output_type": "execute_result",
          "execution_count": 2
        }
      ],
      "source": "import numpy as np\nimport pandas as pd\n\namex_df \u003d pd.read_csv(\u0027../../data/amex_df.csv\u0027,\n                           parse_dates\u003dTrue,\n                           index_col\u003d0)\namex_df.head()",
      "metadata": {
        "pycharm": {
          "metadata": false,
          "name": "#%%\n",
          "is_executing": false
        }
      }
    },
    {
      "cell_type": "markdown",
      "source": "## Plotting Data\n\nPlot the close price and the price change probability distribution",
      "metadata": {
        "pycharm": {
          "metadata": false
        }
      }
    },
    {
      "cell_type": "code",
      "execution_count": 3,
      "outputs": [
        {
          "data": {
            "text/plain": "\u003cmatplotlib.axes._subplots.AxesSubplot at 0x124c46208\u003e"
          },
          "metadata": {},
          "output_type": "execute_result",
          "execution_count": 3
        },
        {
          "data": {
            "text/plain": "\u003cFigure size 432x288 with 1 Axes\u003e",
            "image/png": "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\u003d\u003d\n"
          },
          "metadata": {
            "needs_background": "light"
          },
          "output_type": "display_data"
        }
      ],
      "source": "import seaborn as sns\n\nsns.distplot(amex_df[\u0027p_change\u0027],\n             bins\u003d100,\n             label\u003d\"AXP Daily Price Change\")\n",
      "metadata": {
        "pycharm": {
          "metadata": false,
          "name": "#%%\n",
          "is_executing": false
        }
      }
    },
    {
      "cell_type": "markdown",
      "source": "# Initialize Strategy \n\nLet\u0027s create a strategy which will buy the stock when there\u0027s more than 3% change in the daily rise of the stock price.\n\nWe will then hold this for 5 days. ",
      "metadata": {
        "pycharm": {
          "metadata": false,
          "name": "#%% md\n",
          "is_executing": false
        }
      }
    },
    {
      "cell_type": "code",
      "execution_count": 8,
      "outputs": [],
      "source": "import import_ipynb\nfrom strategy_1 import TradeStrategy1\n\np_change \u003d 3 # Long / Short stock when there\u0027s 3% or more change in price change\nkeep_stock \u003d 5 # Then keep stock for 5 days\nstrategy \u003d TradeStrategy1(p_change_threshold\u003dp_change, \n                          hold_stock_threshold\u003dkeep_stock,\n                          should_log\u003dTrue, \n                          should_plot\u003dFalse)",
      "metadata": {
        "pycharm": {
          "metadata": false,
          "name": "#%% \n",
          "is_executing": false
        }
      }
    },
    {
      "cell_type": "markdown",
      "source": "# Testing Strategy \n\nWe will iterate through all trade days, and let strategy decide whether or not it should buy/sell.\n\nFinally, we will print the strategy of the result.",
      "metadata": {
        "pycharm": {
          "metadata": false,
          "name": "#%% md\n",
          "is_executing": false
        }
      }
    },
    {
      "cell_type": "code",
      "execution_count": 9,
      "outputs": [
        {
          "name": "stdout",
          "text": [
            "Bought on 2018-02-02 00:00:00 at $96.68.\nSold on 2018-02-08 00:00:00 at $88.34.\nBought on 2018-02-09 00:00:00 at $91.72.\nSold on 2018-02-15 00:00:00 at $96.56.\nBought on 2018-03-13 00:00:00 at $95.37.\nSold on 2018-03-19 00:00:00 at $94.05.\nBought on 2018-03-22 00:00:00 at $91.41.\nSold on 2018-03-28 00:00:00 at $92.21.\nBought on 2018-04-18 00:00:00 at $98.28.\nSold on 2018-04-24 00:00:00 at $100.44.\nBought on 2018-05-29 00:00:00 at $97.72.\nSold on 2018-06-04 00:00:00 at $99.45.\nBought on 2018-10-19 00:00:00 at $106.73.\nSold on 2018-10-25 00:00:00 at $103.56.\nBought on 2018-11-26 00:00:00 at $109.68.\nSold on 2018-11-30 00:00:00 at $112.27.\nBought on 2018-12-04 00:00:00 at $107.64.\nSold on 2018-12-11 00:00:00 at $105.4.\nBought on 2018-12-17 00:00:00 at $101.18.\nSold on 2018-12-21 00:00:00 at $91.33.\nBought on 2018-12-26 00:00:00 at $93.84.\nStrategy1 Yielded: 4.85% with p_change: 3, keep_stock: 5.\n"
          ],
          "output_type": "stream"
        }
      ],
      "source": "for date, trade_day in amex_df.iterrows():\n    strategy.trade(date\u003ddate,\n                   tradeday\u003dtrade_day)\nprint(\"Strategy1 Yielded: {}% with p_change: {}, keep_stock: {}.\".format(round(strategy.trade_profit*100, 2), p_change, keep_stock))",
      "metadata": {
        "pycharm": {
          "metadata": false,
          "name": "#%% \n",
          "is_executing": false
        }
      }
    },
    {
      "cell_type": "code",
      "execution_count": null,
      "outputs": [],
      "source": "\n",
      "metadata": {
        "pycharm": {
          "metadata": false,
          "name": "#%%\n"
        }
      }
    }
  ],
  "metadata": {
    "language_info": {
      "codemirror_mode": {
        "name": "ipython",
        "version": 2
      },
      "file_extension": ".py",
      "mimetype": "text/x-python",
      "name": "python",
      "nbconvert_exporter": "python",
      "pygments_lexer": "ipython2",
      "version": "2.7.6"
    },
    "kernelspec": {
      "name": "python3",
      "language": "python",
      "display_name": "Python 3"
    },
    "stem_cell": {
      "cell_type": "raw",
      "source": "",
      "metadata": {
        "pycharm": {
          "metadata": false
        }
      }
    }
  },
  "nbformat": 4,
  "nbformat_minor": 0
}