{
  "cells": [
    {
      "cell_type": "markdown",
      "metadata": {
        "collapsed": true,
        "pycharm": {
          "is_executing": false,
          "name": "#%% md\n"
        }
      },
      "source": "\n# Import Data\n\nImporting AXP data."
    },
    {
      "cell_type": "code",
      "execution_count": 19,
      "outputs": [
        {
          "data": {
            "text/plain": "            close   high    low  p_change   open  pre_close   volume  \\\n                                                                       \n2017-06-12  80.17  80.73  79.95    -0.174  80.35      80.31  3352279   \n2017-06-13  80.59  80.74  80.07     0.524  80.20      80.17  3174361   \n2017-06-14  80.84  80.92  79.62     0.310  80.11      80.59  4013089   \n2017-06-15  80.70  81.24  80.23    -0.173  80.38      80.84  2773369   \n2017-06-16  81.45  81.48  80.77     0.929  80.86      80.70  5914676   \n\n                date  date_week     atr21     atr14  key  \n                                                          \n2017-06-12  20170612          0  0.780000  0.780000    0  \n2017-06-13  20170613          1  0.722381  0.721071    1  \n2017-06-14  20170614          2  0.933535  0.942224    2  \n2017-06-15  20170615          3  0.955464  0.962959    3  \n2017-06-16  20170616          4  0.896598  0.896962    4  ",
            "text/html": "\u003cdiv\u003e\n\u003cstyle scoped\u003e\n    .dataframe tbody tr th:only-of-type {\n        vertical-align: middle;\n    }\n\n    .dataframe tbody tr th {\n        vertical-align: top;\n    }\n\n    .dataframe thead th {\n        text-align: right;\n    }\n\u003c/style\u003e\n\u003ctable border\u003d\"1\" class\u003d\"dataframe\"\u003e\n  \u003cthead\u003e\n    \u003ctr style\u003d\"text-align: right;\"\u003e\n      \u003cth\u003e\u003c/th\u003e\n      \u003cth\u003eclose\u003c/th\u003e\n      \u003cth\u003ehigh\u003c/th\u003e\n      \u003cth\u003elow\u003c/th\u003e\n      \u003cth\u003ep_change\u003c/th\u003e\n      \u003cth\u003eopen\u003c/th\u003e\n      \u003cth\u003epre_close\u003c/th\u003e\n      \u003cth\u003evolume\u003c/th\u003e\n      \u003cth\u003edate\u003c/th\u003e\n      \u003cth\u003edate_week\u003c/th\u003e\n      \u003cth\u003eatr21\u003c/th\u003e\n      \u003cth\u003eatr14\u003c/th\u003e\n      \u003cth\u003ekey\u003c/th\u003e\n    \u003c/tr\u003e\n    \u003ctr\u003e\n      \u003cth\u003e\u003c/th\u003e\n      \u003cth\u003e\u003c/th\u003e\n      \u003cth\u003e\u003c/th\u003e\n      \u003cth\u003e\u003c/th\u003e\n      \u003cth\u003e\u003c/th\u003e\n      \u003cth\u003e\u003c/th\u003e\n      \u003cth\u003e\u003c/th\u003e\n      \u003cth\u003e\u003c/th\u003e\n      \u003cth\u003e\u003c/th\u003e\n      \u003cth\u003e\u003c/th\u003e\n      \u003cth\u003e\u003c/th\u003e\n      \u003cth\u003e\u003c/th\u003e\n      \u003cth\u003e\u003c/th\u003e\n    \u003c/tr\u003e\n  \u003c/thead\u003e\n  \u003ctbody\u003e\n    \u003ctr\u003e\n      \u003cth\u003e2017-06-12\u003c/th\u003e\n      \u003ctd\u003e80.17\u003c/td\u003e\n      \u003ctd\u003e80.73\u003c/td\u003e\n      \u003ctd\u003e79.95\u003c/td\u003e\n      \u003ctd\u003e-0.174\u003c/td\u003e\n      \u003ctd\u003e80.35\u003c/td\u003e\n      \u003ctd\u003e80.31\u003c/td\u003e\n      \u003ctd\u003e3352279\u003c/td\u003e\n      \u003ctd\u003e20170612\u003c/td\u003e\n      \u003ctd\u003e0\u003c/td\u003e\n      \u003ctd\u003e0.780000\u003c/td\u003e\n      \u003ctd\u003e0.780000\u003c/td\u003e\n      \u003ctd\u003e0\u003c/td\u003e\n    \u003c/tr\u003e\n    \u003ctr\u003e\n      \u003cth\u003e2017-06-13\u003c/th\u003e\n      \u003ctd\u003e80.59\u003c/td\u003e\n      \u003ctd\u003e80.74\u003c/td\u003e\n      \u003ctd\u003e80.07\u003c/td\u003e\n      \u003ctd\u003e0.524\u003c/td\u003e\n      \u003ctd\u003e80.20\u003c/td\u003e\n      \u003ctd\u003e80.17\u003c/td\u003e\n      \u003ctd\u003e3174361\u003c/td\u003e\n      \u003ctd\u003e20170613\u003c/td\u003e\n      \u003ctd\u003e1\u003c/td\u003e\n      \u003ctd\u003e0.722381\u003c/td\u003e\n      \u003ctd\u003e0.721071\u003c/td\u003e\n      \u003ctd\u003e1\u003c/td\u003e\n    \u003c/tr\u003e\n    \u003ctr\u003e\n      \u003cth\u003e2017-06-14\u003c/th\u003e\n      \u003ctd\u003e80.84\u003c/td\u003e\n      \u003ctd\u003e80.92\u003c/td\u003e\n      \u003ctd\u003e79.62\u003c/td\u003e\n      \u003ctd\u003e0.310\u003c/td\u003e\n      \u003ctd\u003e80.11\u003c/td\u003e\n      \u003ctd\u003e80.59\u003c/td\u003e\n      \u003ctd\u003e4013089\u003c/td\u003e\n      \u003ctd\u003e20170614\u003c/td\u003e\n      \u003ctd\u003e2\u003c/td\u003e\n      \u003ctd\u003e0.933535\u003c/td\u003e\n      \u003ctd\u003e0.942224\u003c/td\u003e\n      \u003ctd\u003e2\u003c/td\u003e\n    \u003c/tr\u003e\n    \u003ctr\u003e\n      \u003cth\u003e2017-06-15\u003c/th\u003e\n      \u003ctd\u003e80.70\u003c/td\u003e\n      \u003ctd\u003e81.24\u003c/td\u003e\n      \u003ctd\u003e80.23\u003c/td\u003e\n      \u003ctd\u003e-0.173\u003c/td\u003e\n      \u003ctd\u003e80.38\u003c/td\u003e\n      \u003ctd\u003e80.84\u003c/td\u003e\n      \u003ctd\u003e2773369\u003c/td\u003e\n      \u003ctd\u003e20170615\u003c/td\u003e\n      \u003ctd\u003e3\u003c/td\u003e\n      \u003ctd\u003e0.955464\u003c/td\u003e\n      \u003ctd\u003e0.962959\u003c/td\u003e\n      \u003ctd\u003e3\u003c/td\u003e\n    \u003c/tr\u003e\n    \u003ctr\u003e\n      \u003cth\u003e2017-06-16\u003c/th\u003e\n      \u003ctd\u003e81.45\u003c/td\u003e\n      \u003ctd\u003e81.48\u003c/td\u003e\n      \u003ctd\u003e80.77\u003c/td\u003e\n      \u003ctd\u003e0.929\u003c/td\u003e\n      \u003ctd\u003e80.86\u003c/td\u003e\n      \u003ctd\u003e80.70\u003c/td\u003e\n      \u003ctd\u003e5914676\u003c/td\u003e\n      \u003ctd\u003e20170616\u003c/td\u003e\n      \u003ctd\u003e4\u003c/td\u003e\n      \u003ctd\u003e0.896598\u003c/td\u003e\n      \u003ctd\u003e0.896962\u003c/td\u003e\n      \u003ctd\u003e4\u003c/td\u003e\n    \u003c/tr\u003e\n  \u003c/tbody\u003e\n\u003c/table\u003e\n\u003c/div\u003e"
          },
          "metadata": {},
          "output_type": "execute_result",
          "execution_count": 19
        }
      ],
      "source": "\nimport pandas as pd\n\namex_df \u003d pd.read_csv(\u0027../../data/gen/usAXP_df.csv\u0027,\n                           parse_dates\u003dTrue,\n                           index_col\u003d0)\n# Strip whitespace from column names\namex_df.columns \u003d amex_df.columns.str.strip()\n# Print\namex_df.head()\n",
      "metadata": {
        "pycharm": {
          "metadata": false,
          "name": "#%%\n",
          "is_executing": false
        }
      }
    },
    {
      "cell_type": "markdown",
      "source": "\n# Even Faster Approach: Using Numba\n\nOptimize Calculation using Numba\n\n## Processing Data\n\nAdding slope \u0026 velocity to each day.\n",
      "metadata": {
        "pycharm": {
          "metadata": false
        }
      }
    },
    {
      "cell_type": "code",
      "execution_count": 20,
      "outputs": [
        {
          "data": {
            "text/plain": "            close   high    low  p_change   open  pre_close   volume  \\\n                                                                       \n2017-06-12  80.17  80.73  79.95    -0.174  80.35      80.31  3352279   \n2017-06-13  80.59  80.74  80.07     0.524  80.20      80.17  3174361   \n2017-06-14  80.84  80.92  79.62     0.310  80.11      80.59  4013089   \n2017-06-15  80.70  81.24  80.23    -0.173  80.38      80.84  2773369   \n2017-06-16  81.45  81.48  80.77     0.929  80.86      80.70  5914676   \n\n                date  date_week     atr21     atr14  key  slope  velocity  \n                                                                           \n2017-06-12  20170612          0  0.780000  0.780000    0  0.420   -0.0850  \n2017-06-13  20170613          1  0.722381  0.721071    1  0.335   -0.1825  \n2017-06-14  20170614          2  0.933535  0.942224    2  0.055   -0.0150  \n2017-06-15  20170615          3  0.955464  0.962959    3  0.305    0.2675  \n2017-06-16  20170616          4  0.896598  0.896962    4  0.590    0.1125  ",
            "text/html": "\u003cdiv\u003e\n\u003cstyle scoped\u003e\n    .dataframe tbody tr th:only-of-type {\n        vertical-align: middle;\n    }\n\n    .dataframe tbody tr th {\n        vertical-align: top;\n    }\n\n    .dataframe thead th {\n        text-align: right;\n    }\n\u003c/style\u003e\n\u003ctable border\u003d\"1\" class\u003d\"dataframe\"\u003e\n  \u003cthead\u003e\n    \u003ctr style\u003d\"text-align: right;\"\u003e\n      \u003cth\u003e\u003c/th\u003e\n      \u003cth\u003eclose\u003c/th\u003e\n      \u003cth\u003ehigh\u003c/th\u003e\n      \u003cth\u003elow\u003c/th\u003e\n      \u003cth\u003ep_change\u003c/th\u003e\n      \u003cth\u003eopen\u003c/th\u003e\n      \u003cth\u003epre_close\u003c/th\u003e\n      \u003cth\u003evolume\u003c/th\u003e\n      \u003cth\u003edate\u003c/th\u003e\n      \u003cth\u003edate_week\u003c/th\u003e\n      \u003cth\u003eatr21\u003c/th\u003e\n      \u003cth\u003eatr14\u003c/th\u003e\n      \u003cth\u003ekey\u003c/th\u003e\n      \u003cth\u003eslope\u003c/th\u003e\n      \u003cth\u003evelocity\u003c/th\u003e\n    \u003c/tr\u003e\n    \u003ctr\u003e\n      \u003cth\u003e\u003c/th\u003e\n      \u003cth\u003e\u003c/th\u003e\n      \u003cth\u003e\u003c/th\u003e\n      \u003cth\u003e\u003c/th\u003e\n      \u003cth\u003e\u003c/th\u003e\n      \u003cth\u003e\u003c/th\u003e\n      \u003cth\u003e\u003c/th\u003e\n      \u003cth\u003e\u003c/th\u003e\n      \u003cth\u003e\u003c/th\u003e\n      \u003cth\u003e\u003c/th\u003e\n      \u003cth\u003e\u003c/th\u003e\n      \u003cth\u003e\u003c/th\u003e\n      \u003cth\u003e\u003c/th\u003e\n      \u003cth\u003e\u003c/th\u003e\n      \u003cth\u003e\u003c/th\u003e\n    \u003c/tr\u003e\n  \u003c/thead\u003e\n  \u003ctbody\u003e\n    \u003ctr\u003e\n      \u003cth\u003e2017-06-12\u003c/th\u003e\n      \u003ctd\u003e80.17\u003c/td\u003e\n      \u003ctd\u003e80.73\u003c/td\u003e\n      \u003ctd\u003e79.95\u003c/td\u003e\n      \u003ctd\u003e-0.174\u003c/td\u003e\n      \u003ctd\u003e80.35\u003c/td\u003e\n      \u003ctd\u003e80.31\u003c/td\u003e\n      \u003ctd\u003e3352279\u003c/td\u003e\n      \u003ctd\u003e20170612\u003c/td\u003e\n      \u003ctd\u003e0\u003c/td\u003e\n      \u003ctd\u003e0.780000\u003c/td\u003e\n      \u003ctd\u003e0.780000\u003c/td\u003e\n      \u003ctd\u003e0\u003c/td\u003e\n      \u003ctd\u003e0.420\u003c/td\u003e\n      \u003ctd\u003e-0.0850\u003c/td\u003e\n    \u003c/tr\u003e\n    \u003ctr\u003e\n      \u003cth\u003e2017-06-13\u003c/th\u003e\n      \u003ctd\u003e80.59\u003c/td\u003e\n      \u003ctd\u003e80.74\u003c/td\u003e\n      \u003ctd\u003e80.07\u003c/td\u003e\n      \u003ctd\u003e0.524\u003c/td\u003e\n      \u003ctd\u003e80.20\u003c/td\u003e\n      \u003ctd\u003e80.17\u003c/td\u003e\n      \u003ctd\u003e3174361\u003c/td\u003e\n      \u003ctd\u003e20170613\u003c/td\u003e\n      \u003ctd\u003e1\u003c/td\u003e\n      \u003ctd\u003e0.722381\u003c/td\u003e\n      \u003ctd\u003e0.721071\u003c/td\u003e\n      \u003ctd\u003e1\u003c/td\u003e\n      \u003ctd\u003e0.335\u003c/td\u003e\n      \u003ctd\u003e-0.1825\u003c/td\u003e\n    \u003c/tr\u003e\n    \u003ctr\u003e\n      \u003cth\u003e2017-06-14\u003c/th\u003e\n      \u003ctd\u003e80.84\u003c/td\u003e\n      \u003ctd\u003e80.92\u003c/td\u003e\n      \u003ctd\u003e79.62\u003c/td\u003e\n      \u003ctd\u003e0.310\u003c/td\u003e\n      \u003ctd\u003e80.11\u003c/td\u003e\n      \u003ctd\u003e80.59\u003c/td\u003e\n      \u003ctd\u003e4013089\u003c/td\u003e\n      \u003ctd\u003e20170614\u003c/td\u003e\n      \u003ctd\u003e2\u003c/td\u003e\n      \u003ctd\u003e0.933535\u003c/td\u003e\n      \u003ctd\u003e0.942224\u003c/td\u003e\n      \u003ctd\u003e2\u003c/td\u003e\n      \u003ctd\u003e0.055\u003c/td\u003e\n      \u003ctd\u003e-0.0150\u003c/td\u003e\n    \u003c/tr\u003e\n    \u003ctr\u003e\n      \u003cth\u003e2017-06-15\u003c/th\u003e\n      \u003ctd\u003e80.70\u003c/td\u003e\n      \u003ctd\u003e81.24\u003c/td\u003e\n      \u003ctd\u003e80.23\u003c/td\u003e\n      \u003ctd\u003e-0.173\u003c/td\u003e\n      \u003ctd\u003e80.38\u003c/td\u003e\n      \u003ctd\u003e80.84\u003c/td\u003e\n      \u003ctd\u003e2773369\u003c/td\u003e\n      \u003ctd\u003e20170615\u003c/td\u003e\n      \u003ctd\u003e3\u003c/td\u003e\n      \u003ctd\u003e0.955464\u003c/td\u003e\n      \u003ctd\u003e0.962959\u003c/td\u003e\n      \u003ctd\u003e3\u003c/td\u003e\n      \u003ctd\u003e0.305\u003c/td\u003e\n      \u003ctd\u003e0.2675\u003c/td\u003e\n    \u003c/tr\u003e\n    \u003ctr\u003e\n      \u003cth\u003e2017-06-16\u003c/th\u003e\n      \u003ctd\u003e81.45\u003c/td\u003e\n      \u003ctd\u003e81.48\u003c/td\u003e\n      \u003ctd\u003e80.77\u003c/td\u003e\n      \u003ctd\u003e0.929\u003c/td\u003e\n      \u003ctd\u003e80.86\u003c/td\u003e\n      \u003ctd\u003e80.70\u003c/td\u003e\n      \u003ctd\u003e5914676\u003c/td\u003e\n      \u003ctd\u003e20170616\u003c/td\u003e\n      \u003ctd\u003e4\u003c/td\u003e\n      \u003ctd\u003e0.896598\u003c/td\u003e\n      \u003ctd\u003e0.896962\u003c/td\u003e\n      \u003ctd\u003e4\u003c/td\u003e\n      \u003ctd\u003e0.590\u003c/td\u003e\n      \u003ctd\u003e0.1125\u003c/td\u003e\n    \u003c/tr\u003e\n  \u003c/tbody\u003e\n\u003c/table\u003e\n\u003c/div\u003e"
          },
          "metadata": {},
          "output_type": "execute_result",
          "execution_count": 20
        }
      ],
      "source": "\nimport numpy as np\n\nextra_df \u003d amex_df.copy()\nextra_df[\u0027slope\u0027] \u003d pd.Series(np.gradient(extra_df.close), extra_df.index, name\u003d\u0027slope\u0027)\nextra_df[\u0027velocity\u0027] \u003d pd.Series(np.gradient(extra_df.slope), extra_df.index, name\u003d\u0027velocity\u0027)\n# Print\nextra_df.head()\n",
      "metadata": {
        "pycharm": {
          "metadata": false,
          "name": "#%%\n",
          "is_executing": false
        }
      }
    },
    {
      "cell_type": "markdown",
      "source": "\n## Performing Backtests\n\n1. Prepare Parameters\n1. Dfine a DataFrame to handle results\n1. For Loops\n1. Prepare Maps \u0026 Filters\n\n## Preparing Parameters\n",
      "metadata": {
        "pycharm": {
          "metadata": false
        }
      }
    },
    {
      "cell_type": "code",
      "execution_count": 21,
      "outputs": [
        {
          "name": "stdout",
          "text": [
            "Params Ready, 160000 tasks to run. \n"
          ],
          "output_type": "stream"
        }
      ],
      "source": "\nimport itertools\n\nbuy_slope_threshold_list \u003d np.arange(-0.5, 0.5, 0.1)\nbuy_velocity_threshold_list \u003d np.arange(-0.5, 0.5, 0.1)\nclose_slope_threshold_list \u003d np.arange(-0.2, 0.2, 0.1)\nclose_velocity_threshold_list \u003d np.arange(-0.2, 0.2, 0.1)\nsell_slope_threshold_list \u003d np.arange(-0.5, 0.5, 0.1)\nsell_velocity_threshold_list \u003d np.arange(-0.5, 0.5, 0.1)\n\ntask_list \u003d list(itertools.product(\n    buy_slope_threshold_list, \n    buy_velocity_threshold_list, \n    close_slope_threshold_list, \n    close_velocity_threshold_list, \n    sell_slope_threshold_list, \n    sell_velocity_threshold_list\n))\nprint(\"Params Ready, {} tasks to run. \".format(len(task_list)))\n",
      "metadata": {
        "pycharm": {
          "metadata": false,
          "name": "#%%\n",
          "is_executing": false
        }
      }
    },
    {
      "cell_type": "markdown",
      "source": "\n## MultiProcess with Numpy\n",
      "metadata": {
        "pycharm": {
          "metadata": false
        }
      }
    },
    {
      "cell_type": "code",
      "execution_count": 24,
      "outputs": [
        {
          "name": "stderr",
          "text": [
            "\r0.00tests [00:00, ?tests/s]",
            "\r13.7ktests [00:30, 457tests/s]",
            "\r13.7ktests [00:40, 457tests/s]",
            "\r22.1ktests [01:00, 384tests/s]",
            "\r22.1ktests [01:10, 384tests/s]",
            "\r30.2ktests [01:30, 341tests/s]",
            "\r30.2ktests [01:40, 341tests/s]",
            "\r39.7ktests [02:00, 333tests/s]",
            "\r39.7ktests [02:10, 333tests/s]",
            "\r48.6ktests [02:30, 322tests/s]",
            "\r48.6ktests [02:40, 322tests/s]",
            "\r57.2ktests [03:00, 309tests/s]",
            "\r57.2ktests [03:10, 309tests/s]",
            "\r65.0ktests [03:30, 293tests/s]",
            "\r65.0ktests [03:40, 293tests/s]",
            "\r72.3ktests [04:00, 277tests/s]",
            "\r72.3ktests [04:10, 277tests/s]",
            "\r81.4ktests [04:30, 284tests/s]",
            "\r81.4ktests [04:40, 284tests/s]",
            "\r99.0ktests [05:00, 336tests/s]",
            "\r99.0ktests [05:10, 336tests/s]",
            "\r115ktests [05:30, 376tests/s] ",
            "\r115ktests [05:40, 376tests/s]",
            "\r129ktests [06:00, 400tests/s]",
            "\r129ktests [06:10, 400tests/s]",
            "\r142ktests [06:30, 414tests/s]",
            "\r142ktests [06:40, 414tests/s]",
            "\r155ktests [07:00, 413tests/s]",
            "\r155ktests [07:10, 413tests/s]",
            "\r160ktests [07:14, 368tests/s]",
            "\n"
          ],
          "output_type": "stream"
        },
        {
          "name": "stdout",
          "text": [
            "Running 160000 tasks\n",
            "Finished 160000 tasks in 0:07:22.714005\n"
          ],
          "output_type": "stream"
        }
      ],
      "source": "\nimport concurrent.futures\nfrom concurrent.futures.process import ProcessPoolExecutor\nfrom datetime import datetime\nfrom tqdm import tqdm\n    \n# Defining a DataFrame to handle results\nfinal_result \u003d pd.DataFrame(columns\u003d[\u0027buy_slope_threshold\u0027, \u0027buy_velocity_threshold\u0027, \u0027close_slope_threshold\u0027, \u0027close_velocity_threshold\u0027, \u0027sell_slope_threshold\u0027, \u0027sell_velocity_threshold\u0027, \u0027profit_percentage\u0027])\n\ndef single_test(data_df, \n                buy_slope_threshold, \n                buy_velocity_threshold, \n                close_slope_threshold, \n                close_velocity_threshold, \n                sell_slope_threshold, \n                sell_velocity_threshold):\n        \n        # Prepare Maps \u0026 Filters \n        \n        long_mask \u003d (data_df.slope \u003e buy_slope_threshold) \u0026 (data_df.velocity \u003e buy_velocity_threshold)\n        long_close \u003d (data_df.slope \u003c -close_slope_threshold) \u0026 (data_df.velocity \u003c -close_velocity_threshold)\n        long_series \u003d data_df.p_change[long_mask]\n        long_array \u003d long_series.values\n        long_profit \u003d np.product(long_array/100 + 1) - 1\n        \n        short_mask \u003d (data_df.slope \u003c sell_slope_threshold) \u0026 (data_df.velocity \u003c sell_velocity_threshold)\n        short_close \u003d (data_df.slope \u003e close_slope_threshold) \u0026 (data_df.velocity \u003e close_velocity_threshold)\n        short_series \u003d data_df.p_change[short_mask]\n        short_array \u003d short_series.values\n        short_profit \u003d np.abs(np.product(short_array/100 - 1)) - 1\n    \n        trade_profit \u003d long_profit + short_profit\n    \n        test_result \u003d [buy_slope_threshold, \n                       buy_velocity_threshold, \n                       close_slope_threshold, \n                       close_velocity_threshold, \n                       sell_slope_threshold, \n                       sell_velocity_threshold, \n                       trade_profit * 100]\n        return test_result\n\nstart_time \u003d datetime.now()\n\nwith ProcessPoolExecutor() as executor:\n    \"\"\"\n    By default, ProcessPool uses maximum available number of cores to process.\n    \"\"\"\n    \n    \"\"\"\n    Equivalent to executor.map(fn, *iterables),\n    but displays a tqdm-based progress bar.\n    \n    Does not support timeout or chunksize as executor.submit is used internally\n    \n    **kwargs is passed to tqdm.\n    \"\"\"\n    futures_list \u003d []\n    kwargs \u003d {\n        \u0027total\u0027: len(futures_list),\n        \u0027mininterval\u0027: 30.0,\n        \u0027unit\u0027: \u0027tests\u0027,\n        \u0027unit_scale\u0027: True,\n        \u0027leave\u0027: True\n    }\n        \n    futures_list \u003d [executor.submit(single_test, \n                                    extra_df,\n                                    buy_slope_threshold, \n                                    buy_velocity_threshold, \n                                    close_slope_threshold, \n                                    close_velocity_threshold, \n                                    sell_slope_threshold, \n                                    sell_velocity_threshold) for buy_slope_threshold, \\\n                                                                 buy_velocity_threshold, \\\n                                                                 close_slope_threshold, \\\n                                                                 close_velocity_threshold, \\\n                                                                 sell_slope_threshold, \\\n                                                                 sell_velocity_threshold in task_list]\n    print(\"Running {} tasks\".format(len(futures_list)))\n    \n    for f in tqdm(concurrent.futures.as_completed(futures_list), **kwargs):\n        # done_callback runs on the main process\n        result_row \u003d f.result()\n        \n        final_result \u003d final_result.append(pd.Series(result_row, index\u003dfinal_result.columns), ignore_index\u003dTrue)\n\n    print(\"Finished {} tasks in {}\".format(len(task_list), datetime.now() - start_time))\n",
      "metadata": {
        "pycharm": {
          "metadata": false,
          "name": "#%% \n",
          "is_executing": false
        }
      }
    },
    {
      "cell_type": "markdown",
      "source": "\n# Analysing Results",
      "metadata": {
        "pycharm": {
          "metadata": false
        }
      }
    },
    {
      "cell_type": "code",
      "execution_count": null,
      "outputs": [],
      "source": "        \nfinal_result \u003d final_result.sort_values(by\u003d[\u0027profit_percentage\u0027],\n                                        ascending\u003dFalse)\nfinal_result.head()\n",
      "metadata": {
        "pycharm": {
          "metadata": false,
          "name": "#%%\n"
        }
      }
    },
    {
      "cell_type": "markdown",
      "source": "\n## MultiProcess with Numpy + Namba @JIT\n",
      "metadata": {
        "pycharm": {
          "metadata": false
        }
      }
    },
    {
      "cell_type": "code",
      "execution_count": 26,
      "outputs": [
        {
          "name": "stderr",
          "text": [
            "\u003cipython-input-26-7d085320e61c\u003e:21: NumbaWarning: \u001b[1m\nCompilation is falling back to object mode WITH looplifting enabled because Function \"single_test\" failed type inference due to: \u001b[1m\u001b[1mnon-precise type pyobject\u001b[0m\n\u001b[0m\u001b[1m[1] During: typing of argument at \u003cipython-input-26-7d085320e61c\u003e (32)\u001b[0m\n\u001b[1m\nFile \"\u003cipython-input-26-7d085320e61c\u003e\", line 32:\u001b[0m\n\u001b[1mdef single_test(data_df, \n    \u003csource elided\u003e\n        \n\u001b[1m        long_mask \u003d (data_df.slope \u003e buy_slope_threshold) \u0026 (data_df.velocity \u003e buy_velocity_threshold)\n\u001b[0m        \u001b[1m^\u001b[0m\u001b[0m\n\u001b[0m\n  @jit\n",
            "\u003cipython-input-26-7d085320e61c\u003e:21: NumbaWarning: \u001b[1m\nCompilation is falling back to object mode WITH looplifting enabled because Function \"single_test\" failed type inference due to: \u001b[1m\u001b[1mnon-precise type pyobject\u001b[0m\n\u001b[0m\u001b[1m[1] During: typing of argument at \u003cipython-input-26-7d085320e61c\u003e (32)\u001b[0m\n\u001b[1m\nFile \"\u003cipython-input-26-7d085320e61c\u003e\", line 32:\u001b[0m\n\u001b[1mdef single_test(data_df, \n    \u003csource elided\u003e\n        \n\u001b[1m        long_mask \u003d (data_df.slope \u003e buy_slope_threshold) \u0026 (data_df.velocity \u003e buy_velocity_threshold)\n\u001b[0m        \u001b[1m^\u001b[0m\u001b[0m\n\u001b[0m\n  @jit\n",
            "\u003cipython-input-26-7d085320e61c\u003e:21: NumbaWarning: \u001b[1m\nCompilation is falling back to object mode WITH looplifting enabled because Function \"single_test\" failed type inference due to: \u001b[1m\u001b[1mnon-precise type pyobject\u001b[0m\n\u001b[0m\u001b[1m[1] During: typing of argument at \u003cipython-input-26-7d085320e61c\u003e (32)\u001b[0m\n\u001b[1m\nFile \"\u003cipython-input-26-7d085320e61c\u003e\", line 32:\u001b[0m\n\u001b[1mdef single_test(data_df, \n    \u003csource elided\u003e\n        \n\u001b[1m        long_mask \u003d (data_df.slope \u003e buy_slope_threshold) \u0026 (data_df.velocity \u003e buy_velocity_threshold)\n\u001b[0m        \u001b[1m^\u001b[0m\u001b[0m\n\u001b[0m\n  @jit\n",
            "\u003cipython-input-26-7d085320e61c\u003e:21: NumbaWarning: \u001b[1m\nCompilation is falling back to object mode WITH looplifting enabled because Function \"single_test\" failed type inference due to: \u001b[1m\u001b[1mnon-precise type pyobject\u001b[0m\n\u001b[0m\u001b[1m[1] During: typing of argument at \u003cipython-input-26-7d085320e61c\u003e (32)\u001b[0m\n\u001b[1m\nFile \"\u003cipython-input-26-7d085320e61c\u003e\", line 32:\u001b[0m\n\u001b[1mdef single_test(data_df, \n    \u003csource elided\u003e\n        \n\u001b[1m        long_mask \u003d (data_df.slope \u003e buy_slope_threshold) \u0026 (data_df.velocity \u003e buy_velocity_threshold)\n\u001b[0m        \u001b[1m^\u001b[0m\u001b[0m\n\u001b[0m\n  @jit\n",
            "\u003cipython-input-26-7d085320e61c\u003e:21: NumbaWarning: \u001b[1m\nCompilation is falling back to object mode WITH looplifting enabled because Function \"single_test\" failed type inference due to: \u001b[1m\u001b[1mnon-precise type pyobject\u001b[0m\n\u001b[0m\u001b[1m[1] During: typing of argument at \u003cipython-input-26-7d085320e61c\u003e (32)\u001b[0m\n\u001b[1m\nFile \"\u003cipython-input-26-7d085320e61c\u003e\", line 32:\u001b[0m\n\u001b[1mdef single_test(data_df, \n    \u003csource elided\u003e\n        \n\u001b[1m        long_mask \u003d (data_df.slope \u003e buy_slope_threshold) \u0026 (data_df.velocity \u003e buy_velocity_threshold)\n\u001b[0m        \u001b[1m^\u001b[0m\u001b[0m\n\u001b[0m\n  @jit\n",
            "\u003cipython-input-26-7d085320e61c\u003e:21: NumbaWarning: \u001b[1m\nCompilation is falling back to object mode WITH looplifting enabled because Function \"single_test\" failed type inference due to: \u001b[1m\u001b[1mnon-precise type pyobject\u001b[0m\n\u001b[0m\u001b[1m[1] During: typing of argument at \u003cipython-input-26-7d085320e61c\u003e (32)\u001b[0m\n\u001b[1m\nFile \"\u003cipython-input-26-7d085320e61c\u003e\", line 32:\u001b[0m\n\u001b[1mdef single_test(data_df, \n    \u003csource elided\u003e\n        \n\u001b[1m        long_mask \u003d (data_df.slope \u003e buy_slope_threshold) \u0026 (data_df.velocity \u003e buy_velocity_threshold)\n\u001b[0m        \u001b[1m^\u001b[0m\u001b[0m\n\u001b[0m\n  @jit\n",
            "\u003cipython-input-26-7d085320e61c\u003e:21: NumbaWarning: \u001b[1m\nCompilation is falling back to object mode WITH looplifting enabled because Function \"single_test\" failed type inference due to: \u001b[1m\u001b[1mnon-precise type pyobject\u001b[0m\n\u001b[0m\u001b[1m[1] During: typing of argument at \u003cipython-input-26-7d085320e61c\u003e (32)\u001b[0m\n\u001b[1m\nFile \"\u003cipython-input-26-7d085320e61c\u003e\", line 32:\u001b[0m\n\u001b[1mdef single_test(data_df, \n    \u003csource elided\u003e\n        \n\u001b[1m        long_mask \u003d (data_df.slope \u003e buy_slope_threshold) \u0026 (data_df.velocity \u003e buy_velocity_threshold)\n\u001b[0m        \u001b[1m^\u001b[0m\u001b[0m\n\u001b[0m\n  @jit\n",
            "\u003cipython-input-26-7d085320e61c\u003e:21: NumbaWarning: \u001b[1m\nCompilation is falling back to object mode WITH looplifting enabled because Function \"single_test\" failed type inference due to: \u001b[1m\u001b[1mnon-precise type pyobject\u001b[0m\n\u001b[0m\u001b[1m[1] During: typing of argument at \u003cipython-input-26-7d085320e61c\u003e (32)\u001b[0m\n\u001b[1m\nFile \"\u003cipython-input-26-7d085320e61c\u003e\", line 32:\u001b[0m\n\u001b[1mdef single_test(data_df, \n    \u003csource elided\u003e\n        \n\u001b[1m        long_mask \u003d (data_df.slope \u003e buy_slope_threshold) \u0026 (data_df.velocity \u003e buy_velocity_threshold)\n\u001b[0m        \u001b[1m^\u001b[0m\u001b[0m\n\u001b[0m\n  @jit\n",
            "/Library/Frameworks/Python.framework/Versions/3.7/lib/python3.7/site-packages/numba/compiler.py:725: NumbaWarning: \u001b[1mFunction \"single_test\" was compiled in object mode without forceobj\u003dTrue.\n\u001b[1m\nFile \"\u003cipython-input-26-7d085320e61c\u003e\", line 22:\u001b[0m\n\u001b[1m@jit\n\u001b[1mdef single_test(data_df, \n\u001b[0m\u001b[1m^\u001b[0m\u001b[0m\n\u001b[0m\n  self.func_ir.loc))\n",
            "/Library/Frameworks/Python.framework/Versions/3.7/lib/python3.7/site-packages/numba/compiler.py:734: NumbaDeprecationWarning: \u001b[1m\nFall-back from the nopython compilation path to the object mode compilation path has been detected, this is deprecated behaviour.\n\nFor more information visit http://numba.pydata.org/numba-doc/latest/reference/deprecation.html#deprecation-of-object-mode-fall-back-behaviour-when-using-jit\n\u001b[1m\nFile \"\u003cipython-input-26-7d085320e61c\u003e\", line 22:\u001b[0m\n\u001b[1m@jit\n\u001b[1mdef single_test(data_df, \n\u001b[0m\u001b[1m^\u001b[0m\u001b[0m\n\u001b[0m\n  warnings.warn(errors.NumbaDeprecationWarning(msg, self.func_ir.loc))\n",
            "/Library/Frameworks/Python.framework/Versions/3.7/lib/python3.7/site-packages/numba/compiler.py:725: NumbaWarning: \u001b[1mFunction \"single_test\" was compiled in object mode without forceobj\u003dTrue.\n\u001b[1m\nFile \"\u003cipython-input-26-7d085320e61c\u003e\", line 22:\u001b[0m\n\u001b[1m@jit\n\u001b[1mdef single_test(data_df, \n\u001b[0m\u001b[1m^\u001b[0m\u001b[0m\n\u001b[0m\n  self.func_ir.loc))\n",
            "/Library/Frameworks/Python.framework/Versions/3.7/lib/python3.7/site-packages/numba/compiler.py:734: NumbaDeprecationWarning: \u001b[1m\nFall-back from the nopython compilation path to the object mode compilation path has been detected, this is deprecated behaviour.\n\nFor more information visit http://numba.pydata.org/numba-doc/latest/reference/deprecation.html#deprecation-of-object-mode-fall-back-behaviour-when-using-jit\n\u001b[1m\nFile \"\u003cipython-input-26-7d085320e61c\u003e\", line 22:\u001b[0m\n\u001b[1m@jit\n\u001b[1mdef single_test(data_df, \n\u001b[0m\u001b[1m^\u001b[0m\u001b[0m\n\u001b[0m\n  warnings.warn(errors.NumbaDeprecationWarning(msg, self.func_ir.loc))\n",
            "/Library/Frameworks/Python.framework/Versions/3.7/lib/python3.7/site-packages/numba/compiler.py:725: NumbaWarning: \u001b[1mFunction \"single_test\" was compiled in object mode without forceobj\u003dTrue.\n\u001b[1m\nFile \"\u003cipython-input-26-7d085320e61c\u003e\", line 22:\u001b[0m\n\u001b[1m@jit\n\u001b[1mdef single_test(data_df, \n\u001b[0m\u001b[1m^\u001b[0m\u001b[0m\n\u001b[0m\n  self.func_ir.loc))\n",
            "/Library/Frameworks/Python.framework/Versions/3.7/lib/python3.7/site-packages/numba/compiler.py:734: NumbaDeprecationWarning: \u001b[1m\nFall-back from the nopython compilation path to the object mode compilation path has been detected, this is deprecated behaviour.\n\nFor more information visit http://numba.pydata.org/numba-doc/latest/reference/deprecation.html#deprecation-of-object-mode-fall-back-behaviour-when-using-jit\n\u001b[1m\nFile \"\u003cipython-input-26-7d085320e61c\u003e\", line 22:\u001b[0m\n\u001b[1m@jit\n\u001b[1mdef single_test(data_df, \n\u001b[0m\u001b[1m^\u001b[0m\u001b[0m\n\u001b[0m\n  warnings.warn(errors.NumbaDeprecationWarning(msg, self.func_ir.loc))\n",
            "/Library/Frameworks/Python.framework/Versions/3.7/lib/python3.7/site-packages/numba/compiler.py:725: NumbaWarning: \u001b[1mFunction \"single_test\" was compiled in object mode without forceobj\u003dTrue.\n\u001b[1m\nFile \"\u003cipython-input-26-7d085320e61c\u003e\", line 22:\u001b[0m\n\u001b[1m@jit\n\u001b[1mdef single_test(data_df, \n\u001b[0m\u001b[1m^\u001b[0m\u001b[0m\n\u001b[0m\n  self.func_ir.loc))\n",
            "/Library/Frameworks/Python.framework/Versions/3.7/lib/python3.7/site-packages/numba/compiler.py:734: NumbaDeprecationWarning: \u001b[1m\nFall-back from the nopython compilation path to the object mode compilation path has been detected, this is deprecated behaviour.\n\nFor more information visit http://numba.pydata.org/numba-doc/latest/reference/deprecation.html#deprecation-of-object-mode-fall-back-behaviour-when-using-jit\n\u001b[1m\nFile \"\u003cipython-input-26-7d085320e61c\u003e\", line 22:\u001b[0m\n\u001b[1m@jit\n\u001b[1mdef single_test(data_df, \n\u001b[0m\u001b[1m^\u001b[0m\u001b[0m\n\u001b[0m\n  warnings.warn(errors.NumbaDeprecationWarning(msg, self.func_ir.loc))\n",
            "/Library/Frameworks/Python.framework/Versions/3.7/lib/python3.7/site-packages/numba/compiler.py:725: NumbaWarning: \u001b[1mFunction \"single_test\" was compiled in object mode without forceobj\u003dTrue.\n\u001b[1m\nFile \"\u003cipython-input-26-7d085320e61c\u003e\", line 22:\u001b[0m\n\u001b[1m@jit\n\u001b[1mdef single_test(data_df, \n\u001b[0m\u001b[1m^\u001b[0m\u001b[0m\n\u001b[0m\n  self.func_ir.loc))\n",
            "/Library/Frameworks/Python.framework/Versions/3.7/lib/python3.7/site-packages/numba/compiler.py:734: NumbaDeprecationWarning: \u001b[1m\nFall-back from the nopython compilation path to the object mode compilation path has been detected, this is deprecated behaviour.\n\nFor more information visit http://numba.pydata.org/numba-doc/latest/reference/deprecation.html#deprecation-of-object-mode-fall-back-behaviour-when-using-jit\n\u001b[1m\nFile \"\u003cipython-input-26-7d085320e61c\u003e\", line 22:\u001b[0m\n\u001b[1m@jit\n\u001b[1mdef single_test(data_df, \n\u001b[0m\u001b[1m^\u001b[0m\u001b[0m\n\u001b[0m\n  warnings.warn(errors.NumbaDeprecationWarning(msg, self.func_ir.loc))\n",
            "/Library/Frameworks/Python.framework/Versions/3.7/lib/python3.7/site-packages/numba/compiler.py:725: NumbaWarning: \u001b[1mFunction \"single_test\" was compiled in object mode without forceobj\u003dTrue.\n\u001b[1m\nFile \"\u003cipython-input-26-7d085320e61c\u003e\", line 22:\u001b[0m\n\u001b[1m@jit\n\u001b[1mdef single_test(data_df, \n\u001b[0m\u001b[1m^\u001b[0m\u001b[0m\n\u001b[0m\n  self.func_ir.loc))\n",
            "/Library/Frameworks/Python.framework/Versions/3.7/lib/python3.7/site-packages/numba/compiler.py:734: NumbaDeprecationWarning: \u001b[1m\nFall-back from the nopython compilation path to the object mode compilation path has been detected, this is deprecated behaviour.\n\nFor more information visit http://numba.pydata.org/numba-doc/latest/reference/deprecation.html#deprecation-of-object-mode-fall-back-behaviour-when-using-jit\n\u001b[1m\nFile \"\u003cipython-input-26-7d085320e61c\u003e\", line 22:\u001b[0m\n\u001b[1m@jit\n\u001b[1mdef single_test(data_df, \n\u001b[0m\u001b[1m^\u001b[0m\u001b[0m\n\u001b[0m\n  warnings.warn(errors.NumbaDeprecationWarning(msg, self.func_ir.loc))\n",
            "/Library/Frameworks/Python.framework/Versions/3.7/lib/python3.7/site-packages/numba/compiler.py:725: NumbaWarning: \u001b[1mFunction \"single_test\" was compiled in object mode without forceobj\u003dTrue.\n\u001b[1m\nFile \"\u003cipython-input-26-7d085320e61c\u003e\", line 22:\u001b[0m\n\u001b[1m@jit\n\u001b[1mdef single_test(data_df, \n\u001b[0m\u001b[1m^\u001b[0m\u001b[0m\n\u001b[0m\n  self.func_ir.loc))\n",
            "/Library/Frameworks/Python.framework/Versions/3.7/lib/python3.7/site-packages/numba/compiler.py:734: NumbaDeprecationWarning: \u001b[1m\nFall-back from the nopython compilation path to the object mode compilation path has been detected, this is deprecated behaviour.\n\nFor more information visit http://numba.pydata.org/numba-doc/latest/reference/deprecation.html#deprecation-of-object-mode-fall-back-behaviour-when-using-jit\n\u001b[1m\nFile \"\u003cipython-input-26-7d085320e61c\u003e\", line 22:\u001b[0m\n\u001b[1m@jit\n\u001b[1mdef single_test(data_df, \n\u001b[0m\u001b[1m^\u001b[0m\u001b[0m\n\u001b[0m\n  warnings.warn(errors.NumbaDeprecationWarning(msg, self.func_ir.loc))\n",
            "/Library/Frameworks/Python.framework/Versions/3.7/lib/python3.7/site-packages/numba/compiler.py:725: NumbaWarning: \u001b[1mFunction \"single_test\" was compiled in object mode without forceobj\u003dTrue.\n\u001b[1m\nFile \"\u003cipython-input-26-7d085320e61c\u003e\", line 22:\u001b[0m\n\u001b[1m@jit\n\u001b[1mdef single_test(data_df, \n\u001b[0m\u001b[1m^\u001b[0m\u001b[0m\n\u001b[0m\n  self.func_ir.loc))\n",
            "/Library/Frameworks/Python.framework/Versions/3.7/lib/python3.7/site-packages/numba/compiler.py:734: NumbaDeprecationWarning: \u001b[1m\nFall-back from the nopython compilation path to the object mode compilation path has been detected, this is deprecated behaviour.\n\nFor more information visit http://numba.pydata.org/numba-doc/latest/reference/deprecation.html#deprecation-of-object-mode-fall-back-behaviour-when-using-jit\n\u001b[1m\nFile \"\u003cipython-input-26-7d085320e61c\u003e\", line 22:\u001b[0m\n\u001b[1m@jit\n\u001b[1mdef single_test(data_df, \n\u001b[0m\u001b[1m^\u001b[0m\u001b[0m\n\u001b[0m\n  warnings.warn(errors.NumbaDeprecationWarning(msg, self.func_ir.loc))\n",
            "\r0.00tests [00:00, ?tests/s]",
            "\r11.7ktests [00:30, 389tests/s]",
            "\r11.7ktests [00:40, 389tests/s]",
            "\r22.0ktests [01:00, 375tests/s]",
            "\r22.0ktests [01:10, 375tests/s]",
            "\r31.8ktests [01:30, 359tests/s]",
            "\r31.8ktests [01:40, 359tests/s]",
            "\r40.4ktests [02:00, 333tests/s]",
            "\r40.4ktests [02:10, 333tests/s]",
            "\r47.7ktests [02:30, 300tests/s]",
            "\r47.7ktests [02:40, 300tests/s]",
            "\r55.1ktests [03:00, 282tests/s]",
            "\r55.1ktests [03:10, 282tests/s]",
            "\r60.6ktests [03:30, 242tests/s]",
            "\r60.6ktests [03:40, 242tests/s]",
            "\r65.1ktests [04:00, 205tests/s]",
            "\r65.1ktests [04:10, 205tests/s]",
            "\r71.7ktests [04:30, 210tests/s]",
            "\r71.7ktests [04:40, 210tests/s]",
            "\r77.9ktests [05:00, 208tests/s]",
            "\r77.9ktests [05:10, 208tests/s]",
            "\r83.3ktests [05:30, 199tests/s]",
            "\r83.3ktests [05:40, 199tests/s]",
            "\r89.3ktests [06:00, 199tests/s]",
            "\r89.3ktests [06:10, 199tests/s]",
            "\r106ktests [06:30, 247tests/s] ",
            "\r106ktests [06:40, 247tests/s]",
            "\r121ktests [07:00, 290tests/s]",
            "\r121ktests [07:10, 290tests/s]",
            "\r134ktests [07:30, 325tests/s]",
            "\r134ktests [07:40, 325tests/s]",
            "\r147ktests [08:00, 349tests/s]",
            "\r147ktests [08:10, 349tests/s]",
            "\r159ktests [08:30, 362tests/s]",
            "\r160ktests [08:33, 312tests/s]",
            "\n"
          ],
          "output_type": "stream"
        },
        {
          "name": "stdout",
          "text": [
            "Running 160000 tasks\n",
            "Finished 160000 tasks in 0:08:42.339109\n"
          ],
          "output_type": "stream"
        }
      ],
      "source": "\nimport concurrent.futures\nfrom numba import jit, prange\nfrom concurrent.futures.process import ProcessPoolExecutor\nfrom datetime import datetime\nfrom tqdm import tqdm\n\n# Defining a DataFrame to handle results\nfinal_result_2 \u003d pd.DataFrame(columns\u003d[\u0027buy_slope_threshold\u0027, \u0027buy_velocity_threshold\u0027, \u0027close_slope_threshold\u0027, \u0027close_velocity_threshold\u0027, \u0027sell_slope_threshold\u0027, \u0027sell_velocity_threshold\u0027, \u0027profit_percentage\u0027])\n\n@jit(nopython\u003dTrue, parallel\u003dTrue)\ndef calc_long_profit(array):\n    array \u003d array / 100 + 1\n    return array.prod() - 1\n\n@jit(nopython\u003dTrue, parallel\u003dTrue)\ndef calc_short_profit(array):\n    array \u003d array / 100 - 1\n    return array.prod() - 1\n\n@jit\ndef single_test(data_df, \n                buy_slope_threshold, \n                buy_velocity_threshold, \n                close_slope_threshold, \n                close_velocity_threshold, \n                sell_slope_threshold, \n                sell_velocity_threshold):\n        \n        # Prepare Maps \u0026 Filters \n        \n        long_mask \u003d (data_df.slope \u003e buy_slope_threshold) \u0026 (data_df.velocity \u003e buy_velocity_threshold)\n        long_close \u003d (data_df.slope \u003c -close_slope_threshold) \u0026 (data_df.velocity \u003c -close_velocity_threshold)\n        long_series \u003d data_df.p_change[long_mask]\n        long_array \u003d long_series.values\n        long_profit \u003d calc_long_profit(long_array)\n        \n        short_mask \u003d (data_df.slope \u003c sell_slope_threshold) \u0026 (data_df.velocity \u003c sell_velocity_threshold)\n        short_close \u003d (data_df.slope \u003e close_slope_threshold) \u0026 (data_df.velocity \u003e close_velocity_threshold)\n        short_series \u003d data_df.p_change[short_mask]\n        short_array \u003d short_series.values\n        short_profit \u003d calc_short_profit(short_array)\n    \n        trade_profit \u003d long_profit + short_profit\n    \n        test_result \u003d [buy_slope_threshold, \n                       buy_velocity_threshold, \n                       close_slope_threshold, \n                       close_velocity_threshold, \n                       sell_slope_threshold, \n                       sell_velocity_threshold, \n                       trade_profit * 100]\n        return test_result\n\nstart_time \u003d datetime.now()\n\nwith ProcessPoolExecutor() as executor:\n    \"\"\"\n    By default, ProcessPool uses maximum available number of cores to process.\n    \"\"\"\n    \n    \"\"\"\n    Equivalent to executor.map(fn, *iterables),\n    but displays a tqdm-based progress bar.\n    \n    Does not support timeout or chunksize as executor.submit is used internally\n    \n    **kwargs is passed to tqdm.\n    \"\"\"\n    futures_list \u003d []\n    kwargs \u003d {\n        \u0027total\u0027: len(futures_list),\n        \u0027mininterval\u0027: 30.0,\n        \u0027unit\u0027: \u0027tests\u0027,\n        \u0027unit_scale\u0027: True,\n        \u0027leave\u0027: True\n    }\n    \n    futures_list \u003d []\n    \n    for i in prange(len(task_list)):\n        \n        buy_slope_threshold, \\\n        buy_velocity_threshold, \\\n        close_slope_threshold, \\\n        close_velocity_threshold, \\\n        sell_slope_threshold, \\\n        sell_velocity_threshold \u003d task_list[i]\n        \n        futures_list.append(executor.submit(single_test, \n                                            extra_df,\n                                            buy_slope_threshold, \n                                            buy_velocity_threshold, \n                                            close_slope_threshold, \n                                            close_velocity_threshold, \n                                            sell_slope_threshold, \n                                            sell_velocity_threshold))\n        \n    print(\"Running {} tasks\".format(len(futures_list)))\n    \n    for f in tqdm(concurrent.futures.as_completed(futures_list), **kwargs):\n        # done_callback runs on the main process\n        result_row \u003d f.result()\n        \n        final_result_2 \u003d final_result_2.append(pd.Series(result_row, index\u003dfinal_result_2.columns), ignore_index\u003dTrue)\n\n    print(\"Finished {} tasks in {}\".format(len(task_list), datetime.now() - start_time))\n",
      "metadata": {
        "pycharm": {
          "metadata": false,
          "name": "#%% \n",
          "is_executing": false
        }
      }
    },
    {
      "cell_type": "markdown",
      "source": "\n# Analysing Results\n",
      "metadata": {
        "pycharm": {
          "metadata": false,
          "name": "#%% md\n"
        }
      }
    },
    {
      "cell_type": "code",
      "execution_count": 27,
      "outputs": [
        {
          "data": {
            "text/plain": "       buy_slope_threshold  buy_velocity_threshold  close_slope_threshold  \\\n97358                  0.1                    -0.5                    0.1   \n97259                  0.1                    -0.5                    0.1   \n96759                  0.1                    -0.5                   -0.1   \n96959                  0.1                    -0.5                    0.0   \n96259                  0.1                    -0.5                   -0.2   \n\n       close_velocity_threshold  sell_slope_threshold  \\\n97358                      -0.1         -1.110223e-16   \n97259                      -0.2         -1.110223e-16   \n96759                       0.1         -1.110223e-16   \n96959                      -0.1         -1.110223e-16   \n96259                       0.0         -1.110223e-16   \n\n       sell_velocity_threshold  profit_percentage  \n97358                      0.4         177.025468  \n97259                      0.4         177.025468  \n96759                      0.4         177.025468  \n96959                      0.4         177.025468  \n96259                      0.4         177.025468  ",
            "text/html": "\u003cdiv\u003e\n\u003cstyle scoped\u003e\n    .dataframe tbody tr th:only-of-type {\n        vertical-align: middle;\n    }\n\n    .dataframe tbody tr th {\n        vertical-align: top;\n    }\n\n    .dataframe thead th {\n        text-align: right;\n    }\n\u003c/style\u003e\n\u003ctable border\u003d\"1\" class\u003d\"dataframe\"\u003e\n  \u003cthead\u003e\n    \u003ctr style\u003d\"text-align: right;\"\u003e\n      \u003cth\u003e\u003c/th\u003e\n      \u003cth\u003ebuy_slope_threshold\u003c/th\u003e\n      \u003cth\u003ebuy_velocity_threshold\u003c/th\u003e\n      \u003cth\u003eclose_slope_threshold\u003c/th\u003e\n      \u003cth\u003eclose_velocity_threshold\u003c/th\u003e\n      \u003cth\u003esell_slope_threshold\u003c/th\u003e\n      \u003cth\u003esell_velocity_threshold\u003c/th\u003e\n      \u003cth\u003eprofit_percentage\u003c/th\u003e\n    \u003c/tr\u003e\n  \u003c/thead\u003e\n  \u003ctbody\u003e\n    \u003ctr\u003e\n      \u003cth\u003e97358\u003c/th\u003e\n      \u003ctd\u003e0.1\u003c/td\u003e\n      \u003ctd\u003e-0.5\u003c/td\u003e\n      \u003ctd\u003e0.1\u003c/td\u003e\n      \u003ctd\u003e-0.1\u003c/td\u003e\n      \u003ctd\u003e-1.110223e-16\u003c/td\u003e\n      \u003ctd\u003e0.4\u003c/td\u003e\n      \u003ctd\u003e177.025468\u003c/td\u003e\n    \u003c/tr\u003e\n    \u003ctr\u003e\n      \u003cth\u003e97259\u003c/th\u003e\n      \u003ctd\u003e0.1\u003c/td\u003e\n      \u003ctd\u003e-0.5\u003c/td\u003e\n      \u003ctd\u003e0.1\u003c/td\u003e\n      \u003ctd\u003e-0.2\u003c/td\u003e\n      \u003ctd\u003e-1.110223e-16\u003c/td\u003e\n      \u003ctd\u003e0.4\u003c/td\u003e\n      \u003ctd\u003e177.025468\u003c/td\u003e\n    \u003c/tr\u003e\n    \u003ctr\u003e\n      \u003cth\u003e96759\u003c/th\u003e\n      \u003ctd\u003e0.1\u003c/td\u003e\n      \u003ctd\u003e-0.5\u003c/td\u003e\n      \u003ctd\u003e-0.1\u003c/td\u003e\n      \u003ctd\u003e0.1\u003c/td\u003e\n      \u003ctd\u003e-1.110223e-16\u003c/td\u003e\n      \u003ctd\u003e0.4\u003c/td\u003e\n      \u003ctd\u003e177.025468\u003c/td\u003e\n    \u003c/tr\u003e\n    \u003ctr\u003e\n      \u003cth\u003e96959\u003c/th\u003e\n      \u003ctd\u003e0.1\u003c/td\u003e\n      \u003ctd\u003e-0.5\u003c/td\u003e\n      \u003ctd\u003e0.0\u003c/td\u003e\n      \u003ctd\u003e-0.1\u003c/td\u003e\n      \u003ctd\u003e-1.110223e-16\u003c/td\u003e\n      \u003ctd\u003e0.4\u003c/td\u003e\n      \u003ctd\u003e177.025468\u003c/td\u003e\n    \u003c/tr\u003e\n    \u003ctr\u003e\n      \u003cth\u003e96259\u003c/th\u003e\n      \u003ctd\u003e0.1\u003c/td\u003e\n      \u003ctd\u003e-0.5\u003c/td\u003e\n      \u003ctd\u003e-0.2\u003c/td\u003e\n      \u003ctd\u003e0.0\u003c/td\u003e\n      \u003ctd\u003e-1.110223e-16\u003c/td\u003e\n      \u003ctd\u003e0.4\u003c/td\u003e\n      \u003ctd\u003e177.025468\u003c/td\u003e\n    \u003c/tr\u003e\n  \u003c/tbody\u003e\n\u003c/table\u003e\n\u003c/div\u003e"
          },
          "metadata": {},
          "output_type": "execute_result",
          "execution_count": 27
        }
      ],
      "source": "\nfinal_result_2 \u003d final_result.sort_values(by\u003d[\u0027profit_percentage\u0027],\n                                        ascending\u003dFalse)\nfinal_result_2.head()\n",
      "metadata": {
        "pycharm": {
          "metadata": false,
          "name": "#%%\n",
          "is_executing": false
        }
      }
    },
    {
      "cell_type": "code",
      "execution_count": null,
      "outputs": [],
      "source": "\n",
      "metadata": {
        "pycharm": {
          "metadata": false,
          "name": "#%%\n"
        }
      }
    }
  ],
  "metadata": {
    "language_info": {
      "codemirror_mode": {
        "name": "ipython",
        "version": 2
      },
      "file_extension": ".py",
      "mimetype": "text/x-python",
      "name": "python",
      "nbconvert_exporter": "python",
      "pygments_lexer": "ipython2",
      "version": "2.7.6"
    },
    "kernelspec": {
      "name": "python3",
      "language": "python",
      "display_name": "Python 3"
    }
  },
  "nbformat": 4,
  "nbformat_minor": 0
}