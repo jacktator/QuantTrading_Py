{
  "cells": [
    {
      "cell_type": "markdown",
      "metadata": {
        "collapsed": true,
        "pycharm": {
          "is_executing": false,
          "name": "#%% md\n"
        }
      },
      "source": "\n# Import Data\n\nImporting AXP data."
    },
    {
      "cell_type": "code",
      "execution_count": 4,
      "outputs": [
        {
          "data": {
            "text/plain": "       timestamp    open    high     low   close  pre_close  p_change  \\\n4999  2001-05-10  0.5233  0.5267  0.5217  0.5237     0.5233  0.000764   \n4998  2001-05-11  0.5237  0.5252  0.5184  0.5216     0.5237 -0.004010   \n4997  2001-05-14  0.5213  0.5224  0.5154  0.5193     0.5216 -0.004410   \n4996  2001-05-15  0.5193  0.5212  0.5150  0.5206     0.5193  0.002503   \n4995  2001-05-16  0.5209  0.5240  0.5182  0.5233     0.5206  0.005186   \n\n      pip_change  \n4999    7.643799  \n4998  -40.099293  \n4997  -44.095092  \n4996   25.033699  \n4995   51.863235  ",
            "text/html": "\u003cdiv\u003e\n\u003cstyle scoped\u003e\n    .dataframe tbody tr th:only-of-type {\n        vertical-align: middle;\n    }\n\n    .dataframe tbody tr th {\n        vertical-align: top;\n    }\n\n    .dataframe thead th {\n        text-align: right;\n    }\n\u003c/style\u003e\n\u003ctable border\u003d\"1\" class\u003d\"dataframe\"\u003e\n  \u003cthead\u003e\n    \u003ctr style\u003d\"text-align: right;\"\u003e\n      \u003cth\u003e\u003c/th\u003e\n      \u003cth\u003etimestamp\u003c/th\u003e\n      \u003cth\u003eopen\u003c/th\u003e\n      \u003cth\u003ehigh\u003c/th\u003e\n      \u003cth\u003elow\u003c/th\u003e\n      \u003cth\u003eclose\u003c/th\u003e\n      \u003cth\u003epre_close\u003c/th\u003e\n      \u003cth\u003ep_change\u003c/th\u003e\n      \u003cth\u003epip_change\u003c/th\u003e\n    \u003c/tr\u003e\n  \u003c/thead\u003e\n  \u003ctbody\u003e\n    \u003ctr\u003e\n      \u003cth\u003e4999\u003c/th\u003e\n      \u003ctd\u003e2001-05-10\u003c/td\u003e\n      \u003ctd\u003e0.5233\u003c/td\u003e\n      \u003ctd\u003e0.5267\u003c/td\u003e\n      \u003ctd\u003e0.5217\u003c/td\u003e\n      \u003ctd\u003e0.5237\u003c/td\u003e\n      \u003ctd\u003e0.5233\u003c/td\u003e\n      \u003ctd\u003e0.000764\u003c/td\u003e\n      \u003ctd\u003e7.643799\u003c/td\u003e\n    \u003c/tr\u003e\n    \u003ctr\u003e\n      \u003cth\u003e4998\u003c/th\u003e\n      \u003ctd\u003e2001-05-11\u003c/td\u003e\n      \u003ctd\u003e0.5237\u003c/td\u003e\n      \u003ctd\u003e0.5252\u003c/td\u003e\n      \u003ctd\u003e0.5184\u003c/td\u003e\n      \u003ctd\u003e0.5216\u003c/td\u003e\n      \u003ctd\u003e0.5237\u003c/td\u003e\n      \u003ctd\u003e-0.004010\u003c/td\u003e\n      \u003ctd\u003e-40.099293\u003c/td\u003e\n    \u003c/tr\u003e\n    \u003ctr\u003e\n      \u003cth\u003e4997\u003c/th\u003e\n      \u003ctd\u003e2001-05-14\u003c/td\u003e\n      \u003ctd\u003e0.5213\u003c/td\u003e\n      \u003ctd\u003e0.5224\u003c/td\u003e\n      \u003ctd\u003e0.5154\u003c/td\u003e\n      \u003ctd\u003e0.5193\u003c/td\u003e\n      \u003ctd\u003e0.5216\u003c/td\u003e\n      \u003ctd\u003e-0.004410\u003c/td\u003e\n      \u003ctd\u003e-44.095092\u003c/td\u003e\n    \u003c/tr\u003e\n    \u003ctr\u003e\n      \u003cth\u003e4996\u003c/th\u003e\n      \u003ctd\u003e2001-05-15\u003c/td\u003e\n      \u003ctd\u003e0.5193\u003c/td\u003e\n      \u003ctd\u003e0.5212\u003c/td\u003e\n      \u003ctd\u003e0.5150\u003c/td\u003e\n      \u003ctd\u003e0.5206\u003c/td\u003e\n      \u003ctd\u003e0.5193\u003c/td\u003e\n      \u003ctd\u003e0.002503\u003c/td\u003e\n      \u003ctd\u003e25.033699\u003c/td\u003e\n    \u003c/tr\u003e\n    \u003ctr\u003e\n      \u003cth\u003e4995\u003c/th\u003e\n      \u003ctd\u003e2001-05-16\u003c/td\u003e\n      \u003ctd\u003e0.5209\u003c/td\u003e\n      \u003ctd\u003e0.5240\u003c/td\u003e\n      \u003ctd\u003e0.5182\u003c/td\u003e\n      \u003ctd\u003e0.5233\u003c/td\u003e\n      \u003ctd\u003e0.5206\u003c/td\u003e\n      \u003ctd\u003e0.005186\u003c/td\u003e\n      \u003ctd\u003e51.863235\u003c/td\u003e\n    \u003c/tr\u003e\n  \u003c/tbody\u003e\n\u003c/table\u003e\n\u003c/div\u003e"
          },
          "metadata": {},
          "output_type": "execute_result",
          "execution_count": 4
        }
      ],
      "source": "\nimport pandas as pd\n\nforex_df \u003d pd.read_csv(\u0027../../data/gen/AUDUSD_Daily_df.csv\u0027,\n                       parse_dates\u003dTrue,\n                       index_col\u003d0)\n# Strip whitespace from column names\nforex_df.columns \u003d forex_df.columns.str.strip()\n# Print\nforex_df.head()\n",
      "metadata": {
        "pycharm": {
          "metadata": false,
          "name": "#%%\n",
          "is_executing": false
        }
      }
    },
    {
      "cell_type": "markdown",
      "source": "\n# Even Faster Approach: Using Numba\n\nOptimize Calculation using Numba\n\n## Processing Data\n\nAdding slope \u0026 velocity to each day.\n",
      "metadata": {
        "pycharm": {
          "metadata": false
        }
      }
    },
    {
      "cell_type": "code",
      "execution_count": 5,
      "outputs": [
        {
          "data": {
            "text/plain": "       timestamp    open    high     low   close  pre_close  p_change  \\\n4999  2001-05-10  0.5233  0.5267  0.5217  0.5237     0.5233  0.000764   \n4998  2001-05-11  0.5237  0.5252  0.5184  0.5216     0.5237 -0.004010   \n4997  2001-05-14  0.5213  0.5224  0.5154  0.5193     0.5216 -0.004410   \n4996  2001-05-15  0.5193  0.5212  0.5150  0.5206     0.5193  0.002503   \n4995  2001-05-16  0.5209  0.5240  0.5182  0.5233     0.5206  0.005186   \n\n      pip_change    slope  velocity  \n4999    7.643799 -0.00210 -0.000100  \n4998  -40.099293 -0.00220  0.000800  \n4997  -44.095092 -0.00050  0.002100  \n4996   25.033699  0.00200  0.002075  \n4995   51.863235  0.00365  0.000450  ",
            "text/html": "\u003cdiv\u003e\n\u003cstyle scoped\u003e\n    .dataframe tbody tr th:only-of-type {\n        vertical-align: middle;\n    }\n\n    .dataframe tbody tr th {\n        vertical-align: top;\n    }\n\n    .dataframe thead th {\n        text-align: right;\n    }\n\u003c/style\u003e\n\u003ctable border\u003d\"1\" class\u003d\"dataframe\"\u003e\n  \u003cthead\u003e\n    \u003ctr style\u003d\"text-align: right;\"\u003e\n      \u003cth\u003e\u003c/th\u003e\n      \u003cth\u003etimestamp\u003c/th\u003e\n      \u003cth\u003eopen\u003c/th\u003e\n      \u003cth\u003ehigh\u003c/th\u003e\n      \u003cth\u003elow\u003c/th\u003e\n      \u003cth\u003eclose\u003c/th\u003e\n      \u003cth\u003epre_close\u003c/th\u003e\n      \u003cth\u003ep_change\u003c/th\u003e\n      \u003cth\u003epip_change\u003c/th\u003e\n      \u003cth\u003eslope\u003c/th\u003e\n      \u003cth\u003evelocity\u003c/th\u003e\n    \u003c/tr\u003e\n  \u003c/thead\u003e\n  \u003ctbody\u003e\n    \u003ctr\u003e\n      \u003cth\u003e4999\u003c/th\u003e\n      \u003ctd\u003e2001-05-10\u003c/td\u003e\n      \u003ctd\u003e0.5233\u003c/td\u003e\n      \u003ctd\u003e0.5267\u003c/td\u003e\n      \u003ctd\u003e0.5217\u003c/td\u003e\n      \u003ctd\u003e0.5237\u003c/td\u003e\n      \u003ctd\u003e0.5233\u003c/td\u003e\n      \u003ctd\u003e0.000764\u003c/td\u003e\n      \u003ctd\u003e7.643799\u003c/td\u003e\n      \u003ctd\u003e-0.00210\u003c/td\u003e\n      \u003ctd\u003e-0.000100\u003c/td\u003e\n    \u003c/tr\u003e\n    \u003ctr\u003e\n      \u003cth\u003e4998\u003c/th\u003e\n      \u003ctd\u003e2001-05-11\u003c/td\u003e\n      \u003ctd\u003e0.5237\u003c/td\u003e\n      \u003ctd\u003e0.5252\u003c/td\u003e\n      \u003ctd\u003e0.5184\u003c/td\u003e\n      \u003ctd\u003e0.5216\u003c/td\u003e\n      \u003ctd\u003e0.5237\u003c/td\u003e\n      \u003ctd\u003e-0.004010\u003c/td\u003e\n      \u003ctd\u003e-40.099293\u003c/td\u003e\n      \u003ctd\u003e-0.00220\u003c/td\u003e\n      \u003ctd\u003e0.000800\u003c/td\u003e\n    \u003c/tr\u003e\n    \u003ctr\u003e\n      \u003cth\u003e4997\u003c/th\u003e\n      \u003ctd\u003e2001-05-14\u003c/td\u003e\n      \u003ctd\u003e0.5213\u003c/td\u003e\n      \u003ctd\u003e0.5224\u003c/td\u003e\n      \u003ctd\u003e0.5154\u003c/td\u003e\n      \u003ctd\u003e0.5193\u003c/td\u003e\n      \u003ctd\u003e0.5216\u003c/td\u003e\n      \u003ctd\u003e-0.004410\u003c/td\u003e\n      \u003ctd\u003e-44.095092\u003c/td\u003e\n      \u003ctd\u003e-0.00050\u003c/td\u003e\n      \u003ctd\u003e0.002100\u003c/td\u003e\n    \u003c/tr\u003e\n    \u003ctr\u003e\n      \u003cth\u003e4996\u003c/th\u003e\n      \u003ctd\u003e2001-05-15\u003c/td\u003e\n      \u003ctd\u003e0.5193\u003c/td\u003e\n      \u003ctd\u003e0.5212\u003c/td\u003e\n      \u003ctd\u003e0.5150\u003c/td\u003e\n      \u003ctd\u003e0.5206\u003c/td\u003e\n      \u003ctd\u003e0.5193\u003c/td\u003e\n      \u003ctd\u003e0.002503\u003c/td\u003e\n      \u003ctd\u003e25.033699\u003c/td\u003e\n      \u003ctd\u003e0.00200\u003c/td\u003e\n      \u003ctd\u003e0.002075\u003c/td\u003e\n    \u003c/tr\u003e\n    \u003ctr\u003e\n      \u003cth\u003e4995\u003c/th\u003e\n      \u003ctd\u003e2001-05-16\u003c/td\u003e\n      \u003ctd\u003e0.5209\u003c/td\u003e\n      \u003ctd\u003e0.5240\u003c/td\u003e\n      \u003ctd\u003e0.5182\u003c/td\u003e\n      \u003ctd\u003e0.5233\u003c/td\u003e\n      \u003ctd\u003e0.5206\u003c/td\u003e\n      \u003ctd\u003e0.005186\u003c/td\u003e\n      \u003ctd\u003e51.863235\u003c/td\u003e\n      \u003ctd\u003e0.00365\u003c/td\u003e\n      \u003ctd\u003e0.000450\u003c/td\u003e\n    \u003c/tr\u003e\n  \u003c/tbody\u003e\n\u003c/table\u003e\n\u003c/div\u003e"
          },
          "metadata": {},
          "output_type": "execute_result",
          "execution_count": 5
        }
      ],
      "source": "\nimport numpy as np\n\nextra_df \u003d forex_df.copy()\nextra_df[\u0027slope\u0027] \u003d pd.Series(np.gradient(extra_df.close), extra_df.index, name\u003d\u0027slope\u0027)\nextra_df[\u0027velocity\u0027] \u003d pd.Series(np.gradient(extra_df.slope), extra_df.index, name\u003d\u0027velocity\u0027)\n# Print\nextra_df.head()\n",
      "metadata": {
        "pycharm": {
          "metadata": false,
          "name": "#%%\n",
          "is_executing": false
        }
      }
    },
    {
      "cell_type": "markdown",
      "source": "\n## Performing Backtests\n\nAssuming trading with Leverage\n\n1. Prepare Parameters\n1. Dfine a DataFrame to handle results\n1. For Loops\n1. Prepare Maps \u0026 Filters\n\n## Preparing Parameters\n",
      "metadata": {
        "pycharm": {
          "metadata": false
        }
      }
    },
    {
      "cell_type": "code",
      "execution_count": 6,
      "outputs": [
        {
          "name": "stdout",
          "text": [
            "Params Ready, 160000 tasks to run. \n"
          ],
          "output_type": "stream"
        }
      ],
      "source": "\nimport itertools\n\nbuy_slope_threshold_list \u003d np.arange(-0.5, 0.5, 0.1)\nbuy_velocity_threshold_list \u003d np.arange(-0.5, 0.5, 0.1)\nclose_slope_threshold_list \u003d np.arange(-0.2, 0.2, 0.1)\nclose_velocity_threshold_list \u003d np.arange(-0.2, 0.2, 0.1)\nsell_slope_threshold_list \u003d np.arange(-0.5, 0.5, 0.1)\nsell_velocity_threshold_list \u003d np.arange(-0.5, 0.5, 0.1)\n\ntask_list \u003d list(itertools.product(\n    buy_slope_threshold_list, \n    buy_velocity_threshold_list, \n    close_slope_threshold_list, \n    close_velocity_threshold_list, \n    sell_slope_threshold_list, \n    sell_velocity_threshold_list\n))\nprint(\"Params Ready, {} tasks to run. \".format(len(task_list)))\n",
      "metadata": {
        "pycharm": {
          "metadata": false,
          "name": "#%%\n",
          "is_executing": false
        }
      }
    },
    {
      "cell_type": "markdown",
      "source": "\n## Maths for Forex Margin Trading\n\n### Without Leverage: \n\nEquity required to trade a standard lot of AUDUSD would be **AUD$100,000** converted to USD.\n\nAssuming **1 pip rise** in price, aka 0.01%, aka 0.0001 change in price, will result calculate as $100,000 * 0.01% profit. **Profit \u003d AUD$10**.\n\nOr simply **1 pip \u003d $10 of the base currency**\n\nTherefore, Return is AUD$10 / AUD$100,000 \u003d **0.01%** (Or simply, 1 pip). \n\n**Return Fomula without Leverage** is therefore:\n\n\u003e Return \u003d 1 pip * 1 \u003d 0.01% \u003d 0.0001 (p_change * 1)\n\nThe 1 means 1:1 Leverage, or no leverage.\n\n### With Leverage:\n\nLet\u0027s assume the following:\n\nLeverage: 400\n\nEquity required to trade a standard lot of AUDUSD would be AUD$100,000 / 400, or **AUD$250** converted to USD.\n\nAssuming **1 pip rise** in price, aka 0.01%, aka 0.0001 change in price, will result calculate as $100,000 * 0.01% profit. **Profit \u003d AUD$10**.\n\nOr simply **1 pip \u003d $10 of the base currency**\n\nTherefore, **Return Fomula with Leverage** is AUD$10 / AUD$250 \u003d **4%** (or simply, 400 pip).\n\n**Return Fomula without Leverage** is therefore:\n\n\u003e Return \u003d 1 pip * 400 \u003d 4% \u003d 0.04 (p_change * 400)\n\nThe 400 means 1:400 Leverage. \n",
      "metadata": {
        "pycharm": {
          "metadata": false,
          "name": "#%% md\n"
        }
      }
    },
    {
      "cell_type": "markdown",
      "source": "\n## MultiProcess with Numpy\n",
      "metadata": {
        "pycharm": {
          "metadata": false
        }
      }
    },
    {
      "cell_type": "code",
      "execution_count": null,
      "outputs": [
        {
          "name": "stderr",
          "text": [
            "/Library/Frameworks/Python.framework/Versions/3.7/lib/python3.7/site-packages/numpy/core/fromnumeric.py:86: RuntimeWarning: overflow encountered in reduce\n  return ufunc.reduce(obj, axis, dtype, out, **passkwargs)\n",
            "/Library/Frameworks/Python.framework/Versions/3.7/lib/python3.7/site-packages/numpy/core/fromnumeric.py:86: RuntimeWarning: overflow encountered in reduce\n  return ufunc.reduce(obj, axis, dtype, out, **passkwargs)\n",
            "/Library/Frameworks/Python.framework/Versions/3.7/lib/python3.7/site-packages/numpy/core/fromnumeric.py:86: RuntimeWarning: overflow encountered in reduce\n  return ufunc.reduce(obj, axis, dtype, out, **passkwargs)\n",
            "/Library/Frameworks/Python.framework/Versions/3.7/lib/python3.7/site-packages/numpy/core/fromnumeric.py:86: RuntimeWarning: overflow encountered in reduce\n  return ufunc.reduce(obj, axis, dtype, out, **passkwargs)\n",
            "/Library/Frameworks/Python.framework/Versions/3.7/lib/python3.7/site-packages/numpy/core/fromnumeric.py:86: RuntimeWarning: overflow encountered in reduce\n  return ufunc.reduce(obj, axis, dtype, out, **passkwargs)\n",
            "/Library/Frameworks/Python.framework/Versions/3.7/lib/python3.7/site-packages/numpy/core/fromnumeric.py:86: RuntimeWarning: overflow encountered in reduce\n  return ufunc.reduce(obj, axis, dtype, out, **passkwargs)\n",
            "/Library/Frameworks/Python.framework/Versions/3.7/lib/python3.7/site-packages/numpy/core/fromnumeric.py:86: RuntimeWarning: overflow encountered in reduce\n  return ufunc.reduce(obj, axis, dtype, out, **passkwargs)\n",
            "/Library/Frameworks/Python.framework/Versions/3.7/lib/python3.7/site-packages/numpy/core/fromnumeric.py:86: RuntimeWarning: overflow encountered in reduce\n  return ufunc.reduce(obj, axis, dtype, out, **passkwargs)\n",
            "\r0.00tests [00:00, ?tests/s]",
            "/Library/Frameworks/Python.framework/Versions/3.7/lib/python3.7/site-packages/ipykernel_launcher.py:34: RuntimeWarning: invalid value encountered in double_scalars\n",
            "/Library/Frameworks/Python.framework/Versions/3.7/lib/python3.7/site-packages/ipykernel_launcher.py:34: RuntimeWarning: invalid value encountered in double_scalars\n",
            "/Library/Frameworks/Python.framework/Versions/3.7/lib/python3.7/site-packages/ipykernel_launcher.py:34: RuntimeWarning: invalid value encountered in double_scalars\n",
            "/Library/Frameworks/Python.framework/Versions/3.7/lib/python3.7/site-packages/ipykernel_launcher.py:34: RuntimeWarning: invalid value encountered in double_scalars\n",
            "/Library/Frameworks/Python.framework/Versions/3.7/lib/python3.7/site-packages/ipykernel_launcher.py:34: RuntimeWarning: invalid value encountered in double_scalars\n",
            "/Library/Frameworks/Python.framework/Versions/3.7/lib/python3.7/site-packages/ipykernel_launcher.py:34: RuntimeWarning: invalid value encountered in double_scalars\n",
            "/Library/Frameworks/Python.framework/Versions/3.7/lib/python3.7/site-packages/ipykernel_launcher.py:34: RuntimeWarning: invalid value encountered in double_scalars\n",
            "/Library/Frameworks/Python.framework/Versions/3.7/lib/python3.7/site-packages/ipykernel_launcher.py:34: RuntimeWarning: invalid value encountered in double_scalars\n",
            "\r11.7ktests [00:30, 391tests/s]",
            "\r11.7ktests [00:40, 391tests/s]",
            "\r19.9ktests [01:00, 346tests/s]",
            "\r19.9ktests [01:10, 346tests/s]"
          ],
          "output_type": "stream"
        },
        {
          "name": "stdout",
          "text": [
            "Running 160000 tasks\n"
          ],
          "output_type": "stream"
        }
      ],
      "source": "\nimport concurrent.futures\nfrom concurrent.futures.process import ProcessPoolExecutor\nfrom datetime import datetime\nfrom tqdm import tqdm\n\nleverage \u003d 400 ## Assuming Trading with Leverage\n    \n# Defining a DataFrame to handle results\nfinal_result \u003d pd.DataFrame(columns\u003d[\u0027buy_slope_threshold\u0027, \u0027buy_velocity_threshold\u0027, \u0027close_slope_threshold\u0027, \u0027close_velocity_threshold\u0027, \u0027sell_slope_threshold\u0027, \u0027sell_velocity_threshold\u0027, \u0027profit_percentage\u0027])\n\ndef single_test(data_df, \n                buy_slope_threshold, \n                buy_velocity_threshold, \n                close_slope_threshold, \n                close_velocity_threshold, \n                sell_slope_threshold, \n                sell_velocity_threshold):\n        \n        # Prepare Maps \u0026 Filters \n        \n        long_mask \u003d (data_df.slope \u003e buy_slope_threshold) \u0026 (data_df.velocity \u003e buy_velocity_threshold)\n        long_close \u003d (data_df.slope \u003c -close_slope_threshold) \u0026 (data_df.velocity \u003c -close_velocity_threshold)\n        long_series \u003d data_df.p_change[long_mask]\n        long_array \u003d long_series.values * leverage # Assuming Forex Margin Trading, \n        long_profit \u003d np.product(long_array/100 + 1) - 1\n        \n        short_mask \u003d (data_df.slope \u003c sell_slope_threshold) \u0026 (data_df.velocity \u003c sell_velocity_threshold)\n        short_close \u003d (data_df.slope \u003e close_slope_threshold) \u0026 (data_df.velocity \u003e close_velocity_threshold)\n        short_series \u003d data_df.p_change[short_mask]\n        short_array \u003d short_series.values * leverage # Assuming Forex Margin Trading,\n        short_profit \u003d np.abs(np.product(short_array/100 - 1)) - 1\n    \n        trade_profit \u003d long_profit + short_profit\n    \n        test_result \u003d [buy_slope_threshold, \n                       buy_velocity_threshold, \n                       close_slope_threshold, \n                       close_velocity_threshold, \n                       sell_slope_threshold, \n                       sell_velocity_threshold, \n                       trade_profit * 100]\n        return test_result\n\nstart_time \u003d datetime.now()\n\nwith ProcessPoolExecutor() as executor:\n    \"\"\"\n    By default, ProcessPool uses maximum available number of cores to process.\n    \"\"\"\n    \n    \"\"\"\n    Equivalent to executor.map(fn, *iterables),\n    but displays a tqdm-based progress bar.\n    \n    Does not support timeout or chunksize as executor.submit is used internally\n    \n    **kwargs is passed to tqdm.\n    \"\"\"\n    futures_list \u003d []\n    kwargs \u003d {\n        \u0027total\u0027: len(futures_list),\n        \u0027mininterval\u0027: 30.0,\n        \u0027unit\u0027: \u0027tests\u0027,\n        \u0027unit_scale\u0027: True,\n        \u0027leave\u0027: True\n    }\n        \n    futures_list \u003d [executor.submit(single_test, \n                                    extra_df,\n                                    buy_slope_threshold, \n                                    buy_velocity_threshold, \n                                    close_slope_threshold, \n                                    close_velocity_threshold, \n                                    sell_slope_threshold, \n                                    sell_velocity_threshold) for buy_slope_threshold, \\\n                                                                 buy_velocity_threshold, \\\n                                                                 close_slope_threshold, \\\n                                                                 close_velocity_threshold, \\\n                                                                 sell_slope_threshold, \\\n                                                                 sell_velocity_threshold in task_list]\n    print(\"Running {} tasks\".format(len(futures_list)))\n    \n    for f in tqdm(concurrent.futures.as_completed(futures_list), **kwargs):\n        # done_callback runs on the main process\n        result_row \u003d f.result()\n        \n        final_result \u003d final_result.append(pd.Series(result_row, index\u003dfinal_result.columns), ignore_index\u003dTrue)\n\n    print(\"Finished {} tasks in {}\".format(len(task_list), datetime.now() - start_time))\n",
      "metadata": {
        "pycharm": {
          "metadata": false,
          "name": "#%% \n",
          "is_executing": true
        }
      }
    },
    {
      "cell_type": "markdown",
      "source": "\n# Analysing Results",
      "metadata": {
        "pycharm": {
          "metadata": false
        }
      }
    },
    {
      "cell_type": "code",
      "execution_count": 7,
      "outputs": [
        {
          "data": {
            "text/plain": "       buy_slope_threshold  buy_velocity_threshold  close_slope_threshold  \\\n82456        -1.110223e-16                    -0.4                    0.0   \n84158        -1.110223e-16                    -0.3                    0.0   \n84156        -1.110223e-16                    -0.3                    0.0   \n85256        -1.110223e-16                    -0.2                   -0.1   \n85257        -1.110223e-16                    -0.2                   -0.1   \n\n       close_velocity_threshold  sell_slope_threshold  \\\n82456                      -0.2         -1.110223e-16   \n84158                      -0.1         -1.110223e-16   \n84156                      -0.1         -1.110223e-16   \n85256                      -0.2         -1.110223e-16   \n85257                      -0.2         -1.110223e-16   \n\n       sell_velocity_threshold  profit_percentage  \n82456                      0.1          19.896373  \n84158                      0.3          19.896373  \n84156                      0.1          19.896373  \n85256                      0.1          19.896373  \n85257                      0.2          19.896373  ",
            "text/html": "\u003cdiv\u003e\n\u003cstyle scoped\u003e\n    .dataframe tbody tr th:only-of-type {\n        vertical-align: middle;\n    }\n\n    .dataframe tbody tr th {\n        vertical-align: top;\n    }\n\n    .dataframe thead th {\n        text-align: right;\n    }\n\u003c/style\u003e\n\u003ctable border\u003d\"1\" class\u003d\"dataframe\"\u003e\n  \u003cthead\u003e\n    \u003ctr style\u003d\"text-align: right;\"\u003e\n      \u003cth\u003e\u003c/th\u003e\n      \u003cth\u003ebuy_slope_threshold\u003c/th\u003e\n      \u003cth\u003ebuy_velocity_threshold\u003c/th\u003e\n      \u003cth\u003eclose_slope_threshold\u003c/th\u003e\n      \u003cth\u003eclose_velocity_threshold\u003c/th\u003e\n      \u003cth\u003esell_slope_threshold\u003c/th\u003e\n      \u003cth\u003esell_velocity_threshold\u003c/th\u003e\n      \u003cth\u003eprofit_percentage\u003c/th\u003e\n    \u003c/tr\u003e\n  \u003c/thead\u003e\n  \u003ctbody\u003e\n    \u003ctr\u003e\n      \u003cth\u003e82456\u003c/th\u003e\n      \u003ctd\u003e-1.110223e-16\u003c/td\u003e\n      \u003ctd\u003e-0.4\u003c/td\u003e\n      \u003ctd\u003e0.0\u003c/td\u003e\n      \u003ctd\u003e-0.2\u003c/td\u003e\n      \u003ctd\u003e-1.110223e-16\u003c/td\u003e\n      \u003ctd\u003e0.1\u003c/td\u003e\n      \u003ctd\u003e19.896373\u003c/td\u003e\n    \u003c/tr\u003e\n    \u003ctr\u003e\n      \u003cth\u003e84158\u003c/th\u003e\n      \u003ctd\u003e-1.110223e-16\u003c/td\u003e\n      \u003ctd\u003e-0.3\u003c/td\u003e\n      \u003ctd\u003e0.0\u003c/td\u003e\n      \u003ctd\u003e-0.1\u003c/td\u003e\n      \u003ctd\u003e-1.110223e-16\u003c/td\u003e\n      \u003ctd\u003e0.3\u003c/td\u003e\n      \u003ctd\u003e19.896373\u003c/td\u003e\n    \u003c/tr\u003e\n    \u003ctr\u003e\n      \u003cth\u003e84156\u003c/th\u003e\n      \u003ctd\u003e-1.110223e-16\u003c/td\u003e\n      \u003ctd\u003e-0.3\u003c/td\u003e\n      \u003ctd\u003e0.0\u003c/td\u003e\n      \u003ctd\u003e-0.1\u003c/td\u003e\n      \u003ctd\u003e-1.110223e-16\u003c/td\u003e\n      \u003ctd\u003e0.1\u003c/td\u003e\n      \u003ctd\u003e19.896373\u003c/td\u003e\n    \u003c/tr\u003e\n    \u003ctr\u003e\n      \u003cth\u003e85256\u003c/th\u003e\n      \u003ctd\u003e-1.110223e-16\u003c/td\u003e\n      \u003ctd\u003e-0.2\u003c/td\u003e\n      \u003ctd\u003e-0.1\u003c/td\u003e\n      \u003ctd\u003e-0.2\u003c/td\u003e\n      \u003ctd\u003e-1.110223e-16\u003c/td\u003e\n      \u003ctd\u003e0.1\u003c/td\u003e\n      \u003ctd\u003e19.896373\u003c/td\u003e\n    \u003c/tr\u003e\n    \u003ctr\u003e\n      \u003cth\u003e85257\u003c/th\u003e\n      \u003ctd\u003e-1.110223e-16\u003c/td\u003e\n      \u003ctd\u003e-0.2\u003c/td\u003e\n      \u003ctd\u003e-0.1\u003c/td\u003e\n      \u003ctd\u003e-0.2\u003c/td\u003e\n      \u003ctd\u003e-1.110223e-16\u003c/td\u003e\n      \u003ctd\u003e0.2\u003c/td\u003e\n      \u003ctd\u003e19.896373\u003c/td\u003e\n    \u003c/tr\u003e\n  \u003c/tbody\u003e\n\u003c/table\u003e\n\u003c/div\u003e"
          },
          "metadata": {},
          "output_type": "execute_result",
          "execution_count": 7
        }
      ],
      "source": "        \nfinal_result \u003d final_result.sort_values(by\u003d[\u0027profit_percentage\u0027],\n                                        ascending\u003dFalse)\nfinal_result.head()",
      "metadata": {
        "pycharm": {
          "metadata": false,
          "name": "#%%\n",
          "is_executing": false
        }
      }
    }
  ],
  "metadata": {
    "language_info": {
      "codemirror_mode": {
        "name": "ipython",
        "version": 2
      },
      "file_extension": ".py",
      "mimetype": "text/x-python",
      "name": "python",
      "nbconvert_exporter": "python",
      "pygments_lexer": "ipython2",
      "version": "2.7.6"
    },
    "kernelspec": {
      "name": "python3",
      "language": "python",
      "display_name": "Python 3"
    }
  },
  "nbformat": 4,
  "nbformat_minor": 0
}