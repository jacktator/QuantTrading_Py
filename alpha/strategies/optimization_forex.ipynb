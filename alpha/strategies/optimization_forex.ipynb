{
  "cells": [
    {
      "cell_type": "markdown",
      "metadata": {
        "collapsed": true,
        "pycharm": {
          "is_executing": false,
          "name": "#%% md\n"
        }
      },
      "source": "\n# Import Data\n\nImporting AXP data."
    },
    {
      "cell_type": "code",
      "execution_count": 63,
      "outputs": [
        {
          "data": {
            "text/plain": "       timestamp    open    high     low   close  pre_close  p_change  \\\n                                                                        \n4999  2001-05-10  0.5233  0.5267  0.5217  0.5237     0.5233  0.000764   \n4998  2001-05-11  0.5237  0.5252  0.5184  0.5216     0.5237 -0.004010   \n4997  2001-05-14  0.5213  0.5224  0.5154  0.5193     0.5216 -0.004410   \n4996  2001-05-15  0.5193  0.5212  0.5150  0.5206     0.5193  0.002503   \n4995  2001-05-16  0.5209  0.5240  0.5182  0.5233     0.5206  0.005186   \n\n      pip_change  \n                  \n4999    7.643799  \n4998  -40.099293  \n4997  -44.095092  \n4996   25.033699  \n4995   51.863235  ",
            "text/html": "\u003cdiv\u003e\n\u003cstyle scoped\u003e\n    .dataframe tbody tr th:only-of-type {\n        vertical-align: middle;\n    }\n\n    .dataframe tbody tr th {\n        vertical-align: top;\n    }\n\n    .dataframe thead th {\n        text-align: right;\n    }\n\u003c/style\u003e\n\u003ctable border\u003d\"1\" class\u003d\"dataframe\"\u003e\n  \u003cthead\u003e\n    \u003ctr style\u003d\"text-align: right;\"\u003e\n      \u003cth\u003e\u003c/th\u003e\n      \u003cth\u003etimestamp\u003c/th\u003e\n      \u003cth\u003eopen\u003c/th\u003e\n      \u003cth\u003ehigh\u003c/th\u003e\n      \u003cth\u003elow\u003c/th\u003e\n      \u003cth\u003eclose\u003c/th\u003e\n      \u003cth\u003epre_close\u003c/th\u003e\n      \u003cth\u003ep_change\u003c/th\u003e\n      \u003cth\u003epip_change\u003c/th\u003e\n    \u003c/tr\u003e\n    \u003ctr\u003e\n      \u003cth\u003e\u003c/th\u003e\n      \u003cth\u003e\u003c/th\u003e\n      \u003cth\u003e\u003c/th\u003e\n      \u003cth\u003e\u003c/th\u003e\n      \u003cth\u003e\u003c/th\u003e\n      \u003cth\u003e\u003c/th\u003e\n      \u003cth\u003e\u003c/th\u003e\n      \u003cth\u003e\u003c/th\u003e\n      \u003cth\u003e\u003c/th\u003e\n    \u003c/tr\u003e\n  \u003c/thead\u003e\n  \u003ctbody\u003e\n    \u003ctr\u003e\n      \u003cth\u003e4999\u003c/th\u003e\n      \u003ctd\u003e2001-05-10\u003c/td\u003e\n      \u003ctd\u003e0.5233\u003c/td\u003e\n      \u003ctd\u003e0.5267\u003c/td\u003e\n      \u003ctd\u003e0.5217\u003c/td\u003e\n      \u003ctd\u003e0.5237\u003c/td\u003e\n      \u003ctd\u003e0.5233\u003c/td\u003e\n      \u003ctd\u003e0.000764\u003c/td\u003e\n      \u003ctd\u003e7.643799\u003c/td\u003e\n    \u003c/tr\u003e\n    \u003ctr\u003e\n      \u003cth\u003e4998\u003c/th\u003e\n      \u003ctd\u003e2001-05-11\u003c/td\u003e\n      \u003ctd\u003e0.5237\u003c/td\u003e\n      \u003ctd\u003e0.5252\u003c/td\u003e\n      \u003ctd\u003e0.5184\u003c/td\u003e\n      \u003ctd\u003e0.5216\u003c/td\u003e\n      \u003ctd\u003e0.5237\u003c/td\u003e\n      \u003ctd\u003e-0.004010\u003c/td\u003e\n      \u003ctd\u003e-40.099293\u003c/td\u003e\n    \u003c/tr\u003e\n    \u003ctr\u003e\n      \u003cth\u003e4997\u003c/th\u003e\n      \u003ctd\u003e2001-05-14\u003c/td\u003e\n      \u003ctd\u003e0.5213\u003c/td\u003e\n      \u003ctd\u003e0.5224\u003c/td\u003e\n      \u003ctd\u003e0.5154\u003c/td\u003e\n      \u003ctd\u003e0.5193\u003c/td\u003e\n      \u003ctd\u003e0.5216\u003c/td\u003e\n      \u003ctd\u003e-0.004410\u003c/td\u003e\n      \u003ctd\u003e-44.095092\u003c/td\u003e\n    \u003c/tr\u003e\n    \u003ctr\u003e\n      \u003cth\u003e4996\u003c/th\u003e\n      \u003ctd\u003e2001-05-15\u003c/td\u003e\n      \u003ctd\u003e0.5193\u003c/td\u003e\n      \u003ctd\u003e0.5212\u003c/td\u003e\n      \u003ctd\u003e0.5150\u003c/td\u003e\n      \u003ctd\u003e0.5206\u003c/td\u003e\n      \u003ctd\u003e0.5193\u003c/td\u003e\n      \u003ctd\u003e0.002503\u003c/td\u003e\n      \u003ctd\u003e25.033699\u003c/td\u003e\n    \u003c/tr\u003e\n    \u003ctr\u003e\n      \u003cth\u003e4995\u003c/th\u003e\n      \u003ctd\u003e2001-05-16\u003c/td\u003e\n      \u003ctd\u003e0.5209\u003c/td\u003e\n      \u003ctd\u003e0.5240\u003c/td\u003e\n      \u003ctd\u003e0.5182\u003c/td\u003e\n      \u003ctd\u003e0.5233\u003c/td\u003e\n      \u003ctd\u003e0.5206\u003c/td\u003e\n      \u003ctd\u003e0.005186\u003c/td\u003e\n      \u003ctd\u003e51.863235\u003c/td\u003e\n    \u003c/tr\u003e\n  \u003c/tbody\u003e\n\u003c/table\u003e\n\u003c/div\u003e"
          },
          "metadata": {},
          "output_type": "execute_result",
          "execution_count": 63
        }
      ],
      "source": "\nimport pandas as pd\n\nforex_df \u003d pd.read_csv(\u0027../../data/gen/AUDUSD_Daily_df.csv\u0027,\n                       parse_dates\u003dTrue,\n                       index_col\u003d0)\n# Strip whitespace from column names\nforex_df.columns \u003d forex_df.columns.str.strip()\n# Print\nforex_df.head()\n",
      "metadata": {
        "pycharm": {
          "metadata": false,
          "name": "#%%\n",
          "is_executing": false
        }
      }
    },
    {
      "cell_type": "markdown",
      "source": "\n# Even Faster Approach: Using Numba\n\nOptimize Calculation using Numba\n\n## Processing Data\n\nAdding slope \u0026 velocity to each day.\n",
      "metadata": {
        "pycharm": {
          "metadata": false
        }
      }
    },
    {
      "cell_type": "code",
      "execution_count": 64,
      "outputs": [
        {
          "data": {
            "text/plain": "       timestamp    open    high     low   close  pre_close  p_change  \\\n                                                                        \n4999  2001-05-10  0.5233  0.5267  0.5217  0.5237     0.5233  0.000764   \n4998  2001-05-11  0.5237  0.5252  0.5184  0.5216     0.5237 -0.004010   \n4997  2001-05-14  0.5213  0.5224  0.5154  0.5193     0.5216 -0.004410   \n4996  2001-05-15  0.5193  0.5212  0.5150  0.5206     0.5193  0.002503   \n4995  2001-05-16  0.5209  0.5240  0.5182  0.5233     0.5206  0.005186   \n\n      pip_change    slope  velocity  \n                                     \n4999    7.643799 -0.00210 -0.000100  \n4998  -40.099293 -0.00220  0.000800  \n4997  -44.095092 -0.00050  0.002100  \n4996   25.033699  0.00200  0.002075  \n4995   51.863235  0.00365  0.000450  ",
            "text/html": "\u003cdiv\u003e\n\u003cstyle scoped\u003e\n    .dataframe tbody tr th:only-of-type {\n        vertical-align: middle;\n    }\n\n    .dataframe tbody tr th {\n        vertical-align: top;\n    }\n\n    .dataframe thead th {\n        text-align: right;\n    }\n\u003c/style\u003e\n\u003ctable border\u003d\"1\" class\u003d\"dataframe\"\u003e\n  \u003cthead\u003e\n    \u003ctr style\u003d\"text-align: right;\"\u003e\n      \u003cth\u003e\u003c/th\u003e\n      \u003cth\u003etimestamp\u003c/th\u003e\n      \u003cth\u003eopen\u003c/th\u003e\n      \u003cth\u003ehigh\u003c/th\u003e\n      \u003cth\u003elow\u003c/th\u003e\n      \u003cth\u003eclose\u003c/th\u003e\n      \u003cth\u003epre_close\u003c/th\u003e\n      \u003cth\u003ep_change\u003c/th\u003e\n      \u003cth\u003epip_change\u003c/th\u003e\n      \u003cth\u003eslope\u003c/th\u003e\n      \u003cth\u003evelocity\u003c/th\u003e\n    \u003c/tr\u003e\n    \u003ctr\u003e\n      \u003cth\u003e\u003c/th\u003e\n      \u003cth\u003e\u003c/th\u003e\n      \u003cth\u003e\u003c/th\u003e\n      \u003cth\u003e\u003c/th\u003e\n      \u003cth\u003e\u003c/th\u003e\n      \u003cth\u003e\u003c/th\u003e\n      \u003cth\u003e\u003c/th\u003e\n      \u003cth\u003e\u003c/th\u003e\n      \u003cth\u003e\u003c/th\u003e\n      \u003cth\u003e\u003c/th\u003e\n      \u003cth\u003e\u003c/th\u003e\n    \u003c/tr\u003e\n  \u003c/thead\u003e\n  \u003ctbody\u003e\n    \u003ctr\u003e\n      \u003cth\u003e4999\u003c/th\u003e\n      \u003ctd\u003e2001-05-10\u003c/td\u003e\n      \u003ctd\u003e0.5233\u003c/td\u003e\n      \u003ctd\u003e0.5267\u003c/td\u003e\n      \u003ctd\u003e0.5217\u003c/td\u003e\n      \u003ctd\u003e0.5237\u003c/td\u003e\n      \u003ctd\u003e0.5233\u003c/td\u003e\n      \u003ctd\u003e0.000764\u003c/td\u003e\n      \u003ctd\u003e7.643799\u003c/td\u003e\n      \u003ctd\u003e-0.00210\u003c/td\u003e\n      \u003ctd\u003e-0.000100\u003c/td\u003e\n    \u003c/tr\u003e\n    \u003ctr\u003e\n      \u003cth\u003e4998\u003c/th\u003e\n      \u003ctd\u003e2001-05-11\u003c/td\u003e\n      \u003ctd\u003e0.5237\u003c/td\u003e\n      \u003ctd\u003e0.5252\u003c/td\u003e\n      \u003ctd\u003e0.5184\u003c/td\u003e\n      \u003ctd\u003e0.5216\u003c/td\u003e\n      \u003ctd\u003e0.5237\u003c/td\u003e\n      \u003ctd\u003e-0.004010\u003c/td\u003e\n      \u003ctd\u003e-40.099293\u003c/td\u003e\n      \u003ctd\u003e-0.00220\u003c/td\u003e\n      \u003ctd\u003e0.000800\u003c/td\u003e\n    \u003c/tr\u003e\n    \u003ctr\u003e\n      \u003cth\u003e4997\u003c/th\u003e\n      \u003ctd\u003e2001-05-14\u003c/td\u003e\n      \u003ctd\u003e0.5213\u003c/td\u003e\n      \u003ctd\u003e0.5224\u003c/td\u003e\n      \u003ctd\u003e0.5154\u003c/td\u003e\n      \u003ctd\u003e0.5193\u003c/td\u003e\n      \u003ctd\u003e0.5216\u003c/td\u003e\n      \u003ctd\u003e-0.004410\u003c/td\u003e\n      \u003ctd\u003e-44.095092\u003c/td\u003e\n      \u003ctd\u003e-0.00050\u003c/td\u003e\n      \u003ctd\u003e0.002100\u003c/td\u003e\n    \u003c/tr\u003e\n    \u003ctr\u003e\n      \u003cth\u003e4996\u003c/th\u003e\n      \u003ctd\u003e2001-05-15\u003c/td\u003e\n      \u003ctd\u003e0.5193\u003c/td\u003e\n      \u003ctd\u003e0.5212\u003c/td\u003e\n      \u003ctd\u003e0.5150\u003c/td\u003e\n      \u003ctd\u003e0.5206\u003c/td\u003e\n      \u003ctd\u003e0.5193\u003c/td\u003e\n      \u003ctd\u003e0.002503\u003c/td\u003e\n      \u003ctd\u003e25.033699\u003c/td\u003e\n      \u003ctd\u003e0.00200\u003c/td\u003e\n      \u003ctd\u003e0.002075\u003c/td\u003e\n    \u003c/tr\u003e\n    \u003ctr\u003e\n      \u003cth\u003e4995\u003c/th\u003e\n      \u003ctd\u003e2001-05-16\u003c/td\u003e\n      \u003ctd\u003e0.5209\u003c/td\u003e\n      \u003ctd\u003e0.5240\u003c/td\u003e\n      \u003ctd\u003e0.5182\u003c/td\u003e\n      \u003ctd\u003e0.5233\u003c/td\u003e\n      \u003ctd\u003e0.5206\u003c/td\u003e\n      \u003ctd\u003e0.005186\u003c/td\u003e\n      \u003ctd\u003e51.863235\u003c/td\u003e\n      \u003ctd\u003e0.00365\u003c/td\u003e\n      \u003ctd\u003e0.000450\u003c/td\u003e\n    \u003c/tr\u003e\n  \u003c/tbody\u003e\n\u003c/table\u003e\n\u003c/div\u003e"
          },
          "metadata": {},
          "output_type": "execute_result",
          "execution_count": 64
        }
      ],
      "source": "\nimport numpy as np\n\nextra_df \u003d forex_df.copy()\nextra_df[\u0027slope\u0027] \u003d pd.Series(np.gradient(extra_df.close), extra_df.index, name\u003d\u0027slope\u0027)\nextra_df[\u0027velocity\u0027] \u003d pd.Series(np.gradient(extra_df.slope), extra_df.index, name\u003d\u0027velocity\u0027)\n# Print\nextra_df.head()\n",
      "metadata": {
        "pycharm": {
          "metadata": false,
          "name": "#%%\n",
          "is_executing": false
        }
      }
    },
    {
      "cell_type": "markdown",
      "source": "\n## Performing Backtests\n\nAssuming trading with Leverage\n\n1. Prepare Parameters\n1. Dfine a DataFrame to handle results\n1. For Loops\n1. Prepare Maps \u0026 Filters\n\n## Preparing Parameters\n",
      "metadata": {
        "pycharm": {
          "metadata": false
        }
      }
    },
    {
      "cell_type": "code",
      "execution_count": 65,
      "outputs": [
        {
          "name": "stdout",
          "text": [
            "Backtest Params Ready, 102400 tasks to run. Will take about 4.55 minutes to complete.\n"
          ],
          "output_type": "stream"
        }
      ],
      "source": "\nimport itertools\n\nbuy_slope_threshold_list \u003d np.arange(-0.1, 0.1, 0.05)\nbuy_velocity_threshold_list \u003d np.arange(-0.5, 0.0, 0.05)\nclose_slope_threshold_list \u003d np.arange(-0.2, 0.2, 0.05)\nclose_velocity_threshold_list \u003d np.arange(-0.2, 0.2, 0.05)\nsell_slope_threshold_list \u003d np.arange(-0.1, 0.1, 0.05)\nsell_velocity_threshold_list \u003d np.arange(0.0, 0.5, 0.05)\n\ntask_list \u003d list(itertools.product(\n    buy_slope_threshold_list, \n    buy_velocity_threshold_list, \n    close_slope_threshold_list, \n    close_velocity_threshold_list, \n    sell_slope_threshold_list, \n    sell_velocity_threshold_list\n))\nprint(\"Backtest Params Ready, {} tasks to run. Will take about {} minutes to complete.\".format(len(task_list), round(len(task_list)/(375*60), 2)))\n",
      "metadata": {
        "pycharm": {
          "metadata": false,
          "name": "#%%\n",
          "is_executing": false
        }
      }
    },
    {
      "cell_type": "markdown",
      "source": "\n## Maths for Forex Margin Trading\n\n### Without Leverage: \n\nEquity required to trade a standard lot of AUDUSD would be **AUD$100,000** converted to USD.\n\nAssuming **1 pip rise** in price, aka 0.01%, aka 0.0001 change in price, will result calculate as $100,000 * 0.01% profit. **Profit \u003d AUD$10 - SWAPs**.\n\nOr simply **1 pip \u003d $10 of the base currency**\n\nTherefore, Return is AUD$10 / AUD$100,000 \u003d **0.01%** (Or simply, 1 pip). \n\n**Return Fomula without Leverage** is therefore:\n\n\u003e Return \u003d 1 pip * 1 \u003d 0.01% \u003d 0.0001 (p_change * 1)\n\nThe 1 means 1:1 Leverage, or no leverage.\n\n### With Leverage:\n\nLet\u0027s assume the following:\n\nLeverage: 400\n\nEquity required to trade a standard lot of AUDUSD would be AUD$100,000 / 400, or **AUD$250** converted to USD.\n\nAssuming **1 pip rise** in price, aka 0.01%, aka 0.0001 change in price, will result calculate as $100,000 * 0.01% profit. **Profit \u003d AUD$10 - SWAPs**.\n\nOr simply **1 pip \u003d $10 of the base currency**\n\nTherefore, **Return Fomula with Leverage** is AUD$10 / AUD$250 \u003d **4%** (or simply, 400 pip).\n\n**Return Fomula without Leverage** is therefore:\n\n\u003e Return \u003d 1 pip * 400 \u003d 4% \u003d 0.04 (p_change * 400)\n\nThe 400 means 1:400 Leverage. \n",
      "metadata": {
        "pycharm": {
          "metadata": false,
          "name": "#%% md\n"
        }
      }
    },
    {
      "cell_type": "markdown",
      "source": "\n## Backtesting with 1:400 Leverage\n",
      "metadata": {
        "pycharm": {
          "metadata": false
        }
      }
    },
    {
      "cell_type": "code",
      "execution_count": null,
      "outputs": [
        {
          "name": "stderr",
          "text": [
            "\r0.00tests [00:00, ?tests/s]"
          ],
          "output_type": "stream"
        },
        {
          "name": "stdout",
          "text": [
            "Running 102400 tasks\n"
          ],
          "output_type": "stream"
        }
      ],
      "source": "\nimport concurrent.futures\nfrom concurrent.futures.process import ProcessPoolExecutor\nfrom datetime import datetime\nfrom tqdm import tqdm\n\nmargin_interest \u003d 0.1 # Assuming Margin interest is 10% per year\nleverage \u003d 400 ## Assuming Trading with Leverage\n\nbacktest_df \u003d extra_df[:-504] # We use all available data until 2 years ago\n    \n# Defining a DataFrame to handle results\nbacktest_result \u003d pd.DataFrame(columns\u003d[\u0027buy_slope_threshold\u0027, \u0027buy_velocity_threshold\u0027, \u0027close_slope_threshold\u0027, \u0027close_velocity_threshold\u0027, \u0027sell_slope_threshold\u0027, \u0027sell_velocity_threshold\u0027, \u0027profit_percentage\u0027])\n\ndef single_test(data_df, \n                buy_slope_threshold, \n                buy_velocity_threshold, \n                close_slope_threshold, \n                close_velocity_threshold, \n                sell_slope_threshold, \n                sell_velocity_threshold):\n        \n        # Prepare Maps \u0026 Filters \n        \n        long_mask \u003d (data_df.slope \u003e buy_slope_threshold) \u0026 (data_df.velocity \u003e buy_velocity_threshold)\n        long_close \u003d (data_df.slope \u003c -close_slope_threshold) \u0026 (data_df.velocity \u003c -close_velocity_threshold)\n        long_series \u003d data_df.p_change[long_mask]\n        long_array \u003d long_series.values * leverage # Assuming Forex Margin Trading,\n        margin_cost \u003d margin_interest / 365 * len(long_series) \n        long_profit \u003d np.product(long_array/100 + 1) - 1 - margin_cost\n        \n        short_mask \u003d (data_df.slope \u003c sell_slope_threshold) \u0026 (data_df.velocity \u003c sell_velocity_threshold)\n        short_close \u003d (data_df.slope \u003e close_slope_threshold) \u0026 (data_df.velocity \u003e close_velocity_threshold)\n        short_series \u003d data_df.p_change[short_mask]\n        short_array \u003d short_series.values * leverage # Assuming Forex Margin Trading,\n        margin_cost \u003d margin_interest / 365 * len(short_array)\n        short_profit \u003d np.abs(np.product(short_array/100 - 1)) - 1 - margin_cost\n    \n        trade_profit \u003d long_profit + short_profit\n    \n        test_result \u003d [buy_slope_threshold, \n                       buy_velocity_threshold, \n                       close_slope_threshold, \n                       close_velocity_threshold, \n                       sell_slope_threshold, \n                       sell_velocity_threshold, \n                       trade_profit * 100]\n        return test_result\n\nstart_time \u003d datetime.now()\n\nwith ProcessPoolExecutor() as executor:\n    \"\"\"\n    By default, ProcessPool uses maximum available number of cores to process.\n    \"\"\"\n    \n    \"\"\"\n    Equivalent to executor.map(fn, *iterables),\n    but displays a tqdm-based progress bar.\n    \n    Does not support timeout or chunksize as executor.submit is used internally\n    \n    **kwargs is passed to tqdm.\n    \"\"\"\n    futures_list \u003d []\n    kwargs \u003d {\n        \u0027total\u0027: len(futures_list),\n        \u0027mininterval\u0027: 30.0,\n        \u0027unit\u0027: \u0027tests\u0027,\n        \u0027unit_scale\u0027: True,\n        \u0027leave\u0027: True\n    }\n        \n    futures_list \u003d [executor.submit(single_test, \n                                    backtest_df,\n                                    buy_slope_threshold, \n                                    buy_velocity_threshold, \n                                    close_slope_threshold, \n                                    close_velocity_threshold, \n                                    sell_slope_threshold, \n                                    sell_velocity_threshold) for buy_slope_threshold, \\\n                                                                 buy_velocity_threshold, \\\n                                                                 close_slope_threshold, \\\n                                                                 close_velocity_threshold, \\\n                                                                 sell_slope_threshold, \\\n                                                                 sell_velocity_threshold in task_list]\n    print(\"Running {} tasks\".format(len(futures_list)))\n    \n    for f in tqdm(concurrent.futures.as_completed(futures_list), **kwargs):\n        # done_callback runs on the main process\n        result_row \u003d f.result()\n        \n        backtest_result \u003d backtest_result.append(pd.Series(result_row, index\u003dbacktest_result.columns), ignore_index\u003dTrue)\n\n    print(\"Finished {} tasks in {}\".format(len(task_list), datetime.now() - start_time))\n",
      "metadata": {
        "pycharm": {
          "metadata": false,
          "name": "#%% \n",
          "is_executing": true
        }
      }
    },
    {
      "cell_type": "markdown",
      "source": "\n## Analysing Backtest Results\n",
      "metadata": {
        "pycharm": {
          "metadata": false
        }
      }
    },
    {
      "cell_type": "code",
      "execution_count": null,
      "outputs": [],
      "source": "        \nbacktest_result \u003d backtest_result.sort_values(by\u003d[\u0027profit_percentage\u0027],\n                                        ascending\u003dFalse)\nbacktest_result.head(100)\n",
      "metadata": {
        "pycharm": {
          "metadata": false,
          "name": "#%%\n",
          "is_executing": true
        }
      }
    },
    {
      "cell_type": "code",
      "execution_count": null,
      "outputs": [],
      "source": "\nmargin_interest \u003d 0.1 # Assuming Margin interest is 10% per year\nleverage \u003d 400 # Assuming Trading with Leverage\n\ntest_df \u003d extra_df[-504:] # We use all available data until 2 years ago\ntest_params \u003d backtest_result.iloc[:100]\n\ntest_list \u003d list(zip(test_params.buy_slope_threshold, \n                    test_params.buy_velocity_threshold,\n                    test_params.close_slope_threshold, \n                    test_params.close_velocity_threshold,\n                    test_params.sell_slope_threshold, \n                    test_params.sell_velocity_threshold,))\n\nprint(\"Params Ready, {} tasks to run. \".format(len(test_list)))\n    ",
      "metadata": {
        "pycharm": {
          "metadata": false,
          "name": "#%%\n",
          "is_executing": true
        }
      }
    },
    {
      "cell_type": "code",
      "execution_count": 61,
      "outputs": [
        {
          "name": "stderr",
          "text": [
            "\r0.00tests [00:00, ?tests/s]",
            "\r100tests [00:00, 491tests/s]",
            "\n"
          ],
          "output_type": "stream"
        },
        {
          "name": "stdout",
          "text": [
            "Running 100 tests\n",
            "Finished 100 tests in 0:00:00.256364\n"
          ],
          "output_type": "stream"
        }
      ],
      "source": "# Defining a DataFrame to handle results\ntest_result \u003d pd.DataFrame(columns\u003d[\u0027buy_slope_threshold\u0027, \u0027buy_velocity_threshold\u0027, \u0027close_slope_threshold\u0027, \u0027close_velocity_threshold\u0027, \u0027sell_slope_threshold\u0027, \u0027sell_velocity_threshold\u0027, \u0027profit_percentage\u0027])\n\ndef single_test(data_df, \n                buy_slope_threshold, \n                buy_velocity_threshold, \n                close_slope_threshold, \n                close_velocity_threshold, \n                sell_slope_threshold, \n                sell_velocity_threshold):\n        \n        # Prepare Maps \u0026 Filters \n        \n        long_mask \u003d (data_df.slope \u003e buy_slope_threshold) \u0026 (data_df.velocity \u003e buy_velocity_threshold)\n        long_close \u003d (data_df.slope \u003c -close_slope_threshold) \u0026 (data_df.velocity \u003c -close_velocity_threshold)\n        long_series \u003d data_df.p_change[long_mask]\n        long_array \u003d long_series.values * leverage # Assuming Forex Margin Trading,\n        margin_cost \u003d margin_interest / 365 * len(long_series)\n        long_profit \u003d np.product(long_array/100 + 1) - 1 - margin_cost\n        \n        short_mask \u003d (data_df.slope \u003c sell_slope_threshold) \u0026 (data_df.velocity \u003c sell_velocity_threshold)\n        short_close \u003d (data_df.slope \u003e close_slope_threshold) \u0026 (data_df.velocity \u003e close_velocity_threshold)\n        short_series \u003d data_df.p_change[short_mask]\n        short_array \u003d short_series.values * leverage # Assuming Forex Margin Trading,\n        margin_cost \u003d margin_interest / 365 * len(short_array)\n        short_profit \u003d np.abs(np.product(short_array/100 - 1)) - 1 - margin_cost\n    \n        trade_profit \u003d long_profit + short_profit\n    \n        test_result \u003d [buy_slope_threshold, \n                       buy_velocity_threshold, \n                       close_slope_threshold, \n                       close_velocity_threshold, \n                       sell_slope_threshold, \n                       sell_velocity_threshold, \n                       trade_profit * 100]\n        return test_result\n\nstart_time \u003d datetime.now()\n\nwith ProcessPoolExecutor() as executor:\n    \"\"\"\n    By default, ProcessPool uses maximum available number of cores to process.\n    \"\"\"\n    \n    \"\"\"\n    Equivalent to executor.map(fn, *iterables),\n    but displays a tqdm-based progress bar.\n    \n    Does not support timeout or chunksize as executor.submit is used internally\n    \n    **kwargs is passed to tqdm.\n    \"\"\"\n    futures_list \u003d []\n    kwargs \u003d {\n        \u0027total\u0027: len(futures_list),\n        \u0027mininterval\u0027: 30.0,\n        \u0027unit\u0027: \u0027tests\u0027,\n        \u0027unit_scale\u0027: True,\n        \u0027leave\u0027: True\n    }\n        \n    futures_list \u003d [executor.submit(single_test, \n                                    test_df,\n                                    buy_slope_threshold, \n                                    buy_velocity_threshold, \n                                    close_slope_threshold, \n                                    close_velocity_threshold, \n                                    sell_slope_threshold, \n                                    sell_velocity_threshold) for buy_slope_threshold, \\\n                                                                 buy_velocity_threshold, \\\n                                                                 close_slope_threshold, \\\n                                                                 close_velocity_threshold, \\\n                                                                 sell_slope_threshold, \\\n                                                                 sell_velocity_threshold in test_list]\n    print(\"Running {} tests\".format(len(futures_list)))\n    \n    for f in tqdm(concurrent.futures.as_completed(futures_list), **kwargs):\n        # done_callback runs on the main process\n        result_row \u003d f.result()\n        \n        test_result \u003d test_result.append(pd.Series(result_row, index\u003dtest_result.columns), ignore_index\u003dTrue)\n\n    print(\"Finished {} tests in {}\".format(len(test_list), datetime.now() - start_time))\n",
      "metadata": {
        "pycharm": {
          "metadata": false,
          "name": "#%%\n",
          "is_executing": false
        }
      }
    },
    {
      "cell_type": "markdown",
      "source": "\n## Analysing Forward Test Results",
      "metadata": {
        "pycharm": {
          "metadata": false
        }
      }
    },
    {
      "cell_type": "code",
      "execution_count": 62,
      "outputs": [
        {
          "data": {
            "text/plain": "    buy_slope_threshold  buy_velocity_threshold  close_slope_threshold  \\\n0                   0.0                    -0.3           1.500000e-01   \n63                  0.0                    -0.2          -5.551115e-17   \n73                  0.0                    -0.2          -5.000000e-02   \n72                  0.0                    -0.2          -5.000000e-02   \n71                  0.0                    -0.2          -5.000000e-02   \n\n    close_velocity_threshold  sell_slope_threshold  sell_velocity_threshold  \\\n0                       0.15                   0.0                     0.45   \n63                      0.15                   0.0                     0.10   \n73                      0.05                   0.0                     0.05   \n72                     -0.05                   0.0                     0.25   \n71                     -0.05                   0.0                     0.20   \n\n    profit_percentage  \n0         2102.457773  \n63        2102.457773  \n73        2102.457773  \n72        2102.457773  \n71        2102.457773  ",
            "text/html": "\u003cdiv\u003e\n\u003cstyle scoped\u003e\n    .dataframe tbody tr th:only-of-type {\n        vertical-align: middle;\n    }\n\n    .dataframe tbody tr th {\n        vertical-align: top;\n    }\n\n    .dataframe thead th {\n        text-align: right;\n    }\n\u003c/style\u003e\n\u003ctable border\u003d\"1\" class\u003d\"dataframe\"\u003e\n  \u003cthead\u003e\n    \u003ctr style\u003d\"text-align: right;\"\u003e\n      \u003cth\u003e\u003c/th\u003e\n      \u003cth\u003ebuy_slope_threshold\u003c/th\u003e\n      \u003cth\u003ebuy_velocity_threshold\u003c/th\u003e\n      \u003cth\u003eclose_slope_threshold\u003c/th\u003e\n      \u003cth\u003eclose_velocity_threshold\u003c/th\u003e\n      \u003cth\u003esell_slope_threshold\u003c/th\u003e\n      \u003cth\u003esell_velocity_threshold\u003c/th\u003e\n      \u003cth\u003eprofit_percentage\u003c/th\u003e\n    \u003c/tr\u003e\n  \u003c/thead\u003e\n  \u003ctbody\u003e\n    \u003ctr\u003e\n      \u003cth\u003e0\u003c/th\u003e\n      \u003ctd\u003e0.0\u003c/td\u003e\n      \u003ctd\u003e-0.3\u003c/td\u003e\n      \u003ctd\u003e1.500000e-01\u003c/td\u003e\n      \u003ctd\u003e0.15\u003c/td\u003e\n      \u003ctd\u003e0.0\u003c/td\u003e\n      \u003ctd\u003e0.45\u003c/td\u003e\n      \u003ctd\u003e2102.457773\u003c/td\u003e\n    \u003c/tr\u003e\n    \u003ctr\u003e\n      \u003cth\u003e63\u003c/th\u003e\n      \u003ctd\u003e0.0\u003c/td\u003e\n      \u003ctd\u003e-0.2\u003c/td\u003e\n      \u003ctd\u003e-5.551115e-17\u003c/td\u003e\n      \u003ctd\u003e0.15\u003c/td\u003e\n      \u003ctd\u003e0.0\u003c/td\u003e\n      \u003ctd\u003e0.10\u003c/td\u003e\n      \u003ctd\u003e2102.457773\u003c/td\u003e\n    \u003c/tr\u003e\n    \u003ctr\u003e\n      \u003cth\u003e73\u003c/th\u003e\n      \u003ctd\u003e0.0\u003c/td\u003e\n      \u003ctd\u003e-0.2\u003c/td\u003e\n      \u003ctd\u003e-5.000000e-02\u003c/td\u003e\n      \u003ctd\u003e0.05\u003c/td\u003e\n      \u003ctd\u003e0.0\u003c/td\u003e\n      \u003ctd\u003e0.05\u003c/td\u003e\n      \u003ctd\u003e2102.457773\u003c/td\u003e\n    \u003c/tr\u003e\n    \u003ctr\u003e\n      \u003cth\u003e72\u003c/th\u003e\n      \u003ctd\u003e0.0\u003c/td\u003e\n      \u003ctd\u003e-0.2\u003c/td\u003e\n      \u003ctd\u003e-5.000000e-02\u003c/td\u003e\n      \u003ctd\u003e-0.05\u003c/td\u003e\n      \u003ctd\u003e0.0\u003c/td\u003e\n      \u003ctd\u003e0.25\u003c/td\u003e\n      \u003ctd\u003e2102.457773\u003c/td\u003e\n    \u003c/tr\u003e\n    \u003ctr\u003e\n      \u003cth\u003e71\u003c/th\u003e\n      \u003ctd\u003e0.0\u003c/td\u003e\n      \u003ctd\u003e-0.2\u003c/td\u003e\n      \u003ctd\u003e-5.000000e-02\u003c/td\u003e\n      \u003ctd\u003e-0.05\u003c/td\u003e\n      \u003ctd\u003e0.0\u003c/td\u003e\n      \u003ctd\u003e0.20\u003c/td\u003e\n      \u003ctd\u003e2102.457773\u003c/td\u003e\n    \u003c/tr\u003e\n  \u003c/tbody\u003e\n\u003c/table\u003e\n\u003c/div\u003e"
          },
          "metadata": {},
          "output_type": "execute_result",
          "execution_count": 62
        }
      ],
      "source": "        \ntest_result \u003d test_result.sort_values(by\u003d[\u0027profit_percentage\u0027],\n                                        ascending\u003dFalse)\ntest_result.head()\n",
      "metadata": {
        "pycharm": {
          "metadata": false,
          "name": "#%%\n",
          "is_executing": false
        }
      }
    },
    {
      "cell_type": "code",
      "execution_count": null,
      "outputs": [],
      "source": "\n",
      "metadata": {
        "pycharm": {
          "metadata": false,
          "name": "#%%\n"
        }
      }
    }
  ],
  "metadata": {
    "language_info": {
      "codemirror_mode": {
        "name": "ipython",
        "version": 2
      },
      "file_extension": ".py",
      "mimetype": "text/x-python",
      "name": "python",
      "nbconvert_exporter": "python",
      "pygments_lexer": "ipython2",
      "version": "2.7.6"
    },
    "kernelspec": {
      "name": "python3",
      "language": "python",
      "display_name": "Python 3"
    }
  },
  "nbformat": 4,
  "nbformat_minor": 0
}