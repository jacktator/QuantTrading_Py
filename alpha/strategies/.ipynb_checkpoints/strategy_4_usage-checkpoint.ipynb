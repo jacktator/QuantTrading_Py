{
 "cells": [
  {
   "cell_type": "markdown",
   "metadata": {
    "pycharm": {
     "metadata": false
    }
   },
   "source": [
    "# Import Data\n",
    "\n",
    "For this purpose, this strategy will attemp to trade 3 instruments\n",
    "1. GBPUSD h4 - Liquid, Extreme Volatility\n",
    "1. GBPUSD d1 - Liquid, High Volatility\n",
    "2. AUDUSD h4 - Liquid, Medium Volatility\n",
    "2. AUDUSD d1 - Liquid, Low Volatility\n",
    "3. Wirdcard d1 - Illiquid, High Volatility"
   ]
  },
  {
   "cell_type": "code",
   "execution_count": 16,
   "metadata": {
    "pycharm": {
     "is_executing": false,
     "metadata": false,
     "name": "#%%\n"
    }
   },
   "outputs": [
    {
     "data": {
      "text/html": [
       "<div>\n",
       "<style scoped>\n",
       "    .dataframe tbody tr th:only-of-type {\n",
       "        vertical-align: middle;\n",
       "    }\n",
       "\n",
       "    .dataframe tbody tr th {\n",
       "        vertical-align: top;\n",
       "    }\n",
       "\n",
       "    .dataframe thead th {\n",
       "        text-align: right;\n",
       "    }\n",
       "</style>\n",
       "<table border=\"1\" class=\"dataframe\">\n",
       "  <thead>\n",
       "    <tr style=\"text-align: right;\">\n",
       "      <th></th>\n",
       "      <th>close</th>\n",
       "      <th>high</th>\n",
       "      <th>low</th>\n",
       "      <th>p_change</th>\n",
       "      <th>open</th>\n",
       "      <th>pre_close</th>\n",
       "      <th>volume</th>\n",
       "      <th>date</th>\n",
       "      <th>date_week</th>\n",
       "      <th>atr21</th>\n",
       "      <th>atr14</th>\n",
       "      <th>key</th>\n",
       "    </tr>\n",
       "  </thead>\n",
       "  <tbody>\n",
       "    <tr>\n",
       "      <th>2017-06-12</th>\n",
       "      <td>80.17</td>\n",
       "      <td>80.73</td>\n",
       "      <td>79.95</td>\n",
       "      <td>-0.174</td>\n",
       "      <td>80.35</td>\n",
       "      <td>80.31</td>\n",
       "      <td>3352279</td>\n",
       "      <td>20170612</td>\n",
       "      <td>0</td>\n",
       "      <td>0.780000</td>\n",
       "      <td>0.780000</td>\n",
       "      <td>0</td>\n",
       "    </tr>\n",
       "    <tr>\n",
       "      <th>2017-06-13</th>\n",
       "      <td>80.59</td>\n",
       "      <td>80.74</td>\n",
       "      <td>80.07</td>\n",
       "      <td>0.524</td>\n",
       "      <td>80.20</td>\n",
       "      <td>80.17</td>\n",
       "      <td>3174361</td>\n",
       "      <td>20170613</td>\n",
       "      <td>1</td>\n",
       "      <td>0.722381</td>\n",
       "      <td>0.721071</td>\n",
       "      <td>1</td>\n",
       "    </tr>\n",
       "    <tr>\n",
       "      <th>2017-06-14</th>\n",
       "      <td>80.84</td>\n",
       "      <td>80.92</td>\n",
       "      <td>79.62</td>\n",
       "      <td>0.310</td>\n",
       "      <td>80.11</td>\n",
       "      <td>80.59</td>\n",
       "      <td>4013089</td>\n",
       "      <td>20170614</td>\n",
       "      <td>2</td>\n",
       "      <td>0.933535</td>\n",
       "      <td>0.942224</td>\n",
       "      <td>2</td>\n",
       "    </tr>\n",
       "    <tr>\n",
       "      <th>2017-06-15</th>\n",
       "      <td>80.70</td>\n",
       "      <td>81.24</td>\n",
       "      <td>80.23</td>\n",
       "      <td>-0.173</td>\n",
       "      <td>80.38</td>\n",
       "      <td>80.84</td>\n",
       "      <td>2773369</td>\n",
       "      <td>20170615</td>\n",
       "      <td>3</td>\n",
       "      <td>0.955464</td>\n",
       "      <td>0.962959</td>\n",
       "      <td>3</td>\n",
       "    </tr>\n",
       "    <tr>\n",
       "      <th>2017-06-16</th>\n",
       "      <td>81.45</td>\n",
       "      <td>81.48</td>\n",
       "      <td>80.77</td>\n",
       "      <td>0.929</td>\n",
       "      <td>80.86</td>\n",
       "      <td>80.70</td>\n",
       "      <td>5914676</td>\n",
       "      <td>20170616</td>\n",
       "      <td>4</td>\n",
       "      <td>0.896598</td>\n",
       "      <td>0.896962</td>\n",
       "      <td>4</td>\n",
       "    </tr>\n",
       "  </tbody>\n",
       "</table>\n",
       "</div>"
      ],
      "text/plain": [
       "            close   high    low  p_change   open  pre_close   volume  \\\n",
       "2017-06-12  80.17  80.73  79.95    -0.174  80.35      80.31  3352279   \n",
       "2017-06-13  80.59  80.74  80.07     0.524  80.20      80.17  3174361   \n",
       "2017-06-14  80.84  80.92  79.62     0.310  80.11      80.59  4013089   \n",
       "2017-06-15  80.70  81.24  80.23    -0.173  80.38      80.84  2773369   \n",
       "2017-06-16  81.45  81.48  80.77     0.929  80.86      80.70  5914676   \n",
       "\n",
       "                date  date_week     atr21     atr14  key  \n",
       "2017-06-12  20170612          0  0.780000  0.780000    0  \n",
       "2017-06-13  20170613          1  0.722381  0.721071    1  \n",
       "2017-06-14  20170614          2  0.933535  0.942224    2  \n",
       "2017-06-15  20170615          3  0.955464  0.962959    3  \n",
       "2017-06-16  20170616          4  0.896598  0.896962    4  "
      ]
     },
     "execution_count": 16,
     "metadata": {},
     "output_type": "execute_result"
    }
   ],
   "source": [
    "import numpy as np\n",
    "import pandas as pd\n",
    "\n",
    "amex_df = pd.read_csv('../../data/gen/usAXP_df.csv',\n",
    "                           parse_dates=True,\n",
    "                           index_col=0)\n",
    "# Strip whitespace from column names\n",
    "amex_df.columns = amex_df.columns.str.strip()\n",
    "# Print \n",
    "amex_df.head()\n"
   ]
  },
  {
   "cell_type": "markdown",
   "metadata": {
    "pycharm": {
     "metadata": false,
     "name": "#%% md\n"
    }
   },
   "source": [
    "\n",
    "## Processing Data\n"
   ]
  },
  {
   "cell_type": "code",
   "execution_count": 17,
   "metadata": {
    "pycharm": {
     "is_executing": false,
     "metadata": false,
     "name": "#%%\n"
    }
   },
   "outputs": [],
   "source": [
    "extra_df = amex_df.copy()\n",
    "extra_df['slope'] = pd.Series(np.gradient(extra_df.close), extra_df.index, name='slope')\n",
    "extra_df['velocity'] = pd.Series(np.gradient(extra_df.slope), extra_df.index, name='velocity')"
   ]
  },
  {
   "cell_type": "markdown",
   "metadata": {
    "pycharm": {
     "metadata": false
    }
   },
   "source": [
    "\n",
    "## Plotting Data\n",
    "\n",
    "Plot the close price and the price change probability distribution"
   ]
  },
  {
   "cell_type": "code",
   "execution_count": 18,
   "metadata": {
    "pycharm": {
     "is_executing": false,
     "metadata": false,
     "name": "#%%\n"
    }
   },
   "outputs": [
    {
     "data": {
      "text/plain": [
       "<matplotlib.axes._subplots.AxesSubplot at 0x113d0e7b8>"
      ]
     },
     "execution_count": 18,
     "metadata": {},
     "output_type": "execute_result"
    },
    {
     "data": {
      "image/png": "[encoded data removed]",
      "text/plain": [
       "<Figure size 432x288 with 1 Axes>"
      ]
     },
     "metadata": {
      "needs_background": "light"
     },
     "output_type": "display_data"
    },
    {
     "data": {
      "image/png": "[encoded data removed]",
      "text/plain": [
       "<Figure size 432x288 with 1 Axes>"
      ]
     },
     "metadata": {
      "needs_background": "light"
     },
     "output_type": "display_data"
    }
   ],
   "source": [
    "             \n",
    "extra_df[['close']].plot(subplots=False, \n",
    "                             grid=True\n",
    ")\n",
    "             \n",
    "extra_df[['slope', 'velocity']].plot(subplots=False, grid=True)"
   ]
  },
  {
   "cell_type": "markdown",
   "metadata": {
    "pycharm": {
     "metadata": false
    }
   },
   "source": [
    "# Initialize Strategy \n",
    "\n",
    "Let's create a strategy which will \n",
    "- Buy the stock when it's 2 `moving_std` above `moving_average`, and close at `moving_average`.\n",
    "- Sell the stock when it's 2 `moving_std` below `moving_average`, and close at `moving_average`.\n"
   ]
  },
  {
   "cell_type": "code",
   "execution_count": 20,
   "metadata": {
    "pycharm": {
     "is_executing": false,
     "metadata": false,
     "name": "#%% \n"
    }
   },
   "outputs": [
    {
     "ename": "TypeError",
     "evalue": "__init__() got an unexpected keyword argument 'buy_slope_threshold'",
     "output_type": "error",
     "traceback": [
      "\u001b[0;31m---------------------------------------------------------------------------\u001b[0m",
      "\u001b[0;31mTypeError\u001b[0m                                 Traceback (most recent call last)",
      "\u001b[0;32m<ipython-input-20-a6646785264f>\u001b[0m in \u001b[0;36m<module>\u001b[0;34m\u001b[0m\n\u001b[1;32m     16\u001b[0m                           \u001b[0msell_velocity_threshold\u001b[0m\u001b[0;34m=\u001b[0m\u001b[0msell_velocity_threshold\u001b[0m\u001b[0;34m,\u001b[0m\u001b[0;34m\u001b[0m\u001b[0;34m\u001b[0m\u001b[0m\n\u001b[1;32m     17\u001b[0m                           \u001b[0mshould_log\u001b[0m\u001b[0;34m=\u001b[0m\u001b[0;32mTrue\u001b[0m\u001b[0;34m,\u001b[0m\u001b[0;34m\u001b[0m\u001b[0;34m\u001b[0m\u001b[0m\n\u001b[0;32m---> 18\u001b[0;31m                           should_plot=False)\n\u001b[0m",
      "\u001b[0;31mTypeError\u001b[0m: __init__() got an unexpected keyword argument 'buy_slope_threshold'"
     ]
    }
   ],
   "source": [
    "import import_ipynb\n",
    "from strategy_4 import TradeStrategy4\n",
    "\n",
    "buy_slope_threshold = 0.1 # The slope required to trigger BUY\n",
    "buy_velocity_threshold = 0.1 # The velocity required to trigger BUY\n",
    "close_slope_threshold = 0 # The slope required to trigger CLOSE\n",
    "close_velocity_threshold = 0 # The slope required to trigger CLOSE\n",
    "sell_slope_threshold = -0.1 # The slope required to trigger SELL\n",
    "sell_velocity_threshold = -0.1 # The velocity required to trigger SELL\n",
    "\n",
    "strategy = TradeStrategy4(buy_slope_threshold=buy_slope_threshold,\n",
    "                          buy_velocity_threshold=buy_velocity_threshold,\n",
    "                          close_slope_threshold=close_slope_threshold,\n",
    "                          close_velocity_threshold=close_velocity_threshold,\n",
    "                          sell_slope_threshold=sell_slope_threshold,\n",
    "                          sell_velocity_threshold=sell_velocity_threshold,\n",
    "                          should_log=True, \n",
    "                          should_plot=False)\n"
   ]
  },
  {
   "cell_type": "markdown",
   "metadata": {
    "pycharm": {
     "metadata": false
    }
   },
   "source": [
    "# Testing Strategy \n",
    "\n",
    "We will iterate through all trade days, and let strategy decide whether or not it should buy/sell.\n",
    "\n",
    "Finally, we will print the strategy of the result."
   ]
  },
  {
   "cell_type": "code",
   "execution_count": 52,
   "metadata": {
    "pycharm": {
     "is_executing": false,
     "metadata": false,
     "name": "#%% \n"
    }
   },
   "outputs": [
    {
     "name": "stdout",
     "output_type": "stream",
     "text": [
      "Sold on 2017-06-29 00:00:00 at $83.63.\n",
      "- Closed on 2017-06-30 00:00:00 at $84.24.\n",
      "Sold on 2017-07-05 00:00:00 at $84.89.\n",
      "- Closed on 2017-07-06 00:00:00 at $83.74.\n",
      "Sold on 2017-07-25 00:00:00 at $85.41.\n",
      "- Closed on 2017-07-31 00:00:00 at $85.23.\n",
      "Sold on 2017-08-17 00:00:00 at $86.09.\n",
      "- Closed on 2017-08-30 00:00:00 at $85.69.\n",
      "Sold on 2017-08-31 00:00:00 at $86.1.\n",
      "- Closed on 2017-09-01 00:00:00 at $86.14.\n",
      "Sold on 2017-09-01 00:00:00 at $86.14.\n",
      "- Closed on 2017-09-11 00:00:00 at $85.7.\n",
      "Sold on 2017-09-20 00:00:00 at $88.43.\n",
      "- Closed on 2017-09-21 00:00:00 at $88.44.\n",
      "Sold on 2017-10-04 00:00:00 at $90.99.\n",
      "- Closed on 2017-10-05 00:00:00 at $91.16.\n",
      "Sold on 2017-10-16 00:00:00 at $91.96.\n",
      "- Closed on 2017-10-18 00:00:00 at $92.03.\n",
      "Bought on 2017-10-19 00:00:00 at $91.9.\n",
      "- Closed on 2017-11-07 00:00:00 at $95.37.\n",
      "Bought on 2017-11-13 00:00:00 at $93.9.\n",
      "- Closed on 2017-11-14 00:00:00 at $93.76.\n",
      "Sold on 2017-11-22 00:00:00 at $93.82.\n",
      "- Closed on 2017-11-28 00:00:00 at $95.28.\n",
      "Sold on 2017-11-29 00:00:00 at $96.6.\n",
      "- Closed on 2017-11-30 00:00:00 at $97.71.\n",
      "Sold on 2017-11-30 00:00:00 at $97.71.\n",
      "- Closed on 2017-12-01 00:00:00 at $97.86.\n",
      "Sold on 2017-12-01 00:00:00 at $97.86.\n",
      "- Closed on 2017-12-04 00:00:00 at $98.59.\n",
      "Sold on 2017-12-19 00:00:00 at $99.15.\n",
      "- Closed on 2017-12-22 00:00:00 at $98.74.\n",
      "Sold on 2017-12-29 00:00:00 at $99.31.\n",
      "- Closed on 2018-01-03 00:00:00 at $99.55.\n",
      "Sold on 2018-01-08 00:00:00 at $100.15.\n",
      "- Closed on 2018-01-09 00:00:00 at $100.52.\n",
      "Sold on 2018-01-16 00:00:00 at $100.34.\n",
      "- Closed on 2018-01-17 00:00:00 at $100.76.\n",
      "Bought on 2018-01-19 00:00:00 at $98.03.\n",
      "- Closed on 2018-01-22 00:00:00 at $98.32.\n",
      "Bought on 2018-01-22 00:00:00 at $98.32.\n",
      "- Closed on 2018-01-23 00:00:00 at $97.98.\n",
      "Bought on 2018-02-06 00:00:00 at $94.18.\n",
      "- Closed on 2018-02-07 00:00:00 at $93.61.\n",
      "Sold on 2018-02-27 00:00:00 at $99.58.\n",
      "- Closed on 2018-03-09 00:00:00 at $99.05.\n",
      "Sold on 2018-04-20 00:00:00 at $100.81.\n",
      "- Closed on 2018-04-23 00:00:00 at $100.61.\n",
      "Bought on 2018-05-04 00:00:00 at $98.35.\n",
      "- Closed on 2018-05-07 00:00:00 at $98.58.\n",
      "Bought on 2018-06-18 00:00:00 at $98.47.\n",
      "- Closed on 2018-06-19 00:00:00 at $97.14.\n",
      "Bought on 2018-06-19 00:00:00 at $97.14.\n",
      "- Closed on 2018-06-20 00:00:00 at $96.42.\n",
      "Bought on 2018-06-21 00:00:00 at $96.65.\n",
      "- Closed on 2018-06-22 00:00:00 at $97.23.\n",
      "Sold on 2018-07-03 00:00:00 at $97.8.\n",
      "- Closed on 2018-07-05 00:00:00 at $98.53.\n",
      "Sold on 2018-09-12 00:00:00 at $107.88.\n",
      "- Closed on 2018-09-13 00:00:00 at $108.66.\n",
      "Sold on 2018-09-17 00:00:00 at $109.2.\n",
      "- Closed on 2018-09-18 00:00:00 at $109.64.\n",
      "Sold on 2018-09-21 00:00:00 at $110.9.\n",
      "- Closed on 2018-09-24 00:00:00 at $109.85.\n",
      "Bought on 2018-10-09 00:00:00 at $106.66.\n",
      "- Closed on 2018-10-10 00:00:00 at $103.57.\n",
      "Sold on 2018-11-05 00:00:00 at $103.71.\n",
      "- Closed on 2018-11-06 00:00:00 at $105.21.\n",
      "Sold on 2018-11-09 00:00:00 at $108.28.\n",
      "- Closed on 2018-11-12 00:00:00 at $106.49.\n",
      "Strategy3 Yielded: 1.31% with x_days: 10, std_mutiplier: 0.5.\n"
     ]
    }
   ],
   "source": [
    "for date, trade_day in extra_df.iterrows():\n",
    "    strategy.trade(date=date,\n",
    "                   tradeday=trade_day)\n",
    "print(\"Strategy3 Yielded: {}% with x_days: {}, std_mutiplier: {}.\".format(round(strategy.trade_profit*100, 2), x_days, std_mutiplier))"
   ]
  },
  {
   "cell_type": "code",
   "execution_count": null,
   "metadata": {
    "pycharm": {
     "metadata": false,
     "name": "#%%"
    }
   },
   "outputs": [],
   "source": []
  }
 ],
 "metadata": {
  "kernelspec": {
   "display_name": "Python 3",
   "language": "python",
   "name": "python3"
  },
  "language_info": {
   "codemirror_mode": {
    "name": "ipython",
    "version": 3
   },
   "file_extension": ".py",
   "mimetype": "text/x-python",
   "name": "python",
   "nbconvert_exporter": "python",
   "pygments_lexer": "ipython3",
   "version": "3.7.3"
  },
  "stem_cell": {
   "cell_type": "raw",
   "metadata": {
    "pycharm": {
     "metadata": false
    }
   },
   "source": ""
  }
 },
 "nbformat": 4,
 "nbformat_minor": 1
}
