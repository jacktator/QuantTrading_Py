{
  "cells": [
    {
      "cell_type": "markdown",
      "metadata": {
        "collapsed": true,
        "pycharm": {
          "is_executing": false,
          "name": "#%% md\n"
        }
      },
      "source": "\n# StrategySV Optimization\n\nOptimizing the Strategy Parameters for Algo-Strategy Forex.\n\nHere\u0027s a quick TOC:\n\n1. [Importing Forex Data](#importing-forex-data)\n1. [Processing Data](#processing-data)\n1. [Analyzing Parameters](#analyzing-parameters)\n1. [Preparing Backtests](#preparing-backtests)\n1. [Trading Assumptions](#trading-assumptions)\n1. [Running Backtests](#running-backtets)\n1. [Analyzing Backtest Results](#analyzing-backtest-results)\n1. [Running Papertests](#running-papertests)\n1. [Analyzing Papertest Results](#analyzing-papertest-results)\n1. [Plotting Optimized Results](#plotting-optimized-results)\n\n## Importing Forex Data\n"
    },
    {
      "cell_type": "code",
      "execution_count": 3,
      "outputs": [
        {
          "data": {
            "text/plain": "       timestamp    open    high     low   close  pre_close  p_change  \\\n4998  2001-05-15  0.5193  0.5212  0.5150  0.5206     0.5193  0.002503   \n4997  2001-05-16  0.5209  0.5240  0.5182  0.5233     0.5206  0.005186   \n4996  2001-05-17  0.5230  0.5293  0.5220  0.5279     0.5233  0.008790   \n4995  2001-05-18  0.5274  0.5300  0.5238  0.5291     0.5279  0.002273   \n4994  2001-05-21  0.5295  0.5320  0.5266  0.5270     0.5291 -0.003969   \n\n      pip_change  \n4998   25.033699  \n4997   51.863235  \n4996   87.903688  \n4995   22.731578  \n4994  -39.690040  ",
            "text/html": "\u003cdiv\u003e\n\u003cstyle scoped\u003e\n    .dataframe tbody tr th:only-of-type {\n        vertical-align: middle;\n    }\n\n    .dataframe tbody tr th {\n        vertical-align: top;\n    }\n\n    .dataframe thead th {\n        text-align: right;\n    }\n\u003c/style\u003e\n\u003ctable border\u003d\"1\" class\u003d\"dataframe\"\u003e\n  \u003cthead\u003e\n    \u003ctr style\u003d\"text-align: right;\"\u003e\n      \u003cth\u003e\u003c/th\u003e\n      \u003cth\u003etimestamp\u003c/th\u003e\n      \u003cth\u003eopen\u003c/th\u003e\n      \u003cth\u003ehigh\u003c/th\u003e\n      \u003cth\u003elow\u003c/th\u003e\n      \u003cth\u003eclose\u003c/th\u003e\n      \u003cth\u003epre_close\u003c/th\u003e\n      \u003cth\u003ep_change\u003c/th\u003e\n      \u003cth\u003epip_change\u003c/th\u003e\n    \u003c/tr\u003e\n  \u003c/thead\u003e\n  \u003ctbody\u003e\n    \u003ctr\u003e\n      \u003cth\u003e4998\u003c/th\u003e\n      \u003ctd\u003e2001-05-15\u003c/td\u003e\n      \u003ctd\u003e0.5193\u003c/td\u003e\n      \u003ctd\u003e0.5212\u003c/td\u003e\n      \u003ctd\u003e0.5150\u003c/td\u003e\n      \u003ctd\u003e0.5206\u003c/td\u003e\n      \u003ctd\u003e0.5193\u003c/td\u003e\n      \u003ctd\u003e0.002503\u003c/td\u003e\n      \u003ctd\u003e25.033699\u003c/td\u003e\n    \u003c/tr\u003e\n    \u003ctr\u003e\n      \u003cth\u003e4997\u003c/th\u003e\n      \u003ctd\u003e2001-05-16\u003c/td\u003e\n      \u003ctd\u003e0.5209\u003c/td\u003e\n      \u003ctd\u003e0.5240\u003c/td\u003e\n      \u003ctd\u003e0.5182\u003c/td\u003e\n      \u003ctd\u003e0.5233\u003c/td\u003e\n      \u003ctd\u003e0.5206\u003c/td\u003e\n      \u003ctd\u003e0.005186\u003c/td\u003e\n      \u003ctd\u003e51.863235\u003c/td\u003e\n    \u003c/tr\u003e\n    \u003ctr\u003e\n      \u003cth\u003e4996\u003c/th\u003e\n      \u003ctd\u003e2001-05-17\u003c/td\u003e\n      \u003ctd\u003e0.5230\u003c/td\u003e\n      \u003ctd\u003e0.5293\u003c/td\u003e\n      \u003ctd\u003e0.5220\u003c/td\u003e\n      \u003ctd\u003e0.5279\u003c/td\u003e\n      \u003ctd\u003e0.5233\u003c/td\u003e\n      \u003ctd\u003e0.008790\u003c/td\u003e\n      \u003ctd\u003e87.903688\u003c/td\u003e\n    \u003c/tr\u003e\n    \u003ctr\u003e\n      \u003cth\u003e4995\u003c/th\u003e\n      \u003ctd\u003e2001-05-18\u003c/td\u003e\n      \u003ctd\u003e0.5274\u003c/td\u003e\n      \u003ctd\u003e0.5300\u003c/td\u003e\n      \u003ctd\u003e0.5238\u003c/td\u003e\n      \u003ctd\u003e0.5291\u003c/td\u003e\n      \u003ctd\u003e0.5279\u003c/td\u003e\n      \u003ctd\u003e0.002273\u003c/td\u003e\n      \u003ctd\u003e22.731578\u003c/td\u003e\n    \u003c/tr\u003e\n    \u003ctr\u003e\n      \u003cth\u003e4994\u003c/th\u003e\n      \u003ctd\u003e2001-05-21\u003c/td\u003e\n      \u003ctd\u003e0.5295\u003c/td\u003e\n      \u003ctd\u003e0.5320\u003c/td\u003e\n      \u003ctd\u003e0.5266\u003c/td\u003e\n      \u003ctd\u003e0.5270\u003c/td\u003e\n      \u003ctd\u003e0.5291\u003c/td\u003e\n      \u003ctd\u003e-0.003969\u003c/td\u003e\n      \u003ctd\u003e-39.690040\u003c/td\u003e\n    \u003c/tr\u003e\n  \u003c/tbody\u003e\n\u003c/table\u003e\n\u003c/div\u003e"
          },
          "metadata": {},
          "output_type": "execute_result",
          "execution_count": 3
        }
      ],
      "source": "\nimport pandas as pd\nimport numpy as np\nimport matplotlib.pyplot as plt\n\nforex_symbol \u003d \"AUDUSD\"\n\nforex_df \u003d pd.read_csv(\u0027../../data/gen/{}_Daily_df.csv\u0027.format(forex_symbol),\n                       parse_dates\u003dTrue,\n                       index_col\u003d0)\n# Strip whitespace from column names\nforex_df.columns \u003d forex_df.columns.str.strip()\n# Print\nforex_df.head()\n",
      "metadata": {
        "pycharm": {
          "metadata": false,
          "name": "#%%\n",
          "is_executing": false
        }
      }
    },
    {
      "cell_type": "markdown",
      "source": "\n## Processing Data\n\nIn order to run StrategySV, we need to calculate `slope` and `velocity` data.\n",
      "metadata": {
        "pycharm": {
          "metadata": false
        }
      }
    },
    {
      "cell_type": "code",
      "execution_count": null,
      "outputs": [],
      "source": "\nextra_df \u003d forex_df.copy()\nextra_df[\u0027slope\u0027] \u003d pd.Series(np.gradient(extra_df.close), extra_df.index, name\u003d\u0027slope\u0027)\nextra_df[\u0027velocity\u0027] \u003d pd.Series(np.gradient(extra_df.slope), extra_df.index, name\u003d\u0027velocity\u0027)\n# Print\nextra_df.head()\n",
      "metadata": {
        "pycharm": {
          "metadata": false,
          "name": "#%%\n"
        }
      }
    },
    {
      "cell_type": "markdown",
      "source": "\n## Analyzing Parameters\n\nTo determine sensible slop \u0026 velocity range to run backtests on, slope \u0026 velocity needs to be analysed.\n",
      "metadata": {
        "pycharm": {
          "metadata": false,
          "name": "#%% md\n"
        }
      }
    },
    {
      "cell_type": "code",
      "execution_count": 2,
      "outputs": [
        {
          "data": {
            "text/plain": "       timestamp    open    high     low   close  pre_close  p_change  \\\n4998  2001-05-15  0.5193  0.5212  0.5150  0.5206     0.5193  0.002503   \n4997  2001-05-16  0.5209  0.5240  0.5182  0.5233     0.5206  0.005186   \n4996  2001-05-17  0.5230  0.5293  0.5220  0.5279     0.5233  0.008790   \n4995  2001-05-18  0.5274  0.5300  0.5238  0.5291     0.5279  0.002273   \n4994  2001-05-21  0.5295  0.5320  0.5266  0.5270     0.5291 -0.003969   \n\n      pip_change    slope  velocity  \n4998   25.033699  0.00270  0.000950  \n4997   51.863235  0.00365  0.000100  \n4996   87.903688  0.00290 -0.002050  \n4995   22.731578 -0.00045 -0.002675  \n4994  -39.690040 -0.00245 -0.002150  ",
            "text/html": "\u003cdiv\u003e\n\u003cstyle scoped\u003e\n    .dataframe tbody tr th:only-of-type {\n        vertical-align: middle;\n    }\n\n    .dataframe tbody tr th {\n        vertical-align: top;\n    }\n\n    .dataframe thead th {\n        text-align: right;\n    }\n\u003c/style\u003e\n\u003ctable border\u003d\"1\" class\u003d\"dataframe\"\u003e\n  \u003cthead\u003e\n    \u003ctr style\u003d\"text-align: right;\"\u003e\n      \u003cth\u003e\u003c/th\u003e\n      \u003cth\u003etimestamp\u003c/th\u003e\n      \u003cth\u003eopen\u003c/th\u003e\n      \u003cth\u003ehigh\u003c/th\u003e\n      \u003cth\u003elow\u003c/th\u003e\n      \u003cth\u003eclose\u003c/th\u003e\n      \u003cth\u003epre_close\u003c/th\u003e\n      \u003cth\u003ep_change\u003c/th\u003e\n      \u003cth\u003epip_change\u003c/th\u003e\n      \u003cth\u003eslope\u003c/th\u003e\n      \u003cth\u003evelocity\u003c/th\u003e\n    \u003c/tr\u003e\n  \u003c/thead\u003e\n  \u003ctbody\u003e\n    \u003ctr\u003e\n      \u003cth\u003e4998\u003c/th\u003e\n      \u003ctd\u003e2001-05-15\u003c/td\u003e\n      \u003ctd\u003e0.5193\u003c/td\u003e\n      \u003ctd\u003e0.5212\u003c/td\u003e\n      \u003ctd\u003e0.5150\u003c/td\u003e\n      \u003ctd\u003e0.5206\u003c/td\u003e\n      \u003ctd\u003e0.5193\u003c/td\u003e\n      \u003ctd\u003e0.002503\u003c/td\u003e\n      \u003ctd\u003e25.033699\u003c/td\u003e\n      \u003ctd\u003e0.00270\u003c/td\u003e\n      \u003ctd\u003e0.000950\u003c/td\u003e\n    \u003c/tr\u003e\n    \u003ctr\u003e\n      \u003cth\u003e4997\u003c/th\u003e\n      \u003ctd\u003e2001-05-16\u003c/td\u003e\n      \u003ctd\u003e0.5209\u003c/td\u003e\n      \u003ctd\u003e0.5240\u003c/td\u003e\n      \u003ctd\u003e0.5182\u003c/td\u003e\n      \u003ctd\u003e0.5233\u003c/td\u003e\n      \u003ctd\u003e0.5206\u003c/td\u003e\n      \u003ctd\u003e0.005186\u003c/td\u003e\n      \u003ctd\u003e51.863235\u003c/td\u003e\n      \u003ctd\u003e0.00365\u003c/td\u003e\n      \u003ctd\u003e0.000100\u003c/td\u003e\n    \u003c/tr\u003e\n    \u003ctr\u003e\n      \u003cth\u003e4996\u003c/th\u003e\n      \u003ctd\u003e2001-05-17\u003c/td\u003e\n      \u003ctd\u003e0.5230\u003c/td\u003e\n      \u003ctd\u003e0.5293\u003c/td\u003e\n      \u003ctd\u003e0.5220\u003c/td\u003e\n      \u003ctd\u003e0.5279\u003c/td\u003e\n      \u003ctd\u003e0.5233\u003c/td\u003e\n      \u003ctd\u003e0.008790\u003c/td\u003e\n      \u003ctd\u003e87.903688\u003c/td\u003e\n      \u003ctd\u003e0.00290\u003c/td\u003e\n      \u003ctd\u003e-0.002050\u003c/td\u003e\n    \u003c/tr\u003e\n    \u003ctr\u003e\n      \u003cth\u003e4995\u003c/th\u003e\n      \u003ctd\u003e2001-05-18\u003c/td\u003e\n      \u003ctd\u003e0.5274\u003c/td\u003e\n      \u003ctd\u003e0.5300\u003c/td\u003e\n      \u003ctd\u003e0.5238\u003c/td\u003e\n      \u003ctd\u003e0.5291\u003c/td\u003e\n      \u003ctd\u003e0.5279\u003c/td\u003e\n      \u003ctd\u003e0.002273\u003c/td\u003e\n      \u003ctd\u003e22.731578\u003c/td\u003e\n      \u003ctd\u003e-0.00045\u003c/td\u003e\n      \u003ctd\u003e-0.002675\u003c/td\u003e\n    \u003c/tr\u003e\n    \u003ctr\u003e\n      \u003cth\u003e4994\u003c/th\u003e\n      \u003ctd\u003e2001-05-21\u003c/td\u003e\n      \u003ctd\u003e0.5295\u003c/td\u003e\n      \u003ctd\u003e0.5320\u003c/td\u003e\n      \u003ctd\u003e0.5266\u003c/td\u003e\n      \u003ctd\u003e0.5270\u003c/td\u003e\n      \u003ctd\u003e0.5291\u003c/td\u003e\n      \u003ctd\u003e-0.003969\u003c/td\u003e\n      \u003ctd\u003e-39.690040\u003c/td\u003e\n      \u003ctd\u003e-0.00245\u003c/td\u003e\n      \u003ctd\u003e-0.002150\u003c/td\u003e\n    \u003c/tr\u003e\n  \u003c/tbody\u003e\n\u003c/table\u003e\n\u003c/div\u003e"
          },
          "metadata": {},
          "output_type": "execute_result",
          "execution_count": 2
        }
      ],
      "source": "\nimport seaborn as sns\nfrom scipy import stats\n\nsns.distplot(extra_df[\u0027slope\u0027],\n             bins\u003d100,\n             label\u003d\"Daily Slope Change\")\nstats.describe(extra_df.slope)\n",
      "metadata": {
        "pycharm": {
          "metadata": false,
          "name": "#%% \n",
          "is_executing": false
        }
      }
    },
    {
      "cell_type": "code",
      "execution_count": 26,
      "outputs": [
        {
          "data": {
            "text/plain": "DescribeResult(nobs\u003d1904, minmax\u003d(-1957.8699596099991, 1269.468625622499), mean\u003d-0.20782363665835074, variance\u003d16044.134790465652, skewness\u003d-1.7081888391594762, kurtosis\u003d51.470654024792914)"
          },
          "metadata": {},
          "output_type": "execute_result",
          "execution_count": 26
        },
        {
          "data": {
            "text/plain": "\u003cFigure size 432x288 with 1 Axes\u003e",
            "image/png": "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\u003d\u003d\n"
          },
          "metadata": {
            "needs_background": "light"
          },
          "output_type": "display_data"
        }
      ],
      "source": "\nsns.distplot(extra_df[\u0027velocity\u0027],\n             bins\u003d100,\n             label\u003d\"Daily Velocity Change\")\nstats.describe(extra_df.velocity)\n",
      "metadata": {
        "pycharm": {
          "metadata": false,
          "name": "#%%\n",
          "is_executing": false
        }
      }
    },
    {
      "cell_type": "markdown",
      "source": "\n## Preparing Backtests\n\nNow we understand `slope` and `velocity` parameters, let\u0027s prepare parameters for backtesting.\n",
      "metadata": {
        "pycharm": {
          "metadata": false,
          "name": "#%% md\n"
        }
      }
    },
    {
      "cell_type": "code",
      "execution_count": 27,
      "outputs": [
        {
          "name": "stdout",
          "text": [
            "Backtest Params Ready, 15625 tasks to run. Will take about 0.69 minutes to complete.\n"
          ],
          "output_type": "stream"
        }
      ],
      "source": "\nimport itertools\n\nbuy_slope_threshold_list \u003d np.arange(extra_df.slope.mean() - extra_df.slope.std(), extra_df.slope.mean() + extra_df.slope.std(), extra_df.slope.std() * 2 / 5)\nbuy_velocity_threshold_list \u003d np.arange(extra_df.velocity.mean() - extra_df.velocity.std(), extra_df.velocity.mean() + extra_df.velocity.std(), extra_df.velocity.std() * 2 / 5)\nclose_slope_threshold_list \u003d np.arange(extra_df.slope.mean() - extra_df.slope.std(), extra_df.slope.mean() + extra_df.slope.std(), extra_df.slope.std() * 2 / 5)\nclose_velocity_threshold_list \u003d np.arange(extra_df.velocity.mean() - extra_df.velocity.std(), extra_df.velocity.mean() + extra_df.velocity.std(), extra_df.velocity.std() * 2 / 5)\nsell_slope_threshold_list \u003d np.arange(extra_df.slope.mean() - extra_df.slope.std(), extra_df.slope.mean() + extra_df.slope.std(), extra_df.slope.std() * 2 / 5)\nsell_velocity_threshold_list \u003d np.arange(extra_df.velocity.mean() - extra_df.velocity.std(), extra_df.velocity.mean() + extra_df.velocity.std(), extra_df.velocity.std() * 2 / 5)\n\ntask_list \u003d list(itertools.product(\n    buy_slope_threshold_list, \n    buy_velocity_threshold_list, \n    close_slope_threshold_list, \n    close_velocity_threshold_list, \n    sell_slope_threshold_list, \n    sell_velocity_threshold_list\n))\nprint(\"Backtest Params Ready, {} tasks to run. Will take about {} minutes to complete.\".format(len(task_list), round(len(task_list)/(200*60), 2)))\n",
      "metadata": {
        "pycharm": {
          "metadata": false,
          "name": "#%%\n",
          "is_executing": false
        }
      }
    },
    {
      "cell_type": "markdown",
      "source": "\n## Trading Assumptions\n\nForex is usually traded in **lots**, with **leverage**. \n\nTo understand Forex Trading, here\u0027s a quick [Forex 101](./forex-math.md).   \n\nBefore we start the backtests, let\u0027s establish some assumptions.\n",
      "metadata": {
        "pycharm": {
          "metadata": false,
          "name": "#%% md\n",
          "is_executing": false
        }
      }
    },
    {
      "cell_type": "code",
      "execution_count": null,
      "outputs": [],
      "source": "\nlots \u003d 1 # Trading Size \nleverage \u003d 400 # 400 Leverage\nmargin_interest \u003d 0.1 # 10% Margin Interest\npip_cost \u003d 0.8 # Transaction Cost 0.8 pip\nstop_loss \u003d 2.0 # Stop Loss at 2.0 of standard deviation (so 5%)\none_trade_week \u003d 6 # 6 Trade days a week for Forex\none_trade_month \u003d one_trade_week * 4\ntwo_trade_month \u003d one_trade_month * 2\nthree_trade_month \u003d one_trade_month * 3\nhalf_trade_year \u003d three_trade_month * 2\none_trade_year \u003d half_trade_year * 2\n",
      "metadata": {
        "pycharm": {
          "metadata": false,
          "name": "#%%\n"
        }
      }
    },
    {
      "cell_type": "markdown",
      "source": "\n## Running Backtests\n",
      "metadata": {
        "pycharm": {
          "metadata": false
        }
      }
    },
    {
      "cell_type": "code",
      "execution_count": 29,
      "outputs": [
        {
          "name": "stderr",
          "text": [
            "\r0.00tests [00:00, ?tests/s]",
            "\r5.88ktests [00:30, 196tests/s]",
            "\r5.88ktests [00:50, 196tests/s]",
            "\r11.1ktests [01:00, 189tests/s]",
            "\r11.1ktests [01:10, 189tests/s]",
            "\r15.6ktests [01:24, 185tests/s]",
            "\n"
          ],
          "output_type": "stream"
        },
        {
          "name": "stdout",
          "text": [
            "Running 15625 tasks\n",
            "Finished 15625 tasks in 0:01:25.166330\n"
          ],
          "output_type": "stream"
        }
      ],
      "source": "\nimport concurrent.futures\nfrom concurrent.futures.process import ProcessPoolExecutor\nfrom datetime import datetime\nfrom tqdm import tqdm\n\nbacktest_df \u003d forex_df[:-one_trade_year] # We use all available data until 2 years ago\n    \n# Defining a DataFrame to handle results\nbacktest_result \u003d pd.DataFrame(columns\u003d[\u0027buy_slope_threshold\u0027, \u0027buy_velocity_threshold\u0027, \u0027close_slope_threshold\u0027, \u0027close_velocity_threshold\u0027, \u0027sell_slope_threshold\u0027, \u0027sell_velocity_threshold\u0027, \u0027profit_percentage\u0027])\n\ndef single_test(data_df, \n                t_lots,\n                t_leverage,\n                t_pip_cost,\n                buy_slope_threshold, \n                buy_velocity_threshold, \n                close_slope_threshold, \n                close_velocity_threshold, \n                sell_slope_threshold, \n                sell_velocity_threshold):\n            \n        \"\"\"\n        Firstly, add `slope` and `velocity` columns to DataFrame\n        \"\"\"\n        data_df[\u0027profit\u0027] \u003d 0\n        data_df[\u0027slope\u0027] \u003d pd.Series(np.gradient(data_df.pre_close), data_df.index, name\u003d\u0027slope\u0027) # Find the slope of yesterday, aka. pre_close\n        data_df[\u0027velocity\u0027] \u003d pd.Series(np.gradient(data_df.slope), data_df.index, name\u003d\u0027velocity\u0027)\n        \n        \"\"\"\n        Secondly, Closing\n        \"\"\"\n        data_df[\u0027position\u0027] \u003d \"CLOSE\"\n        \n        \"\"\"\n        Thirdly, Buying\n        \"\"\"\n        long_mask \u003d (data_df.slope \u003e buy_slope_threshold) \u0026 (data_df.velocity \u003e buy_velocity_threshold)\n        long_close \u003d (data_df.slope \u003c -close_slope_threshold) \u0026 (data_df.velocity \u003c -close_velocity_threshold)\n        data_df.loc[long_mask, \u0027position\u0027] \u003d \"LONG\"\n        data_df.loc[long_mask, \u0027profit\u0027] \u003d (data_df.loc[long_mask, \u0027pip_change\u0027] - t_pip_cost * 2) * t_lots * 10 # Assuming 2 transaction pip cost for buying and selling.\n        # if stop_loss !\u003d 0:\n            # TODO: Implement Stop Loss.\n        \n        \"\"\"\n        Finally, Selling\n        \"\"\"\n        short_mask \u003d (data_df.slope \u003c sell_slope_threshold) \u0026 (data_df.velocity \u003c sell_velocity_threshold)\n        short_close \u003d (data_df.slope \u003e close_slope_threshold) \u0026 (data_df.velocity \u003e close_velocity_threshold)\n        data_df.loc[short_mask, \u0027position\u0027] \u003d \"SHORT\"\n        data_df.loc[short_mask, \u0027profit\u0027] \u003d -(data_df.loc[short_mask, \u0027pip_change\u0027] + t_pip_cost * 2) * t_lots * 10 # Assuming 2 transaction pip cost for buying and selling.\n        # if stop_loss !\u003d 0:\n            # TODO: Implement Stop Loss.\n    \n        test_result \u003d [buy_slope_threshold, \n                       buy_velocity_threshold, \n                       close_slope_threshold, \n                       close_velocity_threshold, \n                       sell_slope_threshold, \n                       sell_velocity_threshold, \n                       data_df.profit.sum() / (lots * 100000 / t_leverage)]\n        return test_result\n\nstart_time \u003d datetime.now()\n\nwith ProcessPoolExecutor() as executor:\n    \"\"\"\n    By default, ProcessPool uses maximum available number of cores to process.\n    \"\"\"\n    \n    \"\"\"\n    Equivalent to executor.map(fn, *iterables),\n    but displays a tqdm-based progress bar.\n    \n    Does not support timeout or chunksize as executor.submit is used internally\n    \n    **kwargs is passed to tqdm.\n    \"\"\"\n    futures_list \u003d []\n    kwargs \u003d {\n        \u0027total\u0027: len(futures_list),\n        \u0027mininterval\u0027: 30.0,\n        \u0027unit\u0027: \u0027tests\u0027,\n        \u0027unit_scale\u0027: True,\n        \u0027leave\u0027: True\n    }\n        \n    futures_list \u003d [executor.submit(single_test, \n                                    backtest_df,\n                                    lots,\n                                    leverage,\n                                    pip_cost,\n                                    buy_slope_threshold, \n                                    buy_velocity_threshold, \n                                    close_slope_threshold, \n                                    close_velocity_threshold, \n                                    sell_slope_threshold, \n                                    sell_velocity_threshold) for buy_slope_threshold, \\\n                                                                 buy_velocity_threshold, \\\n                                                                 close_slope_threshold, \\\n                                                                 close_velocity_threshold, \\\n                                                                 sell_slope_threshold, \\\n                                                                 sell_velocity_threshold in task_list]\n    print(\"Running {} tasks\".format(len(futures_list)))\n    \n    for f in tqdm(concurrent.futures.as_completed(futures_list), **kwargs):\n        # done_callback runs on the main process\n        result_row \u003d f.result()\n        \n        backtest_result \u003d backtest_result.append(pd.Series(result_row, index\u003dbacktest_result.columns), ignore_index\u003dTrue)\n\n    print(\"Finished {} tasks in {}\".format(len(task_list), datetime.now() - start_time))\n",
      "metadata": {
        "pycharm": {
          "metadata": false,
          "name": "#%%\n",
          "is_executing": false
        }
      }
    },
    {
      "cell_type": "markdown",
      "source": "\n## Analyzing Backtest Results\n",
      "metadata": {
        "pycharm": {
          "metadata": false
        }
      }
    },
    {
      "cell_type": "code",
      "execution_count": 30,
      "outputs": [
        {
          "data": {
            "text/plain": "     buy_slope_threshold  buy_velocity_threshold  close_slope_threshold  \\\n63           -175.279979             -126.873268            -175.279979   \n39           -175.279979             -126.873268            -175.279979   \n239          -175.279979             -126.873268            -103.374668   \n164          -175.279979             -126.873268            -103.374668   \n589          -175.279979             -126.873268             112.341265   \n\n     close_velocity_threshold  sell_slope_threshold  sell_velocity_threshold  \\\n63                 -25.540913            -31.469357                75.791443   \n39                 -76.207090            -31.469357                75.791443   \n239                 75.791443            -31.469357                75.791443   \n164                -76.207090            -31.469357                75.791443   \n589                 25.125265            -31.469357                75.791443   \n\n     profit_percentage  \n63         7453.952049  \n39         7453.952049  \n239        7453.952049  \n164        7453.952049  \n589        7453.952049  ",
            "text/html": "\u003cdiv\u003e\n\u003cstyle scoped\u003e\n    .dataframe tbody tr th:only-of-type {\n        vertical-align: middle;\n    }\n\n    .dataframe tbody tr th {\n        vertical-align: top;\n    }\n\n    .dataframe thead th {\n        text-align: right;\n    }\n\u003c/style\u003e\n\u003ctable border\u003d\"1\" class\u003d\"dataframe\"\u003e\n  \u003cthead\u003e\n    \u003ctr style\u003d\"text-align: right;\"\u003e\n      \u003cth\u003e\u003c/th\u003e\n      \u003cth\u003ebuy_slope_threshold\u003c/th\u003e\n      \u003cth\u003ebuy_velocity_threshold\u003c/th\u003e\n      \u003cth\u003eclose_slope_threshold\u003c/th\u003e\n      \u003cth\u003eclose_velocity_threshold\u003c/th\u003e\n      \u003cth\u003esell_slope_threshold\u003c/th\u003e\n      \u003cth\u003esell_velocity_threshold\u003c/th\u003e\n      \u003cth\u003eprofit_percentage\u003c/th\u003e\n    \u003c/tr\u003e\n  \u003c/thead\u003e\n  \u003ctbody\u003e\n    \u003ctr\u003e\n      \u003cth\u003e63\u003c/th\u003e\n      \u003ctd\u003e-175.279979\u003c/td\u003e\n      \u003ctd\u003e-126.873268\u003c/td\u003e\n      \u003ctd\u003e-175.279979\u003c/td\u003e\n      \u003ctd\u003e-25.540913\u003c/td\u003e\n      \u003ctd\u003e-31.469357\u003c/td\u003e\n      \u003ctd\u003e75.791443\u003c/td\u003e\n      \u003ctd\u003e7453.952049\u003c/td\u003e\n    \u003c/tr\u003e\n    \u003ctr\u003e\n      \u003cth\u003e39\u003c/th\u003e\n      \u003ctd\u003e-175.279979\u003c/td\u003e\n      \u003ctd\u003e-126.873268\u003c/td\u003e\n      \u003ctd\u003e-175.279979\u003c/td\u003e\n      \u003ctd\u003e-76.207090\u003c/td\u003e\n      \u003ctd\u003e-31.469357\u003c/td\u003e\n      \u003ctd\u003e75.791443\u003c/td\u003e\n      \u003ctd\u003e7453.952049\u003c/td\u003e\n    \u003c/tr\u003e\n    \u003ctr\u003e\n      \u003cth\u003e239\u003c/th\u003e\n      \u003ctd\u003e-175.279979\u003c/td\u003e\n      \u003ctd\u003e-126.873268\u003c/td\u003e\n      \u003ctd\u003e-103.374668\u003c/td\u003e\n      \u003ctd\u003e75.791443\u003c/td\u003e\n      \u003ctd\u003e-31.469357\u003c/td\u003e\n      \u003ctd\u003e75.791443\u003c/td\u003e\n      \u003ctd\u003e7453.952049\u003c/td\u003e\n    \u003c/tr\u003e\n    \u003ctr\u003e\n      \u003cth\u003e164\u003c/th\u003e\n      \u003ctd\u003e-175.279979\u003c/td\u003e\n      \u003ctd\u003e-126.873268\u003c/td\u003e\n      \u003ctd\u003e-103.374668\u003c/td\u003e\n      \u003ctd\u003e-76.207090\u003c/td\u003e\n      \u003ctd\u003e-31.469357\u003c/td\u003e\n      \u003ctd\u003e75.791443\u003c/td\u003e\n      \u003ctd\u003e7453.952049\u003c/td\u003e\n    \u003c/tr\u003e\n    \u003ctr\u003e\n      \u003cth\u003e589\u003c/th\u003e\n      \u003ctd\u003e-175.279979\u003c/td\u003e\n      \u003ctd\u003e-126.873268\u003c/td\u003e\n      \u003ctd\u003e112.341265\u003c/td\u003e\n      \u003ctd\u003e25.125265\u003c/td\u003e\n      \u003ctd\u003e-31.469357\u003c/td\u003e\n      \u003ctd\u003e75.791443\u003c/td\u003e\n      \u003ctd\u003e7453.952049\u003c/td\u003e\n    \u003c/tr\u003e\n  \u003c/tbody\u003e\n\u003c/table\u003e\n\u003c/div\u003e"
          },
          "metadata": {},
          "output_type": "execute_result",
          "execution_count": 30
        }
      ],
      "source": "        \nbacktest_result \u003d backtest_result.sort_values(by\u003d[\u0027profit_percentage\u0027],\n                                        ascending\u003dFalse)\nbacktest_result.to_csv(\u0027../gen/StrategySV_{}_Daily_Backtest_Params_df.csv\u0027.format(forex_symbol))\n\nsns.distplot(backtest_result[\u0027profit\u0027],\n             bins\u003d100,\n             label\u003d\"Backtest Results\")\nstats.describe(backtest_result.profit)\n\nbacktest_result.head()\n",
      "metadata": {
        "pycharm": {
          "metadata": false,
          "name": "#%%\n",
          "is_executing": false
        }
      }
    },
    {
      "cell_type": "markdown",
      "source": "\n## Running Papertests\n\nNow we have the optimized parameters, let\u0027s run the papertests (forwardtests).\n",
      "metadata": {
        "pycharm": {
          "metadata": false,
          "name": "#%% md\n",
          "is_executing": false
        }
      }
    },
    {
      "cell_type": "code",
      "execution_count": null,
      "outputs": [],
      "source": "\nbacktest_result \u003d pd.read_csv(\u0027../gen/StrategySV_{}_Daily_Backtest_Params_df.csv\u0027.format(forex_symbol))\n\npaper_df \u003d forex_df[-one_trade_year:] # We use all available data until year ago\npaper_params \u003d backtest_result.iloc[:1000] # We will papertest the profit generated by best 1,000 sets of parameters\n\npaper_list \u003d list(zip(paper_params.buy_slope_threshold, \n                     paper_params.buy_velocity_threshold,\n                     paper_params.close_slope_threshold, \n                     paper_params.close_velocity_threshold,\n                     paper_params.sell_slope_threshold, \n                     paper_params.sell_velocity_threshold,))\n\n\nprint(\"Papertest Params Ready, {} tasks to run. Will take about {} minutes to complete.\".format(len(paper_list), round(len(paper_list)/(200*60), 2)))\n    ",
      "metadata": {
        "pycharm": {
          "metadata": false,
          "name": "#%%\n"
        }
      }
    },
    {
      "cell_type": "code",
      "execution_count": 32,
      "outputs": [
        {
          "name": "stderr",
          "text": [
            "\r0.00tests [00:00, ?tests/s]",
            "\r1.00ktests [00:05, 177tests/s]",
            "\n"
          ],
          "output_type": "stream"
        },
        {
          "name": "stdout",
          "text": [
            "Running 1000 tests\n",
            "Finished 1000 tests in 0:00:05.776109\n"
          ],
          "output_type": "stream"
        }
      ],
      "source": "# Defining a DataFrame to handle results\npaper_result \u003d pd.DataFrame(columns\u003d[\u0027buy_slope_threshold\u0027, \u0027buy_velocity_threshold\u0027, \u0027close_slope_threshold\u0027, \u0027close_velocity_threshold\u0027, \u0027sell_slope_threshold\u0027, \u0027sell_velocity_threshold\u0027, \u0027profit_percentage\u0027])\n\nstart_time \u003d datetime.now()\n\nwith ProcessPoolExecutor() as executor:\n    \"\"\"\n    By default, ProcessPool uses maximum available number of cores to process.\n    \"\"\"\n    \n    \"\"\"\n    Equivalent to executor.map(fn, *iterables),\n    but displays a tqdm-based progress bar.\n    \n    Does not support timeout or chunksize as executor.submit is used internally\n    \n    **kwargs is passed to tqdm.\n    \"\"\"\n    futures_list \u003d []\n    kwargs \u003d {\n        \u0027total\u0027: len(futures_list),\n        \u0027mininterval\u0027: 30.0,\n        \u0027unit\u0027: \u0027tests\u0027,\n        \u0027unit_scale\u0027: True,\n        \u0027leave\u0027: True\n    }\n        \n    futures_list \u003d [executor.submit(single_test, \n                                    paper_df,\n                                    lots,\n                                    leverage,\n                                    pip_cost,\n                                    buy_slope_threshold, \n                                    buy_velocity_threshold, \n                                    close_slope_threshold, \n                                    close_velocity_threshold, \n                                    sell_slope_threshold, \n                                    sell_velocity_threshold) for buy_slope_threshold, \\\n                                                                 buy_velocity_threshold, \\\n                                                                 close_slope_threshold, \\\n                                                                 close_velocity_threshold, \\\n                                                                 sell_slope_threshold, \\\n                                                                 sell_velocity_threshold in paper_list]\n    print(\"Running {} tests\".format(len(futures_list)))\n    \n    for f in tqdm(concurrent.futures.as_completed(futures_list), **kwargs):\n        # done_callback runs on the main process\n        result_row \u003d f.result()\n        \n        paper_result \u003d paper_result.append(pd.Series(result_row, index\u003dpaper_result.columns), ignore_index\u003dTrue)\n\n    print(\"Finished {} tests in {}\".format(len(paper_list), datetime.now() - start_time))\n",
      "metadata": {
        "pycharm": {
          "metadata": false,
          "name": "#%%\n",
          "is_executing": false
        }
      }
    },
    {
      "cell_type": "markdown",
      "source": "\n## Analyzing Papertest Results\n",
      "metadata": {
        "pycharm": {
          "metadata": false
        }
      }
    },
    {
      "cell_type": "code",
      "execution_count": 33,
      "outputs": [
        {
          "data": {
            "text/plain": "     buy_slope_threshold  buy_velocity_threshold  close_slope_threshold  \\\n103          -175.279979              -25.540913             112.341265   \n124          -175.279979              -25.540913            -175.279979   \n122          -175.279979              -25.540913            -175.279979   \n121          -175.279979              -25.540913             -31.469357   \n120          -175.279979              -25.540913             -31.469357   \n\n     close_velocity_threshold  sell_slope_threshold  sell_velocity_threshold  \\\n103               -126.873268            -31.469357                75.791443   \n124                -76.207090            -31.469357                75.791443   \n122               -126.873268            -31.469357                75.791443   \n121                 75.791443            -31.469357                75.791443   \n120                 25.125265            -31.469357                75.791443   \n\n     profit_percentage  \n103        1858.570922  \n124        1858.570922  \n122        1858.570922  \n121        1858.570922  \n120        1858.570922  ",
            "text/html": "\u003cdiv\u003e\n\u003cstyle scoped\u003e\n    .dataframe tbody tr th:only-of-type {\n        vertical-align: middle;\n    }\n\n    .dataframe tbody tr th {\n        vertical-align: top;\n    }\n\n    .dataframe thead th {\n        text-align: right;\n    }\n\u003c/style\u003e\n\u003ctable border\u003d\"1\" class\u003d\"dataframe\"\u003e\n  \u003cthead\u003e\n    \u003ctr style\u003d\"text-align: right;\"\u003e\n      \u003cth\u003e\u003c/th\u003e\n      \u003cth\u003ebuy_slope_threshold\u003c/th\u003e\n      \u003cth\u003ebuy_velocity_threshold\u003c/th\u003e\n      \u003cth\u003eclose_slope_threshold\u003c/th\u003e\n      \u003cth\u003eclose_velocity_threshold\u003c/th\u003e\n      \u003cth\u003esell_slope_threshold\u003c/th\u003e\n      \u003cth\u003esell_velocity_threshold\u003c/th\u003e\n      \u003cth\u003eprofit_percentage\u003c/th\u003e\n    \u003c/tr\u003e\n  \u003c/thead\u003e\n  \u003ctbody\u003e\n    \u003ctr\u003e\n      \u003cth\u003e103\u003c/th\u003e\n      \u003ctd\u003e-175.279979\u003c/td\u003e\n      \u003ctd\u003e-25.540913\u003c/td\u003e\n      \u003ctd\u003e112.341265\u003c/td\u003e\n      \u003ctd\u003e-126.873268\u003c/td\u003e\n      \u003ctd\u003e-31.469357\u003c/td\u003e\n      \u003ctd\u003e75.791443\u003c/td\u003e\n      \u003ctd\u003e1858.570922\u003c/td\u003e\n    \u003c/tr\u003e\n    \u003ctr\u003e\n      \u003cth\u003e124\u003c/th\u003e\n      \u003ctd\u003e-175.279979\u003c/td\u003e\n      \u003ctd\u003e-25.540913\u003c/td\u003e\n      \u003ctd\u003e-175.279979\u003c/td\u003e\n      \u003ctd\u003e-76.207090\u003c/td\u003e\n      \u003ctd\u003e-31.469357\u003c/td\u003e\n      \u003ctd\u003e75.791443\u003c/td\u003e\n      \u003ctd\u003e1858.570922\u003c/td\u003e\n    \u003c/tr\u003e\n    \u003ctr\u003e\n      \u003cth\u003e122\u003c/th\u003e\n      \u003ctd\u003e-175.279979\u003c/td\u003e\n      \u003ctd\u003e-25.540913\u003c/td\u003e\n      \u003ctd\u003e-175.279979\u003c/td\u003e\n      \u003ctd\u003e-126.873268\u003c/td\u003e\n      \u003ctd\u003e-31.469357\u003c/td\u003e\n      \u003ctd\u003e75.791443\u003c/td\u003e\n      \u003ctd\u003e1858.570922\u003c/td\u003e\n    \u003c/tr\u003e\n    \u003ctr\u003e\n      \u003cth\u003e121\u003c/th\u003e\n      \u003ctd\u003e-175.279979\u003c/td\u003e\n      \u003ctd\u003e-25.540913\u003c/td\u003e\n      \u003ctd\u003e-31.469357\u003c/td\u003e\n      \u003ctd\u003e75.791443\u003c/td\u003e\n      \u003ctd\u003e-31.469357\u003c/td\u003e\n      \u003ctd\u003e75.791443\u003c/td\u003e\n      \u003ctd\u003e1858.570922\u003c/td\u003e\n    \u003c/tr\u003e\n    \u003ctr\u003e\n      \u003cth\u003e120\u003c/th\u003e\n      \u003ctd\u003e-175.279979\u003c/td\u003e\n      \u003ctd\u003e-25.540913\u003c/td\u003e\n      \u003ctd\u003e-31.469357\u003c/td\u003e\n      \u003ctd\u003e25.125265\u003c/td\u003e\n      \u003ctd\u003e-31.469357\u003c/td\u003e\n      \u003ctd\u003e75.791443\u003c/td\u003e\n      \u003ctd\u003e1858.570922\u003c/td\u003e\n    \u003c/tr\u003e\n  \u003c/tbody\u003e\n\u003c/table\u003e\n\u003c/div\u003e"
          },
          "metadata": {},
          "output_type": "execute_result",
          "execution_count": 33
        }
      ],
      "source": "        \npaper_result \u003d paper_result.sort_values(by\u003d[\u0027profit_percentage\u0027],\n                                        ascending\u003dFalse)\npaper_result.to_csv(\u0027../gen/StrategySV_{}_Daily_PaperTest_Params_df.csv\u0027.format(forex_symbol))\n\nsns.distplot(paper_result[\u0027profit\u0027],\n             bins\u003d100,\n             label\u003d\"Papertest Results\")\nstats.describe(paper_result.profit)\n\npaper_result.head()\n",
      "metadata": {
        "pycharm": {
          "metadata": false,
          "name": "#%%\n",
          "is_executing": false
        }
      }
    },
    {
      "cell_type": "markdown",
      "source": "\n## Plotting Optimized Results\n\nPlot the algo-trading results.\n",
      "metadata": {
        "pycharm": {
          "metadata": false,
          "name": "#%% md\n"
        }
      }
    },
    {
      "cell_type": "code",
      "execution_count": null,
      "outputs": [
        {
          "name": "stdout",
          "text": [
            "Plotting 288 results for trade days\n",
            "CLOSE 2018-09-05\nSHORT 2018-09-05 - 2018-09-07\nLONG 2018-09-07 - 2018-09-08\nSHORT 2018-09-08 - 2018-09-09\nLONG 2018-09-09 - 2018-09-14\nCLOSE 2018-09-17\nSHORT 2018-09-17 - 2018-09-18\nLONG 2018-09-18 - 2018-09-22\nCLOSE 2018-09-24\nSHORT 2018-09-24 - 2018-09-26\nLONG 2018-09-26 - 2018-09-28\nCLOSE 2018-09-29\nSHORT 2018-09-29 - 2018-09-30\nLONG 2018-09-30 - 2018-10-02\nSHORT 2018-10-02 - 2018-10-04\nLONG 2018-10-04 - 2018-10-06\nCLOSE 2018-10-07\nLONG 2018-10-07 - 2018-10-09\nCLOSE 2018-10-10\nSHORT 2018-10-10 - 2018-10-12\nLONG 2018-10-12 - 2018-10-16\nCLOSE 2018-10-17\nSHORT 2018-10-17 - 2018-10-20\nLONG 2018-10-20 - 2018-10-28\nCLOSE 2018-10-29\nSHORT 2018-10-29 - 2018-10-31\nLONG 2018-10-31 - 2018-11-08\nCLOSE 2018-11-09\nSHORT 2018-11-09 - 2018-11-10\nLONG 2018-11-10 - 2018-11-13\nCLOSE 2018-11-14\nSHORT 2018-11-14 - 2018-11-15\nCLOSE 2018-11-16\nLONG 2018-11-16 - 2018-11-17\nSHORT 2018-11-17 - 2018-11-18\nCLOSE 2018-11-19\nSHORT 2018-11-19 - 2018-11-20\nCLOSE 2018-11-21\nLONG 2018-11-21 - 2018-11-22\nSHORT 2018-11-22 - 2018-11-25\nLONG 2018-11-25 - 2018-11-26\nSHORT 2018-11-26 - 2018-11-27\nLONG 2018-11-27 - 2018-11-29\nCLOSE 2018-11-30\nSHORT 2018-11-30 - 2018-12-01\nLONG 2018-12-01 - 2018-12-02\nCLOSE 2018-12-03\nSHORT 2018-12-03 - 2018-12-07\nLONG 2018-12-07 - 2018-12-10\nCLOSE 2018-12-11\nSHORT 2018-12-11 - 2018-12-12\nLONG 2018-12-12 - 2018-12-13\nSHORT 2018-12-13 - 2018-12-16\nLONG 2018-12-16 - 2018-12-21\nCLOSE 2018-12-22\nSHORT 2018-12-22 - 2018-12-23\nLONG 2018-12-23 - 2018-12-24\nCLOSE 2018-12-25\nSHORT 2018-12-25 - 2018-12-28\nLONG 2018-12-28 - 2018-12-29\nCLOSE 2018-12-31\nSHORT 2018-12-31 - 2019-01-01\nLONG 2019-01-01 - 2019-01-03\nCLOSE 2019-01-04\nSHORT 2019-01-04 - 2019-01-05\nLONG 2019-01-05 - 2019-01-07\nCLOSE 2019-01-10\nSHORT 2019-01-10 - 2019-01-11\nCLOSE 2019-01-12\nLONG 2019-01-12 - 2019-01-13\nSHORT 2019-01-13 - 2019-01-14\nLONG 2019-01-14 - 2019-01-20\nCLOSE 2019-01-21\nSHORT 2019-01-21 - 2019-01-22\nLONG 2019-01-22 - 2019-01-27\nCLOSE 2019-01-28\nSHORT 2019-01-28 - 2019-01-30\nLONG 2019-01-30 - 2019-02-03\nCLOSE 2019-02-04\nLONG 2019-02-04 - 2019-02-09\n",
            "CLOSE 2019-02-11\nLONG 2019-02-11 - 2019-02-19\nCLOSE 2019-02-21\nLONG 2019-02-21 - 2019-02-23\nCLOSE 2019-02-24\nSHORT 2019-02-24 - 2019-02-26\nLONG 2019-02-26 - 2019-03-03\nCLOSE 2019-03-04\nSHORT 2019-03-04 - 2019-03-05\nLONG 2019-03-05 - 2019-03-07\nCLOSE 2019-03-08\nLONG 2019-03-08 - 2019-03-10\nCLOSE 2019-03-11\nSHORT 2019-03-11 - 2019-03-12\nLONG 2019-03-12 - 2019-03-17\nCLOSE 2019-03-18\nLONG 2019-03-18 - 2019-03-25\nSHORT 2019-03-25 - 2019-03-26\nLONG 2019-03-26 - 2019-03-28\nCLOSE 2019-03-29\nLONG 2019-03-29 - 2019-03-31\nCLOSE 2019-04-01\nLONG 2019-04-01 - 2019-04-03\nCLOSE 2019-04-05\nLONG 2019-04-05 - 2019-04-08\nCLOSE 2019-04-11\nSHORT 2019-04-11 - 2019-04-13\nLONG 2019-04-13 - 2019-04-18\nCLOSE 2019-04-19\nSHORT 2019-04-19 - 2019-04-20\nLONG 2019-04-20 - 2019-04-24\nCLOSE 2019-04-25\nSHORT 2019-04-25 - 2019-04-26\nLONG 2019-04-26 - 2019-04-27\nSHORT 2019-04-27 - 2019-04-28\nLONG 2019-04-28 - 2019-05-04\nCLOSE 2019-05-06\nSHORT 2019-05-06 - 2019-05-07\nLONG 2019-05-07 - 2019-05-12\nCLOSE 2019-05-13\nLONG 2019-05-13 - 2019-05-14\nCLOSE 2019-05-16\nSHORT 2019-05-16 - 2019-05-18\nCLOSE 2019-05-19\nLONG 2019-05-19 - 2019-05-20\nCLOSE 2019-05-21\nSHORT 2019-05-21 - 2019-05-23\nLONG 2019-05-23 - 2019-05-27\nCLOSE 2019-05-29\nSHORT 2019-05-29 - 2019-05-31\nLONG 2019-05-31 - 2019-06-02\nCLOSE 2019-06-03\nSHORT 2019-06-03 - 2019-06-05\nCLOSE 2019-06-06\nLONG 2019-06-06 - 2019-06-08\nCLOSE 2019-06-09\nSHORT 2019-06-09 - 2019-06-10\nLONG 2019-06-10 - 2019-06-15\nCLOSE 2019-06-17\n"
          ],
          "output_type": "stream"
        }
      ],
      "source": "\nimport import_ipynb\nfrom strategy_sv import TradeStrategySV\n\npaper_result \u003d pd.read_csv(\u0027../gen/StrategySV_{}_Daily_PaperTest_Params_df.csv\u0027.format(forex_symbol))\n\nfig, axs \u003d plt.subplots(figsize \u003d (int(len(paper_df.index)/5),12))\n\nfig.suptitle(\u0027Algo-Trading Results\u0027, fontsize\u003d18, fontweight\u003d\u0027bold\u0027)\n\nbest_strategy \u003d TradeStrategySV(leverage\u003dleverage,\n                               margin\u003dmargin_interest,\n                               pip_cost\u003dpip_cost,\n                               buy_slope_threshold\u003dpaper_result.buy_slope_threshold[1], \n                               buy_velocity_threshold\u003dpaper_result.buy_velocity_threshold[1], \n                               close_slope_threshold\u003dpaper_result.close_slope_threshold[1], \n                               close_velocity_threshold\u003dpaper_result.close_velocity_threshold[1], \n                               sell_slope_threshold\u003dpaper_result.sell_slope_threshold[1], \n                               sell_velocity_threshold\u003dpaper_result.sell_velocity_threshold[1], \n                               should_log\u003dTrue)\nforex_df \u003d best_strategy.trade(data_df\u003dpaper_df, \n                              symbol\u003dforex_symbol,\n                              lots\u003dlots,\n                              stop_loss\u003dstop_loss,)\n\n\n\nbest_strategy.plot_trade(axs\u003daxs)\n\nfig.savefig(\u0027../gen/StrategySV_{}_Daily.png\u0027.format(forex_symbol), dpi\u003d150, bbox_inches\u003d\"tight\")\n\nprint(\"In the latest {} trading days, StrategySV (Optimized) resulted ${}, or {}%\".format(len(paper_df.index), round(best_strategy.trade_profit, 2), round(best_strategy.trade_profit/(lots * 100000 / leverage), 2)))\n",
      "metadata": {
        "pycharm": {
          "metadata": false,
          "name": "#%%\n",
          "is_executing": true
        }
      }
    },
    {
      "cell_type": "code",
      "execution_count": null,
      "outputs": [],
      "source": "",
      "metadata": {
        "pycharm": {
          "metadata": false,
          "name": "#%%\n",
          "is_executing": true
        }
      }
    }
  ],
  "metadata": {
    "language_info": {
      "codemirror_mode": {
        "name": "ipython",
        "version": 2
      },
      "file_extension": ".py",
      "mimetype": "text/x-python",
      "name": "python",
      "nbconvert_exporter": "python",
      "pygments_lexer": "ipython2",
      "version": "2.7.6"
    },
    "kernelspec": {
      "name": "python3",
      "language": "python",
      "display_name": "Python 3"
    }
  },
  "nbformat": 4,
  "nbformat_minor": 0
}