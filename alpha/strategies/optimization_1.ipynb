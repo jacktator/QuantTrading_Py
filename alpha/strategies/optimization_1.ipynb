{
  "cells": [
    {
      "cell_type": "code",
      "execution_count": null,
      "metadata": {
        "collapsed": true,
        "pycharm": {}
      },
      "outputs": [],
      "source": "\n# Import Data\n\nImporting AXP data."
    },
    {
      "cell_type": "code",
      "execution_count": 6,
      "outputs": [
        {
          "data": {
            "text/plain": "            close   high    low  p_change   open  pre_close   volume  \\\n                                                                       \n2017-06-12  80.17  80.73  79.95    -0.174  80.35      80.31  3352279   \n2017-06-13  80.59  80.74  80.07     0.524  80.20      80.17  3174361   \n2017-06-14  80.84  80.92  79.62     0.310  80.11      80.59  4013089   \n2017-06-15  80.70  81.24  80.23    -0.173  80.38      80.84  2773369   \n2017-06-16  81.45  81.48  80.77     0.929  80.86      80.70  5914676   \n\n                date  date_week     atr21     atr14  key  \n                                                          \n2017-06-12  20170612          0  0.780000  0.780000    0  \n2017-06-13  20170613          1  0.722381  0.721071    1  \n2017-06-14  20170614          2  0.933535  0.942224    2  \n2017-06-15  20170615          3  0.955464  0.962959    3  \n2017-06-16  20170616          4  0.896598  0.896962    4  ",
            "text/html": "\u003cdiv\u003e\n\u003cstyle scoped\u003e\n    .dataframe tbody tr th:only-of-type {\n        vertical-align: middle;\n    }\n\n    .dataframe tbody tr th {\n        vertical-align: top;\n    }\n\n    .dataframe thead th {\n        text-align: right;\n    }\n\u003c/style\u003e\n\u003ctable border\u003d\"1\" class\u003d\"dataframe\"\u003e\n  \u003cthead\u003e\n    \u003ctr style\u003d\"text-align: right;\"\u003e\n      \u003cth\u003e\u003c/th\u003e\n      \u003cth\u003eclose\u003c/th\u003e\n      \u003cth\u003ehigh\u003c/th\u003e\n      \u003cth\u003elow\u003c/th\u003e\n      \u003cth\u003ep_change\u003c/th\u003e\n      \u003cth\u003eopen\u003c/th\u003e\n      \u003cth\u003epre_close\u003c/th\u003e\n      \u003cth\u003evolume\u003c/th\u003e\n      \u003cth\u003edate\u003c/th\u003e\n      \u003cth\u003edate_week\u003c/th\u003e\n      \u003cth\u003eatr21\u003c/th\u003e\n      \u003cth\u003eatr14\u003c/th\u003e\n      \u003cth\u003ekey\u003c/th\u003e\n    \u003c/tr\u003e\n    \u003ctr\u003e\n      \u003cth\u003e\u003c/th\u003e\n      \u003cth\u003e\u003c/th\u003e\n      \u003cth\u003e\u003c/th\u003e\n      \u003cth\u003e\u003c/th\u003e\n      \u003cth\u003e\u003c/th\u003e\n      \u003cth\u003e\u003c/th\u003e\n      \u003cth\u003e\u003c/th\u003e\n      \u003cth\u003e\u003c/th\u003e\n      \u003cth\u003e\u003c/th\u003e\n      \u003cth\u003e\u003c/th\u003e\n      \u003cth\u003e\u003c/th\u003e\n      \u003cth\u003e\u003c/th\u003e\n      \u003cth\u003e\u003c/th\u003e\n    \u003c/tr\u003e\n  \u003c/thead\u003e\n  \u003ctbody\u003e\n    \u003ctr\u003e\n      \u003cth\u003e2017-06-12\u003c/th\u003e\n      \u003ctd\u003e80.17\u003c/td\u003e\n      \u003ctd\u003e80.73\u003c/td\u003e\n      \u003ctd\u003e79.95\u003c/td\u003e\n      \u003ctd\u003e-0.174\u003c/td\u003e\n      \u003ctd\u003e80.35\u003c/td\u003e\n      \u003ctd\u003e80.31\u003c/td\u003e\n      \u003ctd\u003e3352279\u003c/td\u003e\n      \u003ctd\u003e20170612\u003c/td\u003e\n      \u003ctd\u003e0\u003c/td\u003e\n      \u003ctd\u003e0.780000\u003c/td\u003e\n      \u003ctd\u003e0.780000\u003c/td\u003e\n      \u003ctd\u003e0\u003c/td\u003e\n    \u003c/tr\u003e\n    \u003ctr\u003e\n      \u003cth\u003e2017-06-13\u003c/th\u003e\n      \u003ctd\u003e80.59\u003c/td\u003e\n      \u003ctd\u003e80.74\u003c/td\u003e\n      \u003ctd\u003e80.07\u003c/td\u003e\n      \u003ctd\u003e0.524\u003c/td\u003e\n      \u003ctd\u003e80.20\u003c/td\u003e\n      \u003ctd\u003e80.17\u003c/td\u003e\n      \u003ctd\u003e3174361\u003c/td\u003e\n      \u003ctd\u003e20170613\u003c/td\u003e\n      \u003ctd\u003e1\u003c/td\u003e\n      \u003ctd\u003e0.722381\u003c/td\u003e\n      \u003ctd\u003e0.721071\u003c/td\u003e\n      \u003ctd\u003e1\u003c/td\u003e\n    \u003c/tr\u003e\n    \u003ctr\u003e\n      \u003cth\u003e2017-06-14\u003c/th\u003e\n      \u003ctd\u003e80.84\u003c/td\u003e\n      \u003ctd\u003e80.92\u003c/td\u003e\n      \u003ctd\u003e79.62\u003c/td\u003e\n      \u003ctd\u003e0.310\u003c/td\u003e\n      \u003ctd\u003e80.11\u003c/td\u003e\n      \u003ctd\u003e80.59\u003c/td\u003e\n      \u003ctd\u003e4013089\u003c/td\u003e\n      \u003ctd\u003e20170614\u003c/td\u003e\n      \u003ctd\u003e2\u003c/td\u003e\n      \u003ctd\u003e0.933535\u003c/td\u003e\n      \u003ctd\u003e0.942224\u003c/td\u003e\n      \u003ctd\u003e2\u003c/td\u003e\n    \u003c/tr\u003e\n    \u003ctr\u003e\n      \u003cth\u003e2017-06-15\u003c/th\u003e\n      \u003ctd\u003e80.70\u003c/td\u003e\n      \u003ctd\u003e81.24\u003c/td\u003e\n      \u003ctd\u003e80.23\u003c/td\u003e\n      \u003ctd\u003e-0.173\u003c/td\u003e\n      \u003ctd\u003e80.38\u003c/td\u003e\n      \u003ctd\u003e80.84\u003c/td\u003e\n      \u003ctd\u003e2773369\u003c/td\u003e\n      \u003ctd\u003e20170615\u003c/td\u003e\n      \u003ctd\u003e3\u003c/td\u003e\n      \u003ctd\u003e0.955464\u003c/td\u003e\n      \u003ctd\u003e0.962959\u003c/td\u003e\n      \u003ctd\u003e3\u003c/td\u003e\n    \u003c/tr\u003e\n    \u003ctr\u003e\n      \u003cth\u003e2017-06-16\u003c/th\u003e\n      \u003ctd\u003e81.45\u003c/td\u003e\n      \u003ctd\u003e81.48\u003c/td\u003e\n      \u003ctd\u003e80.77\u003c/td\u003e\n      \u003ctd\u003e0.929\u003c/td\u003e\n      \u003ctd\u003e80.86\u003c/td\u003e\n      \u003ctd\u003e80.70\u003c/td\u003e\n      \u003ctd\u003e5914676\u003c/td\u003e\n      \u003ctd\u003e20170616\u003c/td\u003e\n      \u003ctd\u003e4\u003c/td\u003e\n      \u003ctd\u003e0.896598\u003c/td\u003e\n      \u003ctd\u003e0.896962\u003c/td\u003e\n      \u003ctd\u003e4\u003c/td\u003e\n    \u003c/tr\u003e\n  \u003c/tbody\u003e\n\u003c/table\u003e\n\u003c/div\u003e"
          },
          "metadata": {},
          "output_type": "execute_result",
          "execution_count": 6
        }
      ],
      "source": "\nimport pandas as pd\n\namex_df \u003d pd.read_csv(\u0027../../data/gen/usAXP_df.csv\u0027,\n                           parse_dates\u003dTrue,\n                           index_col\u003d0)\n# Strip whitespace from column names\namex_df.columns \u003d amex_df.columns.str.strip()\n# Print\namex_df.head()\n",
      "metadata": {
        "pycharm": {
          "metadata": false,
          "name": "#%%\n",
          "is_executing": false
        }
      }
    },
    {
      "cell_type": "markdown",
      "source": "\n# First Approach: Using TradeStrategy Object\n\n## Processing Data\n\nAdding slope \u0026 velocity to each day.",
      "metadata": {
        "pycharm": {
          "metadata": false
        }
      }
    },
    {
      "cell_type": "code",
      "execution_count": 7,
      "outputs": [
        {
          "data": {
            "text/plain": "            close   high    low  p_change   open  pre_close   volume  \\\n                                                                       \n2017-06-12  80.17  80.73  79.95    -0.174  80.35      80.31  3352279   \n2017-06-13  80.59  80.74  80.07     0.524  80.20      80.17  3174361   \n2017-06-14  80.84  80.92  79.62     0.310  80.11      80.59  4013089   \n2017-06-15  80.70  81.24  80.23    -0.173  80.38      80.84  2773369   \n2017-06-16  81.45  81.48  80.77     0.929  80.86      80.70  5914676   \n\n                date  date_week     atr21     atr14  key  slope  velocity  \n                                                                           \n2017-06-12  20170612          0  0.780000  0.780000    0  0.420   -0.0850  \n2017-06-13  20170613          1  0.722381  0.721071    1  0.335   -0.1825  \n2017-06-14  20170614          2  0.933535  0.942224    2  0.055   -0.0150  \n2017-06-15  20170615          3  0.955464  0.962959    3  0.305    0.2675  \n2017-06-16  20170616          4  0.896598  0.896962    4  0.590    0.1125  ",
            "text/html": "\u003cdiv\u003e\n\u003cstyle scoped\u003e\n    .dataframe tbody tr th:only-of-type {\n        vertical-align: middle;\n    }\n\n    .dataframe tbody tr th {\n        vertical-align: top;\n    }\n\n    .dataframe thead th {\n        text-align: right;\n    }\n\u003c/style\u003e\n\u003ctable border\u003d\"1\" class\u003d\"dataframe\"\u003e\n  \u003cthead\u003e\n    \u003ctr style\u003d\"text-align: right;\"\u003e\n      \u003cth\u003e\u003c/th\u003e\n      \u003cth\u003eclose\u003c/th\u003e\n      \u003cth\u003ehigh\u003c/th\u003e\n      \u003cth\u003elow\u003c/th\u003e\n      \u003cth\u003ep_change\u003c/th\u003e\n      \u003cth\u003eopen\u003c/th\u003e\n      \u003cth\u003epre_close\u003c/th\u003e\n      \u003cth\u003evolume\u003c/th\u003e\n      \u003cth\u003edate\u003c/th\u003e\n      \u003cth\u003edate_week\u003c/th\u003e\n      \u003cth\u003eatr21\u003c/th\u003e\n      \u003cth\u003eatr14\u003c/th\u003e\n      \u003cth\u003ekey\u003c/th\u003e\n      \u003cth\u003eslope\u003c/th\u003e\n      \u003cth\u003evelocity\u003c/th\u003e\n    \u003c/tr\u003e\n    \u003ctr\u003e\n      \u003cth\u003e\u003c/th\u003e\n      \u003cth\u003e\u003c/th\u003e\n      \u003cth\u003e\u003c/th\u003e\n      \u003cth\u003e\u003c/th\u003e\n      \u003cth\u003e\u003c/th\u003e\n      \u003cth\u003e\u003c/th\u003e\n      \u003cth\u003e\u003c/th\u003e\n      \u003cth\u003e\u003c/th\u003e\n      \u003cth\u003e\u003c/th\u003e\n      \u003cth\u003e\u003c/th\u003e\n      \u003cth\u003e\u003c/th\u003e\n      \u003cth\u003e\u003c/th\u003e\n      \u003cth\u003e\u003c/th\u003e\n      \u003cth\u003e\u003c/th\u003e\n      \u003cth\u003e\u003c/th\u003e\n    \u003c/tr\u003e\n  \u003c/thead\u003e\n  \u003ctbody\u003e\n    \u003ctr\u003e\n      \u003cth\u003e2017-06-12\u003c/th\u003e\n      \u003ctd\u003e80.17\u003c/td\u003e\n      \u003ctd\u003e80.73\u003c/td\u003e\n      \u003ctd\u003e79.95\u003c/td\u003e\n      \u003ctd\u003e-0.174\u003c/td\u003e\n      \u003ctd\u003e80.35\u003c/td\u003e\n      \u003ctd\u003e80.31\u003c/td\u003e\n      \u003ctd\u003e3352279\u003c/td\u003e\n      \u003ctd\u003e20170612\u003c/td\u003e\n      \u003ctd\u003e0\u003c/td\u003e\n      \u003ctd\u003e0.780000\u003c/td\u003e\n      \u003ctd\u003e0.780000\u003c/td\u003e\n      \u003ctd\u003e0\u003c/td\u003e\n      \u003ctd\u003e0.420\u003c/td\u003e\n      \u003ctd\u003e-0.0850\u003c/td\u003e\n    \u003c/tr\u003e\n    \u003ctr\u003e\n      \u003cth\u003e2017-06-13\u003c/th\u003e\n      \u003ctd\u003e80.59\u003c/td\u003e\n      \u003ctd\u003e80.74\u003c/td\u003e\n      \u003ctd\u003e80.07\u003c/td\u003e\n      \u003ctd\u003e0.524\u003c/td\u003e\n      \u003ctd\u003e80.20\u003c/td\u003e\n      \u003ctd\u003e80.17\u003c/td\u003e\n      \u003ctd\u003e3174361\u003c/td\u003e\n      \u003ctd\u003e20170613\u003c/td\u003e\n      \u003ctd\u003e1\u003c/td\u003e\n      \u003ctd\u003e0.722381\u003c/td\u003e\n      \u003ctd\u003e0.721071\u003c/td\u003e\n      \u003ctd\u003e1\u003c/td\u003e\n      \u003ctd\u003e0.335\u003c/td\u003e\n      \u003ctd\u003e-0.1825\u003c/td\u003e\n    \u003c/tr\u003e\n    \u003ctr\u003e\n      \u003cth\u003e2017-06-14\u003c/th\u003e\n      \u003ctd\u003e80.84\u003c/td\u003e\n      \u003ctd\u003e80.92\u003c/td\u003e\n      \u003ctd\u003e79.62\u003c/td\u003e\n      \u003ctd\u003e0.310\u003c/td\u003e\n      \u003ctd\u003e80.11\u003c/td\u003e\n      \u003ctd\u003e80.59\u003c/td\u003e\n      \u003ctd\u003e4013089\u003c/td\u003e\n      \u003ctd\u003e20170614\u003c/td\u003e\n      \u003ctd\u003e2\u003c/td\u003e\n      \u003ctd\u003e0.933535\u003c/td\u003e\n      \u003ctd\u003e0.942224\u003c/td\u003e\n      \u003ctd\u003e2\u003c/td\u003e\n      \u003ctd\u003e0.055\u003c/td\u003e\n      \u003ctd\u003e-0.0150\u003c/td\u003e\n    \u003c/tr\u003e\n    \u003ctr\u003e\n      \u003cth\u003e2017-06-15\u003c/th\u003e\n      \u003ctd\u003e80.70\u003c/td\u003e\n      \u003ctd\u003e81.24\u003c/td\u003e\n      \u003ctd\u003e80.23\u003c/td\u003e\n      \u003ctd\u003e-0.173\u003c/td\u003e\n      \u003ctd\u003e80.38\u003c/td\u003e\n      \u003ctd\u003e80.84\u003c/td\u003e\n      \u003ctd\u003e2773369\u003c/td\u003e\n      \u003ctd\u003e20170615\u003c/td\u003e\n      \u003ctd\u003e3\u003c/td\u003e\n      \u003ctd\u003e0.955464\u003c/td\u003e\n      \u003ctd\u003e0.962959\u003c/td\u003e\n      \u003ctd\u003e3\u003c/td\u003e\n      \u003ctd\u003e0.305\u003c/td\u003e\n      \u003ctd\u003e0.2675\u003c/td\u003e\n    \u003c/tr\u003e\n    \u003ctr\u003e\n      \u003cth\u003e2017-06-16\u003c/th\u003e\n      \u003ctd\u003e81.45\u003c/td\u003e\n      \u003ctd\u003e81.48\u003c/td\u003e\n      \u003ctd\u003e80.77\u003c/td\u003e\n      \u003ctd\u003e0.929\u003c/td\u003e\n      \u003ctd\u003e80.86\u003c/td\u003e\n      \u003ctd\u003e80.70\u003c/td\u003e\n      \u003ctd\u003e5914676\u003c/td\u003e\n      \u003ctd\u003e20170616\u003c/td\u003e\n      \u003ctd\u003e4\u003c/td\u003e\n      \u003ctd\u003e0.896598\u003c/td\u003e\n      \u003ctd\u003e0.896962\u003c/td\u003e\n      \u003ctd\u003e4\u003c/td\u003e\n      \u003ctd\u003e0.590\u003c/td\u003e\n      \u003ctd\u003e0.1125\u003c/td\u003e\n    \u003c/tr\u003e\n  \u003c/tbody\u003e\n\u003c/table\u003e\n\u003c/div\u003e"
          },
          "metadata": {},
          "output_type": "execute_result",
          "execution_count": 7
        }
      ],
      "source": "\nimport numpy as np\n\nextra_df \u003d amex_df.copy()\nextra_df[\u0027slope\u0027] \u003d pd.Series(np.gradient(extra_df.close), extra_df.index, name\u003d\u0027slope\u0027)\nextra_df[\u0027velocity\u0027] \u003d pd.Series(np.gradient(extra_df.slope), extra_df.index, name\u003d\u0027velocity\u0027)\n# Print\nextra_df.head()\n",
      "metadata": {
        "pycharm": {
          "metadata": false,
          "name": "#%%\n",
          "is_executing": false
        }
      }
    },
    {
      "cell_type": "markdown",
      "source": "\n## Performing Backtests\n\n1. Prepare Parameters\n2. Define Backtest Tasks\n3. Defining a DataFrame to handle results\n4. Running BackTest on Multi Threads\n\n### Preparing Parameters\n",
      "metadata": {
        "pycharm": {
          "metadata": false
        }
      }
    },
    {
      "cell_type": "code",
      "execution_count": 8,
      "outputs": [
        {
          "name": "stdout",
          "text": [
            "Params Ready, 1024 tasks to run, will take approximately 3.41 minutes or 0.06 hours to complete. \n"
          ],
          "output_type": "stream"
        }
      ],
      "source": "\nimport itertools\n\nsm_buy_slope_threshold_list \u003d np.arange(-0.2, 0.2, 0.1)\nsm_buy_velocity_threshold_list \u003d np.arange(-0.2, 0.2, 0.1)\nsm_close_slope_threshold_list \u003d np.arange(-0.1, 0.1, 0.1)\nsm_close_velocity_threshold_list \u003d np.arange(-0.1, 0.1, 0.1)\nsm_sell_slope_threshold_list \u003d np.arange(-0.2, 0.2, 0.1)\nsm_sell_velocity_threshold_list \u003d np.arange(-0.2, 0.2, 0.1)\n\ntask_list \u003d list(itertools.product(\n    sm_buy_slope_threshold_list, \n    sm_buy_velocity_threshold_list, \n    sm_close_slope_threshold_list, \n    sm_close_velocity_threshold_list, \n    sm_sell_slope_threshold_list, \n    sm_sell_velocity_threshold_list\n))\nprint(\"Params Ready, {} tasks to run, will take approximately {} minutes or {} hours to complete. \".format(len(task_list), round(len(task_list)/(5*60), 2), round(len(task_list)/(5*60*60), 2)))\n",
      "metadata": {
        "pycharm": {
          "metadata": false,
          "name": "#%%\n",
          "is_executing": false
        }
      }
    },
    {
      "cell_type": "markdown",
      "source": "\n### Defining Backtest Task\n",
      "metadata": {
        "pycharm": {
          "metadata": false
        }
      }
    },
    {
      "cell_type": "code",
      "execution_count": 9,
      "outputs": [
        {
          "name": "stdout",
          "text": [
            "importing Jupyter notebook from strategy_base.ipynb\n"
          ],
          "output_type": "stream"
        }
      ],
      "source": "\nimport import_ipynb\nfrom strategy_base import TradeStrategyBase\n\ndef backtest(tradedays: pd.DataFrame, \n             strategy: TradeStrategyBase):\n    \n    # Iterate through each data and trade\n    for date, trade_day in extra_df.iterrows():\n        strategy.trade(date\u003ddate,\n                       tradeday\u003dtrade_day)\n    # Return resulting profit\n    return strategy\n",
      "metadata": {
        "pycharm": {
          "metadata": false,
          "name": "#%%\n",
          "is_executing": false
        }
      }
    },
    {
      "cell_type": "markdown",
      "source": "\n### Defining a DataFrame to handle results\n",
      "metadata": {
        "pycharm": {
          "metadata": false
        }
      }
    },
    {
      "cell_type": "code",
      "execution_count": 10,
      "outputs": [
        {
          "data": {
            "text/plain": "Empty DataFrame\nColumns: [buy_slope_threshold, buy_velocity_threshold, close_slope_threshold, close_velocity_threshold, sell_slope_threshold, sell_velocity_threshold, profit_percentage]\nIndex: []",
            "text/html": "\u003cdiv\u003e\n\u003cstyle scoped\u003e\n    .dataframe tbody tr th:only-of-type {\n        vertical-align: middle;\n    }\n\n    .dataframe tbody tr th {\n        vertical-align: top;\n    }\n\n    .dataframe thead th {\n        text-align: right;\n    }\n\u003c/style\u003e\n\u003ctable border\u003d\"1\" class\u003d\"dataframe\"\u003e\n  \u003cthead\u003e\n    \u003ctr style\u003d\"text-align: right;\"\u003e\n      \u003cth\u003e\u003c/th\u003e\n      \u003cth\u003ebuy_slope_threshold\u003c/th\u003e\n      \u003cth\u003ebuy_velocity_threshold\u003c/th\u003e\n      \u003cth\u003eclose_slope_threshold\u003c/th\u003e\n      \u003cth\u003eclose_velocity_threshold\u003c/th\u003e\n      \u003cth\u003esell_slope_threshold\u003c/th\u003e\n      \u003cth\u003esell_velocity_threshold\u003c/th\u003e\n      \u003cth\u003eprofit_percentage\u003c/th\u003e\n    \u003c/tr\u003e\n  \u003c/thead\u003e\n  \u003ctbody\u003e\n  \u003c/tbody\u003e\n\u003c/table\u003e\n\u003c/div\u003e"
          },
          "metadata": {},
          "output_type": "execute_result",
          "execution_count": 10
        }
      ],
      "source": "\nfinal_result \u003d pd.DataFrame(columns\u003d[\u0027buy_slope_threshold\u0027, \u0027buy_velocity_threshold\u0027, \u0027close_slope_threshold\u0027, \u0027close_velocity_threshold\u0027, \u0027sell_slope_threshold\u0027, \u0027sell_velocity_threshold\u0027, \u0027profit_percentage\u0027])\nfinal_result\n",
      "metadata": {
        "pycharm": {
          "metadata": false,
          "name": "#%%\n",
          "is_executing": false
        }
      }
    },
    {
      "cell_type": "markdown",
      "source": "\n### Diagnosing Environment\n    ",
      "metadata": {
        "pycharm": {
          "metadata": false
        }
      }
    },
    {
      "cell_type": "code",
      "execution_count": 11,
      "outputs": [
        {
          "name": "stdout",
          "text": [
            "System is 8 cpus\n"
          ],
          "output_type": "stream"
        }
      ],
      "source": "\nimport multiprocessing\n\nprint(\"System is {} cpus\".format(multiprocessing.cpu_count()))\n",
      "metadata": {
        "pycharm": {
          "metadata": false,
          "name": "#%%\n",
          "is_executing": false
        }
      }
    },
    {
      "cell_type": "markdown",
      "source": "\n### Running Backtest with Multi-Threading\n",
      "metadata": {
        "pycharm": {
          "metadata": false
        }
      }
    },
    {
      "cell_type": "code",
      "execution_count": 12,
      "outputs": [
        {
          "name": "stdout",
          "text": [
            "importing Jupyter notebook from strategy_4.ipynb\n",
            "Starting 1024 tasks\n"
          ],
          "output_type": "stream"
        },
        {
          "name": "stderr",
          "text": [
            "\r0.00tests [00:00, ?tests/s]",
            "\r1.00tests [00:00, 1.76tests/s]",
            "\r2.00tests [00:01, 1.72tests/s]",
            "\r4.00tests [00:01, 2.37tests/s]",
            "\r8.00tests [00:01, 3.29tests/s]",
            "\r10.0tests [00:02, 2.67tests/s]",
            "\r15.0tests [00:02, 3.69tests/s]",
            "\r17.0tests [00:03, 4.03tests/s]",
            "\r19.0tests [00:03, 3.55tests/s]",
            "\r23.0tests [00:03, 4.83tests/s]",
            "\r25.0tests [00:04, 4.96tests/s]",
            "\r27.0tests [00:04, 3.95tests/s]",
            "\r31.0tests [00:05, 5.33tests/s]",
            "\r33.0tests [00:05, 5.82tests/s]",
            "\r35.0tests [00:06, 4.25tests/s]",
            "\r39.0tests [00:06, 5.62tests/s]",
            "\r41.0tests [00:06, 5.98tests/s]",
            "\r43.0tests [00:07, 4.30tests/s]",
            "\r46.0tests [00:07, 5.78tests/s]",
            "\r48.0tests [00:07, 6.93tests/s]",
            "\r50.0tests [00:08, 4.32tests/s]",
            "\r54.0tests [00:08, 5.73tests/s]",
            "\r56.0tests [00:08, 6.73tests/s]",
            "\r58.0tests [00:09, 4.15tests/s]",
            "\r60.0tests [00:09, 5.43tests/s]",
            "\r62.0tests [00:10, 6.61tests/s]",
            "\r64.0tests [00:10, 7.70tests/s]",
            "\r66.0tests [00:11, 4.40tests/s]",
            "\r67.0tests [00:11, 5.09tests/s]",
            "\r70.0tests [00:11, 6.57tests/s]",
            "\r72.0tests [00:11, 7.52tests/s]",
            "\r74.0tests [00:12, 4.54tests/s]",
            "\r76.0tests [00:12, 5.53tests/s]",
            "\r78.0tests [00:12, 7.02tests/s]",
            "\r81.0tests [00:12, 8.36tests/s]",
            "\r83.0tests [00:13, 4.59tests/s]",
            "\r86.0tests [00:14, 5.67tests/s]",
            "\r88.0tests [00:14, 7.11tests/s]",
            "\r90.0tests [00:15, 3.94tests/s]",
            "\r92.0tests [00:15, 5.01tests/s]",
            "\r94.0tests [00:15, 5.37tests/s]",
            "\r96.0tests [00:15, 6.85tests/s]",
            "\r98.0tests [00:16, 4.24tests/s]",
            "\r100tests [00:16, 5.24tests/s] ",
            "\r102tests [00:17, 5.77tests/s]",
            "\r104tests [00:17, 7.15tests/s]",
            "\r106tests [00:18, 4.30tests/s]",
            "\r108tests [00:18, 5.34tests/s]",
            "\r110tests [00:18, 5.82tests/s]",
            "\r112tests [00:18, 7.21tests/s]",
            "\r114tests [00:19, 4.42tests/s]",
            "\r116tests [00:19, 5.42tests/s]",
            "\r118tests [00:19, 6.23tests/s]",
            "\r120tests [00:20, 7.54tests/s]",
            "\r122tests [00:20, 4.47tests/s]",
            "\r124tests [00:21, 5.56tests/s]",
            "\r126tests [00:21, 6.10tests/s]",
            "\r130tests [00:22, 5.33tests/s]",
            "\r132tests [00:22, 6.54tests/s]",
            "\r134tests [00:22, 6.75tests/s]",
            "\r137tests [00:22, 8.72tests/s]",
            "\r139tests [00:23, 4.52tests/s]",
            "\r141tests [00:23, 5.68tests/s]",
            "\r143tests [00:24, 6.29tests/s]",
            "\r145tests [00:24, 7.04tests/s]",
            "\r147tests [00:25, 4.21tests/s]",
            "\r149tests [00:25, 5.43tests/s]",
            "\r151tests [00:25, 5.61tests/s]",
            "\r152tests [00:25, 6.38tests/s]",
            "\r154tests [00:26, 4.56tests/s]",
            "\r155tests [00:26, 5.01tests/s]",
            "\r158tests [00:27, 5.71tests/s]",
            "\r160tests [00:27, 7.25tests/s]",
            "\r162tests [00:27, 4.77tests/s]",
            "\r163tests [00:28, 4.94tests/s]",
            "\r166tests [00:28, 5.53tests/s]",
            "\r168tests [00:28, 6.83tests/s]",
            "\r170tests [00:29, 4.66tests/s]",
            "\r171tests [00:29, 4.30tests/s]",
            "\r173tests [00:29, 5.59tests/s]",
            "\r175tests [00:30, 5.48tests/s]",
            "\r177tests [00:30, 6.89tests/s]",
            "\r179tests [00:30, 4.61tests/s]",
            "\r182tests [00:31, 5.18tests/s]",
            "\r184tests [00:31, 6.42tests/s]",
            "\r186tests [00:32, 4.17tests/s]",
            "\r187tests [00:32, 3.35tests/s]",
            "\r190tests [00:33, 4.04tests/s]",
            "\r192tests [00:33, 5.24tests/s]",
            "\r194tests [00:33, 4.55tests/s]",
            "\r195tests [00:34, 4.40tests/s]",
            "\r198tests [00:34, 4.88tests/s]",
            "\r200tests [00:34, 6.06tests/s]",
            "\r202tests [00:35, 4.86tests/s]",
            "\r203tests [00:35, 4.76tests/s]",
            "\r204tests [00:35, 5.62tests/s]",
            "\r206tests [00:36, 5.38tests/s]",
            "\r209tests [00:36, 6.48tests/s]",
            "\r210tests [00:36, 4.15tests/s]",
            "\r211tests [00:37, 4.01tests/s]",
            "\r212tests [00:37, 4.82tests/s]",
            "\r214tests [00:37, 4.35tests/s]",
            "\r216tests [00:37, 5.64tests/s]",
            "\r217tests [00:37, 6.12tests/s]",
            "\r218tests [00:38, 3.93tests/s]",
            "\r219tests [00:38, 3.78tests/s]",
            "\r221tests [00:38, 4.84tests/s]",
            "\r222tests [00:39, 3.73tests/s]",
            "\r225tests [00:39, 5.04tests/s]",
            "\r227tests [00:40, 4.02tests/s]",
            "\r229tests [00:40, 5.15tests/s]",
            "\r231tests [00:40, 4.74tests/s]",
            "\r234tests [00:41, 5.11tests/s]",
            "\r235tests [00:41, 4.08tests/s]",
            "\r238tests [00:42, 4.45tests/s]",
            "\r240tests [00:42, 5.18tests/s]",
            "\r242tests [00:42, 5.05tests/s]",
            "\r243tests [00:43, 3.71tests/s]",
            "\r246tests [00:43, 4.14tests/s]",
            "\r248tests [00:43, 5.00tests/s]",
            "\r250tests [00:44, 5.06tests/s]",
            "\r251tests [00:44, 3.95tests/s]",
            "\r253tests [00:44, 5.20tests/s]",
            "\r254tests [00:45, 3.87tests/s]",
            "\r255tests [00:45, 4.67tests/s]",
            "\r257tests [00:45, 5.90tests/s]",
            "\r259tests [00:46, 4.70tests/s]",
            "\r262tests [00:46, 5.02tests/s]",
            "\r263tests [00:46, 5.37tests/s]",
            "\r265tests [00:46, 6.88tests/s]",
            "\r267tests [00:47, 4.94tests/s]",
            "\r270tests [00:48, 5.24tests/s]",
            "\r272tests [00:48, 6.23tests/s]",
            "\r274tests [00:48, 6.93tests/s]",
            "\r275tests [00:48, 4.20tests/s]",
            "\r278tests [00:49, 4.50tests/s]",
            "\r279tests [00:49, 5.00tests/s]",
            "\r282tests [00:49, 5.89tests/s]",
            "\r283tests [00:50, 3.83tests/s]",
            "\r286tests [00:50, 4.22tests/s]",
            "\r288tests [00:50, 5.47tests/s]",
            "\r290tests [00:51, 6.48tests/s]",
            "\r292tests [00:51, 5.31tests/s]",
            "\r294tests [00:52, 4.50tests/s]",
            "\r295tests [00:52, 5.32tests/s]",
            "\r298tests [00:52, 6.68tests/s]",
            "\r300tests [00:53, 5.05tests/s]",
            "\r302tests [00:53, 4.45tests/s]",
            "\r304tests [00:53, 5.73tests/s]",
            "\r306tests [00:54, 6.64tests/s]",
            "\r308tests [00:54, 5.27tests/s]",
            "\r310tests [00:55, 4.47tests/s]",
            "\r311tests [00:55, 5.20tests/s]",
            "\r314tests [00:55, 6.44tests/s]",
            "\r315tests [00:56, 3.89tests/s]",
            "\r318tests [00:56, 4.16tests/s]",
            "\r320tests [00:56, 5.18tests/s]",
            "\r322tests [00:56, 6.62tests/s]",
            "\r324tests [00:57, 5.25tests/s]",
            "\r326tests [00:58, 4.42tests/s]",
            "\r327tests [00:58, 4.99tests/s]",
            "\r330tests [00:58, 6.26tests/s]",
            "\r331tests [00:58, 3.80tests/s]",
            "\r333tests [00:59, 4.96tests/s]",
            "\r335tests [00:59, 4.08tests/s]",
            "\r336tests [00:59, 4.71tests/s]",
            "\r338tests [01:00, 5.88tests/s]",
            "\r339tests [01:00, 3.83tests/s]",
            "\r341tests [01:00, 5.01tests/s]",
            "\r343tests [01:01, 4.07tests/s]",
            "\r346tests [01:01, 5.26tests/s]",
            "\r348tests [01:02, 4.75tests/s]",
            "\r350tests [01:02, 4.00tests/s]",
            "\r353tests [01:02, 5.38tests/s]",
            "\r355tests [01:03, 4.91tests/s]",
            "\r357tests [01:03, 6.29tests/s]",
            "\r359tests [01:04, 4.48tests/s]",
            "\r362tests [01:04, 5.99tests/s]",
            "\r364tests [01:04, 5.07tests/s]",
            "\r366tests [01:05, 4.06tests/s]",
            "\r368tests [01:05, 5.21tests/s]",
            "\r370tests [01:05, 6.26tests/s]",
            "\r372tests [01:06, 5.91tests/s]",
            "\r374tests [01:07, 3.99tests/s]",
            "\r378tests [01:07, 5.11tests/s]",
            "\r379tests [01:07, 4.27tests/s]",
            "\r382tests [01:08, 3.92tests/s]",
            "\r384tests [01:08, 5.13tests/s]",
            "\r386tests [01:08, 6.08tests/s]",
            "\r388tests [01:09, 5.94tests/s]",
            "\r390tests [01:10, 3.91tests/s]",
            "\r391tests [01:10, 4.67tests/s]",
            "\r393tests [01:10, 5.73tests/s]",
            "\r395tests [01:10, 5.15tests/s]",
            "\r397tests [01:11, 6.57tests/s]",
            "\r399tests [01:11, 4.49tests/s]",
            "\r400tests [01:11, 5.33tests/s]",
            "\r402tests [01:12, 6.63tests/s]",
            "\r404tests [01:12, 6.48tests/s]",
            "\r406tests [01:13, 4.06tests/s]",
            "\r408tests [01:13, 5.14tests/s]",
            "\r410tests [01:13, 6.57tests/s]",
            "\r412tests [01:13, 6.30tests/s]",
            "\r414tests [01:14, 4.01tests/s]",
            "\r416tests [01:15, 5.08tests/s]",
            "\r419tests [01:15, 5.76tests/s]",
            "\r422tests [01:16, 4.51tests/s]",
            "\r424tests [01:16, 5.48tests/s]",
            "\r427tests [01:16, 5.98tests/s]",
            "\r430tests [01:17, 4.90tests/s]",
            "\r432tests [01:17, 6.00tests/s]",
            "\r435tests [01:18, 6.66tests/s]",
            "\r438tests [01:19, 5.06tests/s]",
            "\r439tests [01:19, 5.74tests/s]",
            "\r442tests [01:19, 7.35tests/s]",
            "\r444tests [01:19, 6.96tests/s]",
            "\r446tests [01:20, 4.28tests/s]",
            "\r448tests [01:20, 5.52tests/s]",
            "\r451tests [01:21, 6.39tests/s]",
            "\r454tests [01:22, 4.64tests/s]",
            "\r456tests [01:22, 5.83tests/s]",
            "\r459tests [01:22, 6.70tests/s]",
            "\r461tests [01:22, 7.86tests/s]",
            "\r463tests [01:23, 4.51tests/s]",
            "\r466tests [01:23, 5.61tests/s]",
            "\r467tests [01:23, 6.45tests/s]",
            "\r469tests [01:24, 7.56tests/s]",
            "\r471tests [01:25, 4.19tests/s]",
            "\r474tests [01:25, 5.22tests/s]",
            "\r475tests [01:25, 5.40tests/s]",
            "\r478tests [01:26, 4.27tests/s]",
            "\r480tests [01:26, 5.27tests/s]",
            "\r483tests [01:26, 6.31tests/s]",
            "\r486tests [01:27, 4.76tests/s]",
            "\r487tests [01:28, 5.39tests/s]",
            "\r490tests [01:28, 7.05tests/s]",
            "\r492tests [01:28, 7.33tests/s]",
            "\r494tests [01:29, 4.03tests/s]",
            "\r496tests [01:29, 5.20tests/s]",
            "\r498tests [01:29, 6.27tests/s]",
            "\r500tests [01:29, 7.71tests/s]",
            "\r502tests [01:30, 4.17tests/s]",
            "\r503tests [01:31, 4.86tests/s]",
            "\r505tests [01:31, 5.94tests/s]",
            "\r507tests [01:31, 7.27tests/s]",
            "\r509tests [01:31, 8.45tests/s]",
            "\r511tests [01:32, 4.16tests/s]",
            "\r513tests [01:32, 5.37tests/s]",
            "\r516tests [01:32, 6.64tests/s]",
            "\r518tests [01:33, 3.92tests/s]",
            "\r519tests [01:34, 4.20tests/s]",
            "\r522tests [01:34, 5.59tests/s]",
            "\r524tests [01:34, 6.41tests/s]",
            "\r526tests [01:35, 3.94tests/s]",
            "\r528tests [01:35, 4.64tests/s]",
            "\r532tests [01:35, 5.96tests/s]",
            "\r534tests [01:36, 3.65tests/s]",
            "\r535tests [01:36, 4.37tests/s]",
            "\r536tests [01:37, 4.89tests/s]",
            "\r539tests [01:37, 6.36tests/s]",
            "\r541tests [01:37, 7.57tests/s]",
            "\r543tests [01:38, 4.01tests/s]",
            "\r546tests [01:38, 5.06tests/s]",
            "\r549tests [01:38, 6.63tests/s]",
            "\r551tests [01:39, 3.64tests/s]",
            "\r554tests [01:40, 4.69tests/s]",
            "\r557tests [01:40, 6.03tests/s]",
            "\r559tests [01:41, 3.70tests/s]",
            "\r561tests [01:41, 4.72tests/s]",
            "\r564tests [01:41, 6.13tests/s]",
            "\r566tests [01:42, 3.46tests/s]",
            "\r568tests [01:42, 4.32tests/s]",
            "\r570tests [01:43, 5.35tests/s]",
            "\r573tests [01:43, 6.99tests/s]",
            "\r575tests [01:44, 3.82tests/s]",
            "\r577tests [01:44, 4.94tests/s]",
            "\r580tests [01:44, 6.46tests/s]",
            "\r582tests [01:45, 3.73tests/s]",
            "\r584tests [01:45, 4.74tests/s]",
            "\r587tests [01:46, 5.98tests/s]",
            "\r589tests [01:46, 7.41tests/s]",
            "\r591tests [01:47, 4.11tests/s]",
            "\r593tests [01:47, 4.97tests/s]",
            "\r597tests [01:47, 6.70tests/s]",
            "\r599tests [01:48, 3.78tests/s]",
            "\r601tests [01:48, 4.66tests/s]",
            "\r604tests [01:48, 6.23tests/s]",
            "\r606tests [01:49, 3.61tests/s]",
            "\r608tests [01:50, 4.72tests/s]",
            "\r610tests [01:50, 5.93tests/s]",
            "\r614tests [01:51, 4.59tests/s]",
            "\r616tests [01:51, 5.56tests/s]",
            "\r618tests [01:51, 6.89tests/s]",
            "\r621tests [01:51, 8.60tests/s]",
            "\r623tests [01:53, 3.81tests/s]",
            "\r625tests [01:53, 4.98tests/s]",
            "\r628tests [01:53, 6.61tests/s]",
            "\r630tests [01:54, 3.49tests/s]",
            "\r632tests [01:54, 4.39tests/s]",
            "\r635tests [01:54, 5.57tests/s]",
            "\r638tests [01:56, 3.95tests/s]",
            "\r640tests [01:56, 5.01tests/s]",
            "\r642tests [01:56, 6.28tests/s]",
            "\r646tests [01:57, 4.64tests/s]",
            "\r648tests [01:58, 5.81tests/s]",
            "\r651tests [01:58, 7.44tests/s]",
            "\r654tests [01:59, 4.58tests/s]",
            "\r657tests [01:59, 5.92tests/s]",
            "\r660tests [01:59, 7.66tests/s]",
            "\r662tests [02:00, 3.75tests/s]",
            "\r664tests [02:01, 4.80tests/s]",
            "\r667tests [02:01, 6.25tests/s]",
            "\r669tests [02:01, 7.42tests/s]",
            "\r671tests [02:02, 3.85tests/s]",
            "\r674tests [02:02, 5.04tests/s]",
            "\r677tests [02:02, 6.63tests/s]",
            "\r679tests [02:03, 3.58tests/s]",
            "\r682tests [02:04, 4.77tests/s]",
            "\r685tests [02:04, 6.21tests/s]",
            "\r687tests [02:05, 3.58tests/s]",
            "\r689tests [02:05, 4.64tests/s]",
            "\r692tests [02:05, 6.17tests/s]",
            "\r694tests [02:06, 3.56tests/s]",
            "\r696tests [02:06, 4.44tests/s]",
            "\r699tests [02:06, 5.86tests/s]",
            "\r702tests [02:08, 4.38tests/s]",
            "\r704tests [02:08, 5.64tests/s]",
            "\r708tests [02:08, 7.46tests/s]",
            "\r710tests [02:09, 3.70tests/s]",
            "\r713tests [02:09, 4.87tests/s]",
            "\r716tests [02:09, 6.40tests/s]",
            "\r718tests [02:11, 3.38tests/s]",
            "\r720tests [02:11, 4.44tests/s]",
            "\r724tests [02:11, 6.00tests/s]",
            "\r726tests [02:12, 3.37tests/s]",
            "\r728tests [02:12, 4.28tests/s]",
            "\r730tests [02:12, 5.49tests/s]",
            "\r733tests [02:12, 7.14tests/s]",
            "\r735tests [02:14, 3.39tests/s]",
            "\r737tests [02:14, 4.43tests/s]",
            "\r740tests [02:14, 5.86tests/s]",
            "\r742tests [02:15, 3.04tests/s]",
            "\r744tests [02:15, 3.94tests/s]",
            "\r746tests [02:16, 5.19tests/s]",
            "\r749tests [02:16, 6.73tests/s]",
            "\r751tests [02:17, 3.52tests/s]",
            "\r753tests [02:17, 4.58tests/s]",
            "\r755tests [02:17, 5.84tests/s]",
            "\r758tests [02:18, 4.13tests/s]",
            "\r760tests [02:19, 5.40tests/s]",
            "\r762tests [02:19, 6.86tests/s]",
            "\r765tests [02:19, 8.64tests/s]",
            "\r767tests [02:20, 3.99tests/s]",
            "\r769tests [02:20, 5.17tests/s]",
            "\r772tests [02:20, 6.82tests/s]",
            "\r774tests [02:21, 3.69tests/s]",
            "\r776tests [02:21, 4.81tests/s]",
            "\r779tests [02:21, 6.39tests/s]",
            "\r781tests [02:22, 7.90tests/s]",
            "\r783tests [02:23, 4.00tests/s]",
            "\r785tests [02:23, 5.23tests/s]",
            "\r788tests [02:23, 6.81tests/s]",
            "\r790tests [02:24, 3.70tests/s]",
            "\r792tests [02:24, 4.80tests/s]",
            "\r795tests [02:24, 6.20tests/s]",
            "\r798tests [02:25, 4.44tests/s]",
            "\r800tests [02:26, 5.67tests/s]",
            "\r804tests [02:26, 7.39tests/s]",
            "\r806tests [02:27, 3.60tests/s]",
            "\r808tests [02:27, 4.65tests/s]",
            "\r810tests [02:27, 5.88tests/s]",
            "\r813tests [02:27, 7.57tests/s]",
            "\r815tests [02:28, 3.71tests/s]",
            "\r817tests [02:29, 4.85tests/s]",
            "\r820tests [02:29, 6.47tests/s]",
            "\r822tests [02:30, 3.07tests/s]",
            "\r824tests [02:30, 4.06tests/s]",
            "\r826tests [02:30, 5.19tests/s]",
            "\r830tests [02:32, 4.21tests/s]",
            "\r832tests [02:32, 5.18tests/s]",
            "\r835tests [02:32, 6.82tests/s]",
            "\r838tests [02:34, 3.76tests/s]",
            "\r840tests [02:34, 4.56tests/s]",
            "\r843tests [02:34, 6.09tests/s]",
            "\r845tests [02:34, 7.57tests/s]",
            "\r847tests [02:35, 3.47tests/s]",
            "\r849tests [02:36, 4.56tests/s]",
            "\r853tests [02:36, 6.11tests/s]",
            "\r855tests [02:37, 3.26tests/s]",
            "\r858tests [02:37, 4.39tests/s]",
            "\r862tests [02:38, 4.02tests/s]",
            "\r864tests [02:39, 4.87tests/s]",
            "\r868tests [02:39, 6.60tests/s]",
            "\r870tests [02:40, 3.64tests/s]",
            "\r872tests [02:40, 4.44tests/s]",
            "\r874tests [02:40, 5.56tests/s]",
            "\r876tests [02:40, 6.88tests/s]",
            "\r878tests [02:42, 3.04tests/s]",
            "\r879tests [02:42, 3.53tests/s]",
            "\r880tests [02:42, 4.31tests/s]",
            "\r882tests [02:42, 5.47tests/s]",
            "\r886tests [02:44, 4.10tests/s]",
            "\r887tests [02:44, 4.50tests/s]",
            "\r889tests [02:44, 5.78tests/s]",
            "\r892tests [02:44, 7.54tests/s]",
            "\r894tests [02:45, 3.55tests/s]",
            "\r896tests [02:46, 4.61tests/s]",
            "\r899tests [02:46, 5.87tests/s]",
            "\r901tests [02:46, 6.67tests/s]",
            "\r903tests [02:47, 3.61tests/s]",
            "\r905tests [02:47, 4.63tests/s]",
            "\r907tests [02:47, 5.80tests/s]",
            "\r909tests [02:48, 6.20tests/s]",
            "\r911tests [02:49, 3.53tests/s]",
            "\r912tests [02:49, 4.08tests/s]",
            "\r914tests [02:49, 5.30tests/s]",
            "\r916tests [02:49, 6.78tests/s]",
            "\r918tests [02:50, 3.39tests/s]",
            "\r920tests [02:51, 4.40tests/s]",
            "\r922tests [02:51, 5.64tests/s]",
            "\r924tests [02:51, 6.82tests/s]",
            "\r926tests [02:52, 2.96tests/s]",
            "\r928tests [02:53, 3.90tests/s]",
            "\r930tests [02:53, 4.93tests/s]",
            "\r932tests [02:53, 6.30tests/s]",
            "\r934tests [02:54, 2.87tests/s]",
            "\r936tests [02:55, 3.81tests/s]",
            "\r938tests [02:55, 4.84tests/s]",
            "\r941tests [02:55, 6.34tests/s]",
            "\r943tests [02:56, 3.03tests/s]",
            "\r945tests [02:56, 4.01tests/s]",
            "\r947tests [02:56, 5.21tests/s]",
            "\r950tests [02:58, 3.56tests/s]",
            "\r952tests [02:58, 4.60tests/s]",
            "\r954tests [02:58, 5.91tests/s]",
            "\r956tests [02:58, 7.32tests/s]",
            "\r958tests [02:59, 3.70tests/s]",
            "\r960tests [03:00, 4.52tests/s]",
            "\r963tests [03:00, 5.89tests/s]",
            "\r966tests [03:01, 4.27tests/s]",
            "\r967tests [03:01, 5.07tests/s]",
            "\r968tests [03:01, 5.68tests/s]",
            "\r971tests [03:01, 7.35tests/s]",
            "\r973tests [03:01, 8.84tests/s]",
            "\r975tests [03:03, 4.06tests/s]",
            "\r977tests [03:03, 5.26tests/s]",
            "\r979tests [03:03, 6.55tests/s]",
            "\r981tests [03:03, 8.20tests/s]",
            "\r983tests [03:04, 4.00tests/s]",
            "\r985tests [03:04, 5.12tests/s]",
            "\r987tests [03:04, 6.33tests/s]",
            "\r990tests [03:05, 4.44tests/s]",
            "\r993tests [03:06, 5.72tests/s]",
            "\r998tests [03:07, 5.07tests/s]",
            "\r999tests [03:07, 5.66tests/s]",
            "\r1.00ktests [03:07, 7.46tests/s]",
            "\r1.00ktests [03:07, 9.33tests/s]",
            "\r1.01ktests [03:09, 3.49tests/s]",
            "\r1.01ktests [03:09, 4.70tests/s]",
            "\r1.01ktests [03:10, 3.92tests/s]",
            "\r1.02ktests [03:10, 5.02tests/s]",
            "\r1.02ktests [03:10, 6.73tests/s]",
            "\r1.02ktests [03:11, 4.41tests/s]",
            "\r1.02ktests [03:11, 5.73tests/s]",
            "\n"
          ],
          "output_type": "stream"
        }
      ],
      "source": "\nimport concurrent.futures\nfrom concurrent.futures import ThreadPoolExecutor\nfrom concurrent.futures.process import ProcessPoolExecutor\nfrom tqdm import tqdm\nfrom strategy_4 import TradeStrategy4\n\nwith ProcessPoolExecutor() as executor:\n    \"\"\"\n    By default, ProcessPool uses maximum available number of cores to process.\n    \"\"\"\n    \n    \"\"\"\n    Equivalent to executor.map(fn, *iterables),\n    but displays a tqdm-based progress bar.\n    \n    Does not support timeout or chunksize as executor.submit is used internally\n    \n    **kwargs is passed to tqdm.\n    \"\"\"\n    futures_list \u003d []\n    kwargs \u003d {\n        \u0027total\u0027: len(futures_list),\n        \u0027unit\u0027: \u0027tests\u0027,\n        \u0027unit_scale\u0027: True,\n        \u0027leave\u0027: True\n    }\n        \n    futures_list \u003d [executor.submit(backtest, \n                                    extra_df,\n                                    TradeStrategy4(buy_slope_threshold\u003dbuy_slope_threshold,\n                                                   buy_velocity_threshold\u003dbuy_velocity_threshold,\n                                                   close_slope_threshold\u003dclose_slope_threshold,\n                                                   close_velocity_threshold\u003dclose_velocity_threshold,\n                                                   sell_slope_threshold\u003dsell_slope_threshold,\n                                                   sell_velocity_threshold\u003dsell_velocity_threshold,\n                                                   should_log\u003dFalse, \n                                                   should_plot\u003dFalse)) for buy_slope_threshold, \\\n                                                                           buy_velocity_threshold, \\\n                                                                           close_slope_threshold, \\\n                                                                           close_velocity_threshold, \\\n                                                                           sell_slope_threshold, \\\n                                                                           sell_velocity_threshold in task_list]\n    print(\"Starting {} tasks\".format(len(futures_list)))\n    \n    for f in tqdm(concurrent.futures.as_completed(futures_list), **kwargs):\n        # done_callback runs on the main process\n        strategy \u003d f.result()\n        \n        result_row \u003d [strategy.buy_slope_threshold, \n                      strategy.buy_velocity_threshold, \n                      strategy.close_slope_threshold, \n                      strategy.close_velocity_threshold, \n                      strategy.sell_slope_threshold, \n                      strategy.sell_velocity_threshold, \n                      strategy.trade_profit * 100]\n        \n        final_result \u003d final_result.append(pd.Series(result_row, index\u003dfinal_result.columns), ignore_index\u003dTrue)\n",
      "metadata": {
        "pycharm": {
          "metadata": false,
          "name": "#%%\n",
          "is_executing": false
        }
      }
    },
    {
      "cell_type": "markdown",
      "source": "\n## Analysing Results\n",
      "metadata": {
        "pycharm": {
          "metadata": false
        }
      }
    },
    {
      "cell_type": "code",
      "execution_count": 15,
      "outputs": [
        {
          "data": {
            "text/plain": "     buy_slope_threshold  buy_velocity_threshold  close_slope_threshold  \\\n772                  0.1                    -0.2                   -0.1   \n767                  0.1                    -0.2                   -0.1   \n774                  0.1                    -0.2                   -0.1   \n775                  0.1                    -0.2                   -0.1   \n776                  0.1                    -0.2                   -0.1   \n777                  0.1                    -0.2                   -0.1   \n778                  0.1                    -0.2                   -0.1   \n780                  0.1                    -0.2                   -0.1   \n781                  0.1                    -0.2                   -0.1   \n768                  0.1                    -0.2                   -0.1   \n\n     close_velocity_threshold  sell_slope_threshold  sell_velocity_threshold  \\\n772                      -0.1                  -0.1                     -0.2   \n767                      -0.1                  -0.2                     -0.1   \n774                      -0.1                  -0.1                      0.0   \n775                      -0.1                   0.0                     -0.2   \n776                      -0.1                   0.0                     -0.1   \n777                      -0.1                  -0.1                      0.1   \n778                      -0.1                   0.0                      0.0   \n780                      -0.1                   0.0                      0.1   \n781                       0.0                  -0.2                     -0.2   \n768                      -0.1                  -0.2                      0.0   \n\n     profit_percentage  \n772         210.019729  \n767         210.019729  \n774         210.019729  \n775         210.019729  \n776         210.019729  \n777         210.019729  \n778         210.019729  \n780         210.019729  \n781         210.019729  \n768         210.019729  ",
            "text/html": "\u003cdiv\u003e\n\u003cstyle scoped\u003e\n    .dataframe tbody tr th:only-of-type {\n        vertical-align: middle;\n    }\n\n    .dataframe tbody tr th {\n        vertical-align: top;\n    }\n\n    .dataframe thead th {\n        text-align: right;\n    }\n\u003c/style\u003e\n\u003ctable border\u003d\"1\" class\u003d\"dataframe\"\u003e\n  \u003cthead\u003e\n    \u003ctr style\u003d\"text-align: right;\"\u003e\n      \u003cth\u003e\u003c/th\u003e\n      \u003cth\u003ebuy_slope_threshold\u003c/th\u003e\n      \u003cth\u003ebuy_velocity_threshold\u003c/th\u003e\n      \u003cth\u003eclose_slope_threshold\u003c/th\u003e\n      \u003cth\u003eclose_velocity_threshold\u003c/th\u003e\n      \u003cth\u003esell_slope_threshold\u003c/th\u003e\n      \u003cth\u003esell_velocity_threshold\u003c/th\u003e\n      \u003cth\u003eprofit_percentage\u003c/th\u003e\n    \u003c/tr\u003e\n  \u003c/thead\u003e\n  \u003ctbody\u003e\n    \u003ctr\u003e\n      \u003cth\u003e772\u003c/th\u003e\n      \u003ctd\u003e0.1\u003c/td\u003e\n      \u003ctd\u003e-0.2\u003c/td\u003e\n      \u003ctd\u003e-0.1\u003c/td\u003e\n      \u003ctd\u003e-0.1\u003c/td\u003e\n      \u003ctd\u003e-0.1\u003c/td\u003e\n      \u003ctd\u003e-0.2\u003c/td\u003e\n      \u003ctd\u003e210.019729\u003c/td\u003e\n    \u003c/tr\u003e\n    \u003ctr\u003e\n      \u003cth\u003e767\u003c/th\u003e\n      \u003ctd\u003e0.1\u003c/td\u003e\n      \u003ctd\u003e-0.2\u003c/td\u003e\n      \u003ctd\u003e-0.1\u003c/td\u003e\n      \u003ctd\u003e-0.1\u003c/td\u003e\n      \u003ctd\u003e-0.2\u003c/td\u003e\n      \u003ctd\u003e-0.1\u003c/td\u003e\n      \u003ctd\u003e210.019729\u003c/td\u003e\n    \u003c/tr\u003e\n    \u003ctr\u003e\n      \u003cth\u003e774\u003c/th\u003e\n      \u003ctd\u003e0.1\u003c/td\u003e\n      \u003ctd\u003e-0.2\u003c/td\u003e\n      \u003ctd\u003e-0.1\u003c/td\u003e\n      \u003ctd\u003e-0.1\u003c/td\u003e\n      \u003ctd\u003e-0.1\u003c/td\u003e\n      \u003ctd\u003e0.0\u003c/td\u003e\n      \u003ctd\u003e210.019729\u003c/td\u003e\n    \u003c/tr\u003e\n    \u003ctr\u003e\n      \u003cth\u003e775\u003c/th\u003e\n      \u003ctd\u003e0.1\u003c/td\u003e\n      \u003ctd\u003e-0.2\u003c/td\u003e\n      \u003ctd\u003e-0.1\u003c/td\u003e\n      \u003ctd\u003e-0.1\u003c/td\u003e\n      \u003ctd\u003e0.0\u003c/td\u003e\n      \u003ctd\u003e-0.2\u003c/td\u003e\n      \u003ctd\u003e210.019729\u003c/td\u003e\n    \u003c/tr\u003e\n    \u003ctr\u003e\n      \u003cth\u003e776\u003c/th\u003e\n      \u003ctd\u003e0.1\u003c/td\u003e\n      \u003ctd\u003e-0.2\u003c/td\u003e\n      \u003ctd\u003e-0.1\u003c/td\u003e\n      \u003ctd\u003e-0.1\u003c/td\u003e\n      \u003ctd\u003e0.0\u003c/td\u003e\n      \u003ctd\u003e-0.1\u003c/td\u003e\n      \u003ctd\u003e210.019729\u003c/td\u003e\n    \u003c/tr\u003e\n    \u003ctr\u003e\n      \u003cth\u003e777\u003c/th\u003e\n      \u003ctd\u003e0.1\u003c/td\u003e\n      \u003ctd\u003e-0.2\u003c/td\u003e\n      \u003ctd\u003e-0.1\u003c/td\u003e\n      \u003ctd\u003e-0.1\u003c/td\u003e\n      \u003ctd\u003e-0.1\u003c/td\u003e\n      \u003ctd\u003e0.1\u003c/td\u003e\n      \u003ctd\u003e210.019729\u003c/td\u003e\n    \u003c/tr\u003e\n    \u003ctr\u003e\n      \u003cth\u003e778\u003c/th\u003e\n      \u003ctd\u003e0.1\u003c/td\u003e\n      \u003ctd\u003e-0.2\u003c/td\u003e\n      \u003ctd\u003e-0.1\u003c/td\u003e\n      \u003ctd\u003e-0.1\u003c/td\u003e\n      \u003ctd\u003e0.0\u003c/td\u003e\n      \u003ctd\u003e0.0\u003c/td\u003e\n      \u003ctd\u003e210.019729\u003c/td\u003e\n    \u003c/tr\u003e\n    \u003ctr\u003e\n      \u003cth\u003e780\u003c/th\u003e\n      \u003ctd\u003e0.1\u003c/td\u003e\n      \u003ctd\u003e-0.2\u003c/td\u003e\n      \u003ctd\u003e-0.1\u003c/td\u003e\n      \u003ctd\u003e-0.1\u003c/td\u003e\n      \u003ctd\u003e0.0\u003c/td\u003e\n      \u003ctd\u003e0.1\u003c/td\u003e\n      \u003ctd\u003e210.019729\u003c/td\u003e\n    \u003c/tr\u003e\n    \u003ctr\u003e\n      \u003cth\u003e781\u003c/th\u003e\n      \u003ctd\u003e0.1\u003c/td\u003e\n      \u003ctd\u003e-0.2\u003c/td\u003e\n      \u003ctd\u003e-0.1\u003c/td\u003e\n      \u003ctd\u003e0.0\u003c/td\u003e\n      \u003ctd\u003e-0.2\u003c/td\u003e\n      \u003ctd\u003e-0.2\u003c/td\u003e\n      \u003ctd\u003e210.019729\u003c/td\u003e\n    \u003c/tr\u003e\n    \u003ctr\u003e\n      \u003cth\u003e768\u003c/th\u003e\n      \u003ctd\u003e0.1\u003c/td\u003e\n      \u003ctd\u003e-0.2\u003c/td\u003e\n      \u003ctd\u003e-0.1\u003c/td\u003e\n      \u003ctd\u003e-0.1\u003c/td\u003e\n      \u003ctd\u003e-0.2\u003c/td\u003e\n      \u003ctd\u003e0.0\u003c/td\u003e\n      \u003ctd\u003e210.019729\u003c/td\u003e\n    \u003c/tr\u003e\n  \u003c/tbody\u003e\n\u003c/table\u003e\n\u003c/div\u003e"
          },
          "metadata": {},
          "output_type": "execute_result",
          "execution_count": 15
        }
      ],
      "source": "        \nfinal_result \u003d final_result.sort_values(by\u003d[\u0027profit_percentage\u0027],\n                         ascending\u003dFalse)\nfinal_result.head(10)\n",
      "metadata": {
        "pycharm": {
          "metadata": false,
          "name": "#%%\n",
          "is_executing": false
        }
      }
    },
    {
      "cell_type": "code",
      "execution_count": null,
      "outputs": [],
      "source": "",
      "metadata": {
        "pycharm": {
          "metadata": false,
          "name": "#%%"
        }
      }
    }
  ],
  "metadata": {
    "language_info": {
      "codemirror_mode": {
        "name": "ipython",
        "version": 2
      },
      "file_extension": ".py",
      "mimetype": "text/x-python",
      "name": "python",
      "nbconvert_exporter": "python",
      "pygments_lexer": "ipython2",
      "version": "2.7.6"
    },
    "kernelspec": {
      "name": "python3",
      "language": "python",
      "display_name": "Python 3"
    }
  },
  "nbformat": 4,
  "nbformat_minor": 0
}