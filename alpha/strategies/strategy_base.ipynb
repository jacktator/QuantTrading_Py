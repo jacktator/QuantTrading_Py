{
  "cells": [
    {
      "cell_type": "code",
      "execution_count": 1,
      "outputs": [],
      "source": "# %%file strategy_base.py\n\nimport six\nfrom abc import ABCMeta, abstractmethod\n\nclass TradeStrategyBase(six.with_metaclass(ABCMeta, object)):\n    \"\"\"\n    Trading Strategy Abstract Base Class\n    \"\"\"\n    @abstractmethod\n    def trade(self, *args, **kwargs):\n        # Base Buy Strategy \n        pass\n    \n    @abstractmethod\n    def _evaluate_buying(self, *args, **kwargs):\n        # Base Buy Strategy \n        pass\n    \n    @abstractmethod\n    def _execute_buying(self, *args, **kwargs):\n        # Base Buy Strategy \n        pass\n    \n    @abstractmethod\n    def _evaluate_selling(self, *args, **kwargs):\n        # Base Buy Strategy \n        pass\n    \n    @abstractmethod\n    def _execute_selling(self, *args, **kwargs):\n        # Base Sell Strategy\n        pass",
      "metadata": {
        "pycharm": {
          "metadata": false,
          "name": "#%%  Trading Strategy Abstract Base Class\n",
          "is_executing": false
        }
      }
    },
    {
      "cell_type": "code",
      "execution_count": null,
      "outputs": [],
      "source": "\n",
      "metadata": {
        "pycharm": {
          "metadata": false,
          "name": "#%%\n"
        }
      }
    }
  ],
  "metadata": {
    "language_info": {
      "codemirror_mode": {
        "name": "ipython",
        "version": 2
      },
      "file_extension": ".py",
      "mimetype": "text/x-python",
      "name": "python",
      "nbconvert_exporter": "python",
      "pygments_lexer": "ipython2",
      "version": "2.7.6"
    },
    "kernelspec": {
      "name": "python3",
      "language": "python",
      "display_name": "Python 3"
    },
    "stem_cell": {
      "cell_type": "raw",
      "source": "",
      "metadata": {
        "pycharm": {
          "metadata": false
        }
      }
    }
  },
  "nbformat": 4,
  "nbformat_minor": 0
}