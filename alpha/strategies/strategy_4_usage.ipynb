{
  "cells": [
    {
      "cell_type": "markdown",
      "metadata": {
        "pycharm": {
          "metadata": false
        }
      },
      "source": [
        "# Import Data\n",
        "\n",
        "For this purpose, this strategy will attemp to trade 3 instruments\n",
        "1. GBPUSD h4 - Liquid, Extreme Volatility\n",
        "1. GBPUSD d1 - Liquid, High Volatility\n",
        "2. AUDUSD h4 - Liquid, Medium Volatility\n",
        "2. AUDUSD d1 - Liquid, Low Volatility\n",
        "3. Wirdcard d1 - Illiquid, High Volatility"
      ]
    },
    {
      "cell_type": "code",
      "execution_count": 1,
      "metadata": {
        "pycharm": {
          "is_executing": false,
          "metadata": false,
          "name": "#%%\n"
        }
      },
      "outputs": [
        {
          "data": {
            "text/html": [
              "\u003cdiv\u003e\n",
              "\u003cstyle scoped\u003e\n",
              "    .dataframe tbody tr th:only-of-type {\n",
              "        vertical-align: middle;\n",
              "    }\n",
              "\n",
              "    .dataframe tbody tr th {\n",
              "        vertical-align: top;\n",
              "    }\n",
              "\n",
              "    .dataframe thead th {\n",
              "        text-align: right;\n",
              "    }\n",
              "\u003c/style\u003e\n",
              "\u003ctable border\u003d\"1\" class\u003d\"dataframe\"\u003e\n",
              "  \u003cthead\u003e\n",
              "    \u003ctr style\u003d\"text-align: right;\"\u003e\n",
              "      \u003cth\u003e\u003c/th\u003e\n",
              "      \u003cth\u003eclose\u003c/th\u003e\n",
              "      \u003cth\u003ehigh\u003c/th\u003e\n",
              "      \u003cth\u003elow\u003c/th\u003e\n",
              "      \u003cth\u003ep_change\u003c/th\u003e\n",
              "      \u003cth\u003eopen\u003c/th\u003e\n",
              "      \u003cth\u003epre_close\u003c/th\u003e\n",
              "      \u003cth\u003evolume\u003c/th\u003e\n",
              "      \u003cth\u003edate\u003c/th\u003e\n",
              "      \u003cth\u003edate_week\u003c/th\u003e\n",
              "      \u003cth\u003eatr21\u003c/th\u003e\n",
              "      \u003cth\u003eatr14\u003c/th\u003e\n",
              "      \u003cth\u003ekey\u003c/th\u003e\n",
              "    \u003c/tr\u003e\n",
              "  \u003c/thead\u003e\n",
              "  \u003ctbody\u003e\n",
              "    \u003ctr\u003e\n",
              "      \u003cth\u003e2017-06-12\u003c/th\u003e\n",
              "      \u003ctd\u003e80.17\u003c/td\u003e\n",
              "      \u003ctd\u003e80.73\u003c/td\u003e\n",
              "      \u003ctd\u003e79.95\u003c/td\u003e\n",
              "      \u003ctd\u003e-0.174\u003c/td\u003e\n",
              "      \u003ctd\u003e80.35\u003c/td\u003e\n",
              "      \u003ctd\u003e80.31\u003c/td\u003e\n",
              "      \u003ctd\u003e3352279\u003c/td\u003e\n",
              "      \u003ctd\u003e20170612\u003c/td\u003e\n",
              "      \u003ctd\u003e0\u003c/td\u003e\n",
              "      \u003ctd\u003e0.780000\u003c/td\u003e\n",
              "      \u003ctd\u003e0.780000\u003c/td\u003e\n",
              "      \u003ctd\u003e0\u003c/td\u003e\n",
              "    \u003c/tr\u003e\n",
              "    \u003ctr\u003e\n",
              "      \u003cth\u003e2017-06-13\u003c/th\u003e\n",
              "      \u003ctd\u003e80.59\u003c/td\u003e\n",
              "      \u003ctd\u003e80.74\u003c/td\u003e\n",
              "      \u003ctd\u003e80.07\u003c/td\u003e\n",
              "      \u003ctd\u003e0.524\u003c/td\u003e\n",
              "      \u003ctd\u003e80.20\u003c/td\u003e\n",
              "      \u003ctd\u003e80.17\u003c/td\u003e\n",
              "      \u003ctd\u003e3174361\u003c/td\u003e\n",
              "      \u003ctd\u003e20170613\u003c/td\u003e\n",
              "      \u003ctd\u003e1\u003c/td\u003e\n",
              "      \u003ctd\u003e0.722381\u003c/td\u003e\n",
              "      \u003ctd\u003e0.721071\u003c/td\u003e\n",
              "      \u003ctd\u003e1\u003c/td\u003e\n",
              "    \u003c/tr\u003e\n",
              "    \u003ctr\u003e\n",
              "      \u003cth\u003e2017-06-14\u003c/th\u003e\n",
              "      \u003ctd\u003e80.84\u003c/td\u003e\n",
              "      \u003ctd\u003e80.92\u003c/td\u003e\n",
              "      \u003ctd\u003e79.62\u003c/td\u003e\n",
              "      \u003ctd\u003e0.310\u003c/td\u003e\n",
              "      \u003ctd\u003e80.11\u003c/td\u003e\n",
              "      \u003ctd\u003e80.59\u003c/td\u003e\n",
              "      \u003ctd\u003e4013089\u003c/td\u003e\n",
              "      \u003ctd\u003e20170614\u003c/td\u003e\n",
              "      \u003ctd\u003e2\u003c/td\u003e\n",
              "      \u003ctd\u003e0.933535\u003c/td\u003e\n",
              "      \u003ctd\u003e0.942224\u003c/td\u003e\n",
              "      \u003ctd\u003e2\u003c/td\u003e\n",
              "    \u003c/tr\u003e\n",
              "    \u003ctr\u003e\n",
              "      \u003cth\u003e2017-06-15\u003c/th\u003e\n",
              "      \u003ctd\u003e80.70\u003c/td\u003e\n",
              "      \u003ctd\u003e81.24\u003c/td\u003e\n",
              "      \u003ctd\u003e80.23\u003c/td\u003e\n",
              "      \u003ctd\u003e-0.173\u003c/td\u003e\n",
              "      \u003ctd\u003e80.38\u003c/td\u003e\n",
              "      \u003ctd\u003e80.84\u003c/td\u003e\n",
              "      \u003ctd\u003e2773369\u003c/td\u003e\n",
              "      \u003ctd\u003e20170615\u003c/td\u003e\n",
              "      \u003ctd\u003e3\u003c/td\u003e\n",
              "      \u003ctd\u003e0.955464\u003c/td\u003e\n",
              "      \u003ctd\u003e0.962959\u003c/td\u003e\n",
              "      \u003ctd\u003e3\u003c/td\u003e\n",
              "    \u003c/tr\u003e\n",
              "    \u003ctr\u003e\n",
              "      \u003cth\u003e2017-06-16\u003c/th\u003e\n",
              "      \u003ctd\u003e81.45\u003c/td\u003e\n",
              "      \u003ctd\u003e81.48\u003c/td\u003e\n",
              "      \u003ctd\u003e80.77\u003c/td\u003e\n",
              "      \u003ctd\u003e0.929\u003c/td\u003e\n",
              "      \u003ctd\u003e80.86\u003c/td\u003e\n",
              "      \u003ctd\u003e80.70\u003c/td\u003e\n",
              "      \u003ctd\u003e5914676\u003c/td\u003e\n",
              "      \u003ctd\u003e20170616\u003c/td\u003e\n",
              "      \u003ctd\u003e4\u003c/td\u003e\n",
              "      \u003ctd\u003e0.896598\u003c/td\u003e\n",
              "      \u003ctd\u003e0.896962\u003c/td\u003e\n",
              "      \u003ctd\u003e4\u003c/td\u003e\n",
              "    \u003c/tr\u003e\n",
              "  \u003c/tbody\u003e\n",
              "\u003c/table\u003e\n",
              "\u003c/div\u003e"
            ],
            "text/plain": [
              "            close   high    low  p_change   open  pre_close   volume  \\\n",
              "2017-06-12  80.17  80.73  79.95    -0.174  80.35      80.31  3352279   \n",
              "2017-06-13  80.59  80.74  80.07     0.524  80.20      80.17  3174361   \n",
              "2017-06-14  80.84  80.92  79.62     0.310  80.11      80.59  4013089   \n",
              "2017-06-15  80.70  81.24  80.23    -0.173  80.38      80.84  2773369   \n",
              "2017-06-16  81.45  81.48  80.77     0.929  80.86      80.70  5914676   \n",
              "\n",
              "                date  date_week     atr21     atr14  key  \n",
              "2017-06-12  20170612          0  0.780000  0.780000    0  \n",
              "2017-06-13  20170613          1  0.722381  0.721071    1  \n",
              "2017-06-14  20170614          2  0.933535  0.942224    2  \n",
              "2017-06-15  20170615          3  0.955464  0.962959    3  \n",
              "2017-06-16  20170616          4  0.896598  0.896962    4  "
            ]
          },
          "execution_count": 1,
          "metadata": {},
          "output_type": "execute_result"
        }
      ],
      "source": "import numpy as np\nimport pandas as pd\n\namex_df \u003d pd.read_csv(\u0027../../data/gen/usAXP_df.csv\u0027,\n                           parse_dates\u003dTrue,\n                           index_col\u003d0)\n# Strip whitespace from column names\namex_df.columns \u003d amex_df.columns.str.strip()\n# Print \namex_df.head()\n"
    },
    {
      "cell_type": "markdown",
      "metadata": {
        "pycharm": {
          "metadata": false,
          "name": "#%% md\n"
        }
      },
      "source": [
        "\n",
        "## Processing Data\n"
      ]
    },
    {
      "cell_type": "code",
      "execution_count": 2,
      "metadata": {
        "pycharm": {
          "is_executing": false,
          "metadata": false,
          "name": "#%%\n"
        }
      },
      "outputs": [],
      "source": [
        "extra_df \u003d amex_df.copy()\n",
        "extra_df[\u0027slope\u0027] \u003d pd.Series(np.gradient(extra_df.close), extra_df.index, name\u003d\u0027slope\u0027)\n",
        "extra_df[\u0027velocity\u0027] \u003d pd.Series(np.gradient(extra_df.slope), extra_df.index, name\u003d\u0027velocity\u0027)"
      ]
    },
    {
      "cell_type": "markdown",
      "metadata": {
        "pycharm": {
          "metadata": false
        }
      },
      "source": [
        "\n",
        "## Plotting Data\n",
        "\n",
        "Plot the close price and the price change probability distribution"
      ]
    },
    {
      "cell_type": "code",
      "execution_count": 3,
      "metadata": {
        "pycharm": {
          "is_executing": false,
          "metadata": false,
          "name": "#%%\n"
        }
      },
      "outputs": [
        {
          "data": {
            "text/plain": [
              "\u003cmatplotlib.axes._subplots.AxesSubplot at 0x1139927b8\u003e"
            ]
          },
          "execution_count": 3,
          "metadata": {},
          "output_type": "execute_result"
        }
      ],
      "source": [
        "             \n",
        "extra_df[[\u0027close\u0027]].plot(subplots\u003dFalse, \n",
        "                             grid\u003dTrue\n",
        ")\n",
        "             \n",
        "extra_df[[\u0027slope\u0027, \u0027velocity\u0027]].plot(subplots\u003dFalse, grid\u003dTrue)"
      ]
    },
    {
      "cell_type": "markdown",
      "metadata": {
        "pycharm": {
          "metadata": false
        }
      },
      "source": "# Initialize Strategy \n\nLet\u0027s create a strategy which with the following:\n\n`buy_slope_threshold` \u003d 0.1 # The slope required to trigger BUY\n`buy_velocity_threshold` \u003d 0.1 # The velocity required to trigger BUY\n`close_slope_threshold` \u003d 0 # The slope required to trigger CLOSE\n`close_velocity_threshold` \u003d 0 # The slope required to trigger CLOSE\n`sell_slope_threshold` \u003d -0.1 # The slope required to trigger SELL\n`sell_velocity_threshold` \u003d -0.1 # The velocity required to trigger SELL\n"
    },
    {
      "cell_type": "code",
      "execution_count": 4,
      "metadata": {
        "pycharm": {
          "is_executing": false,
          "metadata": false,
          "name": "#%% \n"
        }
      },
      "outputs": [
        {
          "name": "stdout",
          "output_type": "stream",
          "text": [
            "importing Jupyter notebook from strategy_4.ipynb\n",
            "importing Jupyter notebook from strategy_base.ipynb\n"
          ]
        }
      ],
      "source": [
        "import import_ipynb\n",
        "from strategy_4 import TradeStrategy4\n",
        "\n",
        "buy_slope_threshold \u003d 0.1 # The slope required to trigger BUY\n",
        "buy_velocity_threshold \u003d 0.1 # The velocity required to trigger BUY\n",
        "close_slope_threshold \u003d 0 # The slope required to trigger CLOSE\n",
        "close_velocity_threshold \u003d 0 # The slope required to trigger CLOSE\n",
        "sell_slope_threshold \u003d -0.1 # The slope required to trigger SELL\n",
        "sell_velocity_threshold \u003d -0.1 # The velocity required to trigger SELL\n",
        "\n",
        "strategy \u003d TradeStrategy4(buy_slope_threshold\u003dbuy_slope_threshold,\n",
        "                          buy_velocity_threshold\u003dbuy_velocity_threshold,\n",
        "                          close_slope_threshold\u003dclose_slope_threshold,\n",
        "                          close_velocity_threshold\u003dclose_velocity_threshold,\n",
        "                          sell_slope_threshold\u003dsell_slope_threshold,\n",
        "                          sell_velocity_threshold\u003dsell_velocity_threshold,\n",
        "                          should_log\u003dTrue, \n",
        "                          should_plot\u003dFalse)\n"
      ]
    },
    {
      "cell_type": "markdown",
      "metadata": {
        "pycharm": {
          "metadata": false
        }
      },
      "source": [
        "# Testing Strategy \n",
        "\n",
        "We will iterate through all trade days, and let strategy decide whether or not it should buy/sell.\n",
        "\n",
        "Finally, we will print the strategy of the result."
      ]
    },
    {
      "cell_type": "code",
      "execution_count": 5,
      "metadata": {
        "pycharm": {
          "is_executing": false,
          "metadata": false,
          "name": "#%% \n"
        }
      },
      "outputs": [
        {
          "name": "stdout",
          "output_type": "stream",
          "text": [
            "Bought on 2017-06-15 00:00:00 at $80.7.\n",
            "- Closed on 2017-06-21 00:00:00 at $82.21.\n",
            "Bought on 2017-06-23 00:00:00 at $82.22.\n",
            "- Closed on 2017-07-05 00:00:00 at $84.89.\n",
            "Sold on 2017-07-05 00:00:00 at $84.89.\n",
            "- Closed on 2017-07-07 00:00:00 at $84.33.\n",
            "Bought on 2017-07-11 00:00:00 at $84.16.\n",
            "- Closed on 2017-07-14 00:00:00 at $85.28.\n",
            "Bought on 2017-07-17 00:00:00 at $85.22.\n",
            "- Closed on 2017-07-19 00:00:00 at $85.93.\n",
            "Sold on 2017-07-26 00:00:00 at $85.3.\n",
            "- Closed on 2017-07-28 00:00:00 at $84.8.\n",
            "Bought on 2017-07-28 00:00:00 at $84.8.\n",
            "- Closed on 2017-08-01 00:00:00 at $85.24.\n",
            "Bought on 2017-08-02 00:00:00 at $85.07.\n",
            "- Closed on 2017-08-07 00:00:00 at $85.85.\n",
            "Sold on 2017-08-09 00:00:00 at $85.69.\n",
            "- Closed on 2017-08-11 00:00:00 at $84.29.\n",
            "Bought on 2017-08-11 00:00:00 at $84.29.\n",
            "- Closed on 2017-08-16 00:00:00 at $87.39.\n",
            "Sold on 2017-08-16 00:00:00 at $87.39.\n",
            "- Closed on 2017-08-23 00:00:00 at $85.28.\n",
            "Bought on 2017-08-29 00:00:00 at $85.42.\n",
            "- Closed on 2017-09-01 00:00:00 at $86.14.\n",
            "Sold on 2017-09-01 00:00:00 at $86.14.\n",
            "- Closed on 2017-09-08 00:00:00 at $84.25.\n",
            "Bought on 2017-09-08 00:00:00 at $84.25.\n",
            "- Closed on 2017-09-13 00:00:00 at $86.64.\n",
            "Sold on 2017-09-13 00:00:00 at $86.64.\n",
            "- Closed on 2017-09-14 00:00:00 at $86.2.\n",
            "Bought on 2017-09-14 00:00:00 at $86.2.\n",
            "- Closed on 2017-09-20 00:00:00 at $88.43.\n",
            "Sold on 2017-09-20 00:00:00 at $88.43.\n",
            "- Closed on 2017-09-25 00:00:00 at $88.21.\n",
            "Bought on 2017-09-25 00:00:00 at $88.21.\n",
            "- Closed on 2017-10-16 00:00:00 at $91.96.\n",
            "Bought on 2017-10-20 00:00:00 at $92.06.\n",
            "- Closed on 2017-10-27 00:00:00 at $95.79.\n",
            "Sold on 2017-10-27 00:00:00 at $95.79.\n",
            "- Closed on 2017-10-31 00:00:00 at $95.52.\n",
            "Bought on 2017-10-31 00:00:00 at $95.52.\n",
            "- Closed on 2017-11-06 00:00:00 at $96.29.\n",
            "Sold on 2017-11-06 00:00:00 at $96.29.\n",
            "- Closed on 2017-11-10 00:00:00 at $93.52.\n",
            "Sold on 2017-11-14 00:00:00 at $93.76.\n",
            "- Closed on 2017-11-16 00:00:00 at $93.56.\n",
            "Bought on 2017-11-16 00:00:00 at $93.56.\n",
            "- Closed on 2017-11-21 00:00:00 at $94.41.\n",
            "Bought on 2017-11-27 00:00:00 at $93.47.\n",
            "- Closed on 2017-12-05 00:00:00 at $98.71.\n",
            "Sold on 2017-12-05 00:00:00 at $98.71.\n",
            "- Closed on 2017-12-07 00:00:00 at $98.58.\n",
            "Bought on 2017-12-07 00:00:00 at $98.58.\n",
            "- Closed on 2017-12-12 00:00:00 at $99.37.\n",
            "Sold on 2017-12-12 00:00:00 at $99.37.\n",
            "- Closed on 2017-12-14 00:00:00 at $97.15.\n",
            "Bought on 2017-12-14 00:00:00 at $97.15.\n",
            "- Closed on 2017-12-19 00:00:00 at $99.15.\n",
            "Sold on 2017-12-19 00:00:00 at $99.15.\n",
            "- Closed on 2017-12-21 00:00:00 at $98.5.\n",
            "Bought on 2017-12-21 00:00:00 at $98.5.\n",
            "- Closed on 2018-01-05 00:00:00 at $101.08.\n",
            "Sold on 2018-01-05 00:00:00 at $101.08.\n",
            "- Closed on 2018-01-09 00:00:00 at $100.52.\n",
            "Bought on 2018-01-09 00:00:00 at $100.52.\n",
            "- Closed on 2018-01-11 00:00:00 at $100.73.\n",
            "Sold on 2018-01-11 00:00:00 at $100.73.\n",
            "- Closed on 2018-01-23 00:00:00 at $97.98.\n",
            "Bought on 2018-01-23 00:00:00 at $97.98.\n",
            "- Closed on 2018-01-26 00:00:00 at $99.63.\n",
            "Sold on 2018-01-26 00:00:00 at $99.63.\n",
            "- Closed on 2018-02-09 00:00:00 at $91.72.\n",
            "Bought on 2018-02-09 00:00:00 at $91.72.\n",
            "- Closed on 2018-02-27 00:00:00 at $99.58.\n",
            "Sold on 2018-02-27 00:00:00 at $99.58.\n",
            "- Closed on 2018-03-02 00:00:00 at $95.6.\n",
            "Bought on 2018-03-02 00:00:00 at $95.6.\n",
            "- Closed on 2018-03-12 00:00:00 at $98.51.\n",
            "Sold on 2018-03-12 00:00:00 at $98.51.\n",
            "- Closed on 2018-03-15 00:00:00 at $94.39.\n",
            "Bought on 2018-03-15 00:00:00 at $94.39.\n",
            "- Closed on 2018-03-16 00:00:00 at $95.61.\n",
            "Sold on 2018-03-16 00:00:00 at $95.61.\n",
            "- Closed on 2018-03-23 00:00:00 at $90.45.\n",
            "Bought on 2018-03-23 00:00:00 at $90.45.\n",
            "- Closed on 2018-03-29 00:00:00 at $93.28.\n",
            "Sold on 2018-03-29 00:00:00 at $93.28.\n",
            "- Closed on 2018-04-03 00:00:00 at $92.74.\n",
            "Bought on 2018-04-03 00:00:00 at $92.74.\n",
            "- Closed on 2018-04-05 00:00:00 at $94.28.\n",
            "Sold on 2018-04-05 00:00:00 at $94.28.\n",
            "- Closed on 2018-04-09 00:00:00 at $92.14.\n",
            "Bought on 2018-04-09 00:00:00 at $92.14.\n",
            "- Closed on 2018-04-10 00:00:00 at $93.0.\n",
            "Sold on 2018-04-10 00:00:00 at $93.0.\n",
            "- Closed on 2018-04-11 00:00:00 at $91.65.\n",
            "Bought on 2018-04-11 00:00:00 at $91.65.\n",
            "- Closed on 2018-04-20 00:00:00 at $100.81.\n",
            "Sold on 2018-04-20 00:00:00 at $100.81.\n",
            "- Closed on 2018-05-03 00:00:00 at $97.14.\n",
            "Bought on 2018-05-03 00:00:00 at $97.14.\n",
            "- Closed on 2018-05-11 00:00:00 at $101.42.\n",
            "Sold on 2018-05-14 00:00:00 at $101.29.\n",
            "- Closed on 2018-05-16 00:00:00 at $100.59.\n",
            "Bought on 2018-05-16 00:00:00 at $100.59.\n",
            "- Closed on 2018-05-22 00:00:00 at $102.7.\n",
            "Sold on 2018-05-23 00:00:00 at $101.93.\n",
            "- Closed on 2018-05-30 00:00:00 at $98.99.\n",
            "Bought on 2018-05-30 00:00:00 at $98.99.\n",
            "- Closed on 2018-06-08 00:00:00 at $101.0.\n",
            "Sold on 2018-06-11 00:00:00 at $101.2.\n",
            "- Closed on 2018-06-21 00:00:00 at $96.65.\n",
            "Bought on 2018-06-21 00:00:00 at $96.65.\n",
            "- Closed on 2018-06-26 00:00:00 at $98.21.\n",
            "Sold on 2018-06-26 00:00:00 at $98.21.\n",
            "- Closed on 2018-06-28 00:00:00 at $96.97.\n",
            "Bought on 2018-06-28 00:00:00 at $96.97.\n",
            "- Closed on 2018-07-02 00:00:00 at $99.0.\n",
            "Sold on 2018-07-02 00:00:00 at $99.0.\n",
            "- Closed on 2018-07-05 00:00:00 at $98.53.\n",
            "Bought on 2018-07-05 00:00:00 at $98.53.\n",
            "- Closed on 2018-07-18 00:00:00 at $102.98.\n",
            "Sold on 2018-07-18 00:00:00 at $102.98.\n",
            "- Closed on 2018-07-20 00:00:00 at $100.15.\n",
            "Bought on 2018-07-20 00:00:00 at $100.15.\n",
            "- Closed on 2018-07-27 00:00:00 at $103.85.\n",
            "Sold on 2018-07-27 00:00:00 at $103.85.\n",
            "- Closed on 2018-08-01 00:00:00 at $99.45.\n",
            "Bought on 2018-08-01 00:00:00 at $99.45.\n",
            "- Closed on 2018-08-09 00:00:00 at $102.99.\n",
            "Sold on 2018-08-09 00:00:00 at $102.99.\n",
            "- Closed on 2018-08-13 00:00:00 at $101.81.\n",
            "Bought on 2018-08-13 00:00:00 at $101.81.\n",
            "- Closed on 2018-08-14 00:00:00 at $102.18.\n",
            "Bought on 2018-08-15 00:00:00 at $101.51.\n",
            "- Closed on 2018-08-28 00:00:00 at $107.28.\n",
            "Sold on 2018-08-28 00:00:00 at $107.28.\n",
            "- Closed on 2018-08-31 00:00:00 at $105.98.\n",
            "Bought on 2018-08-31 00:00:00 at $105.98.\n",
            "- Closed on 2018-09-04 00:00:00 at $107.01.\n",
            "Sold on 2018-09-04 00:00:00 at $107.01.\n",
            "- Closed on 2018-09-06 00:00:00 at $105.4.\n",
            "Bought on 2018-09-06 00:00:00 at $105.4.\n",
            "- Closed on 2018-09-21 00:00:00 at $110.9.\n",
            "Sold on 2018-09-21 00:00:00 at $110.9.\n",
            "- Closed on 2018-09-28 00:00:00 at $106.49.\n",
            "Bought on 2018-10-01 00:00:00 at $107.9.\n",
            "- Closed on 2018-10-03 00:00:00 at $108.45.\n",
            "Sold on 2018-10-03 00:00:00 at $108.45.\n",
            "- Closed on 2018-10-12 00:00:00 at $103.0.\n",
            "Bought on 2018-10-12 00:00:00 at $103.0.\n",
            "- Closed on 2018-10-17 00:00:00 at $104.98.\n",
            "Sold on 2018-10-17 00:00:00 at $104.98.\n",
            "- Closed on 2018-10-18 00:00:00 at $102.84.\n",
            "Bought on 2018-10-18 00:00:00 at $102.84.\n",
            "- Closed on 2018-10-22 00:00:00 at $104.51.\n",
            "Sold on 2018-10-22 00:00:00 at $104.51.\n",
            "- Closed on 2018-10-29 00:00:00 at $101.19.\n",
            "Bought on 2018-10-29 00:00:00 at $101.19.\n",
            "- Closed on 2018-11-09 00:00:00 at $108.28.\n",
            "Sold on 2018-11-09 00:00:00 at $108.28.\n",
            "- Closed on 2018-11-13 00:00:00 at $107.86.\n",
            "Bought on 2018-11-13 00:00:00 at $107.86.\n",
            "- Closed on 2018-11-16 00:00:00 at $109.46.\n",
            "Sold on 2018-11-16 00:00:00 at $109.46.\n",
            "- Closed on 2018-11-23 00:00:00 at $105.74.\n",
            "Bought on 2018-11-23 00:00:00 at $105.74.\n",
            "- Closed on 2018-11-29 00:00:00 at $112.89.\n",
            "Sold on 2018-11-29 00:00:00 at $112.89.\n",
            "- Closed on 2018-12-11 00:00:00 at $105.4.\n",
            "Bought on 2018-12-11 00:00:00 at $105.4.\n",
            "- Closed on 2018-12-13 00:00:00 at $106.7.\n",
            "Sold on 2018-12-13 00:00:00 at $106.7.\n",
            "- Closed on 2018-12-24 00:00:00 at $89.5.\n",
            "Bought on 2018-12-24 00:00:00 at $89.5.\n",
            "Strategy4 Yielded: 200.62% with: buy_slope_threshold 0.1, buy_velocity_threshold 0.1, close_slope_threshold 0, close_velocity_threshold 0, sell_slope_threshold -0.1, sell_velocity_threshold -0.1, .\n"
          ]
        }
      ],
      "source": [
        "for date, trade_day in extra_df.iterrows():\n",
        "    strategy.trade(date\u003ddate,\n",
        "                   tradeday\u003dtrade_day)\n",
        "print(\"Strategy4 Yielded: {}% with: buy_slope_threshold {}, buy_velocity_threshold {}, close_slope_threshold {}, close_velocity_threshold {}, sell_slope_threshold {}, sell_velocity_threshold {}, .\".format(round(strategy.trade_profit*100, 2), buy_slope_threshold, buy_velocity_threshold, close_slope_threshold, close_velocity_threshold, sell_slope_threshold, sell_velocity_threshold))\n"
      ]
    },
    {
      "cell_type": "code",
      "execution_count": null,
      "metadata": {
        "pycharm": {
          "metadata": false,
          "name": "#%%"
        }
      },
      "outputs": [],
      "source": []
    },
    {
      "cell_type": "code",
      "execution_count": null,
      "metadata": {
        "pycharm": {}
      },
      "outputs": [],
      "source": []
    }
  ],
  "metadata": {
    "kernelspec": {
      "display_name": "Python 3",
      "language": "python",
      "name": "python3"
    },
    "language_info": {
      "codemirror_mode": {
        "name": "ipython",
        "version": 3
      },
      "file_extension": ".py",
      "mimetype": "text/x-python",
      "name": "python",
      "nbconvert_exporter": "python",
      "pygments_lexer": "ipython3",
      "version": "3.7.3"
    },
    "stem_cell": {
      "cell_type": "raw",
      "metadata": {
        "pycharm": {
          "metadata": false
        }
      },
      "source": ""
    }
  },
  "nbformat": 4,
  "nbformat_minor": 1
}