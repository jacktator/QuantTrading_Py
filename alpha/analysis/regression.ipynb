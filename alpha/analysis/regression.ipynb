{
  "cells": [
    {
      "cell_type": "markdown",
      "metadata": {
        "collapsed": true,
        "pycharm": {
          "name": "#%% md\n"
        }
      },
      "source": "\n# Regression \u0026 Interpolation\n"
    },
    {
      "cell_type": "markdown",
      "source": "\n## Regression\n ",
      "metadata": {
        "pycharm": {
          "metadata": false,
          "name": "#%% md\n"
        }
      }
    },
    {
      "cell_type": "code",
      "execution_count": 75,
      "outputs": [
        {
          "data": {
            "text/plain": "            close   high    low  p_change   open  pre_close   volume  \\\n                                                                       \n2017-06-12  80.17  80.73  79.95    -0.174  80.35      80.31  3352279   \n2017-06-13  80.59  80.74  80.07     0.524  80.20      80.17  3174361   \n2017-06-14  80.84  80.92  79.62     0.310  80.11      80.59  4013089   \n2017-06-15  80.70  81.24  80.23    -0.173  80.38      80.84  2773369   \n2017-06-16  81.45  81.48  80.77     0.929  80.86      80.70  5914676   \n\n                date  date_week  key   atr21   atr14  \n                                                      \n2017-06-12  20170612          0    0  0.7800  0.7800  \n2017-06-13  20170613          1    1  0.7224  0.7211  \n2017-06-14  20170614          2    2  0.9335  0.9422  \n2017-06-15  20170615          3    3  0.9555  0.9630  \n2017-06-16  20170616          4    4  0.8966  0.8970  ",
            "text/html": "\u003cdiv\u003e\n\u003cstyle scoped\u003e\n    .dataframe tbody tr th:only-of-type {\n        vertical-align: middle;\n    }\n\n    .dataframe tbody tr th {\n        vertical-align: top;\n    }\n\n    .dataframe thead th {\n        text-align: right;\n    }\n\u003c/style\u003e\n\u003ctable border\u003d\"1\" class\u003d\"dataframe\"\u003e\n  \u003cthead\u003e\n    \u003ctr style\u003d\"text-align: right;\"\u003e\n      \u003cth\u003e\u003c/th\u003e\n      \u003cth\u003eclose\u003c/th\u003e\n      \u003cth\u003ehigh\u003c/th\u003e\n      \u003cth\u003elow\u003c/th\u003e\n      \u003cth\u003ep_change\u003c/th\u003e\n      \u003cth\u003eopen\u003c/th\u003e\n      \u003cth\u003epre_close\u003c/th\u003e\n      \u003cth\u003evolume\u003c/th\u003e\n      \u003cth\u003edate\u003c/th\u003e\n      \u003cth\u003edate_week\u003c/th\u003e\n      \u003cth\u003ekey\u003c/th\u003e\n      \u003cth\u003eatr21\u003c/th\u003e\n      \u003cth\u003eatr14\u003c/th\u003e\n    \u003c/tr\u003e\n    \u003ctr\u003e\n      \u003cth\u003e\u003c/th\u003e\n      \u003cth\u003e\u003c/th\u003e\n      \u003cth\u003e\u003c/th\u003e\n      \u003cth\u003e\u003c/th\u003e\n      \u003cth\u003e\u003c/th\u003e\n      \u003cth\u003e\u003c/th\u003e\n      \u003cth\u003e\u003c/th\u003e\n      \u003cth\u003e\u003c/th\u003e\n      \u003cth\u003e\u003c/th\u003e\n      \u003cth\u003e\u003c/th\u003e\n      \u003cth\u003e\u003c/th\u003e\n      \u003cth\u003e\u003c/th\u003e\n      \u003cth\u003e\u003c/th\u003e\n    \u003c/tr\u003e\n  \u003c/thead\u003e\n  \u003ctbody\u003e\n    \u003ctr\u003e\n      \u003cth\u003e2017-06-12\u003c/th\u003e\n      \u003ctd\u003e80.17\u003c/td\u003e\n      \u003ctd\u003e80.73\u003c/td\u003e\n      \u003ctd\u003e79.95\u003c/td\u003e\n      \u003ctd\u003e-0.174\u003c/td\u003e\n      \u003ctd\u003e80.35\u003c/td\u003e\n      \u003ctd\u003e80.31\u003c/td\u003e\n      \u003ctd\u003e3352279\u003c/td\u003e\n      \u003ctd\u003e20170612\u003c/td\u003e\n      \u003ctd\u003e0\u003c/td\u003e\n      \u003ctd\u003e0\u003c/td\u003e\n      \u003ctd\u003e0.7800\u003c/td\u003e\n      \u003ctd\u003e0.7800\u003c/td\u003e\n    \u003c/tr\u003e\n    \u003ctr\u003e\n      \u003cth\u003e2017-06-13\u003c/th\u003e\n      \u003ctd\u003e80.59\u003c/td\u003e\n      \u003ctd\u003e80.74\u003c/td\u003e\n      \u003ctd\u003e80.07\u003c/td\u003e\n      \u003ctd\u003e0.524\u003c/td\u003e\n      \u003ctd\u003e80.20\u003c/td\u003e\n      \u003ctd\u003e80.17\u003c/td\u003e\n      \u003ctd\u003e3174361\u003c/td\u003e\n      \u003ctd\u003e20170613\u003c/td\u003e\n      \u003ctd\u003e1\u003c/td\u003e\n      \u003ctd\u003e1\u003c/td\u003e\n      \u003ctd\u003e0.7224\u003c/td\u003e\n      \u003ctd\u003e0.7211\u003c/td\u003e\n    \u003c/tr\u003e\n    \u003ctr\u003e\n      \u003cth\u003e2017-06-14\u003c/th\u003e\n      \u003ctd\u003e80.84\u003c/td\u003e\n      \u003ctd\u003e80.92\u003c/td\u003e\n      \u003ctd\u003e79.62\u003c/td\u003e\n      \u003ctd\u003e0.310\u003c/td\u003e\n      \u003ctd\u003e80.11\u003c/td\u003e\n      \u003ctd\u003e80.59\u003c/td\u003e\n      \u003ctd\u003e4013089\u003c/td\u003e\n      \u003ctd\u003e20170614\u003c/td\u003e\n      \u003ctd\u003e2\u003c/td\u003e\n      \u003ctd\u003e2\u003c/td\u003e\n      \u003ctd\u003e0.9335\u003c/td\u003e\n      \u003ctd\u003e0.9422\u003c/td\u003e\n    \u003c/tr\u003e\n    \u003ctr\u003e\n      \u003cth\u003e2017-06-15\u003c/th\u003e\n      \u003ctd\u003e80.70\u003c/td\u003e\n      \u003ctd\u003e81.24\u003c/td\u003e\n      \u003ctd\u003e80.23\u003c/td\u003e\n      \u003ctd\u003e-0.173\u003c/td\u003e\n      \u003ctd\u003e80.38\u003c/td\u003e\n      \u003ctd\u003e80.84\u003c/td\u003e\n      \u003ctd\u003e2773369\u003c/td\u003e\n      \u003ctd\u003e20170615\u003c/td\u003e\n      \u003ctd\u003e3\u003c/td\u003e\n      \u003ctd\u003e3\u003c/td\u003e\n      \u003ctd\u003e0.9555\u003c/td\u003e\n      \u003ctd\u003e0.9630\u003c/td\u003e\n    \u003c/tr\u003e\n    \u003ctr\u003e\n      \u003cth\u003e2017-06-16\u003c/th\u003e\n      \u003ctd\u003e81.45\u003c/td\u003e\n      \u003ctd\u003e81.48\u003c/td\u003e\n      \u003ctd\u003e80.77\u003c/td\u003e\n      \u003ctd\u003e0.929\u003c/td\u003e\n      \u003ctd\u003e80.86\u003c/td\u003e\n      \u003ctd\u003e80.70\u003c/td\u003e\n      \u003ctd\u003e5914676\u003c/td\u003e\n      \u003ctd\u003e20170616\u003c/td\u003e\n      \u003ctd\u003e4\u003c/td\u003e\n      \u003ctd\u003e4\u003c/td\u003e\n      \u003ctd\u003e0.8966\u003c/td\u003e\n      \u003ctd\u003e0.8970\u003c/td\u003e\n    \u003c/tr\u003e\n  \u003c/tbody\u003e\n\u003c/table\u003e\n\u003c/div\u003e"
          },
          "metadata": {},
          "output_type": "execute_result",
          "execution_count": 75
        }
      ],
      "source": "import numpy as np\nimport pandas as pd\nfrom abupy import ABuSymbolPd\n\nsymbol \u003d \"usAXP\"\n# amex_df \u003d ABuSymbolPd.make_kl_df(symbol)\namex_df \u003d pd.read_csv(\u0027../../data/gen/{}_df.csv\u0027.format(symbol),\n                      parse_dates\u003dTrue,\n                      index_col\u003d0)\n# Strip whitespace from column names\namex_df.columns \u003d amex_df.columns.str.strip()\n# Print \namex_df.head()",
      "metadata": {
        "pycharm": {
          "metadata": false,
          "name": "#%%\n",
          "is_executing": false
        }
      }
    },
    {
      "cell_type": "code",
      "source": "# Get the Close Price\namex_close \u003d amex_df.close\n# x Series, date, independent variable\nx \u003d np.arange(0, amex_close.shape[0])\n# y Series, close price, dependent variables\ny \u003d amex_close.values",
      "metadata": {
        "pycharm": {
          "metadata": false,
          "name": "#%% \n",
          "is_executing": false
        }
      },
      "execution_count": 77,
      "outputs": []
    },
    {
      "cell_type": "code",
      "execution_count": null,
      "outputs": [],
      "source": "\n",
      "metadata": {
        "pycharm": {
          "metadata": false,
          "name": "#%%\n"
        }
      }
    }
  ],
  "metadata": {
    "language_info": {
      "codemirror_mode": {
        "name": "ipython",
        "version": 2
      },
      "file_extension": ".py",
      "mimetype": "text/x-python",
      "name": "python",
      "nbconvert_exporter": "python",
      "pygments_lexer": "ipython2",
      "version": "2.7.6"
    },
    "kernelspec": {
      "name": "python3",
      "language": "python",
      "display_name": "Python 3"
    }
  },
  "nbformat": 4,
  "nbformat_minor": 0
}